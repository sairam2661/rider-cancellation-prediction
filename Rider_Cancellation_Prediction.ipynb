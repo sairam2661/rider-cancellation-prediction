{
  "nbformat": 4,
  "nbformat_minor": 0,
  "metadata": {
    "colab": {
      "name": "Rider Cancellation Prediction.ipynb",
      "provenance": [],
      "collapsed_sections": []
    },
    "kernelspec": {
      "name": "python3",
      "display_name": "Python 3"
    },
    "language_info": {
      "name": "python"
    }
  },
  "cells": [
    {
      "cell_type": "code",
      "execution_count": null,
      "metadata": {
        "id": "k2nqxJlNZ8rq"
      },
      "outputs": [],
      "source": [
        "import pandas as pd\n",
        "import numpy as np"
      ]
    },
    {
      "cell_type": "markdown",
      "source": [
        "Mouting google drive for importing the datasets,"
      ],
      "metadata": {
        "id": "vjQI9NbtUGzy"
      }
    },
    {
      "cell_type": "code",
      "source": [
        "from google.colab import drive\n",
        "drive.mount('/content/drive')"
      ],
      "metadata": {
        "colab": {
          "base_uri": "https://localhost:8080/"
        },
        "id": "S2k2nRCNYq01",
        "outputId": "2d6cb41d-140b-4756-c251-cc480f09140a"
      },
      "execution_count": null,
      "outputs": [
        {
          "output_type": "stream",
          "name": "stdout",
          "text": [
            "Drive already mounted at /content/drive; to attempt to forcibly remount, call drive.mount(\"/content/drive\", force_remount=True).\n"
          ]
        }
      ]
    },
    {
      "cell_type": "code",
      "source": [
        "data=pd.read_csv(\"/content/drive/MyDrive/train.csv\")"
      ],
      "metadata": {
        "id": "rUX4PM6qbJA1"
      },
      "execution_count": null,
      "outputs": []
    },
    {
      "cell_type": "markdown",
      "source": [
        "Starting with Data Cleaning,"
      ],
      "metadata": {
        "id": "LPeWdoxdcLSr"
      }
    },
    {
      "cell_type": "code",
      "source": [
        "data.head()"
      ],
      "metadata": {
        "colab": {
          "base_uri": "https://localhost:8080/",
          "height": 357
        },
        "id": "OqSMPqZ8wShE",
        "outputId": "728c42d2-98d6-45ae-c709-2b3ebceb8c9b"
      },
      "execution_count": null,
      "outputs": [
        {
          "output_type": "execute_result",
          "data": {
            "text/html": [
              "\n",
              "  <div id=\"df-127af8f2-0e5b-4052-9dd0-5beea8c9031b\">\n",
              "    <div class=\"colab-df-container\">\n",
              "      <div>\n",
              "<style scoped>\n",
              "    .dataframe tbody tr th:only-of-type {\n",
              "        vertical-align: middle;\n",
              "    }\n",
              "\n",
              "    .dataframe tbody tr th {\n",
              "        vertical-align: top;\n",
              "    }\n",
              "\n",
              "    .dataframe thead th {\n",
              "        text-align: right;\n",
              "    }\n",
              "</style>\n",
              "<table border=\"1\" class=\"dataframe\">\n",
              "  <thead>\n",
              "    <tr style=\"text-align: right;\">\n",
              "      <th></th>\n",
              "      <th>order_time</th>\n",
              "      <th>order_id</th>\n",
              "      <th>order_date</th>\n",
              "      <th>allot_time</th>\n",
              "      <th>accept_time</th>\n",
              "      <th>pickup_time</th>\n",
              "      <th>delivered_time</th>\n",
              "      <th>rider_id</th>\n",
              "      <th>first_mile_distance</th>\n",
              "      <th>last_mile_distance</th>\n",
              "      <th>alloted_orders</th>\n",
              "      <th>delivered_orders</th>\n",
              "      <th>cancelled</th>\n",
              "      <th>undelivered_orders</th>\n",
              "      <th>lifetime_order_count</th>\n",
              "      <th>reassignment_method</th>\n",
              "      <th>reassignment_reason</th>\n",
              "      <th>reassigned_order</th>\n",
              "      <th>session_time</th>\n",
              "      <th>cancelled_time</th>\n",
              "    </tr>\n",
              "  </thead>\n",
              "  <tbody>\n",
              "    <tr>\n",
              "      <th>0</th>\n",
              "      <td>2021-01-26 02:21:35</td>\n",
              "      <td>556753</td>\n",
              "      <td>2021-01-26 00:00:00</td>\n",
              "      <td>2021-01-26 02:21:59</td>\n",
              "      <td>2021-01-26 02:22:08</td>\n",
              "      <td>2021-01-26 02:32:51</td>\n",
              "      <td>2021-01-26 02:49:47</td>\n",
              "      <td>11696</td>\n",
              "      <td>1.5666</td>\n",
              "      <td>2.65</td>\n",
              "      <td>46.0</td>\n",
              "      <td>46.0</td>\n",
              "      <td>0</td>\n",
              "      <td>0.0</td>\n",
              "      <td>621.0</td>\n",
              "      <td>NaN</td>\n",
              "      <td>NaN</td>\n",
              "      <td>NaN</td>\n",
              "      <td>NaN</td>\n",
              "      <td>NaN</td>\n",
              "    </tr>\n",
              "    <tr>\n",
              "      <th>1</th>\n",
              "      <td>2021-01-26 02:33:16</td>\n",
              "      <td>556754</td>\n",
              "      <td>2021-01-26 00:00:00</td>\n",
              "      <td>2021-01-26 02:33:57</td>\n",
              "      <td>2021-01-26 02:34:45</td>\n",
              "      <td>2021-01-26 02:50:25</td>\n",
              "      <td>2021-01-26 03:11:15</td>\n",
              "      <td>18117</td>\n",
              "      <td>2.5207</td>\n",
              "      <td>2.76</td>\n",
              "      <td>8.0</td>\n",
              "      <td>8.0</td>\n",
              "      <td>0</td>\n",
              "      <td>0.0</td>\n",
              "      <td>105.0</td>\n",
              "      <td>NaN</td>\n",
              "      <td>NaN</td>\n",
              "      <td>NaN</td>\n",
              "      <td>3.266667</td>\n",
              "      <td>NaN</td>\n",
              "    </tr>\n",
              "    <tr>\n",
              "      <th>2</th>\n",
              "      <td>2021-01-26 02:39:49</td>\n",
              "      <td>556755</td>\n",
              "      <td>2021-01-26 00:00:00</td>\n",
              "      <td>2021-01-26 02:39:57</td>\n",
              "      <td>2021-01-26 02:40:13</td>\n",
              "      <td>2021-01-26 02:56:00</td>\n",
              "      <td>2021-01-26 03:12:46</td>\n",
              "      <td>18623</td>\n",
              "      <td>2.2074</td>\n",
              "      <td>4.80</td>\n",
              "      <td>1.0</td>\n",
              "      <td>1.0</td>\n",
              "      <td>0</td>\n",
              "      <td>0.0</td>\n",
              "      <td>66.0</td>\n",
              "      <td>NaN</td>\n",
              "      <td>NaN</td>\n",
              "      <td>NaN</td>\n",
              "      <td>9.816667</td>\n",
              "      <td>NaN</td>\n",
              "    </tr>\n",
              "    <tr>\n",
              "      <th>3</th>\n",
              "      <td>2021-01-26 02:47:53</td>\n",
              "      <td>556756</td>\n",
              "      <td>2021-01-26 00:00:00</td>\n",
              "      <td>2021-01-26 02:48:25</td>\n",
              "      <td>2021-01-26 02:49:06</td>\n",
              "      <td>2021-01-26 03:21:51</td>\n",
              "      <td>2021-01-26 03:41:05</td>\n",
              "      <td>15945</td>\n",
              "      <td>2.1894</td>\n",
              "      <td>6.38</td>\n",
              "      <td>1.0</td>\n",
              "      <td>1.0</td>\n",
              "      <td>0</td>\n",
              "      <td>0.0</td>\n",
              "      <td>127.0</td>\n",
              "      <td>NaN</td>\n",
              "      <td>NaN</td>\n",
              "      <td>NaN</td>\n",
              "      <td>17.533333</td>\n",
              "      <td>NaN</td>\n",
              "    </tr>\n",
              "    <tr>\n",
              "      <th>4</th>\n",
              "      <td>2021-01-26 03:06:30</td>\n",
              "      <td>556757</td>\n",
              "      <td>2021-01-26 00:00:00</td>\n",
              "      <td>2021-01-26 03:07:21</td>\n",
              "      <td>2021-01-26 03:07:57</td>\n",
              "      <td>2021-01-26 03:31:38</td>\n",
              "      <td>2021-01-26 04:00:15</td>\n",
              "      <td>17589</td>\n",
              "      <td>2.7870</td>\n",
              "      <td>4.01</td>\n",
              "      <td>34.0</td>\n",
              "      <td>34.0</td>\n",
              "      <td>0</td>\n",
              "      <td>0.0</td>\n",
              "      <td>84.0</td>\n",
              "      <td>NaN</td>\n",
              "      <td>NaN</td>\n",
              "      <td>NaN</td>\n",
              "      <td>1.350000</td>\n",
              "      <td>NaN</td>\n",
              "    </tr>\n",
              "  </tbody>\n",
              "</table>\n",
              "</div>\n",
              "      <button class=\"colab-df-convert\" onclick=\"convertToInteractive('df-127af8f2-0e5b-4052-9dd0-5beea8c9031b')\"\n",
              "              title=\"Convert this dataframe to an interactive table.\"\n",
              "              style=\"display:none;\">\n",
              "        \n",
              "  <svg xmlns=\"http://www.w3.org/2000/svg\" height=\"24px\"viewBox=\"0 0 24 24\"\n",
              "       width=\"24px\">\n",
              "    <path d=\"M0 0h24v24H0V0z\" fill=\"none\"/>\n",
              "    <path d=\"M18.56 5.44l.94 2.06.94-2.06 2.06-.94-2.06-.94-.94-2.06-.94 2.06-2.06.94zm-11 1L8.5 8.5l.94-2.06 2.06-.94-2.06-.94L8.5 2.5l-.94 2.06-2.06.94zm10 10l.94 2.06.94-2.06 2.06-.94-2.06-.94-.94-2.06-.94 2.06-2.06.94z\"/><path d=\"M17.41 7.96l-1.37-1.37c-.4-.4-.92-.59-1.43-.59-.52 0-1.04.2-1.43.59L10.3 9.45l-7.72 7.72c-.78.78-.78 2.05 0 2.83L4 21.41c.39.39.9.59 1.41.59.51 0 1.02-.2 1.41-.59l7.78-7.78 2.81-2.81c.8-.78.8-2.07 0-2.86zM5.41 20L4 18.59l7.72-7.72 1.47 1.35L5.41 20z\"/>\n",
              "  </svg>\n",
              "      </button>\n",
              "      \n",
              "  <style>\n",
              "    .colab-df-container {\n",
              "      display:flex;\n",
              "      flex-wrap:wrap;\n",
              "      gap: 12px;\n",
              "    }\n",
              "\n",
              "    .colab-df-convert {\n",
              "      background-color: #E8F0FE;\n",
              "      border: none;\n",
              "      border-radius: 50%;\n",
              "      cursor: pointer;\n",
              "      display: none;\n",
              "      fill: #1967D2;\n",
              "      height: 32px;\n",
              "      padding: 0 0 0 0;\n",
              "      width: 32px;\n",
              "    }\n",
              "\n",
              "    .colab-df-convert:hover {\n",
              "      background-color: #E2EBFA;\n",
              "      box-shadow: 0px 1px 2px rgba(60, 64, 67, 0.3), 0px 1px 3px 1px rgba(60, 64, 67, 0.15);\n",
              "      fill: #174EA6;\n",
              "    }\n",
              "\n",
              "    [theme=dark] .colab-df-convert {\n",
              "      background-color: #3B4455;\n",
              "      fill: #D2E3FC;\n",
              "    }\n",
              "\n",
              "    [theme=dark] .colab-df-convert:hover {\n",
              "      background-color: #434B5C;\n",
              "      box-shadow: 0px 1px 3px 1px rgba(0, 0, 0, 0.15);\n",
              "      filter: drop-shadow(0px 1px 2px rgba(0, 0, 0, 0.3));\n",
              "      fill: #FFFFFF;\n",
              "    }\n",
              "  </style>\n",
              "\n",
              "      <script>\n",
              "        const buttonEl =\n",
              "          document.querySelector('#df-127af8f2-0e5b-4052-9dd0-5beea8c9031b button.colab-df-convert');\n",
              "        buttonEl.style.display =\n",
              "          google.colab.kernel.accessAllowed ? 'block' : 'none';\n",
              "\n",
              "        async function convertToInteractive(key) {\n",
              "          const element = document.querySelector('#df-127af8f2-0e5b-4052-9dd0-5beea8c9031b');\n",
              "          const dataTable =\n",
              "            await google.colab.kernel.invokeFunction('convertToInteractive',\n",
              "                                                     [key], {});\n",
              "          if (!dataTable) return;\n",
              "\n",
              "          const docLinkHtml = 'Like what you see? Visit the ' +\n",
              "            '<a target=\"_blank\" href=https://colab.research.google.com/notebooks/data_table.ipynb>data table notebook</a>'\n",
              "            + ' to learn more about interactive tables.';\n",
              "          element.innerHTML = '';\n",
              "          dataTable['output_type'] = 'display_data';\n",
              "          await google.colab.output.renderOutput(dataTable, element);\n",
              "          const docLink = document.createElement('div');\n",
              "          docLink.innerHTML = docLinkHtml;\n",
              "          element.appendChild(docLink);\n",
              "        }\n",
              "      </script>\n",
              "    </div>\n",
              "  </div>\n",
              "  "
            ],
            "text/plain": [
              "            order_time  order_id  ... session_time cancelled_time\n",
              "0  2021-01-26 02:21:35    556753  ...          NaN            NaN\n",
              "1  2021-01-26 02:33:16    556754  ...     3.266667            NaN\n",
              "2  2021-01-26 02:39:49    556755  ...     9.816667            NaN\n",
              "3  2021-01-26 02:47:53    556756  ...    17.533333            NaN\n",
              "4  2021-01-26 03:06:30    556757  ...     1.350000            NaN\n",
              "\n",
              "[5 rows x 20 columns]"
            ]
          },
          "metadata": {},
          "execution_count": 4
        }
      ]
    },
    {
      "cell_type": "code",
      "source": [
        "data.describe()"
      ],
      "metadata": {
        "colab": {
          "base_uri": "https://localhost:8080/",
          "height": 364
        },
        "id": "Np4sL6HO0Svt",
        "outputId": "1333c623-27e5-4be2-cdf8-188e4e24ab49"
      },
      "execution_count": null,
      "outputs": [
        {
          "output_type": "execute_result",
          "data": {
            "text/html": [
              "\n",
              "  <div id=\"df-903d40f5-1199-4ecb-acb9-a3f0a4491236\">\n",
              "    <div class=\"colab-df-container\">\n",
              "      <div>\n",
              "<style scoped>\n",
              "    .dataframe tbody tr th:only-of-type {\n",
              "        vertical-align: middle;\n",
              "    }\n",
              "\n",
              "    .dataframe tbody tr th {\n",
              "        vertical-align: top;\n",
              "    }\n",
              "\n",
              "    .dataframe thead th {\n",
              "        text-align: right;\n",
              "    }\n",
              "</style>\n",
              "<table border=\"1\" class=\"dataframe\">\n",
              "  <thead>\n",
              "    <tr style=\"text-align: right;\">\n",
              "      <th></th>\n",
              "      <th>order_id</th>\n",
              "      <th>rider_id</th>\n",
              "      <th>first_mile_distance</th>\n",
              "      <th>last_mile_distance</th>\n",
              "      <th>alloted_orders</th>\n",
              "      <th>delivered_orders</th>\n",
              "      <th>cancelled</th>\n",
              "      <th>undelivered_orders</th>\n",
              "      <th>lifetime_order_count</th>\n",
              "      <th>reassigned_order</th>\n",
              "      <th>session_time</th>\n",
              "    </tr>\n",
              "  </thead>\n",
              "  <tbody>\n",
              "    <tr>\n",
              "      <th>count</th>\n",
              "      <td>450000.000000</td>\n",
              "      <td>450000.000000</td>\n",
              "      <td>450000.000000</td>\n",
              "      <td>450000.000000</td>\n",
              "      <td>433052.000000</td>\n",
              "      <td>432659.000000</td>\n",
              "      <td>450000.000000</td>\n",
              "      <td>432659.000000</td>\n",
              "      <td>449947.000000</td>\n",
              "      <td>13753.0</td>\n",
              "      <td>446325.000000</td>\n",
              "    </tr>\n",
              "    <tr>\n",
              "      <th>mean</th>\n",
              "      <td>369143.080767</td>\n",
              "      <td>7763.244016</td>\n",
              "      <td>1.229889</td>\n",
              "      <td>2.968873</td>\n",
              "      <td>104.620909</td>\n",
              "      <td>103.950448</td>\n",
              "      <td>0.011596</td>\n",
              "      <td>0.764165</td>\n",
              "      <td>853.640664</td>\n",
              "      <td>1.0</td>\n",
              "      <td>220.474779</td>\n",
              "    </tr>\n",
              "    <tr>\n",
              "      <th>std</th>\n",
              "      <td>131146.906408</td>\n",
              "      <td>5592.880135</td>\n",
              "      <td>0.846183</td>\n",
              "      <td>1.884124</td>\n",
              "      <td>90.135492</td>\n",
              "      <td>89.639646</td>\n",
              "      <td>0.107057</td>\n",
              "      <td>1.066473</td>\n",
              "      <td>1502.976162</td>\n",
              "      <td>0.0</td>\n",
              "      <td>176.713853</td>\n",
              "    </tr>\n",
              "    <tr>\n",
              "      <th>min</th>\n",
              "      <td>118350.000000</td>\n",
              "      <td>0.000000</td>\n",
              "      <td>0.000134</td>\n",
              "      <td>0.000000</td>\n",
              "      <td>1.000000</td>\n",
              "      <td>1.000000</td>\n",
              "      <td>0.000000</td>\n",
              "      <td>0.000000</td>\n",
              "      <td>0.000000</td>\n",
              "      <td>1.0</td>\n",
              "      <td>0.000000</td>\n",
              "    </tr>\n",
              "    <tr>\n",
              "      <th>25%</th>\n",
              "      <td>257342.750000</td>\n",
              "      <td>2805.000000</td>\n",
              "      <td>0.539575</td>\n",
              "      <td>1.470000</td>\n",
              "      <td>36.000000</td>\n",
              "      <td>36.000000</td>\n",
              "      <td>0.000000</td>\n",
              "      <td>0.000000</td>\n",
              "      <td>165.000000</td>\n",
              "      <td>1.0</td>\n",
              "      <td>84.100000</td>\n",
              "    </tr>\n",
              "    <tr>\n",
              "      <th>50%</th>\n",
              "      <td>369842.500000</td>\n",
              "      <td>6754.000000</td>\n",
              "      <td>1.138700</td>\n",
              "      <td>2.670000</td>\n",
              "      <td>81.000000</td>\n",
              "      <td>81.000000</td>\n",
              "      <td>0.000000</td>\n",
              "      <td>0.000000</td>\n",
              "      <td>396.000000</td>\n",
              "      <td>1.0</td>\n",
              "      <td>175.550000</td>\n",
              "    </tr>\n",
              "    <tr>\n",
              "      <th>75%</th>\n",
              "      <td>482342.250000</td>\n",
              "      <td>11965.000000</td>\n",
              "      <td>1.853000</td>\n",
              "      <td>4.220000</td>\n",
              "      <td>147.000000</td>\n",
              "      <td>146.000000</td>\n",
              "      <td>0.000000</td>\n",
              "      <td>1.000000</td>\n",
              "      <td>948.000000</td>\n",
              "      <td>1.0</td>\n",
              "      <td>316.766667</td>\n",
              "    </tr>\n",
              "    <tr>\n",
              "      <th>max</th>\n",
              "      <td>594842.000000</td>\n",
              "      <td>21566.000000</td>\n",
              "      <td>42.038100</td>\n",
              "      <td>22.410000</td>\n",
              "      <td>567.000000</td>\n",
              "      <td>562.000000</td>\n",
              "      <td>1.000000</td>\n",
              "      <td>9.000000</td>\n",
              "      <td>30469.000000</td>\n",
              "      <td>1.0</td>\n",
              "      <td>1298.966667</td>\n",
              "    </tr>\n",
              "  </tbody>\n",
              "</table>\n",
              "</div>\n",
              "      <button class=\"colab-df-convert\" onclick=\"convertToInteractive('df-903d40f5-1199-4ecb-acb9-a3f0a4491236')\"\n",
              "              title=\"Convert this dataframe to an interactive table.\"\n",
              "              style=\"display:none;\">\n",
              "        \n",
              "  <svg xmlns=\"http://www.w3.org/2000/svg\" height=\"24px\"viewBox=\"0 0 24 24\"\n",
              "       width=\"24px\">\n",
              "    <path d=\"M0 0h24v24H0V0z\" fill=\"none\"/>\n",
              "    <path d=\"M18.56 5.44l.94 2.06.94-2.06 2.06-.94-2.06-.94-.94-2.06-.94 2.06-2.06.94zm-11 1L8.5 8.5l.94-2.06 2.06-.94-2.06-.94L8.5 2.5l-.94 2.06-2.06.94zm10 10l.94 2.06.94-2.06 2.06-.94-2.06-.94-.94-2.06-.94 2.06-2.06.94z\"/><path d=\"M17.41 7.96l-1.37-1.37c-.4-.4-.92-.59-1.43-.59-.52 0-1.04.2-1.43.59L10.3 9.45l-7.72 7.72c-.78.78-.78 2.05 0 2.83L4 21.41c.39.39.9.59 1.41.59.51 0 1.02-.2 1.41-.59l7.78-7.78 2.81-2.81c.8-.78.8-2.07 0-2.86zM5.41 20L4 18.59l7.72-7.72 1.47 1.35L5.41 20z\"/>\n",
              "  </svg>\n",
              "      </button>\n",
              "      \n",
              "  <style>\n",
              "    .colab-df-container {\n",
              "      display:flex;\n",
              "      flex-wrap:wrap;\n",
              "      gap: 12px;\n",
              "    }\n",
              "\n",
              "    .colab-df-convert {\n",
              "      background-color: #E8F0FE;\n",
              "      border: none;\n",
              "      border-radius: 50%;\n",
              "      cursor: pointer;\n",
              "      display: none;\n",
              "      fill: #1967D2;\n",
              "      height: 32px;\n",
              "      padding: 0 0 0 0;\n",
              "      width: 32px;\n",
              "    }\n",
              "\n",
              "    .colab-df-convert:hover {\n",
              "      background-color: #E2EBFA;\n",
              "      box-shadow: 0px 1px 2px rgba(60, 64, 67, 0.3), 0px 1px 3px 1px rgba(60, 64, 67, 0.15);\n",
              "      fill: #174EA6;\n",
              "    }\n",
              "\n",
              "    [theme=dark] .colab-df-convert {\n",
              "      background-color: #3B4455;\n",
              "      fill: #D2E3FC;\n",
              "    }\n",
              "\n",
              "    [theme=dark] .colab-df-convert:hover {\n",
              "      background-color: #434B5C;\n",
              "      box-shadow: 0px 1px 3px 1px rgba(0, 0, 0, 0.15);\n",
              "      filter: drop-shadow(0px 1px 2px rgba(0, 0, 0, 0.3));\n",
              "      fill: #FFFFFF;\n",
              "    }\n",
              "  </style>\n",
              "\n",
              "      <script>\n",
              "        const buttonEl =\n",
              "          document.querySelector('#df-903d40f5-1199-4ecb-acb9-a3f0a4491236 button.colab-df-convert');\n",
              "        buttonEl.style.display =\n",
              "          google.colab.kernel.accessAllowed ? 'block' : 'none';\n",
              "\n",
              "        async function convertToInteractive(key) {\n",
              "          const element = document.querySelector('#df-903d40f5-1199-4ecb-acb9-a3f0a4491236');\n",
              "          const dataTable =\n",
              "            await google.colab.kernel.invokeFunction('convertToInteractive',\n",
              "                                                     [key], {});\n",
              "          if (!dataTable) return;\n",
              "\n",
              "          const docLinkHtml = 'Like what you see? Visit the ' +\n",
              "            '<a target=\"_blank\" href=https://colab.research.google.com/notebooks/data_table.ipynb>data table notebook</a>'\n",
              "            + ' to learn more about interactive tables.';\n",
              "          element.innerHTML = '';\n",
              "          dataTable['output_type'] = 'display_data';\n",
              "          await google.colab.output.renderOutput(dataTable, element);\n",
              "          const docLink = document.createElement('div');\n",
              "          docLink.innerHTML = docLinkHtml;\n",
              "          element.appendChild(docLink);\n",
              "        }\n",
              "      </script>\n",
              "    </div>\n",
              "  </div>\n",
              "  "
            ],
            "text/plain": [
              "            order_id       rider_id  ...  reassigned_order   session_time\n",
              "count  450000.000000  450000.000000  ...           13753.0  446325.000000\n",
              "mean   369143.080767    7763.244016  ...               1.0     220.474779\n",
              "std    131146.906408    5592.880135  ...               0.0     176.713853\n",
              "min    118350.000000       0.000000  ...               1.0       0.000000\n",
              "25%    257342.750000    2805.000000  ...               1.0      84.100000\n",
              "50%    369842.500000    6754.000000  ...               1.0     175.550000\n",
              "75%    482342.250000   11965.000000  ...               1.0     316.766667\n",
              "max    594842.000000   21566.000000  ...               1.0    1298.966667\n",
              "\n",
              "[8 rows x 11 columns]"
            ]
          },
          "metadata": {},
          "execution_count": 5
        }
      ]
    },
    {
      "cell_type": "code",
      "source": [
        "data.info()"
      ],
      "metadata": {
        "colab": {
          "base_uri": "https://localhost:8080/"
        },
        "id": "lt00dgws0hXp",
        "outputId": "13dffcfb-d38d-43a1-bdfd-90e80d9076cf"
      },
      "execution_count": null,
      "outputs": [
        {
          "output_type": "stream",
          "name": "stdout",
          "text": [
            "<class 'pandas.core.frame.DataFrame'>\n",
            "RangeIndex: 450000 entries, 0 to 449999\n",
            "Data columns (total 20 columns):\n",
            " #   Column                Non-Null Count   Dtype  \n",
            "---  ------                --------------   -----  \n",
            " 0   order_time            450000 non-null  object \n",
            " 1   order_id              450000 non-null  int64  \n",
            " 2   order_date            450000 non-null  object \n",
            " 3   allot_time            450000 non-null  object \n",
            " 4   accept_time           449843 non-null  object \n",
            " 5   pickup_time           447579 non-null  object \n",
            " 6   delivered_time        444782 non-null  object \n",
            " 7   rider_id              450000 non-null  int64  \n",
            " 8   first_mile_distance   450000 non-null  float64\n",
            " 9   last_mile_distance    450000 non-null  float64\n",
            " 10  alloted_orders        433052 non-null  float64\n",
            " 11  delivered_orders      432659 non-null  float64\n",
            " 12  cancelled             450000 non-null  int64  \n",
            " 13  undelivered_orders    432659 non-null  float64\n",
            " 14  lifetime_order_count  449947 non-null  float64\n",
            " 15  reassignment_method   13744 non-null   object \n",
            " 16  reassignment_reason   13753 non-null   object \n",
            " 17  reassigned_order      13753 non-null   float64\n",
            " 18  session_time          446325 non-null  float64\n",
            " 19  cancelled_time        5218 non-null    object \n",
            "dtypes: float64(8), int64(3), object(9)\n",
            "memory usage: 68.7+ MB\n"
          ]
        }
      ]
    },
    {
      "cell_type": "code",
      "source": [
        "data.isna().sum()"
      ],
      "metadata": {
        "id": "1xzmuQVBN1Or",
        "colab": {
          "base_uri": "https://localhost:8080/"
        },
        "outputId": "169ef05d-2b1d-41d5-ca39-0422b0bc8f47"
      },
      "execution_count": null,
      "outputs": [
        {
          "output_type": "execute_result",
          "data": {
            "text/plain": [
              "order_time                   0\n",
              "order_id                     0\n",
              "order_date                   0\n",
              "allot_time                   0\n",
              "accept_time                157\n",
              "pickup_time               2421\n",
              "delivered_time            5218\n",
              "rider_id                     0\n",
              "first_mile_distance          0\n",
              "last_mile_distance           0\n",
              "alloted_orders           16948\n",
              "delivered_orders         17341\n",
              "cancelled                    0\n",
              "undelivered_orders       17341\n",
              "lifetime_order_count        53\n",
              "reassignment_method     436256\n",
              "reassignment_reason     436247\n",
              "reassigned_order        436247\n",
              "session_time              3675\n",
              "cancelled_time          444782\n",
              "dtype: int64"
            ]
          },
          "metadata": {},
          "execution_count": 7
        }
      ]
    },
    {
      "cell_type": "code",
      "source": [
        "len(data.columns)"
      ],
      "metadata": {
        "colab": {
          "base_uri": "https://localhost:8080/"
        },
        "id": "5sGDotWoSw1p",
        "outputId": "d1b06c32-3d35-4d19-d87c-7c9a2ea72bb5"
      },
      "execution_count": null,
      "outputs": [
        {
          "output_type": "execute_result",
          "data": {
            "text/plain": [
              "20"
            ]
          },
          "metadata": {},
          "execution_count": 8
        }
      ]
    },
    {
      "cell_type": "code",
      "source": [
        "test=pd.read_csv(\"/content/drive/MyDrive/test.csv\")"
      ],
      "metadata": {
        "id": "xFtBJ8J8H-1U"
      },
      "execution_count": null,
      "outputs": []
    },
    {
      "cell_type": "code",
      "source": [
        "test.info()"
      ],
      "metadata": {
        "colab": {
          "base_uri": "https://localhost:8080/"
        },
        "id": "pW4JHCSvIDbw",
        "outputId": "0c1a2d4f-b604-4a9e-a9bf-a951bd439d43"
      },
      "execution_count": null,
      "outputs": [
        {
          "output_type": "stream",
          "name": "stdout",
          "text": [
            "<class 'pandas.core.frame.DataFrame'>\n",
            "RangeIndex: 144844 entries, 0 to 144843\n",
            "Data columns (total 16 columns):\n",
            " #   Column                Non-Null Count   Dtype  \n",
            "---  ------                --------------   -----  \n",
            " 0   order_time            144844 non-null  object \n",
            " 1   order_id              144844 non-null  int64  \n",
            " 2   order_date            144844 non-null  object \n",
            " 3   allot_time            144844 non-null  object \n",
            " 4   accept_time           144776 non-null  object \n",
            " 5   rider_id              144844 non-null  int64  \n",
            " 6   first_mile_distance   144844 non-null  float64\n",
            " 7   last_mile_distance    144844 non-null  float64\n",
            " 8   alloted_orders        140071 non-null  float64\n",
            " 9   delivered_orders      139960 non-null  float64\n",
            " 10  undelivered_orders    139960 non-null  float64\n",
            " 11  lifetime_order_count  144066 non-null  float64\n",
            " 12  reassignment_method   4632 non-null    object \n",
            " 13  reassignment_reason   4635 non-null    object \n",
            " 14  reassigned_order      4635 non-null    float64\n",
            " 15  session_time          139790 non-null  float64\n",
            "dtypes: float64(8), int64(2), object(6)\n",
            "memory usage: 17.7+ MB\n"
          ]
        }
      ]
    },
    {
      "cell_type": "code",
      "source": [
        "test.isna().sum()"
      ],
      "metadata": {
        "colab": {
          "base_uri": "https://localhost:8080/"
        },
        "id": "nQ-w1tOrcmmK",
        "outputId": "83e4dee7-4c9c-47b6-b0c5-19a571b879ad"
      },
      "execution_count": null,
      "outputs": [
        {
          "output_type": "execute_result",
          "data": {
            "text/plain": [
              "order_time                   0\n",
              "order_id                     0\n",
              "order_date                   0\n",
              "allot_time                   0\n",
              "accept_time                 68\n",
              "rider_id                     0\n",
              "first_mile_distance          0\n",
              "last_mile_distance           0\n",
              "alloted_orders            4773\n",
              "delivered_orders          4884\n",
              "undelivered_orders        4884\n",
              "lifetime_order_count       778\n",
              "reassignment_method     140212\n",
              "reassignment_reason     140209\n",
              "reassigned_order        140209\n",
              "session_time              5054\n",
              "dtype: int64"
            ]
          },
          "metadata": {},
          "execution_count": 11
        }
      ]
    },
    {
      "cell_type": "markdown",
      "source": [
        "Viewing the correlation matrix,"
      ],
      "metadata": {
        "id": "9gX3KS1XQuSc"
      }
    },
    {
      "cell_type": "code",
      "source": [
        "import seaborn as sns\n",
        "import matplotlib.pyplot as plt\n",
        "plt.figure(figsize = (20,20))\n",
        "ax = sns.heatmap(data.corr().iloc[:,:], annot=True, linewidths=.5)"
      ],
      "metadata": {
        "colab": {
          "base_uri": "https://localhost:8080/",
          "height": 1000
        },
        "id": "SJ604PRtc4ns",
        "outputId": "0b324e35-5145-41d0-b99f-4594054bc6fe"
      },
      "execution_count": null,
      "outputs": [
        {
          "output_type": "display_data",
          "data": {
            "image/png": "[encoded data removed]",
            "text/plain": [
              "<Figure size 1440x1440 with 2 Axes>"
            ]
          },
          "metadata": {
            "needs_background": "light"
          }
        }
      ]
    },
    {
      "cell_type": "markdown",
      "source": [
        "Dropping columns with too many NaN values,"
      ],
      "metadata": {
        "id": "QR3AfacZdiKm"
      }
    },
    {
      "cell_type": "code",
      "source": [
        ".cols = ['reassignment_reason', 'reassignment_method', 'reassigned_order']"
      ],
      "metadata": {
        "id": "ejjIe949d8q_"
      },
      "execution_count": null,
      "outputs": []
    },
    {
      "cell_type": "code",
      "source": [
        "data = data.drop(cols,axis=1)"
      ],
      "metadata": {
        "id": "blIATMRnRisp"
      },
      "execution_count": null,
      "outputs": []
    },
    {
      "cell_type": "code",
      "source": [
        "test = test.drop(cols,axis=1)"
      ],
      "metadata": {
        "id": "aeRESqU-eOJR"
      },
      "execution_count": null,
      "outputs": []
    },
    {
      "cell_type": "code",
      "source": [
        ""
      ],
      "metadata": {
        "id": "htzW09dGbziB"
      },
      "execution_count": null,
      "outputs": []
    },
    {
      "cell_type": "code",
      "source": [
        "data = data.drop('cancelled_time',axis=1)"
      ],
      "metadata": {
        "id": "7rdnkzkUeQ_e"
      },
      "execution_count": null,
      "outputs": []
    },
    {
      "cell_type": "code",
      "source": [
        "print(set(data.columns) - set(test.columns))"
      ],
      "metadata": {
        "colab": {
          "base_uri": "https://localhost:8080/"
        },
        "id": "Wt4_xuRofM5-",
        "outputId": "b8bb8a09-4ff4-48c7-ce6e-32d3222c895a"
      },
      "execution_count": null,
      "outputs": [
        {
          "output_type": "stream",
          "name": "stdout",
          "text": [
            "{'alloted_orders', 'lifetime_order_count', 'day_of_week', 'acc_all_diff', 'delivered_orders', 'acc_ord_diff', 'undelivered_orders', 'hour', 'cancelled', 'session_time', 'session'}\n"
          ]
        }
      ]
    },
    {
      "cell_type": "code",
      "source": [
        "data = data.drop('pickup_time',axis=1)\n",
        "data = data.drop('delivered_time',axis=1)"
      ],
      "metadata": {
        "id": "eeuOqaVEfZOO"
      },
      "execution_count": null,
      "outputs": []
    },
    {
      "cell_type": "markdown",
      "source": [
        "After dropping,"
      ],
      "metadata": {
        "id": "wH7mwVTveeDS"
      }
    },
    {
      "cell_type": "code",
      "source": [
        "data.isna().sum()"
      ],
      "metadata": {
        "colab": {
          "base_uri": "https://localhost:8080/"
        },
        "id": "rLNd2YikedUS",
        "outputId": "f0271503-d0f4-47d8-b191-ae00a0c5ec60"
      },
      "execution_count": null,
      "outputs": [
        {
          "output_type": "execute_result",
          "data": {
            "text/plain": [
              "order_time                  0\n",
              "order_id                    0\n",
              "order_date                  0\n",
              "allot_time                  0\n",
              "accept_time               157\n",
              "rider_id                    0\n",
              "first_mile_distance         0\n",
              "last_mile_distance          0\n",
              "alloted_orders          16948\n",
              "delivered_orders        17341\n",
              "cancelled                   0\n",
              "undelivered_orders      17341\n",
              "lifetime_order_count       53\n",
              "session_time             3675\n",
              "dtype: int64"
            ]
          },
          "metadata": {},
          "execution_count": 19
        }
      ]
    },
    {
      "cell_type": "code",
      "source": [
        "data.info()"
      ],
      "metadata": {
        "colab": {
          "base_uri": "https://localhost:8080/"
        },
        "id": "izIBt5FWd3p8",
        "outputId": "4a197653-b0a4-415f-a523-c93eac194bf1"
      },
      "execution_count": null,
      "outputs": [
        {
          "output_type": "stream",
          "name": "stdout",
          "text": [
            "<class 'pandas.core.frame.DataFrame'>\n",
            "RangeIndex: 450000 entries, 0 to 449999\n",
            "Data columns (total 14 columns):\n",
            " #   Column                Non-Null Count   Dtype  \n",
            "---  ------                --------------   -----  \n",
            " 0   order_time            450000 non-null  object \n",
            " 1   order_id              450000 non-null  int64  \n",
            " 2   order_date            450000 non-null  object \n",
            " 3   allot_time            450000 non-null  object \n",
            " 4   accept_time           449843 non-null  object \n",
            " 5   rider_id              450000 non-null  int64  \n",
            " 6   first_mile_distance   450000 non-null  float64\n",
            " 7   last_mile_distance    450000 non-null  float64\n",
            " 8   alloted_orders        433052 non-null  float64\n",
            " 9   delivered_orders      432659 non-null  float64\n",
            " 10  cancelled             450000 non-null  int64  \n",
            " 11  undelivered_orders    432659 non-null  float64\n",
            " 12  lifetime_order_count  449947 non-null  float64\n",
            " 13  session_time          446325 non-null  float64\n",
            "dtypes: float64(7), int64(3), object(4)\n",
            "memory usage: 48.1+ MB\n"
          ]
        }
      ]
    },
    {
      "cell_type": "markdown",
      "source": [
        "Checking correlation again,"
      ],
      "metadata": {
        "id": "aguJqSW4enzC"
      }
    },
    {
      "cell_type": "code",
      "source": [
        "import seaborn as sns\n",
        "import matplotlib.pyplot as plt\n",
        "plt.figure(figsize = (15,15))\n",
        "ax = sns.heatmap(data.corr().iloc[:,:], annot=True, linewidths=.5)"
      ],
      "metadata": {
        "colab": {
          "base_uri": "https://localhost:8080/",
          "height": 960
        },
        "id": "nGvTAJa4etjl",
        "outputId": "5f7c6d1d-b60d-40a4-f492-3a2833683c31"
      },
      "execution_count": null,
      "outputs": [
        {
          "output_type": "display_data",
          "data": {
            "image/png": "[encoded data removed]",
            "text/plain": [
              "<Figure size 1080x1080 with 2 Axes>"
            ]
          },
          "metadata": {
            "needs_background": "light"
          }
        }
      ]
    },
    {
      "cell_type": "markdown",
      "source": [
        "Dividing the features (for finding missing),"
      ],
      "metadata": {
        "id": "AVwOrDwsfsY2"
      }
    },
    {
      "cell_type": "code",
      "source": [
        "numerical = ['alloted_orders','delivered_orders','undelivered_orders','lifetime_order_count','session_time']\n",
        "fdate = ['accept_time']"
      ],
      "metadata": {
        "id": "Do2-a194full"
      },
      "execution_count": null,
      "outputs": []
    },
    {
      "cell_type": "markdown",
      "source": [
        "Since it's difficult to predict time, we drop all rows where accept time is missing,"
      ],
      "metadata": {
        "id": "70xtZxq5hrxU"
      }
    },
    {
      "cell_type": "code",
      "source": [
        "data = data[pd.notnull(data['accept_time'])]"
      ],
      "metadata": {
        "id": "TNA9kzt-hq9u"
      },
      "execution_count": null,
      "outputs": []
    },
    {
      "cell_type": "code",
      "source": [
        "data.isna().sum()"
      ],
      "metadata": {
        "colab": {
          "base_uri": "https://localhost:8080/"
        },
        "id": "rHfzXFlViUxS",
        "outputId": "6581f039-5d2c-4cc6-e496-46ed5ff56d7a"
      },
      "execution_count": null,
      "outputs": [
        {
          "output_type": "execute_result",
          "data": {
            "text/plain": [
              "order_time                  0\n",
              "order_id                    0\n",
              "order_date                  0\n",
              "allot_time                  0\n",
              "accept_time                 0\n",
              "rider_id                    0\n",
              "first_mile_distance         0\n",
              "last_mile_distance          0\n",
              "alloted_orders          16932\n",
              "delivered_orders        17323\n",
              "cancelled                   0\n",
              "undelivered_orders      17323\n",
              "lifetime_order_count       50\n",
              "session_time             3672\n",
              "dtype: int64"
            ]
          },
          "metadata": {},
          "execution_count": 24
        }
      ]
    },
    {
      "cell_type": "code",
      "source": [
        "data.shape"
      ],
      "metadata": {
        "colab": {
          "base_uri": "https://localhost:8080/"
        },
        "id": "CANZkLXSiYh8",
        "outputId": "29e361af-0d74-4156-b2ac-2b94786217e7"
      },
      "execution_count": null,
      "outputs": [
        {
          "output_type": "execute_result",
          "data": {
            "text/plain": [
              "(449843, 14)"
            ]
          },
          "metadata": {},
          "execution_count": 25
        }
      ]
    },
    {
      "cell_type": "code",
      "source": [
        "# for rider in test['rider_id']:\n",
        "#   if rider in v1['rider_id'].values:\n",
        "#     test1['cancelled'] = list(v1[(v1['rider_id'] == rider)]['cancelled'].values)[0]\n",
        "#   else:\n",
        "#     test1['cancelled'] = 0"
      ],
      "metadata": {
        "id": "duaOR1IiHEbs"
      },
      "execution_count": null,
      "outputs": []
    },
    {
      "cell_type": "code",
      "source": [
        "data.head(10)"
      ],
      "metadata": {
        "colab": {
          "base_uri": "https://localhost:8080/",
          "height": 601
        },
        "id": "XtgFla92JDGm",
        "outputId": "2a1e4003-9f50-470d-ee18-c9ff8b6b49e7"
      },
      "execution_count": null,
      "outputs": [
        {
          "output_type": "execute_result",
          "data": {
            "text/html": [
              "\n",
              "  <div id=\"df-5201be16-5af7-4238-a254-2c77b2e7d030\">\n",
              "    <div class=\"colab-df-container\">\n",
              "      <div>\n",
              "<style scoped>\n",
              "    .dataframe tbody tr th:only-of-type {\n",
              "        vertical-align: middle;\n",
              "    }\n",
              "\n",
              "    .dataframe tbody tr th {\n",
              "        vertical-align: top;\n",
              "    }\n",
              "\n",
              "    .dataframe thead th {\n",
              "        text-align: right;\n",
              "    }\n",
              "</style>\n",
              "<table border=\"1\" class=\"dataframe\">\n",
              "  <thead>\n",
              "    <tr style=\"text-align: right;\">\n",
              "      <th></th>\n",
              "      <th>order_time</th>\n",
              "      <th>order_id</th>\n",
              "      <th>order_date</th>\n",
              "      <th>allot_time</th>\n",
              "      <th>accept_time</th>\n",
              "      <th>rider_id</th>\n",
              "      <th>first_mile_distance</th>\n",
              "      <th>last_mile_distance</th>\n",
              "      <th>alloted_orders</th>\n",
              "      <th>delivered_orders</th>\n",
              "      <th>cancelled</th>\n",
              "      <th>undelivered_orders</th>\n",
              "      <th>lifetime_order_count</th>\n",
              "      <th>session_time</th>\n",
              "    </tr>\n",
              "  </thead>\n",
              "  <tbody>\n",
              "    <tr>\n",
              "      <th>0</th>\n",
              "      <td>2021-01-26 02:21:35</td>\n",
              "      <td>556753</td>\n",
              "      <td>2021-01-26 00:00:00</td>\n",
              "      <td>2021-01-26 02:21:59</td>\n",
              "      <td>2021-01-26 02:22:08</td>\n",
              "      <td>11696</td>\n",
              "      <td>1.566600</td>\n",
              "      <td>2.65</td>\n",
              "      <td>46.0</td>\n",
              "      <td>46.0</td>\n",
              "      <td>0</td>\n",
              "      <td>0.0</td>\n",
              "      <td>621.0</td>\n",
              "      <td>NaN</td>\n",
              "    </tr>\n",
              "    <tr>\n",
              "      <th>1</th>\n",
              "      <td>2021-01-26 02:33:16</td>\n",
              "      <td>556754</td>\n",
              "      <td>2021-01-26 00:00:00</td>\n",
              "      <td>2021-01-26 02:33:57</td>\n",
              "      <td>2021-01-26 02:34:45</td>\n",
              "      <td>18117</td>\n",
              "      <td>2.520700</td>\n",
              "      <td>2.76</td>\n",
              "      <td>8.0</td>\n",
              "      <td>8.0</td>\n",
              "      <td>0</td>\n",
              "      <td>0.0</td>\n",
              "      <td>105.0</td>\n",
              "      <td>3.266667</td>\n",
              "    </tr>\n",
              "    <tr>\n",
              "      <th>2</th>\n",
              "      <td>2021-01-26 02:39:49</td>\n",
              "      <td>556755</td>\n",
              "      <td>2021-01-26 00:00:00</td>\n",
              "      <td>2021-01-26 02:39:57</td>\n",
              "      <td>2021-01-26 02:40:13</td>\n",
              "      <td>18623</td>\n",
              "      <td>2.207400</td>\n",
              "      <td>4.80</td>\n",
              "      <td>1.0</td>\n",
              "      <td>1.0</td>\n",
              "      <td>0</td>\n",
              "      <td>0.0</td>\n",
              "      <td>66.0</td>\n",
              "      <td>9.816667</td>\n",
              "    </tr>\n",
              "    <tr>\n",
              "      <th>3</th>\n",
              "      <td>2021-01-26 02:47:53</td>\n",
              "      <td>556756</td>\n",
              "      <td>2021-01-26 00:00:00</td>\n",
              "      <td>2021-01-26 02:48:25</td>\n",
              "      <td>2021-01-26 02:49:06</td>\n",
              "      <td>15945</td>\n",
              "      <td>2.189400</td>\n",
              "      <td>6.38</td>\n",
              "      <td>1.0</td>\n",
              "      <td>1.0</td>\n",
              "      <td>0</td>\n",
              "      <td>0.0</td>\n",
              "      <td>127.0</td>\n",
              "      <td>17.533333</td>\n",
              "    </tr>\n",
              "    <tr>\n",
              "      <th>4</th>\n",
              "      <td>2021-01-26 03:06:30</td>\n",
              "      <td>556757</td>\n",
              "      <td>2021-01-26 00:00:00</td>\n",
              "      <td>2021-01-26 03:07:21</td>\n",
              "      <td>2021-01-26 03:07:57</td>\n",
              "      <td>17589</td>\n",
              "      <td>2.787000</td>\n",
              "      <td>4.01</td>\n",
              "      <td>34.0</td>\n",
              "      <td>34.0</td>\n",
              "      <td>0</td>\n",
              "      <td>0.0</td>\n",
              "      <td>84.0</td>\n",
              "      <td>1.350000</td>\n",
              "    </tr>\n",
              "    <tr>\n",
              "      <th>5</th>\n",
              "      <td>2021-01-26 03:07:16</td>\n",
              "      <td>556758</td>\n",
              "      <td>2021-01-26 00:00:00</td>\n",
              "      <td>2021-01-26 03:12:14</td>\n",
              "      <td>2021-01-26 03:12:27</td>\n",
              "      <td>1469</td>\n",
              "      <td>2.481800</td>\n",
              "      <td>5.18</td>\n",
              "      <td>296.0</td>\n",
              "      <td>294.0</td>\n",
              "      <td>0</td>\n",
              "      <td>2.0</td>\n",
              "      <td>1506.0</td>\n",
              "      <td>NaN</td>\n",
              "    </tr>\n",
              "    <tr>\n",
              "      <th>6</th>\n",
              "      <td>2021-01-26 03:10:50</td>\n",
              "      <td>556759</td>\n",
              "      <td>2021-01-26 00:00:00</td>\n",
              "      <td>2021-01-26 03:11:18</td>\n",
              "      <td>2021-01-26 03:12:05</td>\n",
              "      <td>8851</td>\n",
              "      <td>2.809100</td>\n",
              "      <td>3.40</td>\n",
              "      <td>45.0</td>\n",
              "      <td>45.0</td>\n",
              "      <td>0</td>\n",
              "      <td>0.0</td>\n",
              "      <td>1460.0</td>\n",
              "      <td>NaN</td>\n",
              "    </tr>\n",
              "    <tr>\n",
              "      <th>7</th>\n",
              "      <td>2021-01-26 03:14:10</td>\n",
              "      <td>556760</td>\n",
              "      <td>2021-01-26 00:00:00</td>\n",
              "      <td>2021-01-26 03:14:38</td>\n",
              "      <td>2021-01-26 03:14:44</td>\n",
              "      <td>8493</td>\n",
              "      <td>0.025681</td>\n",
              "      <td>0.16</td>\n",
              "      <td>54.0</td>\n",
              "      <td>53.0</td>\n",
              "      <td>0</td>\n",
              "      <td>1.0</td>\n",
              "      <td>270.0</td>\n",
              "      <td>44.166667</td>\n",
              "    </tr>\n",
              "    <tr>\n",
              "      <th>8</th>\n",
              "      <td>2021-01-26 03:14:20</td>\n",
              "      <td>556761</td>\n",
              "      <td>2021-01-26 00:00:00</td>\n",
              "      <td>2021-01-26 03:14:50</td>\n",
              "      <td>2021-01-26 03:15:14</td>\n",
              "      <td>11543</td>\n",
              "      <td>2.444200</td>\n",
              "      <td>2.86</td>\n",
              "      <td>29.0</td>\n",
              "      <td>29.0</td>\n",
              "      <td>0</td>\n",
              "      <td>0.0</td>\n",
              "      <td>955.0</td>\n",
              "      <td>2.500000</td>\n",
              "    </tr>\n",
              "    <tr>\n",
              "      <th>9</th>\n",
              "      <td>2021-01-26 03:15:18</td>\n",
              "      <td>556762</td>\n",
              "      <td>2021-01-26 00:00:00</td>\n",
              "      <td>2021-01-26 03:21:27</td>\n",
              "      <td>2021-01-26 03:22:04</td>\n",
              "      <td>21037</td>\n",
              "      <td>2.878600</td>\n",
              "      <td>2.61</td>\n",
              "      <td>NaN</td>\n",
              "      <td>NaN</td>\n",
              "      <td>0</td>\n",
              "      <td>NaN</td>\n",
              "      <td>1.0</td>\n",
              "      <td>NaN</td>\n",
              "    </tr>\n",
              "  </tbody>\n",
              "</table>\n",
              "</div>\n",
              "      <button class=\"colab-df-convert\" onclick=\"convertToInteractive('df-5201be16-5af7-4238-a254-2c77b2e7d030')\"\n",
              "              title=\"Convert this dataframe to an interactive table.\"\n",
              "              style=\"display:none;\">\n",
              "        \n",
              "  <svg xmlns=\"http://www.w3.org/2000/svg\" height=\"24px\"viewBox=\"0 0 24 24\"\n",
              "       width=\"24px\">\n",
              "    <path d=\"M0 0h24v24H0V0z\" fill=\"none\"/>\n",
              "    <path d=\"M18.56 5.44l.94 2.06.94-2.06 2.06-.94-2.06-.94-.94-2.06-.94 2.06-2.06.94zm-11 1L8.5 8.5l.94-2.06 2.06-.94-2.06-.94L8.5 2.5l-.94 2.06-2.06.94zm10 10l.94 2.06.94-2.06 2.06-.94-2.06-.94-.94-2.06-.94 2.06-2.06.94z\"/><path d=\"M17.41 7.96l-1.37-1.37c-.4-.4-.92-.59-1.43-.59-.52 0-1.04.2-1.43.59L10.3 9.45l-7.72 7.72c-.78.78-.78 2.05 0 2.83L4 21.41c.39.39.9.59 1.41.59.51 0 1.02-.2 1.41-.59l7.78-7.78 2.81-2.81c.8-.78.8-2.07 0-2.86zM5.41 20L4 18.59l7.72-7.72 1.47 1.35L5.41 20z\"/>\n",
              "  </svg>\n",
              "      </button>\n",
              "      \n",
              "  <style>\n",
              "    .colab-df-container {\n",
              "      display:flex;\n",
              "      flex-wrap:wrap;\n",
              "      gap: 12px;\n",
              "    }\n",
              "\n",
              "    .colab-df-convert {\n",
              "      background-color: #E8F0FE;\n",
              "      border: none;\n",
              "      border-radius: 50%;\n",
              "      cursor: pointer;\n",
              "      display: none;\n",
              "      fill: #1967D2;\n",
              "      height: 32px;\n",
              "      padding: 0 0 0 0;\n",
              "      width: 32px;\n",
              "    }\n",
              "\n",
              "    .colab-df-convert:hover {\n",
              "      background-color: #E2EBFA;\n",
              "      box-shadow: 0px 1px 2px rgba(60, 64, 67, 0.3), 0px 1px 3px 1px rgba(60, 64, 67, 0.15);\n",
              "      fill: #174EA6;\n",
              "    }\n",
              "\n",
              "    [theme=dark] .colab-df-convert {\n",
              "      background-color: #3B4455;\n",
              "      fill: #D2E3FC;\n",
              "    }\n",
              "\n",
              "    [theme=dark] .colab-df-convert:hover {\n",
              "      background-color: #434B5C;\n",
              "      box-shadow: 0px 1px 3px 1px rgba(0, 0, 0, 0.15);\n",
              "      filter: drop-shadow(0px 1px 2px rgba(0, 0, 0, 0.3));\n",
              "      fill: #FFFFFF;\n",
              "    }\n",
              "  </style>\n",
              "\n",
              "      <script>\n",
              "        const buttonEl =\n",
              "          document.querySelector('#df-5201be16-5af7-4238-a254-2c77b2e7d030 button.colab-df-convert');\n",
              "        buttonEl.style.display =\n",
              "          google.colab.kernel.accessAllowed ? 'block' : 'none';\n",
              "\n",
              "        async function convertToInteractive(key) {\n",
              "          const element = document.querySelector('#df-5201be16-5af7-4238-a254-2c77b2e7d030');\n",
              "          const dataTable =\n",
              "            await google.colab.kernel.invokeFunction('convertToInteractive',\n",
              "                                                     [key], {});\n",
              "          if (!dataTable) return;\n",
              "\n",
              "          const docLinkHtml = 'Like what you see? Visit the ' +\n",
              "            '<a target=\"_blank\" href=https://colab.research.google.com/notebooks/data_table.ipynb>data table notebook</a>'\n",
              "            + ' to learn more about interactive tables.';\n",
              "          element.innerHTML = '';\n",
              "          dataTable['output_type'] = 'display_data';\n",
              "          await google.colab.output.renderOutput(dataTable, element);\n",
              "          const docLink = document.createElement('div');\n",
              "          docLink.innerHTML = docLinkHtml;\n",
              "          element.appendChild(docLink);\n",
              "        }\n",
              "      </script>\n",
              "    </div>\n",
              "  </div>\n",
              "  "
            ],
            "text/plain": [
              "            order_time  order_id  ... lifetime_order_count session_time\n",
              "0  2021-01-26 02:21:35    556753  ...                621.0          NaN\n",
              "1  2021-01-26 02:33:16    556754  ...                105.0     3.266667\n",
              "2  2021-01-26 02:39:49    556755  ...                 66.0     9.816667\n",
              "3  2021-01-26 02:47:53    556756  ...                127.0    17.533333\n",
              "4  2021-01-26 03:06:30    556757  ...                 84.0     1.350000\n",
              "5  2021-01-26 03:07:16    556758  ...               1506.0          NaN\n",
              "6  2021-01-26 03:10:50    556759  ...               1460.0          NaN\n",
              "7  2021-01-26 03:14:10    556760  ...                270.0    44.166667\n",
              "8  2021-01-26 03:14:20    556761  ...                955.0     2.500000\n",
              "9  2021-01-26 03:15:18    556762  ...                  1.0          NaN\n",
              "\n",
              "[10 rows x 14 columns]"
            ]
          },
          "metadata": {},
          "execution_count": 27
        }
      ]
    },
    {
      "cell_type": "code",
      "source": [
        "data['order_time'] = pd.to_datetime(data['order_time'])"
      ],
      "metadata": {
        "id": "FpHeDTs9bCfJ"
      },
      "execution_count": null,
      "outputs": []
    },
    {
      "cell_type": "code",
      "source": [
        "data['order_date'] = pd.to_datetime(data['order_date'])"
      ],
      "metadata": {
        "id": "EBnOKU16bSPu"
      },
      "execution_count": null,
      "outputs": []
    },
    {
      "cell_type": "code",
      "source": [
        "data['allot_time'] = pd.to_datetime(data['allot_time'])"
      ],
      "metadata": {
        "id": "MfuFScnPbU1o"
      },
      "execution_count": null,
      "outputs": []
    },
    {
      "cell_type": "code",
      "source": [
        "data['accept_time'] = pd.to_datetime(data['accept_time'])"
      ],
      "metadata": {
        "id": "3YcCHjUubVG4"
      },
      "execution_count": null,
      "outputs": []
    },
    {
      "cell_type": "code",
      "source": [
        "data['acc_all_diff'] = data['accept_time'] - data['allot_time']\n",
        "data['acc_ord_diff'] = data['accept_time'] - data['order_time']"
      ],
      "metadata": {
        "id": "L1OOUIr-cnNO"
      },
      "execution_count": null,
      "outputs": []
    },
    {
      "cell_type": "code",
      "source": [
        "data['hour'] = data['order_time'].dt.hour"
      ],
      "metadata": {
        "id": "Lt3tvEqKeB9Q"
      },
      "execution_count": null,
      "outputs": []
    },
    {
      "cell_type": "code",
      "source": [
        "data['acc_all_diff'] = data['acc_all_diff']/np.timedelta64(1,'s')\n",
        "data['acc_ord_diff'] = data['acc_ord_diff']/np.timedelta64(1,'s')"
      ],
      "metadata": {
        "id": "Am4MncoNc869"
      },
      "execution_count": null,
      "outputs": []
    },
    {
      "cell_type": "code",
      "source": [
        "b = [0,4,8,12,16,20,24]\n",
        "l = ['Late Night', 'Early Morning','Morning','Noon','Eve','Night']\n",
        "data['session'] = pd.cut(data['hour'], bins=b, labels=l, include_lowest=True)"
      ],
      "metadata": {
        "id": "ADgQOnExeNpO"
      },
      "execution_count": null,
      "outputs": []
    },
    {
      "cell_type": "code",
      "source": [
        "data.head()"
      ],
      "metadata": {
        "colab": {
          "base_uri": "https://localhost:8080/",
          "height": 357
        },
        "id": "77-cAdmhiwQT",
        "outputId": "8ac60a20-9825-4738-c965-d0109f1da38a"
      },
      "execution_count": null,
      "outputs": [
        {
          "output_type": "execute_result",
          "data": {
            "text/html": [
              "\n",
              "  <div id=\"df-78e4ad8a-98dd-4853-a0a8-66ceee156d10\">\n",
              "    <div class=\"colab-df-container\">\n",
              "      <div>\n",
              "<style scoped>\n",
              "    .dataframe tbody tr th:only-of-type {\n",
              "        vertical-align: middle;\n",
              "    }\n",
              "\n",
              "    .dataframe tbody tr th {\n",
              "        vertical-align: top;\n",
              "    }\n",
              "\n",
              "    .dataframe thead th {\n",
              "        text-align: right;\n",
              "    }\n",
              "</style>\n",
              "<table border=\"1\" class=\"dataframe\">\n",
              "  <thead>\n",
              "    <tr style=\"text-align: right;\">\n",
              "      <th></th>\n",
              "      <th>order_time</th>\n",
              "      <th>order_id</th>\n",
              "      <th>order_date</th>\n",
              "      <th>allot_time</th>\n",
              "      <th>accept_time</th>\n",
              "      <th>rider_id</th>\n",
              "      <th>first_mile_distance</th>\n",
              "      <th>last_mile_distance</th>\n",
              "      <th>alloted_orders</th>\n",
              "      <th>delivered_orders</th>\n",
              "      <th>cancelled</th>\n",
              "      <th>undelivered_orders</th>\n",
              "      <th>lifetime_order_count</th>\n",
              "      <th>session_time</th>\n",
              "      <th>acc_all_diff</th>\n",
              "      <th>acc_ord_diff</th>\n",
              "      <th>hour</th>\n",
              "      <th>session</th>\n",
              "    </tr>\n",
              "  </thead>\n",
              "  <tbody>\n",
              "    <tr>\n",
              "      <th>0</th>\n",
              "      <td>2021-01-26 02:21:35</td>\n",
              "      <td>556753</td>\n",
              "      <td>2021-01-26</td>\n",
              "      <td>2021-01-26 02:21:59</td>\n",
              "      <td>2021-01-26 02:22:08</td>\n",
              "      <td>11696</td>\n",
              "      <td>1.5666</td>\n",
              "      <td>2.65</td>\n",
              "      <td>46.0</td>\n",
              "      <td>46.0</td>\n",
              "      <td>0</td>\n",
              "      <td>0.0</td>\n",
              "      <td>621.0</td>\n",
              "      <td>NaN</td>\n",
              "      <td>9.0</td>\n",
              "      <td>33.0</td>\n",
              "      <td>2</td>\n",
              "      <td>Late Night</td>\n",
              "    </tr>\n",
              "    <tr>\n",
              "      <th>1</th>\n",
              "      <td>2021-01-26 02:33:16</td>\n",
              "      <td>556754</td>\n",
              "      <td>2021-01-26</td>\n",
              "      <td>2021-01-26 02:33:57</td>\n",
              "      <td>2021-01-26 02:34:45</td>\n",
              "      <td>18117</td>\n",
              "      <td>2.5207</td>\n",
              "      <td>2.76</td>\n",
              "      <td>8.0</td>\n",
              "      <td>8.0</td>\n",
              "      <td>0</td>\n",
              "      <td>0.0</td>\n",
              "      <td>105.0</td>\n",
              "      <td>3.266667</td>\n",
              "      <td>48.0</td>\n",
              "      <td>89.0</td>\n",
              "      <td>2</td>\n",
              "      <td>Late Night</td>\n",
              "    </tr>\n",
              "    <tr>\n",
              "      <th>2</th>\n",
              "      <td>2021-01-26 02:39:49</td>\n",
              "      <td>556755</td>\n",
              "      <td>2021-01-26</td>\n",
              "      <td>2021-01-26 02:39:57</td>\n",
              "      <td>2021-01-26 02:40:13</td>\n",
              "      <td>18623</td>\n",
              "      <td>2.2074</td>\n",
              "      <td>4.80</td>\n",
              "      <td>1.0</td>\n",
              "      <td>1.0</td>\n",
              "      <td>0</td>\n",
              "      <td>0.0</td>\n",
              "      <td>66.0</td>\n",
              "      <td>9.816667</td>\n",
              "      <td>16.0</td>\n",
              "      <td>24.0</td>\n",
              "      <td>2</td>\n",
              "      <td>Late Night</td>\n",
              "    </tr>\n",
              "    <tr>\n",
              "      <th>3</th>\n",
              "      <td>2021-01-26 02:47:53</td>\n",
              "      <td>556756</td>\n",
              "      <td>2021-01-26</td>\n",
              "      <td>2021-01-26 02:48:25</td>\n",
              "      <td>2021-01-26 02:49:06</td>\n",
              "      <td>15945</td>\n",
              "      <td>2.1894</td>\n",
              "      <td>6.38</td>\n",
              "      <td>1.0</td>\n",
              "      <td>1.0</td>\n",
              "      <td>0</td>\n",
              "      <td>0.0</td>\n",
              "      <td>127.0</td>\n",
              "      <td>17.533333</td>\n",
              "      <td>41.0</td>\n",
              "      <td>73.0</td>\n",
              "      <td>2</td>\n",
              "      <td>Late Night</td>\n",
              "    </tr>\n",
              "    <tr>\n",
              "      <th>4</th>\n",
              "      <td>2021-01-26 03:06:30</td>\n",
              "      <td>556757</td>\n",
              "      <td>2021-01-26</td>\n",
              "      <td>2021-01-26 03:07:21</td>\n",
              "      <td>2021-01-26 03:07:57</td>\n",
              "      <td>17589</td>\n",
              "      <td>2.7870</td>\n",
              "      <td>4.01</td>\n",
              "      <td>34.0</td>\n",
              "      <td>34.0</td>\n",
              "      <td>0</td>\n",
              "      <td>0.0</td>\n",
              "      <td>84.0</td>\n",
              "      <td>1.350000</td>\n",
              "      <td>36.0</td>\n",
              "      <td>87.0</td>\n",
              "      <td>3</td>\n",
              "      <td>Late Night</td>\n",
              "    </tr>\n",
              "  </tbody>\n",
              "</table>\n",
              "</div>\n",
              "      <button class=\"colab-df-convert\" onclick=\"convertToInteractive('df-78e4ad8a-98dd-4853-a0a8-66ceee156d10')\"\n",
              "              title=\"Convert this dataframe to an interactive table.\"\n",
              "              style=\"display:none;\">\n",
              "        \n",
              "  <svg xmlns=\"http://www.w3.org/2000/svg\" height=\"24px\"viewBox=\"0 0 24 24\"\n",
              "       width=\"24px\">\n",
              "    <path d=\"M0 0h24v24H0V0z\" fill=\"none\"/>\n",
              "    <path d=\"M18.56 5.44l.94 2.06.94-2.06 2.06-.94-2.06-.94-.94-2.06-.94 2.06-2.06.94zm-11 1L8.5 8.5l.94-2.06 2.06-.94-2.06-.94L8.5 2.5l-.94 2.06-2.06.94zm10 10l.94 2.06.94-2.06 2.06-.94-2.06-.94-.94-2.06-.94 2.06-2.06.94z\"/><path d=\"M17.41 7.96l-1.37-1.37c-.4-.4-.92-.59-1.43-.59-.52 0-1.04.2-1.43.59L10.3 9.45l-7.72 7.72c-.78.78-.78 2.05 0 2.83L4 21.41c.39.39.9.59 1.41.59.51 0 1.02-.2 1.41-.59l7.78-7.78 2.81-2.81c.8-.78.8-2.07 0-2.86zM5.41 20L4 18.59l7.72-7.72 1.47 1.35L5.41 20z\"/>\n",
              "  </svg>\n",
              "      </button>\n",
              "      \n",
              "  <style>\n",
              "    .colab-df-container {\n",
              "      display:flex;\n",
              "      flex-wrap:wrap;\n",
              "      gap: 12px;\n",
              "    }\n",
              "\n",
              "    .colab-df-convert {\n",
              "      background-color: #E8F0FE;\n",
              "      border: none;\n",
              "      border-radius: 50%;\n",
              "      cursor: pointer;\n",
              "      display: none;\n",
              "      fill: #1967D2;\n",
              "      height: 32px;\n",
              "      padding: 0 0 0 0;\n",
              "      width: 32px;\n",
              "    }\n",
              "\n",
              "    .colab-df-convert:hover {\n",
              "      background-color: #E2EBFA;\n",
              "      box-shadow: 0px 1px 2px rgba(60, 64, 67, 0.3), 0px 1px 3px 1px rgba(60, 64, 67, 0.15);\n",
              "      fill: #174EA6;\n",
              "    }\n",
              "\n",
              "    [theme=dark] .colab-df-convert {\n",
              "      background-color: #3B4455;\n",
              "      fill: #D2E3FC;\n",
              "    }\n",
              "\n",
              "    [theme=dark] .colab-df-convert:hover {\n",
              "      background-color: #434B5C;\n",
              "      box-shadow: 0px 1px 3px 1px rgba(0, 0, 0, 0.15);\n",
              "      filter: drop-shadow(0px 1px 2px rgba(0, 0, 0, 0.3));\n",
              "      fill: #FFFFFF;\n",
              "    }\n",
              "  </style>\n",
              "\n",
              "      <script>\n",
              "        const buttonEl =\n",
              "          document.querySelector('#df-78e4ad8a-98dd-4853-a0a8-66ceee156d10 button.colab-df-convert');\n",
              "        buttonEl.style.display =\n",
              "          google.colab.kernel.accessAllowed ? 'block' : 'none';\n",
              "\n",
              "        async function convertToInteractive(key) {\n",
              "          const element = document.querySelector('#df-78e4ad8a-98dd-4853-a0a8-66ceee156d10');\n",
              "          const dataTable =\n",
              "            await google.colab.kernel.invokeFunction('convertToInteractive',\n",
              "                                                     [key], {});\n",
              "          if (!dataTable) return;\n",
              "\n",
              "          const docLinkHtml = 'Like what you see? Visit the ' +\n",
              "            '<a target=\"_blank\" href=https://colab.research.google.com/notebooks/data_table.ipynb>data table notebook</a>'\n",
              "            + ' to learn more about interactive tables.';\n",
              "          element.innerHTML = '';\n",
              "          dataTable['output_type'] = 'display_data';\n",
              "          await google.colab.output.renderOutput(dataTable, element);\n",
              "          const docLink = document.createElement('div');\n",
              "          docLink.innerHTML = docLinkHtml;\n",
              "          element.appendChild(docLink);\n",
              "        }\n",
              "      </script>\n",
              "    </div>\n",
              "  </div>\n",
              "  "
            ],
            "text/plain": [
              "           order_time  order_id order_date  ... acc_ord_diff hour     session\n",
              "0 2021-01-26 02:21:35    556753 2021-01-26  ...         33.0    2  Late Night\n",
              "1 2021-01-26 02:33:16    556754 2021-01-26  ...         89.0    2  Late Night\n",
              "2 2021-01-26 02:39:49    556755 2021-01-26  ...         24.0    2  Late Night\n",
              "3 2021-01-26 02:47:53    556756 2021-01-26  ...         73.0    2  Late Night\n",
              "4 2021-01-26 03:06:30    556757 2021-01-26  ...         87.0    3  Late Night\n",
              "\n",
              "[5 rows x 18 columns]"
            ]
          },
          "metadata": {},
          "execution_count": 36
        }
      ]
    },
    {
      "cell_type": "code",
      "source": [
        "data['day_of_week'] = data['order_date'].dt.dayofweek"
      ],
      "metadata": {
        "id": "lZjcCBSwm5sH"
      },
      "execution_count": null,
      "outputs": []
    },
    {
      "cell_type": "code",
      "source": [
        "cols = list(data.columns)\n",
        "cols"
      ],
      "metadata": {
        "colab": {
          "base_uri": "https://localhost:8080/"
        },
        "id": "frl1SFxGeqxW",
        "outputId": "0173ab95-6c9c-4145-9a3d-3da8f0ee1580"
      },
      "execution_count": null,
      "outputs": [
        {
          "output_type": "execute_result",
          "data": {
            "text/plain": [
              "['order_time',\n",
              " 'order_id',\n",
              " 'order_date',\n",
              " 'allot_time',\n",
              " 'accept_time',\n",
              " 'rider_id',\n",
              " 'first_mile_distance',\n",
              " 'last_mile_distance',\n",
              " 'alloted_orders',\n",
              " 'delivered_orders',\n",
              " 'cancelled',\n",
              " 'undelivered_orders',\n",
              " 'lifetime_order_count',\n",
              " 'session_time',\n",
              " 'acc_all_diff',\n",
              " 'acc_ord_diff',\n",
              " 'hour',\n",
              " 'session',\n",
              " 'day_of_week']"
            ]
          },
          "metadata": {},
          "execution_count": 38
        }
      ]
    },
    {
      "cell_type": "markdown",
      "source": [
        "Rearranging columns, removing allot_time, accept_time, and hours"
      ],
      "metadata": {
        "id": "jCrZ0hz8e1c1"
      }
    },
    {
      "cell_type": "code",
      "source": [
        "cols = [ \n",
        " 'order_id',\n",
        " 'acc_all_diff',\n",
        " 'acc_ord_diff',\n",
        " 'hour',\n",
        " 'session',\n",
        " 'day_of_week',\n",
        " 'rider_id',\n",
        " 'first_mile_distance',\n",
        " 'last_mile_distance',\n",
        " 'alloted_orders',\n",
        " 'delivered_orders',\n",
        " 'undelivered_orders',\n",
        " 'lifetime_order_count',\n",
        " 'session_time',\n",
        " 'cancelled',\n",
        "]"
      ],
      "metadata": {
        "id": "Mn1HAR1JezW1"
      },
      "execution_count": null,
      "outputs": []
    },
    {
      "cell_type": "code",
      "source": [
        "data = data[cols]"
      ],
      "metadata": {
        "id": "g5-9u0vSfJC8"
      },
      "execution_count": null,
      "outputs": []
    },
    {
      "cell_type": "code",
      "source": [
        "data.head(2)"
      ],
      "metadata": {
        "colab": {
          "base_uri": "https://localhost:8080/",
          "height": 211
        },
        "id": "dpZl0pTsfTdR",
        "outputId": "0745ca6b-d78d-4949-f0c2-bced37941a2d"
      },
      "execution_count": null,
      "outputs": [
        {
          "output_type": "execute_result",
          "data": {
            "text/html": [
              "\n",
              "  <div id=\"df-7ff3a4d3-8f79-4be5-b547-147461611df7\">\n",
              "    <div class=\"colab-df-container\">\n",
              "      <div>\n",
              "<style scoped>\n",
              "    .dataframe tbody tr th:only-of-type {\n",
              "        vertical-align: middle;\n",
              "    }\n",
              "\n",
              "    .dataframe tbody tr th {\n",
              "        vertical-align: top;\n",
              "    }\n",
              "\n",
              "    .dataframe thead th {\n",
              "        text-align: right;\n",
              "    }\n",
              "</style>\n",
              "<table border=\"1\" class=\"dataframe\">\n",
              "  <thead>\n",
              "    <tr style=\"text-align: right;\">\n",
              "      <th></th>\n",
              "      <th>order_id</th>\n",
              "      <th>acc_all_diff</th>\n",
              "      <th>acc_ord_diff</th>\n",
              "      <th>hour</th>\n",
              "      <th>session</th>\n",
              "      <th>day_of_week</th>\n",
              "      <th>rider_id</th>\n",
              "      <th>first_mile_distance</th>\n",
              "      <th>last_mile_distance</th>\n",
              "      <th>alloted_orders</th>\n",
              "      <th>delivered_orders</th>\n",
              "      <th>undelivered_orders</th>\n",
              "      <th>lifetime_order_count</th>\n",
              "      <th>session_time</th>\n",
              "      <th>cancelled</th>\n",
              "    </tr>\n",
              "  </thead>\n",
              "  <tbody>\n",
              "    <tr>\n",
              "      <th>0</th>\n",
              "      <td>556753</td>\n",
              "      <td>9.0</td>\n",
              "      <td>33.0</td>\n",
              "      <td>2</td>\n",
              "      <td>Late Night</td>\n",
              "      <td>1</td>\n",
              "      <td>11696</td>\n",
              "      <td>1.5666</td>\n",
              "      <td>2.65</td>\n",
              "      <td>46.0</td>\n",
              "      <td>46.0</td>\n",
              "      <td>0.0</td>\n",
              "      <td>621.0</td>\n",
              "      <td>NaN</td>\n",
              "      <td>0</td>\n",
              "    </tr>\n",
              "    <tr>\n",
              "      <th>1</th>\n",
              "      <td>556754</td>\n",
              "      <td>48.0</td>\n",
              "      <td>89.0</td>\n",
              "      <td>2</td>\n",
              "      <td>Late Night</td>\n",
              "      <td>1</td>\n",
              "      <td>18117</td>\n",
              "      <td>2.5207</td>\n",
              "      <td>2.76</td>\n",
              "      <td>8.0</td>\n",
              "      <td>8.0</td>\n",
              "      <td>0.0</td>\n",
              "      <td>105.0</td>\n",
              "      <td>3.266667</td>\n",
              "      <td>0</td>\n",
              "    </tr>\n",
              "  </tbody>\n",
              "</table>\n",
              "</div>\n",
              "      <button class=\"colab-df-convert\" onclick=\"convertToInteractive('df-7ff3a4d3-8f79-4be5-b547-147461611df7')\"\n",
              "              title=\"Convert this dataframe to an interactive table.\"\n",
              "              style=\"display:none;\">\n",
              "        \n",
              "  <svg xmlns=\"http://www.w3.org/2000/svg\" height=\"24px\"viewBox=\"0 0 24 24\"\n",
              "       width=\"24px\">\n",
              "    <path d=\"M0 0h24v24H0V0z\" fill=\"none\"/>\n",
              "    <path d=\"M18.56 5.44l.94 2.06.94-2.06 2.06-.94-2.06-.94-.94-2.06-.94 2.06-2.06.94zm-11 1L8.5 8.5l.94-2.06 2.06-.94-2.06-.94L8.5 2.5l-.94 2.06-2.06.94zm10 10l.94 2.06.94-2.06 2.06-.94-2.06-.94-.94-2.06-.94 2.06-2.06.94z\"/><path d=\"M17.41 7.96l-1.37-1.37c-.4-.4-.92-.59-1.43-.59-.52 0-1.04.2-1.43.59L10.3 9.45l-7.72 7.72c-.78.78-.78 2.05 0 2.83L4 21.41c.39.39.9.59 1.41.59.51 0 1.02-.2 1.41-.59l7.78-7.78 2.81-2.81c.8-.78.8-2.07 0-2.86zM5.41 20L4 18.59l7.72-7.72 1.47 1.35L5.41 20z\"/>\n",
              "  </svg>\n",
              "      </button>\n",
              "      \n",
              "  <style>\n",
              "    .colab-df-container {\n",
              "      display:flex;\n",
              "      flex-wrap:wrap;\n",
              "      gap: 12px;\n",
              "    }\n",
              "\n",
              "    .colab-df-convert {\n",
              "      background-color: #E8F0FE;\n",
              "      border: none;\n",
              "      border-radius: 50%;\n",
              "      cursor: pointer;\n",
              "      display: none;\n",
              "      fill: #1967D2;\n",
              "      height: 32px;\n",
              "      padding: 0 0 0 0;\n",
              "      width: 32px;\n",
              "    }\n",
              "\n",
              "    .colab-df-convert:hover {\n",
              "      background-color: #E2EBFA;\n",
              "      box-shadow: 0px 1px 2px rgba(60, 64, 67, 0.3), 0px 1px 3px 1px rgba(60, 64, 67, 0.15);\n",
              "      fill: #174EA6;\n",
              "    }\n",
              "\n",
              "    [theme=dark] .colab-df-convert {\n",
              "      background-color: #3B4455;\n",
              "      fill: #D2E3FC;\n",
              "    }\n",
              "\n",
              "    [theme=dark] .colab-df-convert:hover {\n",
              "      background-color: #434B5C;\n",
              "      box-shadow: 0px 1px 3px 1px rgba(0, 0, 0, 0.15);\n",
              "      filter: drop-shadow(0px 1px 2px rgba(0, 0, 0, 0.3));\n",
              "      fill: #FFFFFF;\n",
              "    }\n",
              "  </style>\n",
              "\n",
              "      <script>\n",
              "        const buttonEl =\n",
              "          document.querySelector('#df-7ff3a4d3-8f79-4be5-b547-147461611df7 button.colab-df-convert');\n",
              "        buttonEl.style.display =\n",
              "          google.colab.kernel.accessAllowed ? 'block' : 'none';\n",
              "\n",
              "        async function convertToInteractive(key) {\n",
              "          const element = document.querySelector('#df-7ff3a4d3-8f79-4be5-b547-147461611df7');\n",
              "          const dataTable =\n",
              "            await google.colab.kernel.invokeFunction('convertToInteractive',\n",
              "                                                     [key], {});\n",
              "          if (!dataTable) return;\n",
              "\n",
              "          const docLinkHtml = 'Like what you see? Visit the ' +\n",
              "            '<a target=\"_blank\" href=https://colab.research.google.com/notebooks/data_table.ipynb>data table notebook</a>'\n",
              "            + ' to learn more about interactive tables.';\n",
              "          element.innerHTML = '';\n",
              "          dataTable['output_type'] = 'display_data';\n",
              "          await google.colab.output.renderOutput(dataTable, element);\n",
              "          const docLink = document.createElement('div');\n",
              "          docLink.innerHTML = docLinkHtml;\n",
              "          element.appendChild(docLink);\n",
              "        }\n",
              "      </script>\n",
              "    </div>\n",
              "  </div>\n",
              "  "
            ],
            "text/plain": [
              "   order_id  acc_all_diff  ...  session_time  cancelled\n",
              "0    556753           9.0  ...           NaN          0\n",
              "1    556754          48.0  ...      3.266667          0\n",
              "\n",
              "[2 rows x 15 columns]"
            ]
          },
          "metadata": {},
          "execution_count": 41
        }
      ]
    },
    {
      "cell_type": "code",
      "source": [
        "data.isna().sum()"
      ],
      "metadata": {
        "colab": {
          "base_uri": "https://localhost:8080/"
        },
        "id": "lJOdvRYXgHL1",
        "outputId": "e3fb51fa-d9bb-46f3-f7f1-b94a1c4813ca"
      },
      "execution_count": null,
      "outputs": [
        {
          "output_type": "execute_result",
          "data": {
            "text/plain": [
              "order_id                    0\n",
              "acc_all_diff                0\n",
              "acc_ord_diff                0\n",
              "hour                        0\n",
              "session                     0\n",
              "day_of_week                 0\n",
              "rider_id                    0\n",
              "first_mile_distance         0\n",
              "last_mile_distance          0\n",
              "alloted_orders          16932\n",
              "delivered_orders        17323\n",
              "undelivered_orders      17323\n",
              "lifetime_order_count       50\n",
              "session_time             3672\n",
              "cancelled                   0\n",
              "dtype: int64"
            ]
          },
          "metadata": {},
          "execution_count": 42
        }
      ]
    },
    {
      "cell_type": "code",
      "source": [
        "data.shape"
      ],
      "metadata": {
        "colab": {
          "base_uri": "https://localhost:8080/"
        },
        "id": "__1JMK0mgfqO",
        "outputId": "e1786f62-417c-4e62-b983-94c574d7676b"
      },
      "execution_count": null,
      "outputs": [
        {
          "output_type": "execute_result",
          "data": {
            "text/plain": [
              "(449843, 15)"
            ]
          },
          "metadata": {},
          "execution_count": 43
        }
      ]
    },
    {
      "cell_type": "code",
      "source": [
        "data['session'],_ = pd.factorize(data['session'])"
      ],
      "metadata": {
        "id": "kk3kvOzEkYkb"
      },
      "execution_count": null,
      "outputs": []
    },
    {
      "cell_type": "markdown",
      "source": [
        "From the EDA, we see two things\n",
        "1.   The highest number of cancellations occur on Saturday (or is it just Jan 30?) -  we can have two approaches here; either consider it to be weekend or day basis\n",
        "2.   Data for the next Saturday ends abruptly at morning 10.00 hours, so should we drop the last day in the dataset?"
      ],
      "metadata": {
        "id": "JUed_ROLmZS7"
      }
    },
    {
      "cell_type": "markdown",
      "source": [
        "Trying some visualization techniques,"
      ],
      "metadata": {
        "id": "U9onDR_crryN"
      }
    },
    {
      "cell_type": "code",
      "source": [
        "# This Python 3 environment comes with many helpful analytics libraries installed\n",
        "# It is defined by the kaggle/python docker image: https://github.com/kaggle/docker-python\n",
        "# For example, here's several helpful packages to load in \n",
        "\n",
        "# Imported Libraries\n",
        "\n",
        "import numpy as np # linear algebra\n",
        "import pandas as pd # data processing, CSV file I/O (e.g. pd.read_csv)\n",
        "import tensorflow as tf\n",
        "import matplotlib.pyplot as plt\n",
        "import seaborn as sns\n",
        "from sklearn.manifold import TSNE\n",
        "from sklearn.decomposition import PCA, TruncatedSVD\n",
        "import matplotlib.patches as mpatches\n",
        "import time\n",
        "\n",
        "# Classifier Libraries\n",
        "from sklearn.linear_model import LogisticRegression\n",
        "from sklearn.svm import SVC\n",
        "from sklearn.neighbors import KNeighborsClassifier\n",
        "from sklearn.tree import DecisionTreeClassifier\n",
        "from sklearn.ensemble import RandomForestClassifier\n",
        "import collections\n",
        "\n",
        "\n",
        "# Other Libraries\n",
        "from sklearn.model_selection import train_test_split\n",
        "from sklearn.pipeline import make_pipeline\n",
        "from imblearn.pipeline import make_pipeline as imbalanced_make_pipeline\n",
        "from imblearn.over_sampling import SMOTE\n",
        "from imblearn.under_sampling import NearMiss\n",
        "from imblearn.metrics import classification_report_imbalanced\n",
        "from sklearn.metrics import precision_score, recall_score, f1_score, roc_auc_score, accuracy_score, classification_report\n",
        "from collections import Counter\n",
        "from sklearn.model_selection import KFold, StratifiedKFold\n",
        "import warnings\n",
        "warnings.filterwarnings(\"ignore\")"
      ],
      "metadata": {
        "id": "heRlq2Dgr-Dp"
      },
      "execution_count": null,
      "outputs": []
    },
    {
      "cell_type": "markdown",
      "source": [
        "Handling missing values before that,"
      ],
      "metadata": {
        "id": "FH9wAUdLsqcr"
      }
    },
    {
      "cell_type": "code",
      "source": [
        "from sklearn.impute import KNNImputer"
      ],
      "metadata": {
        "id": "zcsq5B-vFYEo"
      },
      "execution_count": null,
      "outputs": []
    },
    {
      "cell_type": "markdown",
      "source": [
        "Scaling the data using MinMaxScaler,"
      ],
      "metadata": {
        "id": "IQkJRTOXQ4du"
      }
    },
    {
      "cell_type": "code",
      "source": [
        "from sklearn.preprocessing import MinMaxScaler\n",
        "\n",
        "scaler = MinMaxScaler()\n",
        "data = pd.DataFrame(scaler.fit_transform(data), columns = data.columns)\n",
        "data.head()"
      ],
      "metadata": {
        "colab": {
          "base_uri": "https://localhost:8080/",
          "height": 270
        },
        "id": "522zQcgNFm0F",
        "outputId": "de15709c-8a42-4dfa-8817-ba9bda1b9707"
      },
      "execution_count": null,
      "outputs": [
        {
          "output_type": "execute_result",
          "data": {
            "text/html": [
              "\n",
              "  <div id=\"df-094c6d98-2a38-4fd5-a8dc-3190c938e80e\">\n",
              "    <div class=\"colab-df-container\">\n",
              "      <div>\n",
              "<style scoped>\n",
              "    .dataframe tbody tr th:only-of-type {\n",
              "        vertical-align: middle;\n",
              "    }\n",
              "\n",
              "    .dataframe tbody tr th {\n",
              "        vertical-align: top;\n",
              "    }\n",
              "\n",
              "    .dataframe thead th {\n",
              "        text-align: right;\n",
              "    }\n",
              "</style>\n",
              "<table border=\"1\" class=\"dataframe\">\n",
              "  <thead>\n",
              "    <tr style=\"text-align: right;\">\n",
              "      <th></th>\n",
              "      <th>order_id</th>\n",
              "      <th>acc_all_diff</th>\n",
              "      <th>acc_ord_diff</th>\n",
              "      <th>hour</th>\n",
              "      <th>session</th>\n",
              "      <th>day_of_week</th>\n",
              "      <th>rider_id</th>\n",
              "      <th>first_mile_distance</th>\n",
              "      <th>last_mile_distance</th>\n",
              "      <th>alloted_orders</th>\n",
              "      <th>delivered_orders</th>\n",
              "      <th>undelivered_orders</th>\n",
              "      <th>lifetime_order_count</th>\n",
              "      <th>session_time</th>\n",
              "      <th>cancelled</th>\n",
              "    </tr>\n",
              "  </thead>\n",
              "  <tbody>\n",
              "    <tr>\n",
              "      <th>0</th>\n",
              "      <td>0.920064</td>\n",
              "      <td>0.968742</td>\n",
              "      <td>0.001988</td>\n",
              "      <td>0.095238</td>\n",
              "      <td>0.0</td>\n",
              "      <td>0.166667</td>\n",
              "      <td>0.542335</td>\n",
              "      <td>0.037263</td>\n",
              "      <td>0.118251</td>\n",
              "      <td>0.079505</td>\n",
              "      <td>0.080214</td>\n",
              "      <td>0.0</td>\n",
              "      <td>0.020381</td>\n",
              "      <td>NaN</td>\n",
              "      <td>0.0</td>\n",
              "    </tr>\n",
              "    <tr>\n",
              "      <th>1</th>\n",
              "      <td>0.920066</td>\n",
              "      <td>0.970065</td>\n",
              "      <td>0.005578</td>\n",
              "      <td>0.095238</td>\n",
              "      <td>0.0</td>\n",
              "      <td>0.166667</td>\n",
              "      <td>0.840072</td>\n",
              "      <td>0.059959</td>\n",
              "      <td>0.123159</td>\n",
              "      <td>0.012367</td>\n",
              "      <td>0.012478</td>\n",
              "      <td>0.0</td>\n",
              "      <td>0.003446</td>\n",
              "      <td>0.002515</td>\n",
              "      <td>0.0</td>\n",
              "    </tr>\n",
              "    <tr>\n",
              "      <th>2</th>\n",
              "      <td>0.920068</td>\n",
              "      <td>0.968979</td>\n",
              "      <td>0.001411</td>\n",
              "      <td>0.095238</td>\n",
              "      <td>0.0</td>\n",
              "      <td>0.166667</td>\n",
              "      <td>0.863535</td>\n",
              "      <td>0.052506</td>\n",
              "      <td>0.214190</td>\n",
              "      <td>0.000000</td>\n",
              "      <td>0.000000</td>\n",
              "      <td>0.0</td>\n",
              "      <td>0.002166</td>\n",
              "      <td>0.007557</td>\n",
              "      <td>0.0</td>\n",
              "    </tr>\n",
              "    <tr>\n",
              "      <th>3</th>\n",
              "      <td>0.920070</td>\n",
              "      <td>0.969828</td>\n",
              "      <td>0.004552</td>\n",
              "      <td>0.095238</td>\n",
              "      <td>0.0</td>\n",
              "      <td>0.166667</td>\n",
              "      <td>0.739358</td>\n",
              "      <td>0.052078</td>\n",
              "      <td>0.284694</td>\n",
              "      <td>0.000000</td>\n",
              "      <td>0.000000</td>\n",
              "      <td>0.0</td>\n",
              "      <td>0.004168</td>\n",
              "      <td>0.013498</td>\n",
              "      <td>0.0</td>\n",
              "    </tr>\n",
              "    <tr>\n",
              "      <th>4</th>\n",
              "      <td>0.920072</td>\n",
              "      <td>0.969658</td>\n",
              "      <td>0.005450</td>\n",
              "      <td>0.142857</td>\n",
              "      <td>0.0</td>\n",
              "      <td>0.166667</td>\n",
              "      <td>0.815589</td>\n",
              "      <td>0.066294</td>\n",
              "      <td>0.178938</td>\n",
              "      <td>0.058304</td>\n",
              "      <td>0.058824</td>\n",
              "      <td>0.0</td>\n",
              "      <td>0.002757</td>\n",
              "      <td>0.001039</td>\n",
              "      <td>0.0</td>\n",
              "    </tr>\n",
              "  </tbody>\n",
              "</table>\n",
              "</div>\n",
              "      <button class=\"colab-df-convert\" onclick=\"convertToInteractive('df-094c6d98-2a38-4fd5-a8dc-3190c938e80e')\"\n",
              "              title=\"Convert this dataframe to an interactive table.\"\n",
              "              style=\"display:none;\">\n",
              "        \n",
              "  <svg xmlns=\"http://www.w3.org/2000/svg\" height=\"24px\"viewBox=\"0 0 24 24\"\n",
              "       width=\"24px\">\n",
              "    <path d=\"M0 0h24v24H0V0z\" fill=\"none\"/>\n",
              "    <path d=\"M18.56 5.44l.94 2.06.94-2.06 2.06-.94-2.06-.94-.94-2.06-.94 2.06-2.06.94zm-11 1L8.5 8.5l.94-2.06 2.06-.94-2.06-.94L8.5 2.5l-.94 2.06-2.06.94zm10 10l.94 2.06.94-2.06 2.06-.94-2.06-.94-.94-2.06-.94 2.06-2.06.94z\"/><path d=\"M17.41 7.96l-1.37-1.37c-.4-.4-.92-.59-1.43-.59-.52 0-1.04.2-1.43.59L10.3 9.45l-7.72 7.72c-.78.78-.78 2.05 0 2.83L4 21.41c.39.39.9.59 1.41.59.51 0 1.02-.2 1.41-.59l7.78-7.78 2.81-2.81c.8-.78.8-2.07 0-2.86zM5.41 20L4 18.59l7.72-7.72 1.47 1.35L5.41 20z\"/>\n",
              "  </svg>\n",
              "      </button>\n",
              "      \n",
              "  <style>\n",
              "    .colab-df-container {\n",
              "      display:flex;\n",
              "      flex-wrap:wrap;\n",
              "      gap: 12px;\n",
              "    }\n",
              "\n",
              "    .colab-df-convert {\n",
              "      background-color: #E8F0FE;\n",
              "      border: none;\n",
              "      border-radius: 50%;\n",
              "      cursor: pointer;\n",
              "      display: none;\n",
              "      fill: #1967D2;\n",
              "      height: 32px;\n",
              "      padding: 0 0 0 0;\n",
              "      width: 32px;\n",
              "    }\n",
              "\n",
              "    .colab-df-convert:hover {\n",
              "      background-color: #E2EBFA;\n",
              "      box-shadow: 0px 1px 2px rgba(60, 64, 67, 0.3), 0px 1px 3px 1px rgba(60, 64, 67, 0.15);\n",
              "      fill: #174EA6;\n",
              "    }\n",
              "\n",
              "    [theme=dark] .colab-df-convert {\n",
              "      background-color: #3B4455;\n",
              "      fill: #D2E3FC;\n",
              "    }\n",
              "\n",
              "    [theme=dark] .colab-df-convert:hover {\n",
              "      background-color: #434B5C;\n",
              "      box-shadow: 0px 1px 3px 1px rgba(0, 0, 0, 0.15);\n",
              "      filter: drop-shadow(0px 1px 2px rgba(0, 0, 0, 0.3));\n",
              "      fill: #FFFFFF;\n",
              "    }\n",
              "  </style>\n",
              "\n",
              "      <script>\n",
              "        const buttonEl =\n",
              "          document.querySelector('#df-094c6d98-2a38-4fd5-a8dc-3190c938e80e button.colab-df-convert');\n",
              "        buttonEl.style.display =\n",
              "          google.colab.kernel.accessAllowed ? 'block' : 'none';\n",
              "\n",
              "        async function convertToInteractive(key) {\n",
              "          const element = document.querySelector('#df-094c6d98-2a38-4fd5-a8dc-3190c938e80e');\n",
              "          const dataTable =\n",
              "            await google.colab.kernel.invokeFunction('convertToInteractive',\n",
              "                                                     [key], {});\n",
              "          if (!dataTable) return;\n",
              "\n",
              "          const docLinkHtml = 'Like what you see? Visit the ' +\n",
              "            '<a target=\"_blank\" href=https://colab.research.google.com/notebooks/data_table.ipynb>data table notebook</a>'\n",
              "            + ' to learn more about interactive tables.';\n",
              "          element.innerHTML = '';\n",
              "          dataTable['output_type'] = 'display_data';\n",
              "          await google.colab.output.renderOutput(dataTable, element);\n",
              "          const docLink = document.createElement('div');\n",
              "          docLink.innerHTML = docLinkHtml;\n",
              "          element.appendChild(docLink);\n",
              "        }\n",
              "      </script>\n",
              "    </div>\n",
              "  </div>\n",
              "  "
            ],
            "text/plain": [
              "   order_id  acc_all_diff  ...  session_time  cancelled\n",
              "0  0.920064      0.968742  ...           NaN        0.0\n",
              "1  0.920066      0.970065  ...      0.002515        0.0\n",
              "2  0.920068      0.968979  ...      0.007557        0.0\n",
              "3  0.920070      0.969828  ...      0.013498        0.0\n",
              "4  0.920072      0.969658  ...      0.001039        0.0\n",
              "\n",
              "[5 rows x 15 columns]"
            ]
          },
          "metadata": {},
          "execution_count": 47
        }
      ]
    },
    {
      "cell_type": "markdown",
      "source": [
        "Implementing KNN Imputer for filling missing values,"
      ],
      "metadata": {
        "id": "NW-1LWCfQytY"
      }
    },
    {
      "cell_type": "code",
      "source": [
        "# imputer = KNNImputer(n_neighbors=10)\n",
        "# data = pd.DataFrame(imputer.fit_transform(data),columns = data.columns)"
      ],
      "metadata": {
        "id": "drBSkZsUGB-q"
      },
      "execution_count": null,
      "outputs": []
    },
    {
      "cell_type": "code",
      "source": [
        "data.isna().sum()"
      ],
      "metadata": {
        "colab": {
          "base_uri": "https://localhost:8080/"
        },
        "id": "135TPearGJ4U",
        "outputId": "fa2bae9d-9bbe-44b1-9891-fd2050ed148b"
      },
      "execution_count": null,
      "outputs": [
        {
          "output_type": "execute_result",
          "data": {
            "text/plain": [
              "order_id                    0\n",
              "acc_all_diff                0\n",
              "acc_ord_diff                0\n",
              "hour                        0\n",
              "session                     0\n",
              "day_of_week                 0\n",
              "rider_id                    0\n",
              "first_mile_distance         0\n",
              "last_mile_distance          0\n",
              "alloted_orders          16932\n",
              "delivered_orders        17323\n",
              "undelivered_orders      17323\n",
              "lifetime_order_count       50\n",
              "session_time             3672\n",
              "cancelled                   0\n",
              "dtype: int64"
            ]
          },
          "metadata": {},
          "execution_count": 49
        }
      ]
    },
    {
      "cell_type": "code",
      "source": [
        "data1 = data.copy()"
      ],
      "metadata": {
        "id": "Feug28yAtEAS"
      },
      "execution_count": null,
      "outputs": []
    },
    {
      "cell_type": "markdown",
      "source": [
        "Trying random imputation,"
      ],
      "metadata": {
        "id": "rIyoPMUpQ9lI"
      }
    },
    {
      "cell_type": "code",
      "source": [
        "def random_imputation(df, feature):\n",
        "\n",
        "    number_missing = df[feature].isnull().sum()\n",
        "    observed_values = df.loc[df[feature].notnull(), feature]\n",
        "    df.loc[df[feature].isnull(), feature + '_imp'] = np.random.choice(observed_values, number_missing, replace = True)\n",
        "    \n",
        "    return df"
      ],
      "metadata": {
        "id": "utoiat3dse1v"
      },
      "execution_count": null,
      "outputs": []
    },
    {
      "cell_type": "code",
      "source": [
        "for feature in numerical:\n",
        "    data1[feature + '_imp'] = data1[feature]\n",
        "    data1 = random_imputation(data1, feature)"
      ],
      "metadata": {
        "id": "TUD4S1c0skne"
      },
      "execution_count": null,
      "outputs": []
    },
    {
      "cell_type": "code",
      "source": [
        "from sklearn import linear_model"
      ],
      "metadata": {
        "id": "AkBCumRL0nTv"
      },
      "execution_count": null,
      "outputs": []
    },
    {
      "cell_type": "markdown",
      "source": [
        "Deterministic Regression Imputation,"
      ],
      "metadata": {
        "id": "AZbA5E8ERDu7"
      }
    },
    {
      "cell_type": "code",
      "source": [
        "# deter_data = pd.DataFrame(columns = [\"Det\" + name for name in missing_columns])\n",
        "\n",
        "# for feature in missing_columns:\n",
        "        \n",
        "#     deter_data[\"Det\" + feature] = df[feature + \"_imp\"]\n",
        "#     parameters = list(set(df.columns) - set(missing_columns) - {feature + '_imp'})\n",
        "    \n",
        "#     #Create a Linear Regression model to estimate the missing data\n",
        "#     model = linear_model.LinearRegression()\n",
        "#     model.fit(X = df[parameters], y = df[feature + '_imp'])\n",
        "    \n",
        "#     #observe that I preserve the index of the missing data from the original dataframe\n",
        "#     deter_data.loc[df[feature].isnull(), \"Det\" + feature] = model.predict(df[parameters])[df[feature].isnull()]"
      ],
      "metadata": {
        "id": "Bgvu9h-nCPAN"
      },
      "execution_count": null,
      "outputs": []
    },
    {
      "cell_type": "markdown",
      "source": [
        "Stochastic Regression Imputation,"
      ],
      "metadata": {
        "id": "KiyeNfvaROhi"
      }
    },
    {
      "cell_type": "code",
      "source": [
        "random_data = pd.DataFrame(columns = [\"Ran\" + name for name in numerical])\n",
        "\n",
        "for feature in numerical:\n",
        "        \n",
        "    random_data[\"Ran\" + feature] = data1[feature + '_imp']\n",
        "    parameters = list(set(data1.columns) - set(numerical) - {feature + '_imp'})\n",
        "    \n",
        "    model = linear_model.LinearRegression()\n",
        "    model.fit(X = data1[parameters], y = data1[feature + '_imp'])\n",
        "    \n",
        "    # #Standard Error of the regression estimates is equal to std() of the errors of each estimates\n",
        "    # predict = model.predict(data1[parameters])\n",
        "    # std_error = (predict[data1[feature].notnull()] - data1.loc[data1[feature].notnull(), feature + '_imp']).std()\n",
        "    \n",
        "    #observe that I preserve the index of the missing data from the original dataframe\n",
        "    # random_predict = np.random.normal(size = data1[feature].shape[0], \n",
        "    #                                   loc = predict, \n",
        "    #                                   scale = std_error)\n",
        "    # random_data.loc[(data1[feature].isnull()) & (random_predict > 0), \"Ran\" + feature] = random_predict[(data1[feature].isnull()) & \n",
        "    #                                                                         (random_predict > 0)]\n",
        "    random_data.loc[data1[feature].isnull(), \"Ran\" + feature] = model.predict(data1[parameters])[data1[feature].isnull()]"
      ],
      "metadata": {
        "id": "9RxusbdP0ZrK"
      },
      "execution_count": null,
      "outputs": []
    },
    {
      "cell_type": "code",
      "source": [
        "random_data.isna().sum()"
      ],
      "metadata": {
        "colab": {
          "base_uri": "https://localhost:8080/"
        },
        "id": "4_-RwgFzlzMC",
        "outputId": "cd702b2b-3118-40f7-8789-2d156236f89a"
      },
      "execution_count": null,
      "outputs": [
        {
          "output_type": "execute_result",
          "data": {
            "text/plain": [
              "Ranalloted_orders          0\n",
              "Randelivered_orders        0\n",
              "Ranundelivered_orders      0\n",
              "Ranlifetime_order_count    0\n",
              "Ransession_time            0\n",
              "dtype: int64"
            ]
          },
          "metadata": {},
          "execution_count": 56
        }
      ]
    },
    {
      "cell_type": "code",
      "source": [
        "random_data.head(2)"
      ],
      "metadata": {
        "colab": {
          "base_uri": "https://localhost:8080/",
          "height": 112
        },
        "id": "MzbWNcYmzLwx",
        "outputId": "93e2aa40-d83e-463b-b3ec-176ad29144dd"
      },
      "execution_count": null,
      "outputs": [
        {
          "output_type": "execute_result",
          "data": {
            "text/html": [
              "\n",
              "  <div id=\"df-b7f9557c-3be5-4b07-9ea6-043e91cfa70f\">\n",
              "    <div class=\"colab-df-container\">\n",
              "      <div>\n",
              "<style scoped>\n",
              "    .dataframe tbody tr th:only-of-type {\n",
              "        vertical-align: middle;\n",
              "    }\n",
              "\n",
              "    .dataframe tbody tr th {\n",
              "        vertical-align: top;\n",
              "    }\n",
              "\n",
              "    .dataframe thead th {\n",
              "        text-align: right;\n",
              "    }\n",
              "</style>\n",
              "<table border=\"1\" class=\"dataframe\">\n",
              "  <thead>\n",
              "    <tr style=\"text-align: right;\">\n",
              "      <th></th>\n",
              "      <th>Ranalloted_orders</th>\n",
              "      <th>Randelivered_orders</th>\n",
              "      <th>Ranundelivered_orders</th>\n",
              "      <th>Ranlifetime_order_count</th>\n",
              "      <th>Ransession_time</th>\n",
              "    </tr>\n",
              "  </thead>\n",
              "  <tbody>\n",
              "    <tr>\n",
              "      <th>0</th>\n",
              "      <td>0.079505</td>\n",
              "      <td>0.080214</td>\n",
              "      <td>0.0</td>\n",
              "      <td>0.020381</td>\n",
              "      <td>-0.018344</td>\n",
              "    </tr>\n",
              "    <tr>\n",
              "      <th>1</th>\n",
              "      <td>0.012367</td>\n",
              "      <td>0.012478</td>\n",
              "      <td>0.0</td>\n",
              "      <td>0.003446</td>\n",
              "      <td>0.002515</td>\n",
              "    </tr>\n",
              "  </tbody>\n",
              "</table>\n",
              "</div>\n",
              "      <button class=\"colab-df-convert\" onclick=\"convertToInteractive('df-b7f9557c-3be5-4b07-9ea6-043e91cfa70f')\"\n",
              "              title=\"Convert this dataframe to an interactive table.\"\n",
              "              style=\"display:none;\">\n",
              "        \n",
              "  <svg xmlns=\"http://www.w3.org/2000/svg\" height=\"24px\"viewBox=\"0 0 24 24\"\n",
              "       width=\"24px\">\n",
              "    <path d=\"M0 0h24v24H0V0z\" fill=\"none\"/>\n",
              "    <path d=\"M18.56 5.44l.94 2.06.94-2.06 2.06-.94-2.06-.94-.94-2.06-.94 2.06-2.06.94zm-11 1L8.5 8.5l.94-2.06 2.06-.94-2.06-.94L8.5 2.5l-.94 2.06-2.06.94zm10 10l.94 2.06.94-2.06 2.06-.94-2.06-.94-.94-2.06-.94 2.06-2.06.94z\"/><path d=\"M17.41 7.96l-1.37-1.37c-.4-.4-.92-.59-1.43-.59-.52 0-1.04.2-1.43.59L10.3 9.45l-7.72 7.72c-.78.78-.78 2.05 0 2.83L4 21.41c.39.39.9.59 1.41.59.51 0 1.02-.2 1.41-.59l7.78-7.78 2.81-2.81c.8-.78.8-2.07 0-2.86zM5.41 20L4 18.59l7.72-7.72 1.47 1.35L5.41 20z\"/>\n",
              "  </svg>\n",
              "      </button>\n",
              "      \n",
              "  <style>\n",
              "    .colab-df-container {\n",
              "      display:flex;\n",
              "      flex-wrap:wrap;\n",
              "      gap: 12px;\n",
              "    }\n",
              "\n",
              "    .colab-df-convert {\n",
              "      background-color: #E8F0FE;\n",
              "      border: none;\n",
              "      border-radius: 50%;\n",
              "      cursor: pointer;\n",
              "      display: none;\n",
              "      fill: #1967D2;\n",
              "      height: 32px;\n",
              "      padding: 0 0 0 0;\n",
              "      width: 32px;\n",
              "    }\n",
              "\n",
              "    .colab-df-convert:hover {\n",
              "      background-color: #E2EBFA;\n",
              "      box-shadow: 0px 1px 2px rgba(60, 64, 67, 0.3), 0px 1px 3px 1px rgba(60, 64, 67, 0.15);\n",
              "      fill: #174EA6;\n",
              "    }\n",
              "\n",
              "    [theme=dark] .colab-df-convert {\n",
              "      background-color: #3B4455;\n",
              "      fill: #D2E3FC;\n",
              "    }\n",
              "\n",
              "    [theme=dark] .colab-df-convert:hover {\n",
              "      background-color: #434B5C;\n",
              "      box-shadow: 0px 1px 3px 1px rgba(0, 0, 0, 0.15);\n",
              "      filter: drop-shadow(0px 1px 2px rgba(0, 0, 0, 0.3));\n",
              "      fill: #FFFFFF;\n",
              "    }\n",
              "  </style>\n",
              "\n",
              "      <script>\n",
              "        const buttonEl =\n",
              "          document.querySelector('#df-b7f9557c-3be5-4b07-9ea6-043e91cfa70f button.colab-df-convert');\n",
              "        buttonEl.style.display =\n",
              "          google.colab.kernel.accessAllowed ? 'block' : 'none';\n",
              "\n",
              "        async function convertToInteractive(key) {\n",
              "          const element = document.querySelector('#df-b7f9557c-3be5-4b07-9ea6-043e91cfa70f');\n",
              "          const dataTable =\n",
              "            await google.colab.kernel.invokeFunction('convertToInteractive',\n",
              "                                                     [key], {});\n",
              "          if (!dataTable) return;\n",
              "\n",
              "          const docLinkHtml = 'Like what you see? Visit the ' +\n",
              "            '<a target=\"_blank\" href=https://colab.research.google.com/notebooks/data_table.ipynb>data table notebook</a>'\n",
              "            + ' to learn more about interactive tables.';\n",
              "          element.innerHTML = '';\n",
              "          dataTable['output_type'] = 'display_data';\n",
              "          await google.colab.output.renderOutput(dataTable, element);\n",
              "          const docLink = document.createElement('div');\n",
              "          docLink.innerHTML = docLinkHtml;\n",
              "          element.appendChild(docLink);\n",
              "        }\n",
              "      </script>\n",
              "    </div>\n",
              "  </div>\n",
              "  "
            ],
            "text/plain": [
              "   Ranalloted_orders  ...  Ransession_time\n",
              "0           0.079505  ...        -0.018344\n",
              "1           0.012367  ...         0.002515\n",
              "\n",
              "[2 rows x 5 columns]"
            ]
          },
          "metadata": {},
          "execution_count": 57
        }
      ]
    },
    {
      "cell_type": "code",
      "source": [
        "random_data['Ranalotted_orders'] = -1\n",
        "random_data['Randelivered_orders'] = -1\n",
        "random_data['Ranundelivered_orders'] = -1\n",
        "random_data['Ranlifetime_order_count'] = -1\n",
        "random_data['Ransession_time'] = -1"
      ],
      "metadata": {
        "id": "qp7u4JS_D4nY"
      },
      "execution_count": null,
      "outputs": []
    },
    {
      "cell_type": "code",
      "source": [
        "random_data['order_id'] = data['order_id']"
      ],
      "metadata": {
        "id": "QgUWHBoJ5lG-"
      },
      "execution_count": null,
      "outputs": []
    },
    {
      "cell_type": "code",
      "source": [
        "# random_data.loc[random_data['Ranseconds_diff'] < 0, 'Ranseconds_diff'] = 0"
      ],
      "metadata": {
        "id": "po4omoEQAe7g"
      },
      "execution_count": null,
      "outputs": []
    },
    {
      "cell_type": "code",
      "source": [
        "data.loc[data.order_id.isin(random_data.order_id), ['lifetime_order_count','alloted_orders','delivered_orders','undelivered_orders','session_time']] = random_data[['Ranlifetime_order_count','Ranalloted_orders','Randelivered_orders','Ranundelivered_orders','Ransession_time']].values"
      ],
      "metadata": {
        "id": "3O3X2kpO6kHK"
      },
      "execution_count": null,
      "outputs": []
    },
    {
      "cell_type": "code",
      "source": [
        "data.isna().sum()"
      ],
      "metadata": {
        "colab": {
          "base_uri": "https://localhost:8080/"
        },
        "id": "N1DisnSaoITG",
        "outputId": "6b72fa8c-3fdc-424b-de0a-14b9d0f6798a"
      },
      "execution_count": null,
      "outputs": [
        {
          "output_type": "execute_result",
          "data": {
            "text/plain": [
              "order_id                0\n",
              "acc_all_diff            0\n",
              "acc_ord_diff            0\n",
              "hour                    0\n",
              "session                 0\n",
              "day_of_week             0\n",
              "rider_id                0\n",
              "first_mile_distance     0\n",
              "last_mile_distance      0\n",
              "alloted_orders          0\n",
              "delivered_orders        0\n",
              "undelivered_orders      0\n",
              "lifetime_order_count    0\n",
              "session_time            0\n",
              "cancelled               0\n",
              "dtype: int64"
            ]
          },
          "metadata": {},
          "execution_count": 62
        }
      ]
    },
    {
      "cell_type": "code",
      "source": [
        "data = data[~data.isin([np.nan, np.inf, -np.inf]).any(1)]"
      ],
      "metadata": {
        "id": "43lmliDgAGXS"
      },
      "execution_count": null,
      "outputs": []
    },
    {
      "cell_type": "code",
      "source": [
        "data['acc_ord_diff'].min()"
      ],
      "metadata": {
        "colab": {
          "base_uri": "https://localhost:8080/"
        },
        "id": "iQfNjEhPA7cC",
        "outputId": "4c7ed13d-56db-4430-c3f1-69f4a6c2fa9f"
      },
      "execution_count": null,
      "outputs": [
        {
          "output_type": "execute_result",
          "data": {
            "text/plain": [
              "0.0"
            ]
          },
          "metadata": {},
          "execution_count": 64
        }
      ]
    },
    {
      "cell_type": "code",
      "source": [
        "data.lifetime_order_count = data.lifetime_order_count.round()\n",
        "data.delivered_orders = data.delivered_orders.round()\n",
        "data.undelivered_orders = data.undelivered_orders.round()\n",
        "data.alloted_orders = data.alloted_orders.round()"
      ],
      "metadata": {
        "id": "qJuU1St8W61S"
      },
      "execution_count": null,
      "outputs": []
    },
    {
      "cell_type": "markdown",
      "source": [
        "Visualization (Forming clusters to understand class distrubution),"
      ],
      "metadata": {
        "id": "u6LniZeYRT5m"
      }
    },
    {
      "cell_type": "code",
      "source": [
        "# New_df is from the random undersample data (fewer instances)\n",
        "X = data.drop('cancelled', axis=1)\n",
        "y = data['cancelled']\n",
        "\n",
        "# PCA Implementation\n",
        "t0 = time.time()\n",
        "X_reduced_pca = PCA(n_components=2, random_state=42).fit_transform(X.values)\n",
        "t1 = time.time()\n",
        "print(\"PCA took {:.2} s\".format(t1 - t0))\n",
        "\n",
        "# TruncatedSVD\n",
        "t0 = time.time()\n",
        "X_reduced_svd = TruncatedSVD(n_components=2, algorithm='randomized', random_state=42).fit_transform(X.values)\n",
        "t1 = time.time()\n",
        "print(\"Truncated SVD took {:.2} s\".format(t1 - t0))"
      ],
      "metadata": {
        "colab": {
          "base_uri": "https://localhost:8080/"
        },
        "id": "roBaJipmrt1n",
        "outputId": "81e15c58-feb1-472e-8c08-1255e4b80a58"
      },
      "execution_count": null,
      "outputs": [
        {
          "output_type": "stream",
          "name": "stdout",
          "text": [
            "PCA took 3.0 s\n",
            "Truncated SVD took 3.4 s\n"
          ]
        }
      ]
    },
    {
      "cell_type": "code",
      "source": [
        "f, (ax2, ax3) = plt.subplots(1, 2, figsize=(24,6))\n",
        "# labels = ['No Fraud', 'Fraud']\n",
        "f.suptitle('Clusters using Dimensionality Reduction', fontsize=14)\n",
        "\n",
        "blue_patch = mpatches.Patch(color='#0A0AFF', label='Not Cancelled')\n",
        "red_patch = mpatches.Patch(color='#AF0000', label='Cancelled')\n",
        "\n",
        "# PCA scatter plot\n",
        "ax2.scatter(X_reduced_pca[:,0], X_reduced_pca[:,1], c=(y == 0), cmap='coolwarm', label='Not Cancelled', linewidths=2)\n",
        "ax2.scatter(X_reduced_pca[:,0], X_reduced_pca[:,1], c=(y == 1), cmap='coolwarm', label='Cancelled', linewidths=2)\n",
        "ax2.set_title('PCA', fontsize=14)\n",
        "\n",
        "ax2.grid(True)\n",
        "\n",
        "ax2.legend(handles=[blue_patch, red_patch])\n",
        "\n",
        "# TruncatedSVD scatter plot\n",
        "ax3.scatter(X_reduced_svd[:,0], X_reduced_svd[:,1], c=(y == 0), cmap='coolwarm', label='Not Cancelled', linewidths=2)\n",
        "ax3.scatter(X_reduced_svd[:,0], X_reduced_svd[:,1], c=(y == 1), cmap='coolwarm', label='Cancelled', linewidths=2)\n",
        "ax3.set_title('Truncated SVD', fontsize=14)\n",
        "\n",
        "ax3.grid(True)\n",
        "\n",
        "ax3.legend(handles=[blue_patch, red_patch])\n",
        "\n",
        "plt.show()"
      ],
      "metadata": {
        "id": "zYK_7crluzzF",
        "colab": {
          "base_uri": "https://localhost:8080/",
          "height": 417
        },
        "outputId": "3d5c62bf-c97d-4359-ee9e-988417d5fa36"
      },
      "execution_count": null,
      "outputs": [
        {
          "output_type": "display_data",
          "data": {
            "image/png": "[encoded data removed]",
            "text/plain": [
              "<Figure size 1728x432 with 2 Axes>"
            ]
          },
          "metadata": {
            "needs_background": "light"
          }
        }
      ]
    },
    {
      "cell_type": "markdown",
      "source": [
        "Trying to Oversample the data using various implementations of SMOTE"
      ],
      "metadata": {
        "id": "qHgoN1RcQEn9"
      }
    },
    {
      "cell_type": "markdown",
      "source": [
        "So far best performance has been,\n",
        "1.    Borderline SMOTE\n",
        "2.    ADASYN\n",
        "3.    SMOTE + TOMEK\n",
        "4.    SMOTE\n",
        "5.    SMOTE + ENN"
      ],
      "metadata": {
        "id": "-T7WJ4TQBMtq"
      }
    },
    {
      "cell_type": "code",
      "source": [
        "data.reset_index(drop=True, inplace=True)"
      ],
      "metadata": {
        "id": "8LwZEdusRwBK"
      },
      "execution_count": null,
      "outputs": []
    },
    {
      "cell_type": "code",
      "source": [
        "data.head()"
      ],
      "metadata": {
        "colab": {
          "base_uri": "https://localhost:8080/",
          "height": 270
        },
        "id": "DhL1C5YqR8a0",
        "outputId": "13bca49b-1ea0-4ef9-add3-883652c41ec3"
      },
      "execution_count": null,
      "outputs": [
        {
          "output_type": "execute_result",
          "data": {
            "text/html": [
              "\n",
              "  <div id=\"df-036c64ae-4045-42fa-8971-c24340210b30\">\n",
              "    <div class=\"colab-df-container\">\n",
              "      <div>\n",
              "<style scoped>\n",
              "    .dataframe tbody tr th:only-of-type {\n",
              "        vertical-align: middle;\n",
              "    }\n",
              "\n",
              "    .dataframe tbody tr th {\n",
              "        vertical-align: top;\n",
              "    }\n",
              "\n",
              "    .dataframe thead th {\n",
              "        text-align: right;\n",
              "    }\n",
              "</style>\n",
              "<table border=\"1\" class=\"dataframe\">\n",
              "  <thead>\n",
              "    <tr style=\"text-align: right;\">\n",
              "      <th></th>\n",
              "      <th>order_id</th>\n",
              "      <th>acc_all_diff</th>\n",
              "      <th>acc_ord_diff</th>\n",
              "      <th>hour</th>\n",
              "      <th>session</th>\n",
              "      <th>day_of_week</th>\n",
              "      <th>rider_id</th>\n",
              "      <th>first_mile_distance</th>\n",
              "      <th>last_mile_distance</th>\n",
              "      <th>alloted_orders</th>\n",
              "      <th>delivered_orders</th>\n",
              "      <th>undelivered_orders</th>\n",
              "      <th>lifetime_order_count</th>\n",
              "      <th>session_time</th>\n",
              "      <th>cancelled</th>\n",
              "    </tr>\n",
              "  </thead>\n",
              "  <tbody>\n",
              "    <tr>\n",
              "      <th>0</th>\n",
              "      <td>0.920064</td>\n",
              "      <td>0.968742</td>\n",
              "      <td>0.001988</td>\n",
              "      <td>0.095238</td>\n",
              "      <td>0.0</td>\n",
              "      <td>0.166667</td>\n",
              "      <td>0.542335</td>\n",
              "      <td>0.037263</td>\n",
              "      <td>0.118251</td>\n",
              "      <td>0.0</td>\n",
              "      <td>-1.0</td>\n",
              "      <td>-1.0</td>\n",
              "      <td>-1.0</td>\n",
              "      <td>-1.0</td>\n",
              "      <td>0.0</td>\n",
              "    </tr>\n",
              "    <tr>\n",
              "      <th>1</th>\n",
              "      <td>0.920066</td>\n",
              "      <td>0.970065</td>\n",
              "      <td>0.005578</td>\n",
              "      <td>0.095238</td>\n",
              "      <td>0.0</td>\n",
              "      <td>0.166667</td>\n",
              "      <td>0.840072</td>\n",
              "      <td>0.059959</td>\n",
              "      <td>0.123159</td>\n",
              "      <td>0.0</td>\n",
              "      <td>-1.0</td>\n",
              "      <td>-1.0</td>\n",
              "      <td>-1.0</td>\n",
              "      <td>-1.0</td>\n",
              "      <td>0.0</td>\n",
              "    </tr>\n",
              "    <tr>\n",
              "      <th>2</th>\n",
              "      <td>0.920068</td>\n",
              "      <td>0.968979</td>\n",
              "      <td>0.001411</td>\n",
              "      <td>0.095238</td>\n",
              "      <td>0.0</td>\n",
              "      <td>0.166667</td>\n",
              "      <td>0.863535</td>\n",
              "      <td>0.052506</td>\n",
              "      <td>0.214190</td>\n",
              "      <td>0.0</td>\n",
              "      <td>-1.0</td>\n",
              "      <td>-1.0</td>\n",
              "      <td>-1.0</td>\n",
              "      <td>-1.0</td>\n",
              "      <td>0.0</td>\n",
              "    </tr>\n",
              "    <tr>\n",
              "      <th>3</th>\n",
              "      <td>0.920070</td>\n",
              "      <td>0.969828</td>\n",
              "      <td>0.004552</td>\n",
              "      <td>0.095238</td>\n",
              "      <td>0.0</td>\n",
              "      <td>0.166667</td>\n",
              "      <td>0.739358</td>\n",
              "      <td>0.052078</td>\n",
              "      <td>0.284694</td>\n",
              "      <td>0.0</td>\n",
              "      <td>-1.0</td>\n",
              "      <td>-1.0</td>\n",
              "      <td>-1.0</td>\n",
              "      <td>-1.0</td>\n",
              "      <td>0.0</td>\n",
              "    </tr>\n",
              "    <tr>\n",
              "      <th>4</th>\n",
              "      <td>0.920072</td>\n",
              "      <td>0.969658</td>\n",
              "      <td>0.005450</td>\n",
              "      <td>0.142857</td>\n",
              "      <td>0.0</td>\n",
              "      <td>0.166667</td>\n",
              "      <td>0.815589</td>\n",
              "      <td>0.066294</td>\n",
              "      <td>0.178938</td>\n",
              "      <td>0.0</td>\n",
              "      <td>-1.0</td>\n",
              "      <td>-1.0</td>\n",
              "      <td>-1.0</td>\n",
              "      <td>-1.0</td>\n",
              "      <td>0.0</td>\n",
              "    </tr>\n",
              "  </tbody>\n",
              "</table>\n",
              "</div>\n",
              "      <button class=\"colab-df-convert\" onclick=\"convertToInteractive('df-036c64ae-4045-42fa-8971-c24340210b30')\"\n",
              "              title=\"Convert this dataframe to an interactive table.\"\n",
              "              style=\"display:none;\">\n",
              "        \n",
              "  <svg xmlns=\"http://www.w3.org/2000/svg\" height=\"24px\"viewBox=\"0 0 24 24\"\n",
              "       width=\"24px\">\n",
              "    <path d=\"M0 0h24v24H0V0z\" fill=\"none\"/>\n",
              "    <path d=\"M18.56 5.44l.94 2.06.94-2.06 2.06-.94-2.06-.94-.94-2.06-.94 2.06-2.06.94zm-11 1L8.5 8.5l.94-2.06 2.06-.94-2.06-.94L8.5 2.5l-.94 2.06-2.06.94zm10 10l.94 2.06.94-2.06 2.06-.94-2.06-.94-.94-2.06-.94 2.06-2.06.94z\"/><path d=\"M17.41 7.96l-1.37-1.37c-.4-.4-.92-.59-1.43-.59-.52 0-1.04.2-1.43.59L10.3 9.45l-7.72 7.72c-.78.78-.78 2.05 0 2.83L4 21.41c.39.39.9.59 1.41.59.51 0 1.02-.2 1.41-.59l7.78-7.78 2.81-2.81c.8-.78.8-2.07 0-2.86zM5.41 20L4 18.59l7.72-7.72 1.47 1.35L5.41 20z\"/>\n",
              "  </svg>\n",
              "      </button>\n",
              "      \n",
              "  <style>\n",
              "    .colab-df-container {\n",
              "      display:flex;\n",
              "      flex-wrap:wrap;\n",
              "      gap: 12px;\n",
              "    }\n",
              "\n",
              "    .colab-df-convert {\n",
              "      background-color: #E8F0FE;\n",
              "      border: none;\n",
              "      border-radius: 50%;\n",
              "      cursor: pointer;\n",
              "      display: none;\n",
              "      fill: #1967D2;\n",
              "      height: 32px;\n",
              "      padding: 0 0 0 0;\n",
              "      width: 32px;\n",
              "    }\n",
              "\n",
              "    .colab-df-convert:hover {\n",
              "      background-color: #E2EBFA;\n",
              "      box-shadow: 0px 1px 2px rgba(60, 64, 67, 0.3), 0px 1px 3px 1px rgba(60, 64, 67, 0.15);\n",
              "      fill: #174EA6;\n",
              "    }\n",
              "\n",
              "    [theme=dark] .colab-df-convert {\n",
              "      background-color: #3B4455;\n",
              "      fill: #D2E3FC;\n",
              "    }\n",
              "\n",
              "    [theme=dark] .colab-df-convert:hover {\n",
              "      background-color: #434B5C;\n",
              "      box-shadow: 0px 1px 3px 1px rgba(0, 0, 0, 0.15);\n",
              "      filter: drop-shadow(0px 1px 2px rgba(0, 0, 0, 0.3));\n",
              "      fill: #FFFFFF;\n",
              "    }\n",
              "  </style>\n",
              "\n",
              "      <script>\n",
              "        const buttonEl =\n",
              "          document.querySelector('#df-036c64ae-4045-42fa-8971-c24340210b30 button.colab-df-convert');\n",
              "        buttonEl.style.display =\n",
              "          google.colab.kernel.accessAllowed ? 'block' : 'none';\n",
              "\n",
              "        async function convertToInteractive(key) {\n",
              "          const element = document.querySelector('#df-036c64ae-4045-42fa-8971-c24340210b30');\n",
              "          const dataTable =\n",
              "            await google.colab.kernel.invokeFunction('convertToInteractive',\n",
              "                                                     [key], {});\n",
              "          if (!dataTable) return;\n",
              "\n",
              "          const docLinkHtml = 'Like what you see? Visit the ' +\n",
              "            '<a target=\"_blank\" href=https://colab.research.google.com/notebooks/data_table.ipynb>data table notebook</a>'\n",
              "            + ' to learn more about interactive tables.';\n",
              "          element.innerHTML = '';\n",
              "          dataTable['output_type'] = 'display_data';\n",
              "          await google.colab.output.renderOutput(dataTable, element);\n",
              "          const docLink = document.createElement('div');\n",
              "          docLink.innerHTML = docLinkHtml;\n",
              "          element.appendChild(docLink);\n",
              "        }\n",
              "      </script>\n",
              "    </div>\n",
              "  </div>\n",
              "  "
            ],
            "text/plain": [
              "   order_id  acc_all_diff  ...  session_time  cancelled\n",
              "0  0.920064      0.968742  ...          -1.0        0.0\n",
              "1  0.920066      0.970065  ...          -1.0        0.0\n",
              "2  0.920068      0.968979  ...          -1.0        0.0\n",
              "3  0.920070      0.969828  ...          -1.0        0.0\n",
              "4  0.920072      0.969658  ...          -1.0        0.0\n",
              "\n",
              "[5 rows x 15 columns]"
            ]
          },
          "metadata": {},
          "execution_count": 69
        }
      ]
    },
    {
      "cell_type": "code",
      "source": [
        "# from sklearn.model_selection import train_test_split \n",
        "# from sklearn.metrics import accuracy_score\n",
        "# from xgboost import XGBClassifier"
      ],
      "metadata": {
        "id": "QqX1qKOFCpm8"
      },
      "execution_count": null,
      "outputs": []
    },
    {
      "cell_type": "markdown",
      "source": [
        "Detecting outliers,"
      ],
      "metadata": {
        "id": "Enf2BBY_Rr0d"
      }
    },
    {
      "cell_type": "code",
      "source": [
        "from collections import Counter\n",
        "\n",
        "def detect_outliers(train_data,n,features):\n",
        "    \n",
        "    outlier_indices = []\n",
        "    for col in features:\n",
        "        upper_limit=data[col].mean()+3.88*data[col].std()\n",
        "        lower_limit=data[col].mean()-2.88*data[col].std()\n",
        "        outlier_list_col = train_data[(train_data[col] < lower_limit) | (train_data[col] > upper_limit )].index\n",
        "        outlier_indices.extend(outlier_list_col)\n",
        "        \n",
        "    outlier_indices = Counter(outlier_indices)        \n",
        "    multiple_outliers = list( k for k, v in outlier_indices.items() if v > n )\n",
        "    \n",
        "    return multiple_outliers   \n",
        "\n",
        "list_atributes = data.columns\n",
        "Outliers_to_drop = detect_outliers(data,2,list_atributes)"
      ],
      "metadata": {
        "id": "1RN2DdEYgds8"
      },
      "execution_count": null,
      "outputs": []
    },
    {
      "cell_type": "code",
      "source": [
        "len(Outliers_to_drop)"
      ],
      "metadata": {
        "id": "O1wPmCKFg8FY",
        "colab": {
          "base_uri": "https://localhost:8080/"
        },
        "outputId": "8d5e126f-2c71-4583-8b07-55ec602b5b93"
      },
      "execution_count": null,
      "outputs": [
        {
          "output_type": "execute_result",
          "data": {
            "text/plain": [
              "42"
            ]
          },
          "metadata": {},
          "execution_count": 72
        }
      ]
    },
    {
      "cell_type": "code",
      "source": [
        "from collections import Counter\n",
        "\n",
        "def detect_outliers(train_data,n,features):\n",
        "    \n",
        "    outlier_indices = []\n",
        "    for col in features:\n",
        "        upper_limit=data[col].mean()+3*data[col].std()\n",
        "        lower_limit=data[col].mean()-3*data[col].std()\n",
        "        outlier_list_col = train_data[(train_data[col] < lower_limit) | (train_data[col] > upper_limit )].index\n",
        "        outlier_indices.extend(outlier_list_col)\n",
        "        \n",
        "    outlier_indices = Counter(outlier_indices)        \n",
        "    multiple_outliers = list( k for k, v in outlier_indices.items() if v > n )\n",
        "    \n",
        "    return multiple_outliers   \n",
        "\n",
        "list_atributes = data.columns\n",
        "Outliers_to_drop2 = detect_outliers(data,2,list_atributes)"
      ],
      "metadata": {
        "id": "F739oP4z9m5Z"
      },
      "execution_count": null,
      "outputs": []
    },
    {
      "cell_type": "code",
      "source": [
        "tgindex=[]\n",
        "for i in Outliers_to_drop2:\n",
        "  if(data.iloc[i]['cancelled']==0):\n",
        "    tgindex.append(i)"
      ],
      "metadata": {
        "id": "nRH_PeG_z7-q"
      },
      "execution_count": null,
      "outputs": []
    },
    {
      "cell_type": "code",
      "source": [
        "print(len(tgindex))"
      ],
      "metadata": {
        "id": "OHhPBQdez9hw",
        "colab": {
          "base_uri": "https://localhost:8080/"
        },
        "outputId": "80ce1031-4316-45de-f5bc-be73d6f476a8"
      },
      "execution_count": null,
      "outputs": [
        {
          "output_type": "stream",
          "name": "stdout",
          "text": [
            "39\n"
          ]
        }
      ]
    },
    {
      "cell_type": "code",
      "source": [
        "# finaldrop= list(set(tgindex))"
      ],
      "metadata": {
        "id": "SV5q9rwP0Gkt"
      },
      "execution_count": null,
      "outputs": []
    },
    {
      "cell_type": "code",
      "source": [
        "finaldrop= list(set(Outliers_to_drop))"
      ],
      "metadata": {
        "id": "TXogYbMvTY0g"
      },
      "execution_count": null,
      "outputs": []
    },
    {
      "cell_type": "code",
      "source": [
        "data.shape"
      ],
      "metadata": {
        "id": "TtNKH0rq_sVE",
        "colab": {
          "base_uri": "https://localhost:8080/"
        },
        "outputId": "e2faca0e-32e3-4691-a101-a8e3ec0b9ec3"
      },
      "execution_count": null,
      "outputs": [
        {
          "output_type": "execute_result",
          "data": {
            "text/plain": [
              "(449843, 15)"
            ]
          },
          "metadata": {},
          "execution_count": 78
        }
      ]
    },
    {
      "cell_type": "code",
      "source": [
        "data.drop(data.index[finaldrop], inplace=True)"
      ],
      "metadata": {
        "id": "xTOohL5uhBYb"
      },
      "execution_count": null,
      "outputs": []
    },
    {
      "cell_type": "code",
      "source": [
        "X = data.iloc[:,0:-1]\n",
        "y = data.iloc[:,-1]"
      ],
      "metadata": {
        "id": "t6pE5Ej-wMHP"
      },
      "execution_count": null,
      "outputs": []
    },
    {
      "cell_type": "code",
      "source": [
        "X.shape"
      ],
      "metadata": {
        "id": "4RwzsM2PQthD",
        "colab": {
          "base_uri": "https://localhost:8080/"
        },
        "outputId": "682955db-9b49-4e58-c03f-d5a94ca34930"
      },
      "execution_count": null,
      "outputs": [
        {
          "output_type": "execute_result",
          "data": {
            "text/plain": [
              "(449801, 14)"
            ]
          },
          "metadata": {},
          "execution_count": 81
        }
      ]
    },
    {
      "cell_type": "markdown",
      "source": [
        "Train test split, (with stratify)"
      ],
      "metadata": {
        "id": "ekgo0xXFTnEQ"
      }
    },
    {
      "cell_type": "code",
      "source": [
        "from sklearn.model_selection import train_test_split \n",
        "from sklearn.metrics import accuracy_score\n",
        "from sklearn.preprocessing import scale, StandardScaler\n",
        "X_train, X_test, y_train, y_test = train_test_split(X, y, test_size=0.3, random_state=10, shuffle = True,stratify=y)"
      ],
      "metadata": {
        "id": "ziuqVxhRxejx"
      },
      "execution_count": null,
      "outputs": []
    },
    {
      "cell_type": "markdown",
      "source": [
        "Trying SMOTE,"
      ],
      "metadata": {
        "id": "MPEFXS0sUqdV"
      }
    },
    {
      "cell_type": "code",
      "source": [
        "from imblearn.over_sampling import SMOTE\n",
        "\n",
        "smote = SMOTE(sampling_strategy='minority', random_state=42)\n",
        "X_train, y_train = smote.fit_resample(X_train, y_train)"
      ],
      "metadata": {
        "id": "2bcjgmb_P8hq"
      },
      "execution_count": null,
      "outputs": []
    },
    {
      "cell_type": "markdown",
      "source": [
        "Trying ADASYN,"
      ],
      "metadata": {
        "id": "Rph1hlYeNl-F"
      }
    },
    {
      "cell_type": "code",
      "source": [
        "# from imblearn.over_sampling import ADASYN\n",
        "# adasyn = ADASYN(random_state = 101)\n",
        "# X_train, y_train = adasyn.fit_resample(X_train, y_train)"
      ],
      "metadata": {
        "id": "5wyt6bVkNx_N"
      },
      "execution_count": null,
      "outputs": []
    },
    {
      "cell_type": "code",
      "source": [
        "# X.shape"
      ],
      "metadata": {
        "id": "8ASbRZ6kO8aw"
      },
      "execution_count": null,
      "outputs": []
    },
    {
      "cell_type": "markdown",
      "source": [
        "Trying Borderline SMOTE,"
      ],
      "metadata": {
        "id": "WRSfTgjmSjcw"
      }
    },
    {
      "cell_type": "code",
      "source": [
        "# from imblearn.over_sampling import BorderlineSMOTE\n",
        "# bsmote = BorderlineSMOTE(random_state = 42, kind = 'borderline-2')\n",
        "# X_train, y_train = bsmote.fit_resample(X_train, y_train)"
      ],
      "metadata": {
        "id": "--3aV-mhSi2R"
      },
      "execution_count": null,
      "outputs": []
    },
    {
      "cell_type": "markdown",
      "source": [
        "Trying SMOTE + tomek links,"
      ],
      "metadata": {
        "id": "5M-HWGwQBVZY"
      }
    },
    {
      "cell_type": "code",
      "source": [
        "# from imblearn.combine import SMOTETomek \n",
        "\n",
        "# smt = SMOTETomek(random_state=42)\n",
        "#X_train, y_train = smt.fit_resample(X_train, y_train)"
      ],
      "metadata": {
        "id": "KuUFhFL7BUjq"
      },
      "execution_count": null,
      "outputs": []
    },
    {
      "cell_type": "code",
      "source": [
        "# X.shape"
      ],
      "metadata": {
        "id": "GiPzwyMkCCz2"
      },
      "execution_count": null,
      "outputs": []
    },
    {
      "cell_type": "code",
      "source": [
        "# y.value_counts()"
      ],
      "metadata": {
        "id": "25ukRTrECI0Z"
      },
      "execution_count": null,
      "outputs": []
    },
    {
      "cell_type": "markdown",
      "source": [
        "Trying SMOTE + ENN,"
      ],
      "metadata": {
        "id": "RvaNEEjNCkjf"
      }
    },
    {
      "cell_type": "code",
      "source": [
        "# from imblearn.combine import SMOTEENN \n",
        "\n",
        "# sme = SMOTEENN(random_state=101)\n",
        "# X_train, y_train = sme.fit_resample(X_train, y_train)"
      ],
      "metadata": {
        "id": "N4pgm22HCj81"
      },
      "execution_count": null,
      "outputs": []
    },
    {
      "cell_type": "code",
      "source": [
        "y_train.shape"
      ],
      "metadata": {
        "colab": {
          "base_uri": "https://localhost:8080/"
        },
        "outputId": "1d9c0c9e-02c8-4378-e719-ae16d3403b96",
        "id": "bft9Oc-6CxRU"
      },
      "execution_count": null,
      "outputs": [
        {
          "output_type": "execute_result",
          "data": {
            "text/plain": [
              "(622680,)"
            ]
          },
          "metadata": {},
          "execution_count": 91
        }
      ]
    },
    {
      "cell_type": "code",
      "source": [
        "y_train.value_counts()"
      ],
      "metadata": {
        "colab": {
          "base_uri": "https://localhost:8080/"
        },
        "outputId": "4b918d0f-4388-4b70-f6e7-a3e9487ff485",
        "id": "M-u8ynJHCxRV"
      },
      "execution_count": null,
      "outputs": [
        {
          "output_type": "execute_result",
          "data": {
            "text/plain": [
              "0.0    311340\n",
              "1.0    311340\n",
              "Name: cancelled, dtype: int64"
            ]
          },
          "metadata": {},
          "execution_count": 92
        }
      ]
    },
    {
      "cell_type": "code",
      "source": [
        "from sklearn.ensemble import VotingClassifier,GradientBoostingClassifier,AdaBoostClassifier,RandomForestClassifier\n",
        "from sklearn.model_selection import train_test_split, GridSearchCV, cross_val_score\n",
        "from sklearn.model_selection import KFold\n",
        "from sklearn import tree, metrics\n",
        "from sklearn.tree import DecisionTreeClassifier\n",
        "import lightgbm as lgb\n",
        "from xgboost import XGBClassifier\n",
        "from sklearn import model_selection\n",
        "from sklearn.naive_bayes import GaussianNB\n",
        "from sklearn.neighbors import KNeighborsClassifier\n",
        "from sklearn.metrics import roc_auc_score"
      ],
      "metadata": {
        "id": "WG-tSlLdyAqk"
      },
      "execution_count": null,
      "outputs": []
    },
    {
      "cell_type": "code",
      "source": [
        "# models = []\n",
        "# models.append(('NaiveBayes', GaussianNB()))\n",
        "# models.append(('KNN', KNeighborsClassifier()))\n",
        "# models.append(('CART', DecisionTreeClassifier()))\n",
        "# models.append(('RF', RandomForestClassifier()))\n",
        "# models.append(('GradientBoosting', GradientBoostingClassifier()))\n",
        "# models.append(('XGB',XGBClassifier()))\n",
        "# models.append(('LGB',lgb.LGBMClassifier()))\n",
        "# models.append((\"Adaboost\",AdaBoostClassifier()))"
      ],
      "metadata": {
        "id": "RBxC0ebiyEYd"
      },
      "execution_count": null,
      "outputs": []
    },
    {
      "cell_type": "code",
      "source": [
        "X_train.shape"
      ],
      "metadata": {
        "colab": {
          "base_uri": "https://localhost:8080/"
        },
        "id": "iVT_QGamQesE",
        "outputId": "8a0025ef-60db-4416-8a52-257590a266f0"
      },
      "execution_count": null,
      "outputs": [
        {
          "output_type": "execute_result",
          "data": {
            "text/plain": [
              "(622680, 14)"
            ]
          },
          "metadata": {},
          "execution_count": 95
        }
      ]
    },
    {
      "cell_type": "markdown",
      "source": [
        "Using ExtraTreesClassifier to rank the features in terms of importance,"
      ],
      "metadata": {
        "id": "uejTnlD_SIQL"
      }
    },
    {
      "cell_type": "code",
      "execution_count": null,
      "metadata": {
        "id": "5mU1MpGPVzkz"
      },
      "outputs": [],
      "source": [
        "# from sklearn.ensemble import ExtraTreesClassifier\n",
        "\n",
        "# TOP_FEATURES = 6\n",
        "\n",
        "# forest = ExtraTreesClassifier(n_estimators=250, max_depth=5, random_state=1)\n",
        "# forest.fit(X_train, y_train)\n",
        "\n",
        "# importances = forest.feature_importances_\n",
        "# std = np.std(\n",
        "#     [tree.feature_importances_ for tree in forest.estimators_],\n",
        "#     axis=0\n",
        "# )\n",
        "# indices = np.argsort(importances)[::-1]\n",
        "# indices = indices[:TOP_FEATURES]\n",
        "\n",
        "# # importances[indices] = normalize(importances[indices])\n",
        "\n",
        "# print('Top features:')\n",
        "# for f in range(TOP_FEATURES):\n",
        "#     print('%d %f' % (indices[f], importances[indices[f]]))"
      ]
    },
    {
      "cell_type": "code",
      "source": [
        "# X_train = tX_train\n",
        "# X_test = tX_test"
      ],
      "metadata": {
        "id": "l-Nh-nYORga_"
      },
      "execution_count": null,
      "outputs": []
    },
    {
      "cell_type": "code",
      "execution_count": null,
      "metadata": {
        "id": "zv_fY12LL6GS"
      },
      "outputs": [],
      "source": [
        "# indices = np.append(0, indices)\n",
        "# fX = X_train.iloc[:, indices]\n",
        "# X_train = fX"
      ]
    },
    {
      "cell_type": "code",
      "source": [
        "# fX = X_test.iloc[:, indices]\n",
        "# X_test = fX"
      ],
      "metadata": {
        "id": "1Tf3J5CeRaNU"
      },
      "execution_count": null,
      "outputs": []
    },
    {
      "cell_type": "markdown",
      "source": [
        "Plotting the ROC-AUC,"
      ],
      "metadata": {
        "id": "axwGUVSd2JgU"
      }
    },
    {
      "cell_type": "code",
      "source": [
        "ns_probs = [0 for _ in range(len(y_test))]"
      ],
      "metadata": {
        "id": "Y-qSSUvS2Ln2"
      },
      "execution_count": null,
      "outputs": []
    },
    {
      "cell_type": "markdown",
      "source": [
        "Naive Bayes,"
      ],
      "metadata": {
        "id": "8ut4sJM81kKi"
      }
    },
    {
      "cell_type": "code",
      "source": [
        "NaiveBayes = GaussianNB()\n",
        "NaiveBayes.fit(X_train,y_train)"
      ],
      "metadata": {
        "colab": {
          "base_uri": "https://localhost:8080/"
        },
        "id": "qwDxVjPb1dzH",
        "outputId": "77fd6630-37b1-4d8f-c3fd-e3d97f2db1ca"
      },
      "execution_count": null,
      "outputs": [
        {
          "output_type": "execute_result",
          "data": {
            "text/plain": [
              "GaussianNB()"
            ]
          },
          "metadata": {},
          "execution_count": 101
        }
      ]
    },
    {
      "cell_type": "code",
      "source": [
        "# predict probabilities\n",
        "lr_probs = NaiveBayes.predict_proba(X_test)\n",
        "# keep probabilities for the positive outcome only\n",
        "lr_probs = lr_probs[:, 1]\n",
        "# calculate scores\n",
        "ns_auc = roc_auc_score(y_test, ns_probs)\n",
        "lr_auc = roc_auc_score(y_test, lr_probs)"
      ],
      "metadata": {
        "id": "F1LdKzW_2aed"
      },
      "execution_count": null,
      "outputs": []
    },
    {
      "cell_type": "code",
      "source": [
        "#No Skill\n",
        "print(ns_auc)"
      ],
      "metadata": {
        "colab": {
          "base_uri": "https://localhost:8080/"
        },
        "id": "zuLSRRpU2l0Q",
        "outputId": "8a798432-8234-4627-a197-76b436e3444a"
      },
      "execution_count": null,
      "outputs": [
        {
          "output_type": "stream",
          "name": "stdout",
          "text": [
            "0.5\n"
          ]
        }
      ]
    },
    {
      "cell_type": "code",
      "source": [
        "#My Model\n",
        "print(lr_auc)"
      ],
      "metadata": {
        "colab": {
          "base_uri": "https://localhost:8080/"
        },
        "id": "umpa6MRv2ow8",
        "outputId": "d9f1dd3e-ad81-4c61-fbb4-9c3073865220"
      },
      "execution_count": null,
      "outputs": [
        {
          "output_type": "stream",
          "name": "stdout",
          "text": [
            "0.6861030417014272\n"
          ]
        }
      ]
    },
    {
      "cell_type": "code",
      "source": [
        "metrics.plot_confusion_matrix(NaiveBayes,X_test,y_test,values_format = 'd')"
      ],
      "metadata": {
        "colab": {
          "base_uri": "https://localhost:8080/",
          "height": 298
        },
        "id": "7wSy_wOl5JZc",
        "outputId": "3934ad1b-447a-42fb-abdf-97f3956bced0"
      },
      "execution_count": null,
      "outputs": [
        {
          "output_type": "execute_result",
          "data": {
            "text/plain": [
              "<sklearn.metrics._plot.confusion_matrix.ConfusionMatrixDisplay at 0x7f282b7bc8d0>"
            ]
          },
          "metadata": {},
          "execution_count": 105
        },
        {
          "output_type": "display_data",
          "data": {
            "image/png": "[encoded data removed]",
            "text/plain": [
              "<Figure size 432x288 with 2 Axes>"
            ]
          },
          "metadata": {
            "needs_background": "light"
          }
        }
      ]
    },
    {
      "cell_type": "markdown",
      "source": [
        "LDA,"
      ],
      "metadata": {
        "id": "9NlpyWmx29Ph"
      }
    },
    {
      "cell_type": "code",
      "source": [
        "from sklearn.discriminant_analysis import LinearDiscriminantAnalysis, QuadraticDiscriminantAnalysis"
      ],
      "metadata": {
        "id": "dNMwO-d029Pj"
      },
      "execution_count": null,
      "outputs": []
    },
    {
      "cell_type": "code",
      "source": [
        "LDA = LinearDiscriminantAnalysis()"
      ],
      "metadata": {
        "id": "7zkC3bvD29Pj"
      },
      "execution_count": null,
      "outputs": []
    },
    {
      "cell_type": "code",
      "source": [
        "LDA.fit(X_train,y_train)"
      ],
      "metadata": {
        "colab": {
          "base_uri": "https://localhost:8080/"
        },
        "outputId": "984885bb-b99f-4141-e8e0-ba4ba29ed8f0",
        "id": "i3kx2zyf29Pk"
      },
      "execution_count": null,
      "outputs": [
        {
          "output_type": "execute_result",
          "data": {
            "text/plain": [
              "LinearDiscriminantAnalysis()"
            ]
          },
          "metadata": {},
          "execution_count": 108
        }
      ]
    },
    {
      "cell_type": "code",
      "source": [
        "# predict probabilities\n",
        "lr_probs = LDA.predict_proba(X_test)\n",
        "# keep probabilities for the positive outcome only\n",
        "lr_probs = lr_probs[:, 1]\n",
        "# calculate scores\n",
        "ns_auc = roc_auc_score(y_test, ns_probs)\n",
        "lr_auc = roc_auc_score(y_test, lr_probs)"
      ],
      "metadata": {
        "id": "Hqi6KgRO29Pl"
      },
      "execution_count": null,
      "outputs": []
    },
    {
      "cell_type": "code",
      "source": [
        "#No Skill\n",
        "print(ns_auc)"
      ],
      "metadata": {
        "colab": {
          "base_uri": "https://localhost:8080/"
        },
        "outputId": "50e6c069-d410-48cb-b91c-1d5214a44af6",
        "id": "FE68vvxc3LNC"
      },
      "execution_count": null,
      "outputs": [
        {
          "output_type": "stream",
          "name": "stdout",
          "text": [
            "0.5\n"
          ]
        }
      ]
    },
    {
      "cell_type": "code",
      "source": [
        "#My Model\n",
        "print(lr_auc)"
      ],
      "metadata": {
        "colab": {
          "base_uri": "https://localhost:8080/"
        },
        "outputId": "eefaf218-fee0-4304-ebab-04caa4329721",
        "id": "rHdHEVvH3LND"
      },
      "execution_count": null,
      "outputs": [
        {
          "output_type": "stream",
          "name": "stdout",
          "text": [
            "0.701737101225014\n"
          ]
        }
      ]
    },
    {
      "cell_type": "code",
      "source": [
        "metrics.plot_confusion_matrix(LDA,X_test,y_test,values_format = 'd')"
      ],
      "metadata": {
        "colab": {
          "base_uri": "https://localhost:8080/",
          "height": 302
        },
        "id": "Y-jDPfM75D8S",
        "outputId": "7abc5b8c-5a85-43ed-bf31-e70d1a0a945a"
      },
      "execution_count": null,
      "outputs": [
        {
          "output_type": "execute_result",
          "data": {
            "text/plain": [
              "<sklearn.metrics._plot.confusion_matrix.ConfusionMatrixDisplay at 0x7f2831521e10>"
            ]
          },
          "metadata": {},
          "execution_count": 112
        },
        {
          "output_type": "display_data",
          "data": {
            "image/png": "[encoded data removed]",
            "text/plain": [
              "<Figure size 432x288 with 2 Axes>"
            ]
          },
          "metadata": {
            "needs_background": "light"
          }
        }
      ]
    },
    {
      "cell_type": "markdown",
      "source": [
        "Light GBM,"
      ],
      "metadata": {
        "id": "Vg5Yjj2h3Xe9"
      }
    },
    {
      "cell_type": "code",
      "source": [
        "import lightgbm as lgb\n",
        "lgbclf = lgb.LGBMClassifier(random_state=42,objective ='binary')"
      ],
      "metadata": {
        "id": "CCEl07wo3Xsk"
      },
      "execution_count": null,
      "outputs": []
    },
    {
      "cell_type": "code",
      "source": [
        "lgbclf.fit(X_train, y_train)"
      ],
      "metadata": {
        "colab": {
          "base_uri": "https://localhost:8080/"
        },
        "outputId": "80f5fd56-73c8-4b7b-b12f-47d31aa19713",
        "id": "wkd1iYYU3Xsl"
      },
      "execution_count": null,
      "outputs": [
        {
          "output_type": "execute_result",
          "data": {
            "text/plain": [
              "LGBMClassifier(objective='binary', random_state=42)"
            ]
          },
          "metadata": {},
          "execution_count": 114
        }
      ]
    },
    {
      "cell_type": "code",
      "source": [
        "# predict probabilities\n",
        "lr_probs = lgbclf.predict_proba(X_test)\n",
        "# keep probabilities for the positive outcome only\n",
        "lr_probs = lr_probs[:, 1]\n",
        "# calculate scores\n",
        "ns_auc = roc_auc_score(y_test, ns_probs)\n",
        "lr_auc = roc_auc_score(y_test, lr_probs)"
      ],
      "metadata": {
        "id": "s2JecIft3fHU"
      },
      "execution_count": null,
      "outputs": []
    },
    {
      "cell_type": "code",
      "source": [
        "#No Skill\n",
        "print(ns_auc)"
      ],
      "metadata": {
        "colab": {
          "base_uri": "https://localhost:8080/"
        },
        "outputId": "acb45720-672b-43e9-db35-d6e5b9fb6869",
        "id": "s5gFZMh_3fHU"
      },
      "execution_count": null,
      "outputs": [
        {
          "output_type": "stream",
          "name": "stdout",
          "text": [
            "0.5\n"
          ]
        }
      ]
    },
    {
      "cell_type": "code",
      "source": [
        "#My Model\n",
        "print(lr_auc)"
      ],
      "metadata": {
        "colab": {
          "base_uri": "https://localhost:8080/"
        },
        "outputId": "9108dd4a-78c7-46dd-8171-6c5af18df61c",
        "id": "yusqo03O3fHV"
      },
      "execution_count": null,
      "outputs": [
        {
          "output_type": "stream",
          "name": "stdout",
          "text": [
            "0.6939832491153366\n"
          ]
        }
      ]
    },
    {
      "cell_type": "code",
      "source": [
        "metrics.plot_confusion_matrix(lgbclf,X_test,y_test,values_format = 'd')"
      ],
      "metadata": {
        "colab": {
          "base_uri": "https://localhost:8080/",
          "height": 298
        },
        "id": "Cfr5ErWN44F8",
        "outputId": "927c310b-1999-400d-d4f3-8436ec2f4eea"
      },
      "execution_count": null,
      "outputs": [
        {
          "output_type": "execute_result",
          "data": {
            "text/plain": [
              "<sklearn.metrics._plot.confusion_matrix.ConfusionMatrixDisplay at 0x7f282d2fefd0>"
            ]
          },
          "metadata": {},
          "execution_count": 118
        },
        {
          "output_type": "display_data",
          "data": {
            "image/png": "[encoded data removed]",
            "text/plain": [
              "<Figure size 432x288 with 2 Axes>"
            ]
          },
          "metadata": {
            "needs_background": "light"
          }
        }
      ]
    },
    {
      "cell_type": "markdown",
      "source": [
        "Logistic Regression,"
      ],
      "metadata": {
        "id": "Q_aQ1QAp3ynr"
      }
    },
    {
      "cell_type": "code",
      "source": [
        "from sklearn.linear_model import LogisticRegression\n",
        "clf = LogisticRegression(random_state=42).fit(X_train, y_train)"
      ],
      "metadata": {
        "id": "u1kDVCVx3ynt"
      },
      "execution_count": null,
      "outputs": []
    },
    {
      "cell_type": "code",
      "source": [
        "# predict probabilities\n",
        "lr_probs = clf.predict_proba(X_test)\n",
        "# keep probabilities for the positive outcome only\n",
        "lr_probs = lr_probs[:, 1]\n",
        "# calculate scores\n",
        "ns_auc = roc_auc_score(y_test, ns_probs)\n",
        "lr_auc = roc_auc_score(y_test, lr_probs)"
      ],
      "metadata": {
        "id": "_5iuY_ms35sQ"
      },
      "execution_count": null,
      "outputs": []
    },
    {
      "cell_type": "code",
      "source": [
        "#No Skill\n",
        "print(ns_auc)"
      ],
      "metadata": {
        "colab": {
          "base_uri": "https://localhost:8080/"
        },
        "outputId": "eacdf95d-47dc-4840-b731-e4c9854ff42f",
        "id": "tAljpMD835sR"
      },
      "execution_count": null,
      "outputs": [
        {
          "output_type": "stream",
          "name": "stdout",
          "text": [
            "0.5\n"
          ]
        }
      ]
    },
    {
      "cell_type": "code",
      "source": [
        "#My Model\n",
        "print(lr_auc)"
      ],
      "metadata": {
        "colab": {
          "base_uri": "https://localhost:8080/"
        },
        "outputId": "d169b6b9-838d-43e0-d209-13153d7dfa97",
        "id": "sSSb_cqa35sR"
      },
      "execution_count": null,
      "outputs": [
        {
          "output_type": "stream",
          "name": "stdout",
          "text": [
            "0.7061159036547547\n"
          ]
        }
      ]
    },
    {
      "cell_type": "code",
      "source": [
        "metrics.plot_confusion_matrix(clf,X_test,y_test,values_format = 'd')"
      ],
      "metadata": {
        "colab": {
          "base_uri": "https://localhost:8080/",
          "height": 298
        },
        "id": "j47QZ2EK41EH",
        "outputId": "683bc004-1717-4ffc-d309-18eccb0c7b93"
      },
      "execution_count": null,
      "outputs": [
        {
          "output_type": "execute_result",
          "data": {
            "text/plain": [
              "<sklearn.metrics._plot.confusion_matrix.ConfusionMatrixDisplay at 0x7f282d2fe090>"
            ]
          },
          "metadata": {},
          "execution_count": 123
        },
        {
          "output_type": "display_data",
          "data": {
            "image/png": "[encoded data removed]",
            "text/plain": [
              "<Figure size 432x288 with 2 Axes>"
            ]
          },
          "metadata": {
            "needs_background": "light"
          }
        }
      ]
    },
    {
      "cell_type": "markdown",
      "source": [
        "XGBoost,"
      ],
      "metadata": {
        "id": "gN0RY6WH4DKw"
      }
    },
    {
      "cell_type": "code",
      "source": [
        "xgb = XGBClassifier()"
      ],
      "metadata": {
        "id": "a_MV6Nud4DKw"
      },
      "execution_count": null,
      "outputs": []
    },
    {
      "cell_type": "code",
      "source": [
        "xgb.fit(X_train,y_train)"
      ],
      "metadata": {
        "colab": {
          "base_uri": "https://localhost:8080/"
        },
        "id": "L_MvDBzH4EBV",
        "outputId": "9431baf0-0d9c-439d-dca9-6e416964eee7"
      },
      "execution_count": null,
      "outputs": [
        {
          "output_type": "execute_result",
          "data": {
            "text/plain": [
              "XGBClassifier()"
            ]
          },
          "metadata": {},
          "execution_count": 125
        }
      ]
    },
    {
      "cell_type": "code",
      "source": [
        "# predict probabilities\n",
        "lr_probs = xgb.predict_proba(X_test)\n",
        "# keep probabilities for the positive outcome only\n",
        "lr_probs = lr_probs[:, 1]\n",
        "# calculate scores\n",
        "ns_auc = roc_auc_score(y_test, ns_probs)\n",
        "lr_auc = roc_auc_score(y_test, lr_probs)"
      ],
      "metadata": {
        "id": "uowtXawf4IWh"
      },
      "execution_count": null,
      "outputs": []
    },
    {
      "cell_type": "code",
      "source": [
        "#No Skill\n",
        "print(ns_auc)"
      ],
      "metadata": {
        "colab": {
          "base_uri": "https://localhost:8080/"
        },
        "outputId": "43bc4d20-a3ee-4e4b-93c2-e5bf1c862540",
        "id": "47z6-h3m4IWh"
      },
      "execution_count": null,
      "outputs": [
        {
          "output_type": "stream",
          "name": "stdout",
          "text": [
            "0.5\n"
          ]
        }
      ]
    },
    {
      "cell_type": "code",
      "source": [
        "#My Model\n",
        "print(lr_auc)"
      ],
      "metadata": {
        "colab": {
          "base_uri": "https://localhost:8080/"
        },
        "outputId": "24c5146d-c3b8-424d-82a0-4ca4933ff50a",
        "id": "jlXhDpIx4IWi"
      },
      "execution_count": null,
      "outputs": [
        {
          "output_type": "stream",
          "name": "stdout",
          "text": [
            "0.6862370255553634\n"
          ]
        }
      ]
    },
    {
      "cell_type": "code",
      "source": [
        "metrics.plot_confusion_matrix(xgb,X_test,y_test,values_format = 'd')"
      ],
      "metadata": {
        "colab": {
          "base_uri": "https://localhost:8080/",
          "height": 298
        },
        "id": "MN3iz-hq4vQs",
        "outputId": "c77d8ac4-45ed-41bd-be8f-e49e44e47afa"
      },
      "execution_count": null,
      "outputs": [
        {
          "output_type": "execute_result",
          "data": {
            "text/plain": [
              "<sklearn.metrics._plot.confusion_matrix.ConfusionMatrixDisplay at 0x7f282c54e9d0>"
            ]
          },
          "metadata": {},
          "execution_count": 129
        },
        {
          "output_type": "display_data",
          "data": {
            "image/png": "[encoded data removed]",
            "text/plain": [
              "<Figure size 432x288 with 2 Axes>"
            ]
          },
          "metadata": {
            "needs_background": "light"
          }
        }
      ]
    },
    {
      "cell_type": "markdown",
      "source": [
        "KNN,"
      ],
      "metadata": {
        "id": "MPSEKFtm5fOZ"
      }
    },
    {
      "cell_type": "code",
      "source": [
        "from sklearn.neighbors import KNeighborsClassifier\n",
        "knnmodel = KNeighborsClassifier(n_neighbors=5)"
      ],
      "metadata": {
        "id": "QVB6gFqc5gVR"
      },
      "execution_count": null,
      "outputs": []
    },
    {
      "cell_type": "code",
      "source": [
        "knnmodel.fit(X_train,y_train)"
      ],
      "metadata": {
        "colab": {
          "base_uri": "https://localhost:8080/"
        },
        "id": "EaqnI4Dc5krA",
        "outputId": "694f9516-b3f2-45e5-f416-661533a50bc9"
      },
      "execution_count": null,
      "outputs": [
        {
          "output_type": "execute_result",
          "data": {
            "text/plain": [
              "KNeighborsClassifier()"
            ]
          },
          "metadata": {},
          "execution_count": 131
        }
      ]
    },
    {
      "cell_type": "code",
      "source": [
        "# predict probabilities\n",
        "lr_probs = knnmodel.predict_proba(X_test)\n",
        "# keep probabilities for the positive outcome only\n",
        "lr_probs = lr_probs[:, 1]\n",
        "# calculate scores\n",
        "ns_auc = roc_auc_score(y_test, ns_probs)\n",
        "lr_auc = roc_auc_score(y_test, lr_probs)"
      ],
      "metadata": {
        "id": "DZU9qVn45o1x"
      },
      "execution_count": null,
      "outputs": []
    },
    {
      "cell_type": "code",
      "source": [
        "#No Skill\n",
        "print(ns_auc)"
      ],
      "metadata": {
        "colab": {
          "base_uri": "https://localhost:8080/"
        },
        "outputId": "91585c0f-fcf6-4e9f-8161-8e76cbb15c16",
        "id": "hWg5VrU45o1z"
      },
      "execution_count": null,
      "outputs": [
        {
          "output_type": "stream",
          "name": "stdout",
          "text": [
            "0.5\n"
          ]
        }
      ]
    },
    {
      "cell_type": "code",
      "source": [
        "#My Model\n",
        "print(lr_auc)"
      ],
      "metadata": {
        "colab": {
          "base_uri": "https://localhost:8080/"
        },
        "outputId": "189d54d8-31f9-4ad9-8b8f-8ff4f1eeba26",
        "id": "9_FPjKmO5o10"
      },
      "execution_count": null,
      "outputs": [
        {
          "output_type": "stream",
          "name": "stdout",
          "text": [
            "0.5810945079567562\n"
          ]
        }
      ]
    },
    {
      "cell_type": "code",
      "source": [
        "metrics.plot_confusion_matrix(knnmodel,X_test,y_test,values_format = 'd')"
      ],
      "metadata": {
        "colab": {
          "base_uri": "https://localhost:8080/",
          "height": 298
        },
        "outputId": "ac1b6c01-2634-412b-a933-9924a2631e1b",
        "id": "7ruy2EiZ5o11"
      },
      "execution_count": null,
      "outputs": [
        {
          "output_type": "execute_result",
          "data": {
            "text/plain": [
              "<sklearn.metrics._plot.confusion_matrix.ConfusionMatrixDisplay at 0x7f282d2b1d90>"
            ]
          },
          "metadata": {},
          "execution_count": 135
        },
        {
          "output_type": "display_data",
          "data": {
            "image/png": "[encoded data removed]",
            "text/plain": [
              "<Figure size 432x288 with 2 Axes>"
            ]
          },
          "metadata": {
            "needs_background": "light"
          }
        }
      ]
    },
    {
      "cell_type": "markdown",
      "source": [
        "Trying ensemble technique - Voting Classifier,"
      ],
      "metadata": {
        "id": "lBELhNoQSInC"
      }
    },
    {
      "cell_type": "code",
      "source": [
        "from sklearn.ensemble import VotingClassifier"
      ],
      "metadata": {
        "id": "5LjdyiewSKNW"
      },
      "execution_count": null,
      "outputs": []
    },
    {
      "cell_type": "markdown",
      "source": [
        "On comparison of hard voting classifier, and soft voting classifier it was observered that soft voting classifier performed better"
      ],
      "metadata": {
        "id": "PYFzYOQRSYh2"
      }
    },
    {
      "cell_type": "code",
      "source": [
        "# eclf = VotingClassifier(estimators=[('xgb',xgb),('lgbm', lgbclf), ('log', clf), ('lda',LDA)], voting='soft', weights = [1,1,1.25,1.25]) 73.5"
      ],
      "metadata": {
        "id": "ss0pjAg7SO9o"
      },
      "execution_count": null,
      "outputs": []
    },
    {
      "cell_type": "code",
      "source": [
        "# eclf = VotingClassifier(estimators=[('lgbm', lgbclf), ('log', clf))], voting='soft', weights = [1,2]) 74"
      ],
      "metadata": {
        "id": "KxGavnVCVumM"
      },
      "execution_count": null,
      "outputs": []
    },
    {
      "cell_type": "code",
      "source": [
        "# eclf = VotingClassifier(estimators=[('xgb',xgb),('lgbm', lgbclf), ('log', clf), ('lda',LDA)], voting='soft', weights = [2,2,3,2]) 74.5"
      ],
      "metadata": {
        "id": "xCnob2zgXH-e"
      },
      "execution_count": null,
      "outputs": []
    },
    {
      "cell_type": "code",
      "source": [
        "eclf = VotingClassifier(estimators=[('nb',NaiveBayes),('lgbm', lgbclf), ('log', clf), ('lda',LDA)], voting='soft', weights = [1,3,2,2])"
      ],
      "metadata": {
        "id": "Oyt1S6QvY3IR"
      },
      "execution_count": null,
      "outputs": []
    },
    {
      "cell_type": "code",
      "source": [
        "eclf.fit(X_train, y_train)"
      ],
      "metadata": {
        "id": "U849DOOETDjv",
        "colab": {
          "base_uri": "https://localhost:8080/"
        },
        "outputId": "9ecadce6-1181-46a9-94e6-26cc0863d6d5"
      },
      "execution_count": null,
      "outputs": [
        {
          "output_type": "execute_result",
          "data": {
            "text/plain": [
              "VotingClassifier(estimators=[('nb', GaussianNB()),\n",
              "                             ('lgbm',\n",
              "                              LGBMClassifier(objective='binary',\n",
              "                                             random_state=42)),\n",
              "                             ('log', LogisticRegression(random_state=42)),\n",
              "                             ('lda', LinearDiscriminantAnalysis())],\n",
              "                 voting='soft', weights=[1, 3, 2, 2])"
            ]
          },
          "metadata": {},
          "execution_count": 141
        }
      ]
    },
    {
      "cell_type": "code",
      "source": [
        "# predict probabilities\n",
        "lr_probs = eclf.predict_proba(X_test)\n",
        "# keep probabilities for the positive outcome only\n",
        "lr_probs = lr_probs[:, 1]\n",
        "# calculate scores\n",
        "ns_auc = roc_auc_score(y_test, ns_probs)\n",
        "lr_auc = roc_auc_score(y_test, lr_probs)"
      ],
      "metadata": {
        "id": "3leepYkVTDjw"
      },
      "execution_count": null,
      "outputs": []
    },
    {
      "cell_type": "code",
      "source": [
        "#No Skill\n",
        "print(ns_auc)"
      ],
      "metadata": {
        "id": "8ZWovAUfTDjx",
        "colab": {
          "base_uri": "https://localhost:8080/"
        },
        "outputId": "20851cf7-5d1c-4301-8b4f-c9667b1e86c2"
      },
      "execution_count": null,
      "outputs": [
        {
          "output_type": "stream",
          "name": "stdout",
          "text": [
            "0.5\n"
          ]
        }
      ]
    },
    {
      "cell_type": "code",
      "source": [
        "#My Model\n",
        "print(lr_auc)"
      ],
      "metadata": {
        "id": "rngpUOBETDjx",
        "colab": {
          "base_uri": "https://localhost:8080/"
        },
        "outputId": "cd83be09-d8d0-409b-ab19-26c861ef037e"
      },
      "execution_count": null,
      "outputs": [
        {
          "output_type": "stream",
          "name": "stdout",
          "text": [
            "0.7166877077563001\n"
          ]
        }
      ]
    },
    {
      "cell_type": "code",
      "source": [
        "metrics.plot_confusion_matrix(eclf,X_test,y_test,values_format = 'd')"
      ],
      "metadata": {
        "id": "n5CIVeIwTDjy",
        "colab": {
          "base_uri": "https://localhost:8080/",
          "height": 301
        },
        "outputId": "57823ee5-973e-4a75-ee4a-6ae467287d87"
      },
      "execution_count": null,
      "outputs": [
        {
          "output_type": "execute_result",
          "data": {
            "text/plain": [
              "<sklearn.metrics._plot.confusion_matrix.ConfusionMatrixDisplay at 0x7f282d1f14d0>"
            ]
          },
          "metadata": {},
          "execution_count": 145
        },
        {
          "output_type": "display_data",
          "data": {
            "image/png": "[encoded data removed]",
            "text/plain": [
              "<Figure size 432x288 with 2 Axes>"
            ]
          },
          "metadata": {
            "needs_background": "light"
          }
        }
      ]
    },
    {
      "cell_type": "markdown",
      "source": [
        "Cross validation scores,"
      ],
      "metadata": {
        "id": "RbSUDE5I3Nz8"
      }
    },
    {
      "cell_type": "code",
      "source": [
        "# results = []\n",
        "# names = []\n",
        "\n",
        "# for name, model in models:\n",
        "        \n",
        "#         cv_results = cross_val_score(model, X_train, y_train, cv = 10, scoring= \"accuracy\")\n",
        "#         results.append(cv_results)\n",
        "#         names.append(name)\n",
        "#         msg = \"%s: %f (%f)\" % (name, cv_results.mean(), cv_results.std())\n",
        "#         print(msg)"
      ],
      "metadata": {
        "id": "TQm3BbNgyNxl"
      },
      "execution_count": null,
      "outputs": []
    },
    {
      "cell_type": "markdown",
      "source": [
        "Reviewing the Clusters,"
      ],
      "metadata": {
        "id": "9CfH9XYO3Mda"
      }
    },
    {
      "cell_type": "code",
      "source": [
        "# New_df is from the random undersample data (fewer instances)\n",
        "# PCA Implementation\n",
        "t0 = time.time()\n",
        "X_reduced_pca = PCA(n_components=2, random_state=42).fit_transform(X.values)\n",
        "t1 = time.time()\n",
        "print(\"PCA took {:.2} s\".format(t1 - t0))\n",
        "\n",
        "# TruncatedSVD\n",
        "t0 = time.time()\n",
        "X_reduced_svd = TruncatedSVD(n_components=2, algorithm='randomized', random_state=42).fit_transform(X.values)\n",
        "t1 = time.time()\n",
        "print(\"Truncated SVD took {:.2} s\".format(t1 - t0))"
      ],
      "metadata": {
        "id": "u45KUcjb3Pbl",
        "colab": {
          "base_uri": "https://localhost:8080/"
        },
        "outputId": "43c4b4f1-b46f-435a-d4a2-08a63a127d62"
      },
      "execution_count": null,
      "outputs": [
        {
          "output_type": "stream",
          "name": "stdout",
          "text": [
            "PCA took 1.5 s\n",
            "Truncated SVD took 1.8 s\n"
          ]
        }
      ]
    },
    {
      "cell_type": "code",
      "source": [
        "# f, (ax2, ax3) = plt.subplots(1, 2, figsize=(24,6))\n",
        "# # labels = ['No Fraud', 'Fraud']\n",
        "# f.suptitle('Clusters using Dimensionality Reduction', fontsize=14)\n",
        "\n",
        "# blue_patch = mpatches.Patch(color='#0A0AFF', label='Not Cancelled')\n",
        "# red_patch = mpatches.Patch(color='#AF0000', label='Cancelled')\n",
        "\n",
        "# # PCA scatter plot\n",
        "# ax2.scatter(X_reduced_pca[:,0], X_reduced_pca[:,1], c=(y == 0), cmap='coolwarm', label='Not Cancelled', linewidths=2)\n",
        "# ax2.scatter(X_reduced_pca[:,0], X_reduced_pca[:,1], c=(y == 1), cmap='coolwarm', label='Cancelled', linewidths=2)\n",
        "# ax2.set_title('PCA', fontsize=14)\n",
        "\n",
        "# ax2.grid(True)\n",
        "\n",
        "# ax2.legend(handles=[blue_patch, red_patch])\n",
        "\n",
        "# # TruncatedSVD scatter plot\n",
        "# ax3.scatter(X_reduced_svd[:,0], X_reduced_svd[:,1], c=(y == 0), cmap='coolwarm', label='Not Cancelled', linewidths=2)\n",
        "# ax3.scatter(X_reduced_svd[:,0], X_reduced_svd[:,1], c=(y == 1), cmap='coolwarm', label='Cancelled', linewidths=2)\n",
        "# ax3.set_title('Truncated SVD', fontsize=14)\n",
        "\n",
        "# ax3.grid(True)\n",
        "\n",
        "# ax3.legend(handles=[blue_patch, red_patch])\n",
        "\n",
        "# plt.show()"
      ],
      "metadata": {
        "id": "vV88irgH3Pbn"
      },
      "execution_count": null,
      "outputs": []
    },
    {
      "cell_type": "markdown",
      "source": [
        "Working with test data,"
      ],
      "metadata": {
        "id": "alWR7D8zxtLE"
      }
    },
    {
      "cell_type": "markdown",
      "source": [
        "Changing testing data,"
      ],
      "metadata": {
        "id": "2YMlQ2Xr9_9P"
      }
    },
    {
      "cell_type": "code",
      "source": [
        "test.isna().sum()"
      ],
      "metadata": {
        "id": "z2PZdWFg88Dv",
        "colab": {
          "base_uri": "https://localhost:8080/"
        },
        "outputId": "1afce450-6b93-4672-eb12-8669b2306396"
      },
      "execution_count": null,
      "outputs": [
        {
          "output_type": "execute_result",
          "data": {
            "text/plain": [
              "order_time                 0\n",
              "order_id                   0\n",
              "order_date                 0\n",
              "allot_time                 0\n",
              "accept_time               68\n",
              "rider_id                   0\n",
              "first_mile_distance        0\n",
              "last_mile_distance         0\n",
              "alloted_orders          4773\n",
              "delivered_orders        4884\n",
              "undelivered_orders      4884\n",
              "lifetime_order_count     778\n",
              "session_time            5054\n",
              "dtype: int64"
            ]
          },
          "metadata": {},
          "execution_count": 301
        }
      ]
    },
    {
      "cell_type": "code",
      "source": [
        "# test = test[pd.notnull(test['accept_time'])]"
      ],
      "metadata": {
        "id": "20BTOPM86UQn"
      },
      "execution_count": null,
      "outputs": []
    },
    {
      "cell_type": "code",
      "source": [
        "test['order_time'] = pd.to_datetime(test['order_time'])"
      ],
      "metadata": {
        "id": "R_hc-zevCWr8"
      },
      "execution_count": null,
      "outputs": []
    },
    {
      "cell_type": "code",
      "source": [
        "test['order_date'] = pd.to_datetime(test['order_date'])"
      ],
      "metadata": {
        "id": "lRY1993vCWr-"
      },
      "execution_count": null,
      "outputs": []
    },
    {
      "cell_type": "code",
      "source": [
        "test['allot_time'] = pd.to_datetime(test['allot_time'])"
      ],
      "metadata": {
        "id": "5ZI6mOP-CWr_"
      },
      "execution_count": null,
      "outputs": []
    },
    {
      "cell_type": "code",
      "source": [
        "test['accept_time'] = pd.to_datetime(test['accept_time'])"
      ],
      "metadata": {
        "id": "xQ2Wxw7DCWr_"
      },
      "execution_count": null,
      "outputs": []
    },
    {
      "cell_type": "code",
      "source": [
        "test['acc_all_diff'] = test['accept_time'] - test['allot_time']\n",
        "test['acc_ord_diff'] = test['accept_time'] - test['order_time']"
      ],
      "metadata": {
        "id": "Mg41R-CP56s2"
      },
      "execution_count": null,
      "outputs": []
    },
    {
      "cell_type": "code",
      "source": [
        "test['hour'] = test['order_time'].dt.hour"
      ],
      "metadata": {
        "id": "er24S0PQ56s3"
      },
      "execution_count": null,
      "outputs": []
    },
    {
      "cell_type": "code",
      "source": [
        "test['acc_all_diff'] = test['acc_all_diff']/np.timedelta64(1,'s')\n",
        "test['acc_ord_diff'] = test['acc_ord_diff']/np.timedelta64(1,'s')"
      ],
      "metadata": {
        "id": "a_M5myDp56s3"
      },
      "execution_count": null,
      "outputs": []
    },
    {
      "cell_type": "code",
      "source": [
        "b = [0,4,8,12,16,20,24]\n",
        "l = ['Late Night', 'Early Morning','Morning','Noon','Eve','Night']\n",
        "test['session'] = pd.cut(test['hour'], bins=b, labels=l, include_lowest=True)"
      ],
      "metadata": {
        "id": "7Lk73_zP56s4"
      },
      "execution_count": null,
      "outputs": []
    },
    {
      "cell_type": "code",
      "source": [
        "test.head()"
      ],
      "metadata": {
        "id": "3Jz1S7N156s5",
        "colab": {
          "base_uri": "https://localhost:8080/",
          "height": 357
        },
        "outputId": "e27ecd71-b3ba-43c6-b2e8-6bf94b25918e"
      },
      "execution_count": null,
      "outputs": [
        {
          "output_type": "execute_result",
          "data": {
            "text/html": [
              "\n",
              "  <div id=\"df-9782dcb8-9c93-41d6-88dd-208d907a3a11\">\n",
              "    <div class=\"colab-df-container\">\n",
              "      <div>\n",
              "<style scoped>\n",
              "    .dataframe tbody tr th:only-of-type {\n",
              "        vertical-align: middle;\n",
              "    }\n",
              "\n",
              "    .dataframe tbody tr th {\n",
              "        vertical-align: top;\n",
              "    }\n",
              "\n",
              "    .dataframe thead th {\n",
              "        text-align: right;\n",
              "    }\n",
              "</style>\n",
              "<table border=\"1\" class=\"dataframe\">\n",
              "  <thead>\n",
              "    <tr style=\"text-align: right;\">\n",
              "      <th></th>\n",
              "      <th>order_time</th>\n",
              "      <th>order_id</th>\n",
              "      <th>order_date</th>\n",
              "      <th>allot_time</th>\n",
              "      <th>accept_time</th>\n",
              "      <th>rider_id</th>\n",
              "      <th>first_mile_distance</th>\n",
              "      <th>last_mile_distance</th>\n",
              "      <th>alloted_orders</th>\n",
              "      <th>delivered_orders</th>\n",
              "      <th>undelivered_orders</th>\n",
              "      <th>lifetime_order_count</th>\n",
              "      <th>session_time</th>\n",
              "      <th>acc_all_diff</th>\n",
              "      <th>acc_ord_diff</th>\n",
              "      <th>hour</th>\n",
              "      <th>session</th>\n",
              "    </tr>\n",
              "  </thead>\n",
              "  <tbody>\n",
              "    <tr>\n",
              "      <th>0</th>\n",
              "      <td>2021-02-06 10:03:24</td>\n",
              "      <td>130231</td>\n",
              "      <td>2021-02-06</td>\n",
              "      <td>2021-02-06 10:03:49</td>\n",
              "      <td>2021-02-06 10:04:15</td>\n",
              "      <td>12884</td>\n",
              "      <td>1.6585</td>\n",
              "      <td>4.54</td>\n",
              "      <td>216.0</td>\n",
              "      <td>215.0</td>\n",
              "      <td>1.0</td>\n",
              "      <td>747.0</td>\n",
              "      <td>273.400000</td>\n",
              "      <td>26.0</td>\n",
              "      <td>51.0</td>\n",
              "      <td>10</td>\n",
              "      <td>Morning</td>\n",
              "    </tr>\n",
              "    <tr>\n",
              "      <th>1</th>\n",
              "      <td>2021-02-06 10:03:26</td>\n",
              "      <td>130232</td>\n",
              "      <td>2021-02-06</td>\n",
              "      <td>2021-02-06 10:03:27</td>\n",
              "      <td>2021-02-06 10:03:36</td>\n",
              "      <td>3541</td>\n",
              "      <td>2.0709</td>\n",
              "      <td>5.84</td>\n",
              "      <td>52.0</td>\n",
              "      <td>52.0</td>\n",
              "      <td>0.0</td>\n",
              "      <td>75.0</td>\n",
              "      <td>252.100000</td>\n",
              "      <td>9.0</td>\n",
              "      <td>10.0</td>\n",
              "      <td>10</td>\n",
              "      <td>Morning</td>\n",
              "    </tr>\n",
              "    <tr>\n",
              "      <th>2</th>\n",
              "      <td>2021-02-06 10:03:27</td>\n",
              "      <td>130233</td>\n",
              "      <td>2021-02-06</td>\n",
              "      <td>2021-02-06 10:04:14</td>\n",
              "      <td>2021-02-06 10:05:34</td>\n",
              "      <td>603</td>\n",
              "      <td>1.3884</td>\n",
              "      <td>0.99</td>\n",
              "      <td>289.0</td>\n",
              "      <td>289.0</td>\n",
              "      <td>0.0</td>\n",
              "      <td>2214.0</td>\n",
              "      <td>241.383333</td>\n",
              "      <td>80.0</td>\n",
              "      <td>127.0</td>\n",
              "      <td>10</td>\n",
              "      <td>Morning</td>\n",
              "    </tr>\n",
              "    <tr>\n",
              "      <th>3</th>\n",
              "      <td>2021-02-06 10:03:29</td>\n",
              "      <td>130234</td>\n",
              "      <td>2021-02-06</td>\n",
              "      <td>2021-02-06 10:03:30</td>\n",
              "      <td>2021-02-06 10:03:53</td>\n",
              "      <td>3414</td>\n",
              "      <td>1.9039</td>\n",
              "      <td>2.59</td>\n",
              "      <td>125.0</td>\n",
              "      <td>122.0</td>\n",
              "      <td>3.0</td>\n",
              "      <td>1020.0</td>\n",
              "      <td>291.933333</td>\n",
              "      <td>23.0</td>\n",
              "      <td>24.0</td>\n",
              "      <td>10</td>\n",
              "      <td>Morning</td>\n",
              "    </tr>\n",
              "    <tr>\n",
              "      <th>4</th>\n",
              "      <td>2021-02-06 10:03:35</td>\n",
              "      <td>130235</td>\n",
              "      <td>2021-02-06</td>\n",
              "      <td>2021-02-06 10:03:43</td>\n",
              "      <td>2021-02-06 10:04:43</td>\n",
              "      <td>1426</td>\n",
              "      <td>0.8275</td>\n",
              "      <td>0.94</td>\n",
              "      <td>352.0</td>\n",
              "      <td>350.0</td>\n",
              "      <td>2.0</td>\n",
              "      <td>7284.0</td>\n",
              "      <td>247.133333</td>\n",
              "      <td>60.0</td>\n",
              "      <td>68.0</td>\n",
              "      <td>10</td>\n",
              "      <td>Morning</td>\n",
              "    </tr>\n",
              "  </tbody>\n",
              "</table>\n",
              "</div>\n",
              "      <button class=\"colab-df-convert\" onclick=\"convertToInteractive('df-9782dcb8-9c93-41d6-88dd-208d907a3a11')\"\n",
              "              title=\"Convert this dataframe to an interactive table.\"\n",
              "              style=\"display:none;\">\n",
              "        \n",
              "  <svg xmlns=\"http://www.w3.org/2000/svg\" height=\"24px\"viewBox=\"0 0 24 24\"\n",
              "       width=\"24px\">\n",
              "    <path d=\"M0 0h24v24H0V0z\" fill=\"none\"/>\n",
              "    <path d=\"M18.56 5.44l.94 2.06.94-2.06 2.06-.94-2.06-.94-.94-2.06-.94 2.06-2.06.94zm-11 1L8.5 8.5l.94-2.06 2.06-.94-2.06-.94L8.5 2.5l-.94 2.06-2.06.94zm10 10l.94 2.06.94-2.06 2.06-.94-2.06-.94-.94-2.06-.94 2.06-2.06.94z\"/><path d=\"M17.41 7.96l-1.37-1.37c-.4-.4-.92-.59-1.43-.59-.52 0-1.04.2-1.43.59L10.3 9.45l-7.72 7.72c-.78.78-.78 2.05 0 2.83L4 21.41c.39.39.9.59 1.41.59.51 0 1.02-.2 1.41-.59l7.78-7.78 2.81-2.81c.8-.78.8-2.07 0-2.86zM5.41 20L4 18.59l7.72-7.72 1.47 1.35L5.41 20z\"/>\n",
              "  </svg>\n",
              "      </button>\n",
              "      \n",
              "  <style>\n",
              "    .colab-df-container {\n",
              "      display:flex;\n",
              "      flex-wrap:wrap;\n",
              "      gap: 12px;\n",
              "    }\n",
              "\n",
              "    .colab-df-convert {\n",
              "      background-color: #E8F0FE;\n",
              "      border: none;\n",
              "      border-radius: 50%;\n",
              "      cursor: pointer;\n",
              "      display: none;\n",
              "      fill: #1967D2;\n",
              "      height: 32px;\n",
              "      padding: 0 0 0 0;\n",
              "      width: 32px;\n",
              "    }\n",
              "\n",
              "    .colab-df-convert:hover {\n",
              "      background-color: #E2EBFA;\n",
              "      box-shadow: 0px 1px 2px rgba(60, 64, 67, 0.3), 0px 1px 3px 1px rgba(60, 64, 67, 0.15);\n",
              "      fill: #174EA6;\n",
              "    }\n",
              "\n",
              "    [theme=dark] .colab-df-convert {\n",
              "      background-color: #3B4455;\n",
              "      fill: #D2E3FC;\n",
              "    }\n",
              "\n",
              "    [theme=dark] .colab-df-convert:hover {\n",
              "      background-color: #434B5C;\n",
              "      box-shadow: 0px 1px 3px 1px rgba(0, 0, 0, 0.15);\n",
              "      filter: drop-shadow(0px 1px 2px rgba(0, 0, 0, 0.3));\n",
              "      fill: #FFFFFF;\n",
              "    }\n",
              "  </style>\n",
              "\n",
              "      <script>\n",
              "        const buttonEl =\n",
              "          document.querySelector('#df-9782dcb8-9c93-41d6-88dd-208d907a3a11 button.colab-df-convert');\n",
              "        buttonEl.style.display =\n",
              "          google.colab.kernel.accessAllowed ? 'block' : 'none';\n",
              "\n",
              "        async function convertToInteractive(key) {\n",
              "          const element = document.querySelector('#df-9782dcb8-9c93-41d6-88dd-208d907a3a11');\n",
              "          const dataTable =\n",
              "            await google.colab.kernel.invokeFunction('convertToInteractive',\n",
              "                                                     [key], {});\n",
              "          if (!dataTable) return;\n",
              "\n",
              "          const docLinkHtml = 'Like what you see? Visit the ' +\n",
              "            '<a target=\"_blank\" href=https://colab.research.google.com/notebooks/data_table.ipynb>data table notebook</a>'\n",
              "            + ' to learn more about interactive tables.';\n",
              "          element.innerHTML = '';\n",
              "          dataTable['output_type'] = 'display_data';\n",
              "          await google.colab.output.renderOutput(dataTable, element);\n",
              "          const docLink = document.createElement('div');\n",
              "          docLink.innerHTML = docLinkHtml;\n",
              "          element.appendChild(docLink);\n",
              "        }\n",
              "      </script>\n",
              "    </div>\n",
              "  </div>\n",
              "  "
            ],
            "text/plain": [
              "           order_time  order_id order_date  ... acc_ord_diff hour  session\n",
              "0 2021-02-06 10:03:24    130231 2021-02-06  ...         51.0   10  Morning\n",
              "1 2021-02-06 10:03:26    130232 2021-02-06  ...         10.0   10  Morning\n",
              "2 2021-02-06 10:03:27    130233 2021-02-06  ...        127.0   10  Morning\n",
              "3 2021-02-06 10:03:29    130234 2021-02-06  ...         24.0   10  Morning\n",
              "4 2021-02-06 10:03:35    130235 2021-02-06  ...         68.0   10  Morning\n",
              "\n",
              "[5 rows x 17 columns]"
            ]
          },
          "metadata": {},
          "execution_count": 310
        }
      ]
    },
    {
      "cell_type": "code",
      "source": [
        "test['day_of_week'] = test['order_date'].dt.dayofweek"
      ],
      "metadata": {
        "id": "B6APC3SV56s6"
      },
      "execution_count": null,
      "outputs": []
    },
    {
      "cell_type": "code",
      "source": [
        "cols = list(test.columns)\n",
        "cols"
      ],
      "metadata": {
        "id": "ye3yBh7_56s6",
        "colab": {
          "base_uri": "https://localhost:8080/"
        },
        "outputId": "79de7752-9bcc-4631-822f-9e78a3d147eb"
      },
      "execution_count": null,
      "outputs": [
        {
          "output_type": "execute_result",
          "data": {
            "text/plain": [
              "['order_time',\n",
              " 'order_id',\n",
              " 'order_date',\n",
              " 'allot_time',\n",
              " 'accept_time',\n",
              " 'rider_id',\n",
              " 'first_mile_distance',\n",
              " 'last_mile_distance',\n",
              " 'alloted_orders',\n",
              " 'delivered_orders',\n",
              " 'undelivered_orders',\n",
              " 'lifetime_order_count',\n",
              " 'session_time',\n",
              " 'acc_all_diff',\n",
              " 'acc_ord_diff',\n",
              " 'hour',\n",
              " 'session',\n",
              " 'day_of_week']"
            ]
          },
          "metadata": {},
          "execution_count": 312
        }
      ]
    },
    {
      "cell_type": "markdown",
      "source": [
        "Rearranging columns, removing allot_time, accept_time, and hours"
      ],
      "metadata": {
        "id": "DHihAEgp56s7"
      }
    },
    {
      "cell_type": "code",
      "source": [
        "cols = [ \n",
        " 'order_id',\n",
        " 'acc_all_diff',\n",
        " 'acc_ord_diff',\n",
        " 'hour',\n",
        " 'session',\n",
        " 'day_of_week',\n",
        " 'rider_id',\n",
        " 'first_mile_distance',\n",
        " 'last_mile_distance',\n",
        " 'alloted_orders',\n",
        " 'delivered_orders',\n",
        " 'undelivered_orders',\n",
        " 'lifetime_order_count',\n",
        " 'session_time',\n",
        "]"
      ],
      "metadata": {
        "id": "BvBTTlZn56s8"
      },
      "execution_count": null,
      "outputs": []
    },
    {
      "cell_type": "code",
      "source": [
        "test = test[cols]"
      ],
      "metadata": {
        "id": "eYCN4_IW56s8"
      },
      "execution_count": null,
      "outputs": []
    },
    {
      "cell_type": "code",
      "source": [
        "test.head(2)"
      ],
      "metadata": {
        "id": "ouKBMZIa56s8",
        "colab": {
          "base_uri": "https://localhost:8080/",
          "height": 211
        },
        "outputId": "e7d53332-6d3a-4b25-e7c5-b7d44b6bf954"
      },
      "execution_count": null,
      "outputs": [
        {
          "output_type": "execute_result",
          "data": {
            "text/html": [
              "\n",
              "  <div id=\"df-e1c17ff8-5964-4186-9e84-b0121a5714ce\">\n",
              "    <div class=\"colab-df-container\">\n",
              "      <div>\n",
              "<style scoped>\n",
              "    .dataframe tbody tr th:only-of-type {\n",
              "        vertical-align: middle;\n",
              "    }\n",
              "\n",
              "    .dataframe tbody tr th {\n",
              "        vertical-align: top;\n",
              "    }\n",
              "\n",
              "    .dataframe thead th {\n",
              "        text-align: right;\n",
              "    }\n",
              "</style>\n",
              "<table border=\"1\" class=\"dataframe\">\n",
              "  <thead>\n",
              "    <tr style=\"text-align: right;\">\n",
              "      <th></th>\n",
              "      <th>order_time</th>\n",
              "      <th>order_id</th>\n",
              "      <th>order_date</th>\n",
              "      <th>allot_time</th>\n",
              "      <th>accept_time</th>\n",
              "      <th>rider_id</th>\n",
              "      <th>first_mile_distance</th>\n",
              "      <th>last_mile_distance</th>\n",
              "      <th>reassignment_method</th>\n",
              "      <th>reassignment_reason</th>\n",
              "      <th>reassigned_order</th>\n",
              "      <th>acc_all_diff</th>\n",
              "      <th>acc_ord_diff</th>\n",
              "      <th>hour</th>\n",
              "      <th>session</th>\n",
              "      <th>day_of_week</th>\n",
              "    </tr>\n",
              "  </thead>\n",
              "  <tbody>\n",
              "    <tr>\n",
              "      <th>0</th>\n",
              "      <td>2021-02-06 10:03:24</td>\n",
              "      <td>130231</td>\n",
              "      <td>2021-02-06</td>\n",
              "      <td>2021-02-06 10:03:49</td>\n",
              "      <td>2021-02-06 10:04:15</td>\n",
              "      <td>12884</td>\n",
              "      <td>1.6585</td>\n",
              "      <td>4.54</td>\n",
              "      <td>NaN</td>\n",
              "      <td>NaN</td>\n",
              "      <td>NaN</td>\n",
              "      <td>26.0</td>\n",
              "      <td>51.0</td>\n",
              "      <td>10</td>\n",
              "      <td>Morning</td>\n",
              "      <td>5</td>\n",
              "    </tr>\n",
              "    <tr>\n",
              "      <th>1</th>\n",
              "      <td>2021-02-06 10:03:26</td>\n",
              "      <td>130232</td>\n",
              "      <td>2021-02-06</td>\n",
              "      <td>2021-02-06 10:03:27</td>\n",
              "      <td>2021-02-06 10:03:36</td>\n",
              "      <td>3541</td>\n",
              "      <td>2.0709</td>\n",
              "      <td>5.84</td>\n",
              "      <td>NaN</td>\n",
              "      <td>NaN</td>\n",
              "      <td>NaN</td>\n",
              "      <td>9.0</td>\n",
              "      <td>10.0</td>\n",
              "      <td>10</td>\n",
              "      <td>Morning</td>\n",
              "      <td>5</td>\n",
              "    </tr>\n",
              "  </tbody>\n",
              "</table>\n",
              "</div>\n",
              "      <button class=\"colab-df-convert\" onclick=\"convertToInteractive('df-e1c17ff8-5964-4186-9e84-b0121a5714ce')\"\n",
              "              title=\"Convert this dataframe to an interactive table.\"\n",
              "              style=\"display:none;\">\n",
              "        \n",
              "  <svg xmlns=\"http://www.w3.org/2000/svg\" height=\"24px\"viewBox=\"0 0 24 24\"\n",
              "       width=\"24px\">\n",
              "    <path d=\"M0 0h24v24H0V0z\" fill=\"none\"/>\n",
              "    <path d=\"M18.56 5.44l.94 2.06.94-2.06 2.06-.94-2.06-.94-.94-2.06-.94 2.06-2.06.94zm-11 1L8.5 8.5l.94-2.06 2.06-.94-2.06-.94L8.5 2.5l-.94 2.06-2.06.94zm10 10l.94 2.06.94-2.06 2.06-.94-2.06-.94-.94-2.06-.94 2.06-2.06.94z\"/><path d=\"M17.41 7.96l-1.37-1.37c-.4-.4-.92-.59-1.43-.59-.52 0-1.04.2-1.43.59L10.3 9.45l-7.72 7.72c-.78.78-.78 2.05 0 2.83L4 21.41c.39.39.9.59 1.41.59.51 0 1.02-.2 1.41-.59l7.78-7.78 2.81-2.81c.8-.78.8-2.07 0-2.86zM5.41 20L4 18.59l7.72-7.72 1.47 1.35L5.41 20z\"/>\n",
              "  </svg>\n",
              "      </button>\n",
              "      \n",
              "  <style>\n",
              "    .colab-df-container {\n",
              "      display:flex;\n",
              "      flex-wrap:wrap;\n",
              "      gap: 12px;\n",
              "    }\n",
              "\n",
              "    .colab-df-convert {\n",
              "      background-color: #E8F0FE;\n",
              "      border: none;\n",
              "      border-radius: 50%;\n",
              "      cursor: pointer;\n",
              "      display: none;\n",
              "      fill: #1967D2;\n",
              "      height: 32px;\n",
              "      padding: 0 0 0 0;\n",
              "      width: 32px;\n",
              "    }\n",
              "\n",
              "    .colab-df-convert:hover {\n",
              "      background-color: #E2EBFA;\n",
              "      box-shadow: 0px 1px 2px rgba(60, 64, 67, 0.3), 0px 1px 3px 1px rgba(60, 64, 67, 0.15);\n",
              "      fill: #174EA6;\n",
              "    }\n",
              "\n",
              "    [theme=dark] .colab-df-convert {\n",
              "      background-color: #3B4455;\n",
              "      fill: #D2E3FC;\n",
              "    }\n",
              "\n",
              "    [theme=dark] .colab-df-convert:hover {\n",
              "      background-color: #434B5C;\n",
              "      box-shadow: 0px 1px 3px 1px rgba(0, 0, 0, 0.15);\n",
              "      filter: drop-shadow(0px 1px 2px rgba(0, 0, 0, 0.3));\n",
              "      fill: #FFFFFF;\n",
              "    }\n",
              "  </style>\n",
              "\n",
              "      <script>\n",
              "        const buttonEl =\n",
              "          document.querySelector('#df-e1c17ff8-5964-4186-9e84-b0121a5714ce button.colab-df-convert');\n",
              "        buttonEl.style.display =\n",
              "          google.colab.kernel.accessAllowed ? 'block' : 'none';\n",
              "\n",
              "        async function convertToInteractive(key) {\n",
              "          const element = document.querySelector('#df-e1c17ff8-5964-4186-9e84-b0121a5714ce');\n",
              "          const dataTable =\n",
              "            await google.colab.kernel.invokeFunction('convertToInteractive',\n",
              "                                                     [key], {});\n",
              "          if (!dataTable) return;\n",
              "\n",
              "          const docLinkHtml = 'Like what you see? Visit the ' +\n",
              "            '<a target=\"_blank\" href=https://colab.research.google.com/notebooks/data_table.ipynb>data table notebook</a>'\n",
              "            + ' to learn more about interactive tables.';\n",
              "          element.innerHTML = '';\n",
              "          dataTable['output_type'] = 'display_data';\n",
              "          await google.colab.output.renderOutput(dataTable, element);\n",
              "          const docLink = document.createElement('div');\n",
              "          docLink.innerHTML = docLinkHtml;\n",
              "          element.appendChild(docLink);\n",
              "        }\n",
              "      </script>\n",
              "    </div>\n",
              "  </div>\n",
              "  "
            ],
            "text/plain": [
              "           order_time  order_id order_date  ... hour  session  day_of_week\n",
              "0 2021-02-06 10:03:24    130231 2021-02-06  ...   10  Morning            5\n",
              "1 2021-02-06 10:03:26    130232 2021-02-06  ...   10  Morning            5\n",
              "\n",
              "[2 rows x 16 columns]"
            ]
          },
          "metadata": {},
          "execution_count": 297
        }
      ]
    },
    {
      "cell_type": "code",
      "source": [
        "test.isna().sum()"
      ],
      "metadata": {
        "id": "tZqRYqH656s9",
        "colab": {
          "base_uri": "https://localhost:8080/"
        },
        "outputId": "52f99f19-1e06-4010-9edb-b19f8c58563b"
      },
      "execution_count": null,
      "outputs": [
        {
          "output_type": "execute_result",
          "data": {
            "text/plain": [
              "order_id                   0\n",
              "acc_all_diff              68\n",
              "acc_ord_diff              68\n",
              "hour                       0\n",
              "session                    0\n",
              "day_of_week                0\n",
              "rider_id                   0\n",
              "first_mile_distance        0\n",
              "last_mile_distance         0\n",
              "alloted_orders          4773\n",
              "delivered_orders        4884\n",
              "undelivered_orders      4884\n",
              "lifetime_order_count     778\n",
              "session_time            5054\n",
              "dtype: int64"
            ]
          },
          "metadata": {},
          "execution_count": 165
        }
      ]
    },
    {
      "cell_type": "code",
      "source": [
        "test['acc_all_diff'] = test['acc_all_diff'].fillna(0)\n",
        "test['acc_ord_diff'] = test['acc_ord_diff'].fillna(0)"
      ],
      "metadata": {
        "id": "M4LPqWtTE_lA"
      },
      "execution_count": null,
      "outputs": []
    },
    {
      "cell_type": "code",
      "source": [
        "test['session'],_ = pd.factorize(test['session'])"
      ],
      "metadata": {
        "id": "HRSN5b4iEU1E"
      },
      "execution_count": null,
      "outputs": []
    },
    {
      "cell_type": "code",
      "source": [
        "test = test[cols]"
      ],
      "metadata": {
        "id": "l0w5pZuxCWsC"
      },
      "execution_count": null,
      "outputs": []
    },
    {
      "cell_type": "code",
      "source": [
        "test2 = test[cols]"
      ],
      "metadata": {
        "id": "3_9I9eUk_76W"
      },
      "execution_count": null,
      "outputs": []
    },
    {
      "cell_type": "code",
      "source": [
        "print(set(test.columns)-set(X.columns))"
      ],
      "metadata": {
        "id": "SW-8wEbaAcqB",
        "colab": {
          "base_uri": "https://localhost:8080/"
        },
        "outputId": "5271ed12-6650-4c10-e928-866f37847de2"
      },
      "execution_count": null,
      "outputs": [
        {
          "output_type": "stream",
          "name": "stdout",
          "text": [
            "set()\n"
          ]
        }
      ]
    },
    {
      "cell_type": "code",
      "source": [
        "# test = test.reindex(columns=test.columns)\n",
        "# X = X.reindex(columns=X.columns)"
      ],
      "metadata": {
        "id": "4gYSc2g1Atsj"
      },
      "execution_count": null,
      "outputs": []
    },
    {
      "cell_type": "code",
      "source": [
        "test2 = pd.concat([X, test[cols]], ignore_index=True)"
      ],
      "metadata": {
        "id": "lMxL85VzIO1p"
      },
      "execution_count": null,
      "outputs": []
    },
    {
      "cell_type": "code",
      "source": [
        "test2.isna().sum()"
      ],
      "metadata": {
        "id": "TJNB6ha5BO9k",
        "colab": {
          "base_uri": "https://localhost:8080/"
        },
        "outputId": "c0a86f90-7377-4ed7-ea71-f1558461ad65"
      },
      "execution_count": null,
      "outputs": [
        {
          "output_type": "execute_result",
          "data": {
            "text/plain": [
              "order_id                   0\n",
              "acc_all_diff               0\n",
              "acc_ord_diff               0\n",
              "hour                       0\n",
              "session                    0\n",
              "day_of_week                0\n",
              "rider_id                   0\n",
              "first_mile_distance        0\n",
              "last_mile_distance         0\n",
              "alloted_orders          4773\n",
              "delivered_orders        4884\n",
              "undelivered_orders      4884\n",
              "lifetime_order_count     778\n",
              "session_time            5054\n",
              "dtype: int64"
            ]
          },
          "metadata": {},
          "execution_count": 173
        }
      ]
    },
    {
      "cell_type": "code",
      "source": [
        "test2.shape"
      ],
      "metadata": {
        "colab": {
          "base_uri": "https://localhost:8080/"
        },
        "id": "_gPtINdaXxJH",
        "outputId": "dd0359d8-9fdd-4089-e4f7-433b9893e2a7"
      },
      "execution_count": null,
      "outputs": [
        {
          "output_type": "execute_result",
          "data": {
            "text/plain": [
              "(594645, 19)"
            ]
          },
          "metadata": {},
          "execution_count": 224
        }
      ]
    },
    {
      "cell_type": "code",
      "source": [
        "cols = ['lifetime_order_count','alloted_orders','delivered_orders','undelivered_orders','session_time']"
      ],
      "metadata": {
        "id": "pkSQMcd1IJBb"
      },
      "execution_count": null,
      "outputs": []
    },
    {
      "cell_type": "markdown",
      "source": [
        "Random imputation,"
      ],
      "metadata": {
        "id": "bqoIOF3jTNqP"
      }
    },
    {
      "cell_type": "code",
      "source": [
        "def random_imputation(df, feature):\n",
        "\n",
        "    number_missing = df[feature].isnull().sum()\n",
        "    observed_values = df.loc[df[feature].notnull(), feature]\n",
        "    df.loc[df[feature].isnull(), feature + '_imp'] = np.random.choice(observed_values, number_missing, replace = True)\n",
        "    \n",
        "    return df"
      ],
      "metadata": {
        "id": "Wa1FW9x3IJBe"
      },
      "execution_count": null,
      "outputs": []
    },
    {
      "cell_type": "code",
      "source": [
        "for feature in cols:\n",
        "    test2[feature + '_imp'] = test2[feature]\n",
        "    test2 = random_imputation(test2, feature)"
      ],
      "metadata": {
        "id": "p7cH_hctIJBf"
      },
      "execution_count": null,
      "outputs": []
    },
    {
      "cell_type": "code",
      "source": [
        "from sklearn import linear_model"
      ],
      "metadata": {
        "id": "h2xHq9IbIJBg"
      },
      "execution_count": null,
      "outputs": []
    },
    {
      "cell_type": "markdown",
      "source": [
        "Stochastic Regression Imputation,"
      ],
      "metadata": {
        "id": "tgBKZQ_8TQ_r"
      }
    },
    {
      "cell_type": "code",
      "source": [
        "random_test = pd.DataFrame(columns = [\"Ran\" + name for name in cols])\n",
        "\n",
        "for feature in cols:\n",
        "        \n",
        "    random_test[\"Ran\" + feature] = test2[feature + '_imp']\n",
        "    parameters = list(set(test2.columns) - set(cols) - {feature + '_imp'})\n",
        "    \n",
        "    model = linear_model.LinearRegression()\n",
        "    model.fit(X = test2[parameters], y = test2[feature + '_imp'])\n",
        "    \n",
        "    #Standard Error of the regression estimates is equal to std() of the errors of each estimates\n",
        "    predict = model.predict(test2[parameters])\n",
        "    std_error = (predict[test2[feature].notnull()] - test2.loc[test2[feature].notnull(), feature + '_imp']).std()\n",
        "    \n",
        "    #observe that I preserve the index of the missing data from the original dataframe\n",
        "    random_predict = np.random.normal(size = test2[feature].shape[0], \n",
        "                                      loc = predict, \n",
        "                                      scale = std_error)\n",
        "    random_test.loc[(test2[feature].isnull()) & (random_predict > 0), \"Ran\" + feature] = random_predict[(test2[feature].isnull()) & \n",
        "                                                                            (random_predict > 0)]"
      ],
      "metadata": {
        "id": "6yto7ZKhIJBh"
      },
      "execution_count": null,
      "outputs": []
    },
    {
      "cell_type": "code",
      "source": [
        "random_test = random_test.iloc[449801:,:]"
      ],
      "metadata": {
        "id": "aWzfhq5sC8eO"
      },
      "execution_count": null,
      "outputs": []
    },
    {
      "cell_type": "code",
      "source": [
        "random_test['order_id'] = test2.loc[X.shape[0]:,'order_id'] "
      ],
      "metadata": {
        "id": "CwwW6t-8Yk2Q"
      },
      "execution_count": null,
      "outputs": []
    },
    {
      "cell_type": "code",
      "source": [
        "random_test['order_id'] = random_test['order_id'].astype(np.int64)"
      ],
      "metadata": {
        "id": "Dp47rCDDZSZu"
      },
      "execution_count": null,
      "outputs": []
    },
    {
      "cell_type": "code",
      "source": [
        "random_test.shape"
      ],
      "metadata": {
        "colab": {
          "base_uri": "https://localhost:8080/"
        },
        "id": "Og9FgK1tYOkk",
        "outputId": "4a9c412e-37b0-4ab2-f84f-d56d7ff5ba62"
      },
      "execution_count": null,
      "outputs": [
        {
          "output_type": "execute_result",
          "data": {
            "text/plain": [
              "(144844, 6)"
            ]
          },
          "metadata": {},
          "execution_count": 264
        }
      ]
    },
    {
      "cell_type": "code",
      "source": [
        "random_test['order_id'] = test['order_id'].values"
      ],
      "metadata": {
        "id": "cDpPT1bjIJBi"
      },
      "execution_count": null,
      "outputs": []
    },
    {
      "cell_type": "code",
      "source": [
        "# test['order_id']"
      ],
      "metadata": {
        "colab": {
          "base_uri": "https://localhost:8080/"
        },
        "id": "cJeslsh9a8Lk",
        "outputId": "7747108e-c73d-42ec-8032-e33b5c50fdf8"
      },
      "execution_count": null,
      "outputs": [
        {
          "output_type": "execute_result",
          "data": {
            "text/plain": [
              "0         130231\n",
              "1         130232\n",
              "2         130233\n",
              "3         130234\n",
              "4         130235\n",
              "           ...  \n",
              "144839     41184\n",
              "144840     41185\n",
              "144841     41186\n",
              "144842     41187\n",
              "144843     41188\n",
              "Name: order_id, Length: 144844, dtype: int64"
            ]
          },
          "metadata": {},
          "execution_count": 316
        }
      ]
    },
    {
      "cell_type": "code",
      "source": [
        "random_test.head()"
      ],
      "metadata": {
        "id": "KKV1pXl2DUMV",
        "colab": {
          "base_uri": "https://localhost:8080/",
          "height": 206
        },
        "outputId": "4b76998c-a35a-4b59-de5c-12eeca51c66e"
      },
      "execution_count": null,
      "outputs": [
        {
          "output_type": "execute_result",
          "data": {
            "text/html": [
              "\n",
              "  <div id=\"df-2b89137e-d550-49ed-9d6a-235b5b0eb8dd\">\n",
              "    <div class=\"colab-df-container\">\n",
              "      <div>\n",
              "<style scoped>\n",
              "    .dataframe tbody tr th:only-of-type {\n",
              "        vertical-align: middle;\n",
              "    }\n",
              "\n",
              "    .dataframe tbody tr th {\n",
              "        vertical-align: top;\n",
              "    }\n",
              "\n",
              "    .dataframe thead th {\n",
              "        text-align: right;\n",
              "    }\n",
              "</style>\n",
              "<table border=\"1\" class=\"dataframe\">\n",
              "  <thead>\n",
              "    <tr style=\"text-align: right;\">\n",
              "      <th></th>\n",
              "      <th>Ranlifetime_order_count</th>\n",
              "      <th>Ranalloted_orders</th>\n",
              "      <th>Randelivered_orders</th>\n",
              "      <th>Ranundelivered_orders</th>\n",
              "      <th>Ransession_time</th>\n",
              "      <th>order_id</th>\n",
              "    </tr>\n",
              "  </thead>\n",
              "  <tbody>\n",
              "    <tr>\n",
              "      <th>449801</th>\n",
              "      <td>747.0</td>\n",
              "      <td>216.0</td>\n",
              "      <td>215.0</td>\n",
              "      <td>1.0</td>\n",
              "      <td>273.400000</td>\n",
              "      <td>130231</td>\n",
              "    </tr>\n",
              "    <tr>\n",
              "      <th>449802</th>\n",
              "      <td>75.0</td>\n",
              "      <td>52.0</td>\n",
              "      <td>52.0</td>\n",
              "      <td>0.0</td>\n",
              "      <td>252.100000</td>\n",
              "      <td>130232</td>\n",
              "    </tr>\n",
              "    <tr>\n",
              "      <th>449803</th>\n",
              "      <td>2214.0</td>\n",
              "      <td>289.0</td>\n",
              "      <td>289.0</td>\n",
              "      <td>0.0</td>\n",
              "      <td>241.383333</td>\n",
              "      <td>130233</td>\n",
              "    </tr>\n",
              "    <tr>\n",
              "      <th>449804</th>\n",
              "      <td>1020.0</td>\n",
              "      <td>125.0</td>\n",
              "      <td>122.0</td>\n",
              "      <td>3.0</td>\n",
              "      <td>291.933333</td>\n",
              "      <td>130234</td>\n",
              "    </tr>\n",
              "    <tr>\n",
              "      <th>449805</th>\n",
              "      <td>7284.0</td>\n",
              "      <td>352.0</td>\n",
              "      <td>350.0</td>\n",
              "      <td>2.0</td>\n",
              "      <td>247.133333</td>\n",
              "      <td>130235</td>\n",
              "    </tr>\n",
              "  </tbody>\n",
              "</table>\n",
              "</div>\n",
              "      <button class=\"colab-df-convert\" onclick=\"convertToInteractive('df-2b89137e-d550-49ed-9d6a-235b5b0eb8dd')\"\n",
              "              title=\"Convert this dataframe to an interactive table.\"\n",
              "              style=\"display:none;\">\n",
              "        \n",
              "  <svg xmlns=\"http://www.w3.org/2000/svg\" height=\"24px\"viewBox=\"0 0 24 24\"\n",
              "       width=\"24px\">\n",
              "    <path d=\"M0 0h24v24H0V0z\" fill=\"none\"/>\n",
              "    <path d=\"M18.56 5.44l.94 2.06.94-2.06 2.06-.94-2.06-.94-.94-2.06-.94 2.06-2.06.94zm-11 1L8.5 8.5l.94-2.06 2.06-.94-2.06-.94L8.5 2.5l-.94 2.06-2.06.94zm10 10l.94 2.06.94-2.06 2.06-.94-2.06-.94-.94-2.06-.94 2.06-2.06.94z\"/><path d=\"M17.41 7.96l-1.37-1.37c-.4-.4-.92-.59-1.43-.59-.52 0-1.04.2-1.43.59L10.3 9.45l-7.72 7.72c-.78.78-.78 2.05 0 2.83L4 21.41c.39.39.9.59 1.41.59.51 0 1.02-.2 1.41-.59l7.78-7.78 2.81-2.81c.8-.78.8-2.07 0-2.86zM5.41 20L4 18.59l7.72-7.72 1.47 1.35L5.41 20z\"/>\n",
              "  </svg>\n",
              "      </button>\n",
              "      \n",
              "  <style>\n",
              "    .colab-df-container {\n",
              "      display:flex;\n",
              "      flex-wrap:wrap;\n",
              "      gap: 12px;\n",
              "    }\n",
              "\n",
              "    .colab-df-convert {\n",
              "      background-color: #E8F0FE;\n",
              "      border: none;\n",
              "      border-radius: 50%;\n",
              "      cursor: pointer;\n",
              "      display: none;\n",
              "      fill: #1967D2;\n",
              "      height: 32px;\n",
              "      padding: 0 0 0 0;\n",
              "      width: 32px;\n",
              "    }\n",
              "\n",
              "    .colab-df-convert:hover {\n",
              "      background-color: #E2EBFA;\n",
              "      box-shadow: 0px 1px 2px rgba(60, 64, 67, 0.3), 0px 1px 3px 1px rgba(60, 64, 67, 0.15);\n",
              "      fill: #174EA6;\n",
              "    }\n",
              "\n",
              "    [theme=dark] .colab-df-convert {\n",
              "      background-color: #3B4455;\n",
              "      fill: #D2E3FC;\n",
              "    }\n",
              "\n",
              "    [theme=dark] .colab-df-convert:hover {\n",
              "      background-color: #434B5C;\n",
              "      box-shadow: 0px 1px 3px 1px rgba(0, 0, 0, 0.15);\n",
              "      filter: drop-shadow(0px 1px 2px rgba(0, 0, 0, 0.3));\n",
              "      fill: #FFFFFF;\n",
              "    }\n",
              "  </style>\n",
              "\n",
              "      <script>\n",
              "        const buttonEl =\n",
              "          document.querySelector('#df-2b89137e-d550-49ed-9d6a-235b5b0eb8dd button.colab-df-convert');\n",
              "        buttonEl.style.display =\n",
              "          google.colab.kernel.accessAllowed ? 'block' : 'none';\n",
              "\n",
              "        async function convertToInteractive(key) {\n",
              "          const element = document.querySelector('#df-2b89137e-d550-49ed-9d6a-235b5b0eb8dd');\n",
              "          const dataTable =\n",
              "            await google.colab.kernel.invokeFunction('convertToInteractive',\n",
              "                                                     [key], {});\n",
              "          if (!dataTable) return;\n",
              "\n",
              "          const docLinkHtml = 'Like what you see? Visit the ' +\n",
              "            '<a target=\"_blank\" href=https://colab.research.google.com/notebooks/data_table.ipynb>data table notebook</a>'\n",
              "            + ' to learn more about interactive tables.';\n",
              "          element.innerHTML = '';\n",
              "          dataTable['output_type'] = 'display_data';\n",
              "          await google.colab.output.renderOutput(dataTable, element);\n",
              "          const docLink = document.createElement('div');\n",
              "          docLink.innerHTML = docLinkHtml;\n",
              "          element.appendChild(docLink);\n",
              "        }\n",
              "      </script>\n",
              "    </div>\n",
              "  </div>\n",
              "  "
            ],
            "text/plain": [
              "        Ranlifetime_order_count  Ranalloted_orders  ...  Ransession_time  order_id\n",
              "449801                    747.0              216.0  ...       273.400000    130231\n",
              "449802                     75.0               52.0  ...       252.100000    130232\n",
              "449803                   2214.0              289.0  ...       241.383333    130233\n",
              "449804                   1020.0              125.0  ...       291.933333    130234\n",
              "449805                   7284.0              352.0  ...       247.133333    130235\n",
              "\n",
              "[5 rows x 6 columns]"
            ]
          },
          "metadata": {},
          "execution_count": 317
        }
      ]
    },
    {
      "cell_type": "code",
      "source": [
        "X.shape"
      ],
      "metadata": {
        "colab": {
          "base_uri": "https://localhost:8080/"
        },
        "id": "7GsqjaBmXjZQ",
        "outputId": "26ed1c17-57fe-49c7-e10e-b2eead018e06"
      },
      "execution_count": null,
      "outputs": [
        {
          "output_type": "execute_result",
          "data": {
            "text/plain": [
              "(449801, 12)"
            ]
          },
          "metadata": {},
          "execution_count": 318
        }
      ]
    },
    {
      "cell_type": "code",
      "source": [
        "random_test.isna().sum()"
      ],
      "metadata": {
        "id": "-FycnsMaCxB-",
        "colab": {
          "base_uri": "https://localhost:8080/"
        },
        "outputId": "dd7a9626-6197-4d96-80f9-65c04f3aa807"
      },
      "execution_count": null,
      "outputs": [
        {
          "output_type": "execute_result",
          "data": {
            "text/plain": [
              "Ranlifetime_order_count    0\n",
              "Ranalloted_orders          0\n",
              "Randelivered_orders        0\n",
              "Ranundelivered_orders      0\n",
              "Ransession_time            0\n",
              "order_id                   0\n",
              "dtype: int64"
            ]
          },
          "metadata": {},
          "execution_count": 319
        }
      ]
    },
    {
      "cell_type": "code",
      "source": [
        "test.isna().sum()"
      ],
      "metadata": {
        "id": "jWBpHri1Cd32",
        "colab": {
          "base_uri": "https://localhost:8080/"
        },
        "outputId": "b9a8817d-f277-4782-fd50-b68242b70fcf"
      },
      "execution_count": null,
      "outputs": [
        {
          "output_type": "execute_result",
          "data": {
            "text/plain": [
              "order_id                0\n",
              "acc_all_diff            0\n",
              "acc_ord_diff            0\n",
              "session                 0\n",
              "day_of_week             0\n",
              "rider_id                0\n",
              "first_mile_distance     0\n",
              "last_mile_distance      0\n",
              "delivered_orders        0\n",
              "undelivered_orders      0\n",
              "lifetime_order_count    0\n",
              "session_time            0\n",
              "dtype: int64"
            ]
          },
          "metadata": {},
          "execution_count": 337
        }
      ]
    },
    {
      "cell_type": "code",
      "source": [
        "test = test.replace(np.nan, 0)"
      ],
      "metadata": {
        "id": "wyMsVCZTcvVl"
      },
      "execution_count": null,
      "outputs": []
    },
    {
      "cell_type": "code",
      "source": [
        "# random_test.loc[random_data['Ranseconds_diff'] <= 0, 'Ranseconds_diff'] = 0"
      ],
      "metadata": {
        "id": "WvieQoLZIJBj"
      },
      "execution_count": null,
      "outputs": []
    },
    {
      "cell_type": "code",
      "source": [
        "test.loc[test.order_id.isin(random_test.order_id), ['lifetime_order_count','alloted_orders','delivered_orders','undelivered_orders','session_time']] = random_test[['Ranlifetime_order_count','Ranalloted_orders','Randelivered_orders','Ranundelivered_orders','Ransession_time']].values"
      ],
      "metadata": {
        "id": "HVZcrYrUIJBj"
      },
      "execution_count": null,
      "outputs": []
    },
    {
      "cell_type": "markdown",
      "source": [
        "Validation,"
      ],
      "metadata": {
        "id": "_wYBFPEpC6XL"
      }
    },
    {
      "cell_type": "code",
      "source": [
        "data.head()"
      ],
      "metadata": {
        "id": "JVPpDG6oDWu2",
        "colab": {
          "base_uri": "https://localhost:8080/",
          "height": 270
        },
        "outputId": "2507461d-ec18-4eb3-d73d-1c292db43508"
      },
      "execution_count": null,
      "outputs": [
        {
          "output_type": "execute_result",
          "data": {
            "text/html": [
              "\n",
              "  <div id=\"df-d08d6130-721a-4dbc-afb8-70b52f4141ed\">\n",
              "    <div class=\"colab-df-container\">\n",
              "      <div>\n",
              "<style scoped>\n",
              "    .dataframe tbody tr th:only-of-type {\n",
              "        vertical-align: middle;\n",
              "    }\n",
              "\n",
              "    .dataframe tbody tr th {\n",
              "        vertical-align: top;\n",
              "    }\n",
              "\n",
              "    .dataframe thead th {\n",
              "        text-align: right;\n",
              "    }\n",
              "</style>\n",
              "<table border=\"1\" class=\"dataframe\">\n",
              "  <thead>\n",
              "    <tr style=\"text-align: right;\">\n",
              "      <th></th>\n",
              "      <th>order_id</th>\n",
              "      <th>acc_all_diff</th>\n",
              "      <th>acc_ord_diff</th>\n",
              "      <th>hour</th>\n",
              "      <th>session</th>\n",
              "      <th>day_of_week</th>\n",
              "      <th>rider_id</th>\n",
              "      <th>first_mile_distance</th>\n",
              "      <th>last_mile_distance</th>\n",
              "      <th>alloted_orders</th>\n",
              "      <th>delivered_orders</th>\n",
              "      <th>undelivered_orders</th>\n",
              "      <th>lifetime_order_count</th>\n",
              "      <th>session_time</th>\n",
              "      <th>cancelled</th>\n",
              "    </tr>\n",
              "  </thead>\n",
              "  <tbody>\n",
              "    <tr>\n",
              "      <th>0</th>\n",
              "      <td>0.920064</td>\n",
              "      <td>0.968742</td>\n",
              "      <td>0.001988</td>\n",
              "      <td>0.095238</td>\n",
              "      <td>0.0</td>\n",
              "      <td>0.166667</td>\n",
              "      <td>0.542335</td>\n",
              "      <td>0.037263</td>\n",
              "      <td>0.118251</td>\n",
              "      <td>0.0</td>\n",
              "      <td>-1.0</td>\n",
              "      <td>-1.0</td>\n",
              "      <td>-1.0</td>\n",
              "      <td>-1.0</td>\n",
              "      <td>0.0</td>\n",
              "    </tr>\n",
              "    <tr>\n",
              "      <th>1</th>\n",
              "      <td>0.920066</td>\n",
              "      <td>0.970065</td>\n",
              "      <td>0.005578</td>\n",
              "      <td>0.095238</td>\n",
              "      <td>0.0</td>\n",
              "      <td>0.166667</td>\n",
              "      <td>0.840072</td>\n",
              "      <td>0.059959</td>\n",
              "      <td>0.123159</td>\n",
              "      <td>0.0</td>\n",
              "      <td>-1.0</td>\n",
              "      <td>-1.0</td>\n",
              "      <td>-1.0</td>\n",
              "      <td>-1.0</td>\n",
              "      <td>0.0</td>\n",
              "    </tr>\n",
              "    <tr>\n",
              "      <th>2</th>\n",
              "      <td>0.920068</td>\n",
              "      <td>0.968979</td>\n",
              "      <td>0.001411</td>\n",
              "      <td>0.095238</td>\n",
              "      <td>0.0</td>\n",
              "      <td>0.166667</td>\n",
              "      <td>0.863535</td>\n",
              "      <td>0.052506</td>\n",
              "      <td>0.214190</td>\n",
              "      <td>0.0</td>\n",
              "      <td>-1.0</td>\n",
              "      <td>-1.0</td>\n",
              "      <td>-1.0</td>\n",
              "      <td>-1.0</td>\n",
              "      <td>0.0</td>\n",
              "    </tr>\n",
              "    <tr>\n",
              "      <th>3</th>\n",
              "      <td>0.920070</td>\n",
              "      <td>0.969828</td>\n",
              "      <td>0.004552</td>\n",
              "      <td>0.095238</td>\n",
              "      <td>0.0</td>\n",
              "      <td>0.166667</td>\n",
              "      <td>0.739358</td>\n",
              "      <td>0.052078</td>\n",
              "      <td>0.284694</td>\n",
              "      <td>0.0</td>\n",
              "      <td>-1.0</td>\n",
              "      <td>-1.0</td>\n",
              "      <td>-1.0</td>\n",
              "      <td>-1.0</td>\n",
              "      <td>0.0</td>\n",
              "    </tr>\n",
              "    <tr>\n",
              "      <th>4</th>\n",
              "      <td>0.920072</td>\n",
              "      <td>0.969658</td>\n",
              "      <td>0.005450</td>\n",
              "      <td>0.142857</td>\n",
              "      <td>0.0</td>\n",
              "      <td>0.166667</td>\n",
              "      <td>0.815589</td>\n",
              "      <td>0.066294</td>\n",
              "      <td>0.178938</td>\n",
              "      <td>0.0</td>\n",
              "      <td>-1.0</td>\n",
              "      <td>-1.0</td>\n",
              "      <td>-1.0</td>\n",
              "      <td>-1.0</td>\n",
              "      <td>0.0</td>\n",
              "    </tr>\n",
              "  </tbody>\n",
              "</table>\n",
              "</div>\n",
              "      <button class=\"colab-df-convert\" onclick=\"convertToInteractive('df-d08d6130-721a-4dbc-afb8-70b52f4141ed')\"\n",
              "              title=\"Convert this dataframe to an interactive table.\"\n",
              "              style=\"display:none;\">\n",
              "        \n",
              "  <svg xmlns=\"http://www.w3.org/2000/svg\" height=\"24px\"viewBox=\"0 0 24 24\"\n",
              "       width=\"24px\">\n",
              "    <path d=\"M0 0h24v24H0V0z\" fill=\"none\"/>\n",
              "    <path d=\"M18.56 5.44l.94 2.06.94-2.06 2.06-.94-2.06-.94-.94-2.06-.94 2.06-2.06.94zm-11 1L8.5 8.5l.94-2.06 2.06-.94-2.06-.94L8.5 2.5l-.94 2.06-2.06.94zm10 10l.94 2.06.94-2.06 2.06-.94-2.06-.94-.94-2.06-.94 2.06-2.06.94z\"/><path d=\"M17.41 7.96l-1.37-1.37c-.4-.4-.92-.59-1.43-.59-.52 0-1.04.2-1.43.59L10.3 9.45l-7.72 7.72c-.78.78-.78 2.05 0 2.83L4 21.41c.39.39.9.59 1.41.59.51 0 1.02-.2 1.41-.59l7.78-7.78 2.81-2.81c.8-.78.8-2.07 0-2.86zM5.41 20L4 18.59l7.72-7.72 1.47 1.35L5.41 20z\"/>\n",
              "  </svg>\n",
              "      </button>\n",
              "      \n",
              "  <style>\n",
              "    .colab-df-container {\n",
              "      display:flex;\n",
              "      flex-wrap:wrap;\n",
              "      gap: 12px;\n",
              "    }\n",
              "\n",
              "    .colab-df-convert {\n",
              "      background-color: #E8F0FE;\n",
              "      border: none;\n",
              "      border-radius: 50%;\n",
              "      cursor: pointer;\n",
              "      display: none;\n",
              "      fill: #1967D2;\n",
              "      height: 32px;\n",
              "      padding: 0 0 0 0;\n",
              "      width: 32px;\n",
              "    }\n",
              "\n",
              "    .colab-df-convert:hover {\n",
              "      background-color: #E2EBFA;\n",
              "      box-shadow: 0px 1px 2px rgba(60, 64, 67, 0.3), 0px 1px 3px 1px rgba(60, 64, 67, 0.15);\n",
              "      fill: #174EA6;\n",
              "    }\n",
              "\n",
              "    [theme=dark] .colab-df-convert {\n",
              "      background-color: #3B4455;\n",
              "      fill: #D2E3FC;\n",
              "    }\n",
              "\n",
              "    [theme=dark] .colab-df-convert:hover {\n",
              "      background-color: #434B5C;\n",
              "      box-shadow: 0px 1px 3px 1px rgba(0, 0, 0, 0.15);\n",
              "      filter: drop-shadow(0px 1px 2px rgba(0, 0, 0, 0.3));\n",
              "      fill: #FFFFFF;\n",
              "    }\n",
              "  </style>\n",
              "\n",
              "      <script>\n",
              "        const buttonEl =\n",
              "          document.querySelector('#df-d08d6130-721a-4dbc-afb8-70b52f4141ed button.colab-df-convert');\n",
              "        buttonEl.style.display =\n",
              "          google.colab.kernel.accessAllowed ? 'block' : 'none';\n",
              "\n",
              "        async function convertToInteractive(key) {\n",
              "          const element = document.querySelector('#df-d08d6130-721a-4dbc-afb8-70b52f4141ed');\n",
              "          const dataTable =\n",
              "            await google.colab.kernel.invokeFunction('convertToInteractive',\n",
              "                                                     [key], {});\n",
              "          if (!dataTable) return;\n",
              "\n",
              "          const docLinkHtml = 'Like what you see? Visit the ' +\n",
              "            '<a target=\"_blank\" href=https://colab.research.google.com/notebooks/data_table.ipynb>data table notebook</a>'\n",
              "            + ' to learn more about interactive tables.';\n",
              "          element.innerHTML = '';\n",
              "          dataTable['output_type'] = 'display_data';\n",
              "          await google.colab.output.renderOutput(dataTable, element);\n",
              "          const docLink = document.createElement('div');\n",
              "          docLink.innerHTML = docLinkHtml;\n",
              "          element.appendChild(docLink);\n",
              "        }\n",
              "      </script>\n",
              "    </div>\n",
              "  </div>\n",
              "  "
            ],
            "text/plain": [
              "   order_id  acc_all_diff  ...  session_time  cancelled\n",
              "0  0.920064      0.968742  ...          -1.0        0.0\n",
              "1  0.920066      0.970065  ...          -1.0        0.0\n",
              "2  0.920068      0.968979  ...          -1.0        0.0\n",
              "3  0.920070      0.969828  ...          -1.0        0.0\n",
              "4  0.920072      0.969658  ...          -1.0        0.0\n",
              "\n",
              "[5 rows x 15 columns]"
            ]
          },
          "metadata": {},
          "execution_count": 323
        }
      ]
    },
    {
      "cell_type": "code",
      "source": [
        "X.shape"
      ],
      "metadata": {
        "id": "M_xLmOwp7Ha6",
        "colab": {
          "base_uri": "https://localhost:8080/"
        },
        "outputId": "4f40efd0-0dd8-44cf-8820-94cc32e2b69c"
      },
      "execution_count": null,
      "outputs": [
        {
          "output_type": "execute_result",
          "data": {
            "text/plain": [
              "(449801, 12)"
            ]
          },
          "metadata": {},
          "execution_count": 324
        }
      ]
    },
    {
      "cell_type": "code",
      "source": [
        "y.shape"
      ],
      "metadata": {
        "id": "2dny7UZ-7JEK",
        "colab": {
          "base_uri": "https://localhost:8080/"
        },
        "outputId": "5570da70-a74b-48f0-ecc8-0cdfae627152"
      },
      "execution_count": null,
      "outputs": [
        {
          "output_type": "execute_result",
          "data": {
            "text/plain": [
              "(449801,)"
            ]
          },
          "metadata": {},
          "execution_count": 325
        }
      ]
    },
    {
      "cell_type": "code",
      "source": [
        "test.shape"
      ],
      "metadata": {
        "id": "wvIV0DbT7KfM",
        "colab": {
          "base_uri": "https://localhost:8080/"
        },
        "outputId": "2d7277e2-08e3-45e1-e4e4-4a210599a2bb"
      },
      "execution_count": null,
      "outputs": [
        {
          "output_type": "execute_result",
          "data": {
            "text/plain": [
              "(144844, 14)"
            ]
          },
          "metadata": {},
          "execution_count": 326
        }
      ]
    },
    {
      "cell_type": "code",
      "source": [
        "test['session'],_ = pd.factorize(test['session'])"
      ],
      "metadata": {
        "id": "am5VBr51dkNq"
      },
      "execution_count": null,
      "outputs": []
    },
    {
      "cell_type": "code",
      "source": [
        "from sklearn.ensemble import VotingClassifier,GradientBoostingClassifier,AdaBoostClassifier,RandomForestClassifier\n",
        "from sklearn.model_selection import train_test_split, GridSearchCV, cross_val_score\n",
        "from sklearn.model_selection import KFold\n",
        "from sklearn import tree, metrics\n",
        "from sklearn.tree import DecisionTreeClassifier\n",
        "import lightgbm as lgb\n",
        "from xgboost import XGBClassifier\n",
        "from sklearn import model_selection\n",
        "from sklearn.naive_bayes import GaussianNB\n",
        "from sklearn.neighbors import KNeighborsClassifier"
      ],
      "metadata": {
        "id": "dT5p14vWYkGu"
      },
      "execution_count": null,
      "outputs": []
    },
    {
      "cell_type": "code",
      "source": [
        "# models = []\n",
        "# models.append(('NaiveBayes', GaussianNB()))\n",
        "# models.append(('KNN', KNeighborsClassifier()))\n",
        "# models.append(('CART', DecisionTreeClassifier()))\n",
        "# models.append(('RF', RandomForestClassifier()))\n",
        "# models.append(('GradientBoosting', GradientBoostingClassifier()))\n",
        "# models.append(('XGB',XGBClassifier()))\n",
        "# models.append(('LGB',lgb.LGBMClassifier()))\n",
        "# models.append((\"Adaboost\",AdaBoostClassifier()))"
      ],
      "metadata": {
        "id": "RC611UB_Y_W-"
      },
      "execution_count": null,
      "outputs": []
    },
    {
      "cell_type": "markdown",
      "source": [
        "Will drop extreme outliers (Later),"
      ],
      "metadata": {
        "id": "IcoCnj9s7RUT"
      }
    },
    {
      "cell_type": "markdown",
      "source": [
        "Standard Scaler,"
      ],
      "metadata": {
        "id": "twxdMHf8JY61"
      }
    },
    {
      "cell_type": "code",
      "source": [
        "# X = X.drop('hour',axis=1)\n",
        "# X = X.drop('alloted_orders',axis=1)\n",
        "\n",
        "test = test.drop('hour',axis=1)\n",
        "test = test.drop('alloted_orders',axis=1)"
      ],
      "metadata": {
        "id": "Aa-U1_POANle"
      },
      "execution_count": null,
      "outputs": []
    },
    {
      "cell_type": "markdown",
      "source": [
        "Correlation,"
      ],
      "metadata": {
        "id": "B5H4P2Src3x8"
      }
    },
    {
      "cell_type": "code",
      "source": [
        "import seaborn as sns\n",
        "import matplotlib.pyplot as plt\n",
        "plt.figure(figsize = (15,15))\n",
        "ax = sns.heatmap(test.corr().iloc[:, 0:15:], annot=True, linewidths=.5)"
      ],
      "metadata": {
        "id": "MnDi_GI8f-Vf",
        "colab": {
          "base_uri": "https://localhost:8080/",
          "height": 960
        },
        "outputId": "0bdccd46-619a-49f0-b429-2c137112539b"
      },
      "execution_count": null,
      "outputs": [
        {
          "output_type": "display_data",
          "data": {
            "image/png": "[encoded data removed]",
            "text/plain": [
              "<Figure size 1080x1080 with 2 Axes>"
            ]
          },
          "metadata": {
            "needs_background": "light"
          }
        }
      ]
    },
    {
      "cell_type": "code",
      "source": [
        "from sklearn.preprocessing import StandardScaler, MinMaxScaler"
      ],
      "metadata": {
        "id": "_jQ7qAB4JiEo"
      },
      "execution_count": null,
      "outputs": []
    },
    {
      "cell_type": "code",
      "source": [
        "X.head()"
      ],
      "metadata": {
        "id": "EC3R-yPB1NqJ",
        "colab": {
          "base_uri": "https://localhost:8080/",
          "height": 270
        },
        "outputId": "ed4eb6bf-792b-49b7-f694-a968582a77a9"
      },
      "execution_count": null,
      "outputs": [
        {
          "output_type": "execute_result",
          "data": {
            "text/html": [
              "\n",
              "  <div id=\"df-43e7f048-2d32-4764-aad2-58cb1a00fafb\">\n",
              "    <div class=\"colab-df-container\">\n",
              "      <div>\n",
              "<style scoped>\n",
              "    .dataframe tbody tr th:only-of-type {\n",
              "        vertical-align: middle;\n",
              "    }\n",
              "\n",
              "    .dataframe tbody tr th {\n",
              "        vertical-align: top;\n",
              "    }\n",
              "\n",
              "    .dataframe thead th {\n",
              "        text-align: right;\n",
              "    }\n",
              "</style>\n",
              "<table border=\"1\" class=\"dataframe\">\n",
              "  <thead>\n",
              "    <tr style=\"text-align: right;\">\n",
              "      <th></th>\n",
              "      <th>acc_all_diff</th>\n",
              "      <th>acc_ord_diff</th>\n",
              "      <th>session</th>\n",
              "      <th>day_of_week</th>\n",
              "      <th>rider_id</th>\n",
              "      <th>first_mile_distance</th>\n",
              "      <th>last_mile_distance</th>\n",
              "      <th>delivered_orders</th>\n",
              "      <th>undelivered_orders</th>\n",
              "      <th>lifetime_order_count</th>\n",
              "      <th>session_time</th>\n",
              "      <th>dist_diff</th>\n",
              "    </tr>\n",
              "  </thead>\n",
              "  <tbody>\n",
              "    <tr>\n",
              "      <th>0</th>\n",
              "      <td>0.968742</td>\n",
              "      <td>0.001988</td>\n",
              "      <td>0.0</td>\n",
              "      <td>0.166667</td>\n",
              "      <td>0.542335</td>\n",
              "      <td>0.037263</td>\n",
              "      <td>0.118251</td>\n",
              "      <td>-1.0</td>\n",
              "      <td>-1.0</td>\n",
              "      <td>-1.0</td>\n",
              "      <td>-1.0</td>\n",
              "      <td>0.080988</td>\n",
              "    </tr>\n",
              "    <tr>\n",
              "      <th>1</th>\n",
              "      <td>0.970065</td>\n",
              "      <td>0.005578</td>\n",
              "      <td>0.0</td>\n",
              "      <td>0.166667</td>\n",
              "      <td>0.840072</td>\n",
              "      <td>0.059959</td>\n",
              "      <td>0.123159</td>\n",
              "      <td>-1.0</td>\n",
              "      <td>-1.0</td>\n",
              "      <td>-1.0</td>\n",
              "      <td>-1.0</td>\n",
              "      <td>0.063200</td>\n",
              "    </tr>\n",
              "    <tr>\n",
              "      <th>2</th>\n",
              "      <td>0.968979</td>\n",
              "      <td>0.001411</td>\n",
              "      <td>0.0</td>\n",
              "      <td>0.166667</td>\n",
              "      <td>0.863535</td>\n",
              "      <td>0.052506</td>\n",
              "      <td>0.214190</td>\n",
              "      <td>-1.0</td>\n",
              "      <td>-1.0</td>\n",
              "      <td>-1.0</td>\n",
              "      <td>-1.0</td>\n",
              "      <td>0.161684</td>\n",
              "    </tr>\n",
              "    <tr>\n",
              "      <th>3</th>\n",
              "      <td>0.969828</td>\n",
              "      <td>0.004552</td>\n",
              "      <td>0.0</td>\n",
              "      <td>0.166667</td>\n",
              "      <td>0.739358</td>\n",
              "      <td>0.052078</td>\n",
              "      <td>0.284694</td>\n",
              "      <td>-1.0</td>\n",
              "      <td>-1.0</td>\n",
              "      <td>-1.0</td>\n",
              "      <td>-1.0</td>\n",
              "      <td>0.232616</td>\n",
              "    </tr>\n",
              "    <tr>\n",
              "      <th>4</th>\n",
              "      <td>0.969658</td>\n",
              "      <td>0.005450</td>\n",
              "      <td>0.0</td>\n",
              "      <td>0.166667</td>\n",
              "      <td>0.815589</td>\n",
              "      <td>0.066294</td>\n",
              "      <td>0.178938</td>\n",
              "      <td>-1.0</td>\n",
              "      <td>-1.0</td>\n",
              "      <td>-1.0</td>\n",
              "      <td>-1.0</td>\n",
              "      <td>0.112644</td>\n",
              "    </tr>\n",
              "  </tbody>\n",
              "</table>\n",
              "</div>\n",
              "      <button class=\"colab-df-convert\" onclick=\"convertToInteractive('df-43e7f048-2d32-4764-aad2-58cb1a00fafb')\"\n",
              "              title=\"Convert this dataframe to an interactive table.\"\n",
              "              style=\"display:none;\">\n",
              "        \n",
              "  <svg xmlns=\"http://www.w3.org/2000/svg\" height=\"24px\"viewBox=\"0 0 24 24\"\n",
              "       width=\"24px\">\n",
              "    <path d=\"M0 0h24v24H0V0z\" fill=\"none\"/>\n",
              "    <path d=\"M18.56 5.44l.94 2.06.94-2.06 2.06-.94-2.06-.94-.94-2.06-.94 2.06-2.06.94zm-11 1L8.5 8.5l.94-2.06 2.06-.94-2.06-.94L8.5 2.5l-.94 2.06-2.06.94zm10 10l.94 2.06.94-2.06 2.06-.94-2.06-.94-.94-2.06-.94 2.06-2.06.94z\"/><path d=\"M17.41 7.96l-1.37-1.37c-.4-.4-.92-.59-1.43-.59-.52 0-1.04.2-1.43.59L10.3 9.45l-7.72 7.72c-.78.78-.78 2.05 0 2.83L4 21.41c.39.39.9.59 1.41.59.51 0 1.02-.2 1.41-.59l7.78-7.78 2.81-2.81c.8-.78.8-2.07 0-2.86zM5.41 20L4 18.59l7.72-7.72 1.47 1.35L5.41 20z\"/>\n",
              "  </svg>\n",
              "      </button>\n",
              "      \n",
              "  <style>\n",
              "    .colab-df-container {\n",
              "      display:flex;\n",
              "      flex-wrap:wrap;\n",
              "      gap: 12px;\n",
              "    }\n",
              "\n",
              "    .colab-df-convert {\n",
              "      background-color: #E8F0FE;\n",
              "      border: none;\n",
              "      border-radius: 50%;\n",
              "      cursor: pointer;\n",
              "      display: none;\n",
              "      fill: #1967D2;\n",
              "      height: 32px;\n",
              "      padding: 0 0 0 0;\n",
              "      width: 32px;\n",
              "    }\n",
              "\n",
              "    .colab-df-convert:hover {\n",
              "      background-color: #E2EBFA;\n",
              "      box-shadow: 0px 1px 2px rgba(60, 64, 67, 0.3), 0px 1px 3px 1px rgba(60, 64, 67, 0.15);\n",
              "      fill: #174EA6;\n",
              "    }\n",
              "\n",
              "    [theme=dark] .colab-df-convert {\n",
              "      background-color: #3B4455;\n",
              "      fill: #D2E3FC;\n",
              "    }\n",
              "\n",
              "    [theme=dark] .colab-df-convert:hover {\n",
              "      background-color: #434B5C;\n",
              "      box-shadow: 0px 1px 3px 1px rgba(0, 0, 0, 0.15);\n",
              "      filter: drop-shadow(0px 1px 2px rgba(0, 0, 0, 0.3));\n",
              "      fill: #FFFFFF;\n",
              "    }\n",
              "  </style>\n",
              "\n",
              "      <script>\n",
              "        const buttonEl =\n",
              "          document.querySelector('#df-43e7f048-2d32-4764-aad2-58cb1a00fafb button.colab-df-convert');\n",
              "        buttonEl.style.display =\n",
              "          google.colab.kernel.accessAllowed ? 'block' : 'none';\n",
              "\n",
              "        async function convertToInteractive(key) {\n",
              "          const element = document.querySelector('#df-43e7f048-2d32-4764-aad2-58cb1a00fafb');\n",
              "          const dataTable =\n",
              "            await google.colab.kernel.invokeFunction('convertToInteractive',\n",
              "                                                     [key], {});\n",
              "          if (!dataTable) return;\n",
              "\n",
              "          const docLinkHtml = 'Like what you see? Visit the ' +\n",
              "            '<a target=\"_blank\" href=https://colab.research.google.com/notebooks/data_table.ipynb>data table notebook</a>'\n",
              "            + ' to learn more about interactive tables.';\n",
              "          element.innerHTML = '';\n",
              "          dataTable['output_type'] = 'display_data';\n",
              "          await google.colab.output.renderOutput(dataTable, element);\n",
              "          const docLink = document.createElement('div');\n",
              "          docLink.innerHTML = docLinkHtml;\n",
              "          element.appendChild(docLink);\n",
              "        }\n",
              "      </script>\n",
              "    </div>\n",
              "  </div>\n",
              "  "
            ],
            "text/plain": [
              "   acc_all_diff  acc_ord_diff  ...  session_time  dist_diff\n",
              "0      0.968742      0.001988  ...          -1.0   0.080988\n",
              "1      0.970065      0.005578  ...          -1.0   0.063200\n",
              "2      0.968979      0.001411  ...          -1.0   0.161684\n",
              "3      0.969828      0.004552  ...          -1.0   0.232616\n",
              "4      0.969658      0.005450  ...          -1.0   0.112644\n",
              "\n",
              "[5 rows x 12 columns]"
            ]
          },
          "metadata": {},
          "execution_count": 340
        }
      ]
    },
    {
      "cell_type": "code",
      "source": [
        "# X = X.drop('order_id',axis=1)\n",
        "test = test.drop('order_id',axis=1)"
      ],
      "metadata": {
        "id": "rB-FUeoP7q3K"
      },
      "execution_count": null,
      "outputs": []
    },
    {
      "cell_type": "code",
      "source": [
        "X['dist_diff'] = X['last_mile_distance'] - X['first_mile_distance']"
      ],
      "metadata": {
        "id": "bOru-DeW77kB"
      },
      "execution_count": null,
      "outputs": []
    },
    {
      "cell_type": "code",
      "source": [
        "test['dist_diff'] = test['last_mile_distance'] - test['first_mile_distance']"
      ],
      "metadata": {
        "id": "66Kq34zO8E2x"
      },
      "execution_count": null,
      "outputs": []
    },
    {
      "cell_type": "code",
      "source": [
        "# #Data scaling\n",
        "# std_scaler = StandardScaler()\n",
        "# std_scaler.fit(X)\n",
        "# X_train_std = std_scaler.transform(X)\n",
        "# X_test_std = std_scaler.transform(test)\n",
        "\n",
        "# # mm_scaler = MinMaxScaler()\n",
        "# # mm_scaler.fit(X)\n",
        "# # X_train_mm = mm_scaler.transform(X)\n",
        "# # X_test_mm = mm_scaler.transform(test)"
      ],
      "metadata": {
        "id": "sniTIqc5JaIg"
      },
      "execution_count": null,
      "outputs": []
    },
    {
      "cell_type": "code",
      "source": [
        "# pd.DataFrame(X_train_std).head()"
      ],
      "metadata": {
        "id": "tewHCi6Y7bPO"
      },
      "execution_count": null,
      "outputs": []
    },
    {
      "cell_type": "code",
      "source": [
        "print(set(test.columns) - set(X.columns))"
      ],
      "metadata": {
        "id": "6ZAfyGuC1YYq",
        "colab": {
          "base_uri": "https://localhost:8080/"
        },
        "outputId": "bc17bc2f-4cbc-4086-97ab-e83dd9513938"
      },
      "execution_count": null,
      "outputs": [
        {
          "output_type": "stream",
          "name": "stdout",
          "text": [
            "set()\n"
          ]
        }
      ]
    },
    {
      "cell_type": "code",
      "source": [
        "# X = pd.DataFrame(X_train_std)\n",
        "# test = pd.DataFrame(X_test_std)"
      ],
      "metadata": {
        "id": "jwN7wthk9Qke"
      },
      "execution_count": null,
      "outputs": []
    },
    {
      "cell_type": "markdown",
      "source": [
        ""
      ],
      "metadata": {
        "id": "P0s50uGPxLAx"
      }
    },
    {
      "cell_type": "markdown",
      "source": [
        "Feature engineering performed so far,\n",
        "\n",
        "1.   Session\n",
        "2.   Hour of the Day\n",
        "3.   Acc All Diff\n",
        "4.   Acc Ord Diff\n",
        "\n",
        "\n",
        "\n"
      ],
      "metadata": {
        "id": "0Br1vrNM8RLf"
      }
    },
    {
      "cell_type": "markdown",
      "source": [
        "Logistic,"
      ],
      "metadata": {
        "id": "76attM53cD-J"
      }
    },
    {
      "cell_type": "code",
      "source": [
        "from sklearn.linear_model import LogisticRegression\n",
        "clf = LogisticRegression(random_state=42).fit(X, y)"
      ],
      "metadata": {
        "id": "SnrrY6f-cFqw"
      },
      "execution_count": null,
      "outputs": []
    },
    {
      "cell_type": "code",
      "source": [
        "y_pred = clf.predict(X)"
      ],
      "metadata": {
        "id": "amfEvPCiEBZX"
      },
      "execution_count": null,
      "outputs": []
    },
    {
      "cell_type": "code",
      "source": [
        "pd.DataFrame(y_pred).value_counts()"
      ],
      "metadata": {
        "id": "yJUMEnL6EeBk",
        "colab": {
          "base_uri": "https://localhost:8080/"
        },
        "outputId": "ff67d27f-e3aa-4468-9f76-0474c1d7ac15"
      },
      "execution_count": null,
      "outputs": [
        {
          "output_type": "execute_result",
          "data": {
            "text/plain": [
              "0.0    449662\n",
              "1.0       139\n",
              "dtype: int64"
            ]
          },
          "metadata": {},
          "execution_count": 351
        }
      ]
    },
    {
      "cell_type": "markdown",
      "source": [
        "Weighted Logistic,"
      ],
      "metadata": {
        "id": "_LuDYl0LyEFa"
      }
    },
    {
      "cell_type": "code",
      "source": [
        "X.info()"
      ],
      "metadata": {
        "colab": {
          "base_uri": "https://localhost:8080/"
        },
        "id": "Sk40qePqdTwN",
        "outputId": "3e08d97a-0dba-4a04-a053-c2bba2935f60"
      },
      "execution_count": null,
      "outputs": [
        {
          "output_type": "stream",
          "name": "stdout",
          "text": [
            "<class 'pandas.core.frame.DataFrame'>\n",
            "Int64Index: 449801 entries, 0 to 449842\n",
            "Data columns (total 12 columns):\n",
            " #   Column                Non-Null Count   Dtype  \n",
            "---  ------                --------------   -----  \n",
            " 0   acc_all_diff          449801 non-null  float64\n",
            " 1   acc_ord_diff          449801 non-null  float64\n",
            " 2   session               449801 non-null  float64\n",
            " 3   day_of_week           449801 non-null  float64\n",
            " 4   rider_id              449801 non-null  float64\n",
            " 5   first_mile_distance   449801 non-null  float64\n",
            " 6   last_mile_distance    449801 non-null  float64\n",
            " 7   delivered_orders      449801 non-null  float64\n",
            " 8   undelivered_orders    449801 non-null  float64\n",
            " 9   lifetime_order_count  449801 non-null  float64\n",
            " 10  session_time          449801 non-null  float64\n",
            " 11  dist_diff             449801 non-null  float64\n",
            "dtypes: float64(12)\n",
            "memory usage: 44.6 MB\n"
          ]
        }
      ]
    },
    {
      "cell_type": "code",
      "source": [
        "# define class weights\n",
        "w = {0:1.055, 1:1.5217}# define model\n",
        "lg2 = LogisticRegression(random_state=42, class_weight=w)\n",
        "# fit it\n",
        "lg2.fit(X,y)"
      ],
      "metadata": {
        "id": "s4-0YmBEyDOt",
        "colab": {
          "base_uri": "https://localhost:8080/"
        },
        "outputId": "2a0f5635-0145-45e7-f613-0b538c573323"
      },
      "execution_count": null,
      "outputs": [
        {
          "output_type": "execute_result",
          "data": {
            "text/plain": [
              "LogisticRegression(class_weight={0: 1.055, 1: 1.5217}, random_state=42)"
            ]
          },
          "metadata": {},
          "execution_count": 352
        }
      ]
    },
    {
      "cell_type": "code",
      "source": [
        "test.info()"
      ],
      "metadata": {
        "colab": {
          "base_uri": "https://localhost:8080/"
        },
        "id": "yPgqp4VmWtro",
        "outputId": "a86ba19d-b770-42d5-c53d-a03c6a467088"
      },
      "execution_count": null,
      "outputs": [
        {
          "output_type": "stream",
          "name": "stdout",
          "text": [
            "<class 'pandas.core.frame.DataFrame'>\n",
            "RangeIndex: 144844 entries, 0 to 144843\n",
            "Data columns (total 12 columns):\n",
            " #   Column                Non-Null Count   Dtype   \n",
            "---  ------                --------------   -----   \n",
            " 0   acc_all_diff          144844 non-null  float64 \n",
            " 1   acc_ord_diff          144844 non-null  float64 \n",
            " 2   session               144844 non-null  category\n",
            " 3   day_of_week           144844 non-null  int64   \n",
            " 4   rider_id              144844 non-null  int64   \n",
            " 5   first_mile_distance   144844 non-null  float64 \n",
            " 6   last_mile_distance    144844 non-null  float64 \n",
            " 7   delivered_orders      144844 non-null  float64 \n",
            " 8   undelivered_orders    144844 non-null  float64 \n",
            " 9   lifetime_order_count  144844 non-null  float64 \n",
            " 10  session_time          144844 non-null  float64 \n",
            " 11  dist_diff             144844 non-null  float64 \n",
            "dtypes: category(1), float64(9), int64(2)\n",
            "memory usage: 12.3 MB\n"
          ]
        }
      ]
    },
    {
      "cell_type": "code",
      "source": [
        "y_pred = lg2.predict(test)# performance"
      ],
      "metadata": {
        "id": "-FEodDKny4Ni"
      },
      "execution_count": null,
      "outputs": []
    },
    {
      "cell_type": "code",
      "source": [
        "pd.DataFrame(y_pred).value_counts()"
      ],
      "metadata": {
        "id": "LPAVxwXrzML-",
        "colab": {
          "base_uri": "https://localhost:8080/"
        },
        "outputId": "8744ce8a-e1a5-4177-a00f-14a758694647"
      },
      "execution_count": null,
      "outputs": [
        {
          "output_type": "execute_result",
          "data": {
            "text/plain": [
              "1.0    144844\n",
              "dtype: int64"
            ]
          },
          "metadata": {},
          "execution_count": 361
        }
      ]
    },
    {
      "cell_type": "markdown",
      "source": [
        "LDA,"
      ],
      "metadata": {
        "id": "oa3y4mjc9yL-"
      }
    },
    {
      "cell_type": "code",
      "source": [
        "from sklearn.discriminant_analysis import LinearDiscriminantAnalysis, QuadraticDiscriminantAnalysis"
      ],
      "metadata": {
        "id": "mgjPLGJnZFKr"
      },
      "execution_count": null,
      "outputs": []
    },
    {
      "cell_type": "code",
      "source": [
        "LDA = LinearDiscriminantAnalysis()"
      ],
      "metadata": {
        "id": "J9viywfUJErk"
      },
      "execution_count": null,
      "outputs": []
    },
    {
      "cell_type": "code",
      "source": [
        "LDA.fit(X,y)"
      ],
      "metadata": {
        "id": "zmBjZWiH907h",
        "colab": {
          "base_uri": "https://localhost:8080/"
        },
        "outputId": "4dd44c66-c21f-49f8-a297-d56fe7333216"
      },
      "execution_count": null,
      "outputs": [
        {
          "output_type": "execute_result",
          "data": {
            "text/plain": [
              "LinearDiscriminantAnalysis()"
            ]
          },
          "metadata": {},
          "execution_count": 364
        }
      ]
    },
    {
      "cell_type": "code",
      "source": [
        "y_pred = LDA.predict(test)"
      ],
      "metadata": {
        "id": "dQYHoW7mcNoA"
      },
      "execution_count": null,
      "outputs": []
    },
    {
      "cell_type": "code",
      "source": [
        "pd.DataFrame(y_pred).value_counts()"
      ],
      "metadata": {
        "id": "cOUGdNU6cNoB",
        "colab": {
          "base_uri": "https://localhost:8080/"
        },
        "outputId": "ef63fbe7-6880-43e9-c4f1-d8dc1cc7d1b4"
      },
      "execution_count": null,
      "outputs": [
        {
          "output_type": "execute_result",
          "data": {
            "text/plain": [
              "1.0    125180\n",
              "0.0     19664\n",
              "dtype: int64"
            ]
          },
          "metadata": {},
          "execution_count": 366
        }
      ]
    },
    {
      "cell_type": "markdown",
      "source": [
        "QDA,"
      ],
      "metadata": {
        "id": "SaJxUD-a-SZL"
      }
    },
    {
      "cell_type": "code",
      "source": [
        "QDA = QuadraticDiscriminantAnalysis()"
      ],
      "metadata": {
        "id": "Fyv9COARcz_Z"
      },
      "execution_count": null,
      "outputs": []
    },
    {
      "cell_type": "code",
      "source": [
        "QDA.fit(X,y)"
      ],
      "metadata": {
        "id": "YdiOIA5ILlNM",
        "colab": {
          "base_uri": "https://localhost:8080/"
        },
        "outputId": "2217082d-9df7-416e-8d99-f20a20d2a0e9"
      },
      "execution_count": null,
      "outputs": [
        {
          "output_type": "execute_result",
          "data": {
            "text/plain": [
              "QuadraticDiscriminantAnalysis()"
            ]
          },
          "metadata": {},
          "execution_count": 368
        }
      ]
    },
    {
      "cell_type": "code",
      "source": [
        "y_pred = QDA.predict(X)"
      ],
      "metadata": {
        "id": "oaJXWc4n-WlY"
      },
      "execution_count": null,
      "outputs": []
    },
    {
      "cell_type": "code",
      "source": [
        "pd.DataFrame(y_pred).value_counts()"
      ],
      "metadata": {
        "id": "7k8RXGg0-Ygv",
        "colab": {
          "base_uri": "https://localhost:8080/"
        },
        "outputId": "ab3aa9c9-8564-4cb3-d155-2097ff568087"
      },
      "execution_count": null,
      "outputs": [
        {
          "output_type": "execute_result",
          "data": {
            "text/plain": [
              "0.0    449801\n",
              "dtype: int64"
            ]
          },
          "metadata": {},
          "execution_count": 370
        }
      ]
    },
    {
      "cell_type": "markdown",
      "source": [
        "XGBoost,"
      ],
      "metadata": {
        "id": "_fjKGNaP-Znw"
      }
    },
    {
      "cell_type": "code",
      "source": [
        "xgb = XGBClassifier()"
      ],
      "metadata": {
        "id": "11HyhWoD9Eqo"
      },
      "execution_count": null,
      "outputs": []
    },
    {
      "cell_type": "code",
      "source": [
        "xgb.fit(X,y)"
      ],
      "metadata": {
        "id": "k_1-97-ZLfx8",
        "colab": {
          "base_uri": "https://localhost:8080/"
        },
        "outputId": "602733ed-2496-4465-a784-cab13747899d"
      },
      "execution_count": null,
      "outputs": [
        {
          "output_type": "execute_result",
          "data": {
            "text/plain": [
              "XGBClassifier()"
            ]
          },
          "metadata": {},
          "execution_count": 372
        }
      ]
    },
    {
      "cell_type": "code",
      "source": [
        "y_pred = xgb.predict(X)"
      ],
      "metadata": {
        "id": "J7FUcWq3-ckv"
      },
      "execution_count": null,
      "outputs": []
    },
    {
      "cell_type": "code",
      "source": [
        "pd.DataFrame(y_pred).value_counts()"
      ],
      "metadata": {
        "id": "5_evs5cu-ckw",
        "colab": {
          "base_uri": "https://localhost:8080/"
        },
        "outputId": "2483dc26-4604-4177-e158-8d8bb1e2ed84"
      },
      "execution_count": null,
      "outputs": [
        {
          "output_type": "execute_result",
          "data": {
            "text/plain": [
              "0.0    449744\n",
              "1.0        57\n",
              "dtype: int64"
            ]
          },
          "metadata": {},
          "execution_count": 374
        }
      ]
    },
    {
      "cell_type": "markdown",
      "source": [
        "LGBoost,"
      ],
      "metadata": {
        "id": "CBWEpjg1-mMp"
      }
    },
    {
      "cell_type": "code",
      "source": [
        "w = {0:1.055, 1:1.6716}# define model"
      ],
      "metadata": {
        "id": "MD0I5biQIZCG"
      },
      "execution_count": null,
      "outputs": []
    },
    {
      "cell_type": "code",
      "source": [
        "import lightgbm as lgb\n",
        "clf = lgb.LGBMClassifier(random_state=42,objective ='binary',class_weight=w)"
      ],
      "metadata": {
        "id": "NQ0wdwQb-kxj"
      },
      "execution_count": null,
      "outputs": []
    },
    {
      "cell_type": "code",
      "source": [
        "clf.fit(X, y)"
      ],
      "metadata": {
        "id": "nvJ3HlXT-4Km",
        "colab": {
          "base_uri": "https://localhost:8080/"
        },
        "outputId": "0e543fa4-c16f-4d92-f81e-35784b944899"
      },
      "execution_count": null,
      "outputs": [
        {
          "output_type": "execute_result",
          "data": {
            "text/plain": [
              "LGBMClassifier(class_weight={0: 1.055, 1: 1.6716}, objective='binary',\n",
              "               random_state=42)"
            ]
          },
          "metadata": {},
          "execution_count": 377
        }
      ]
    },
    {
      "cell_type": "code",
      "source": [
        "y_pred = clf.predict(test)"
      ],
      "metadata": {
        "id": "j8m7cgo_-8p6"
      },
      "execution_count": null,
      "outputs": []
    },
    {
      "cell_type": "code",
      "source": [
        "pd.DataFrame(y_pred).value_counts()"
      ],
      "metadata": {
        "id": "l2aQcXSg-_G1",
        "colab": {
          "base_uri": "https://localhost:8080/"
        },
        "outputId": "9196987a-5f4e-4fdc-f32c-5dcfcdfb02ed"
      },
      "execution_count": null,
      "outputs": [
        {
          "output_type": "execute_result",
          "data": {
            "text/plain": [
              "1.0    132659\n",
              "0.0     12185\n",
              "dtype: int64"
            ]
          },
          "metadata": {},
          "execution_count": 379
        }
      ]
    },
    {
      "cell_type": "markdown",
      "source": [
        "Gaussian NB,"
      ],
      "metadata": {
        "id": "qdy_T-2L_hiD"
      }
    },
    {
      "cell_type": "code",
      "source": [
        "from sklearn.naive_bayes import GaussianNB\n",
        "nbmodel = GaussianNB()"
      ],
      "metadata": {
        "id": "WyPH8drMUR0m"
      },
      "execution_count": null,
      "outputs": []
    },
    {
      "cell_type": "code",
      "source": [
        "nbmodel.fit(X,y)"
      ],
      "metadata": {
        "id": "qOJtZvqU_f4y",
        "colab": {
          "base_uri": "https://localhost:8080/"
        },
        "outputId": "7839ba1b-1e59-4df2-8c6d-e1dbb495acd1"
      },
      "execution_count": null,
      "outputs": [
        {
          "output_type": "execute_result",
          "data": {
            "text/plain": [
              "GaussianNB()"
            ]
          },
          "metadata": {},
          "execution_count": 381
        }
      ]
    },
    {
      "cell_type": "code",
      "source": [
        "y_pred = nbmodel.predict(test)"
      ],
      "metadata": {
        "id": "HtWCEwYb_kM6"
      },
      "execution_count": null,
      "outputs": []
    },
    {
      "cell_type": "code",
      "source": [
        "pd.DataFrame(y_pred).value_counts()"
      ],
      "metadata": {
        "id": "mpXDyAbO_m_T",
        "colab": {
          "base_uri": "https://localhost:8080/"
        },
        "outputId": "9309df72-8e57-4e37-d592-f11d66140ddb"
      },
      "execution_count": null,
      "outputs": [
        {
          "output_type": "execute_result",
          "data": {
            "text/plain": [
              "1.0    144844\n",
              "dtype: int64"
            ]
          },
          "metadata": {},
          "execution_count": 383
        }
      ]
    },
    {
      "cell_type": "markdown",
      "source": [
        "KNN,"
      ],
      "metadata": {
        "id": "lElNFtwj_orP"
      }
    },
    {
      "cell_type": "code",
      "source": [
        "from sklearn.neighbors import KNeighborsClassifier\n",
        "knnmodel = KNeighborsClassifier(n_neighbors=5)"
      ],
      "metadata": {
        "id": "8oIoE1cyWt9O"
      },
      "execution_count": null,
      "outputs": []
    },
    {
      "cell_type": "code",
      "source": [
        "knnmodel.fit(X,y)"
      ],
      "metadata": {
        "id": "fGdLVeM-_t4T",
        "colab": {
          "base_uri": "https://localhost:8080/"
        },
        "outputId": "ace970b2-0740-42f8-ca82-6d8254c7f360"
      },
      "execution_count": null,
      "outputs": [
        {
          "output_type": "execute_result",
          "data": {
            "text/plain": [
              "KNeighborsClassifier()"
            ]
          },
          "metadata": {},
          "execution_count": 385
        }
      ]
    },
    {
      "cell_type": "code",
      "source": [
        "y_pred = knnmodel.predict(X)"
      ],
      "metadata": {
        "id": "vTScVTAE_wXE"
      },
      "execution_count": null,
      "outputs": []
    },
    {
      "cell_type": "code",
      "source": [
        "pd.DataFrame(y_pred).value_counts()"
      ],
      "metadata": {
        "id": "LgEoelMBKCnR",
        "colab": {
          "base_uri": "https://localhost:8080/"
        },
        "outputId": "034f6a95-36c7-473f-95bd-8a2227a68e60"
      },
      "execution_count": null,
      "outputs": [
        {
          "output_type": "execute_result",
          "data": {
            "text/plain": [
              "0.0    449626\n",
              "1.0       175\n",
              "dtype: int64"
            ]
          },
          "metadata": {},
          "execution_count": 389
        }
      ]
    },
    {
      "cell_type": "markdown",
      "source": [
        "Trying Neural Networks,"
      ],
      "metadata": {
        "id": "uUaC6J3YAeo9"
      }
    },
    {
      "cell_type": "code",
      "source": [
        "from keras.models import Sequential\n",
        "from keras.layers import Dense\n",
        "from keras import optimizers"
      ],
      "metadata": {
        "id": "Kqt-GnxsAmfJ"
      },
      "execution_count": null,
      "outputs": []
    },
    {
      "cell_type": "code",
      "source": [
        "hidden_units=100\n",
        "learning_rate=0.01\n",
        "hidden_layer_act='tanh'\n",
        "output_layer_act='sigmoid'\n",
        "no_epochs=100"
      ],
      "metadata": {
        "id": "IliP-SrVAgHt"
      },
      "execution_count": null,
      "outputs": []
    },
    {
      "cell_type": "code",
      "source": [
        "nnmodel = Sequential()"
      ],
      "metadata": {
        "id": "7s_ZLzPgAidD"
      },
      "execution_count": null,
      "outputs": []
    },
    {
      "cell_type": "code",
      "source": [
        "nnmodel.add(Dense(hidden_units, input_dim=12, activation=hidden_layer_act))\n",
        "nnmodel.add(Dense(hidden_units, activation=hidden_layer_act))\n",
        "nnmodel.add(Dense(1, activation=output_layer_act))"
      ],
      "metadata": {
        "id": "4oNrcuQHAnkJ"
      },
      "execution_count": null,
      "outputs": []
    },
    {
      "cell_type": "code",
      "source": [
        "sgd=tf.keras.optimizers.SGD(lr=learning_rate)\n",
        "nnmodel.compile(loss='binary_crossentropy',optimizer=sgd, metrics=['acc'])"
      ],
      "metadata": {
        "id": "sGP9CoxOArxT"
      },
      "execution_count": null,
      "outputs": []
    },
    {
      "cell_type": "code",
      "source": [
        "nnmodel.fit(X, y, epochs=no_epochs, batch_size=len(X)+1,  verbose=2)"
      ],
      "metadata": {
        "id": "q0zI4DRSAuhi",
        "colab": {
          "base_uri": "https://localhost:8080/"
        },
        "outputId": "c106b128-e9d4-4328-8701-3b4ab2875e3c"
      },
      "execution_count": null,
      "outputs": [
        {
          "output_type": "stream",
          "name": "stdout",
          "text": [
            "Epoch 1/100\n",
            "1/1 - 3s - loss: 0.4851 - acc: 0.9888 - 3s/epoch - 3s/step\n",
            "Epoch 2/100\n",
            "1/1 - 1s - loss: 0.4502 - acc: 0.9888 - 1s/epoch - 1s/step\n",
            "Epoch 3/100\n",
            "1/1 - 1s - loss: 0.4194 - acc: 0.9888 - 1s/epoch - 1s/step\n",
            "Epoch 4/100\n",
            "1/1 - 1s - loss: 0.3920 - acc: 0.9888 - 1s/epoch - 1s/step\n",
            "Epoch 5/100\n",
            "1/1 - 1s - loss: 0.3676 - acc: 0.9888 - 1s/epoch - 1s/step\n",
            "Epoch 6/100\n",
            "1/1 - 1s - loss: 0.3457 - acc: 0.9888 - 1s/epoch - 1s/step\n",
            "Epoch 7/100\n",
            "1/1 - 1s - loss: 0.3261 - acc: 0.9888 - 1s/epoch - 1s/step\n",
            "Epoch 8/100\n",
            "1/1 - 1s - loss: 0.3085 - acc: 0.9888 - 1s/epoch - 1s/step\n",
            "Epoch 9/100\n",
            "1/1 - 1s - loss: 0.2926 - acc: 0.9888 - 1s/epoch - 1s/step\n",
            "Epoch 10/100\n",
            "1/1 - 1s - loss: 0.2782 - acc: 0.9888 - 1s/epoch - 1s/step\n",
            "Epoch 11/100\n",
            "1/1 - 1s - loss: 0.2651 - acc: 0.9888 - 1s/epoch - 1s/step\n",
            "Epoch 12/100\n",
            "1/1 - 1s - loss: 0.2531 - acc: 0.9888 - 1s/epoch - 1s/step\n",
            "Epoch 13/100\n",
            "1/1 - 1s - loss: 0.2422 - acc: 0.9888 - 1s/epoch - 1s/step\n",
            "Epoch 14/100\n",
            "1/1 - 1s - loss: 0.2322 - acc: 0.9888 - 1s/epoch - 1s/step\n",
            "Epoch 15/100\n",
            "1/1 - 1s - loss: 0.2231 - acc: 0.9888 - 1s/epoch - 1s/step\n",
            "Epoch 16/100\n",
            "1/1 - 1s - loss: 0.2146 - acc: 0.9888 - 1s/epoch - 1s/step\n",
            "Epoch 17/100\n",
            "1/1 - 1s - loss: 0.2068 - acc: 0.9888 - 1s/epoch - 1s/step\n",
            "Epoch 18/100\n",
            "1/1 - 1s - loss: 0.1996 - acc: 0.9888 - 1s/epoch - 1s/step\n",
            "Epoch 19/100\n",
            "1/1 - 1s - loss: 0.1930 - acc: 0.9888 - 1s/epoch - 1s/step\n",
            "Epoch 20/100\n",
            "1/1 - 1s - loss: 0.1868 - acc: 0.9888 - 1s/epoch - 1s/step\n",
            "Epoch 21/100\n",
            "1/1 - 1s - loss: 0.1810 - acc: 0.9888 - 1s/epoch - 1s/step\n",
            "Epoch 22/100\n",
            "1/1 - 1s - loss: 0.1756 - acc: 0.9888 - 1s/epoch - 1s/step\n",
            "Epoch 23/100\n",
            "1/1 - 1s - loss: 0.1706 - acc: 0.9888 - 1s/epoch - 1s/step\n",
            "Epoch 24/100\n",
            "1/1 - 1s - loss: 0.1659 - acc: 0.9888 - 1s/epoch - 1s/step\n",
            "Epoch 25/100\n",
            "1/1 - 1s - loss: 0.1616 - acc: 0.9888 - 1s/epoch - 1s/step\n",
            "Epoch 26/100\n",
            "1/1 - 1s - loss: 0.1574 - acc: 0.9888 - 1s/epoch - 1s/step\n",
            "Epoch 27/100\n",
            "1/1 - 1s - loss: 0.1536 - acc: 0.9888 - 1s/epoch - 1s/step\n",
            "Epoch 28/100\n",
            "1/1 - 1s - loss: 0.1499 - acc: 0.9888 - 1s/epoch - 1s/step\n",
            "Epoch 29/100\n",
            "1/1 - 1s - loss: 0.1465 - acc: 0.9888 - 1s/epoch - 1s/step\n",
            "Epoch 30/100\n",
            "1/1 - 1s - loss: 0.1433 - acc: 0.9888 - 1s/epoch - 1s/step\n",
            "Epoch 31/100\n",
            "1/1 - 1s - loss: 0.1402 - acc: 0.9888 - 1s/epoch - 1s/step\n",
            "Epoch 32/100\n",
            "1/1 - 1s - loss: 0.1374 - acc: 0.9888 - 1s/epoch - 1s/step\n",
            "Epoch 33/100\n",
            "1/1 - 1s - loss: 0.1346 - acc: 0.9888 - 1s/epoch - 1s/step\n",
            "Epoch 34/100\n",
            "1/1 - 1s - loss: 0.1321 - acc: 0.9888 - 1s/epoch - 1s/step\n",
            "Epoch 35/100\n",
            "1/1 - 1s - loss: 0.1296 - acc: 0.9888 - 1s/epoch - 1s/step\n",
            "Epoch 36/100\n",
            "1/1 - 1s - loss: 0.1273 - acc: 0.9888 - 1s/epoch - 1s/step\n",
            "Epoch 37/100\n",
            "1/1 - 1s - loss: 0.1251 - acc: 0.9888 - 1s/epoch - 1s/step\n",
            "Epoch 38/100\n",
            "1/1 - 1s - loss: 0.1230 - acc: 0.9888 - 1s/epoch - 1s/step\n",
            "Epoch 39/100\n",
            "1/1 - 1s - loss: 0.1210 - acc: 0.9888 - 1s/epoch - 1s/step\n",
            "Epoch 40/100\n",
            "1/1 - 1s - loss: 0.1191 - acc: 0.9888 - 1s/epoch - 1s/step\n",
            "Epoch 41/100\n",
            "1/1 - 1s - loss: 0.1172 - acc: 0.9888 - 1s/epoch - 1s/step\n",
            "Epoch 42/100\n",
            "1/1 - 1s - loss: 0.1155 - acc: 0.9888 - 1s/epoch - 1s/step\n",
            "Epoch 43/100\n",
            "1/1 - 1s - loss: 0.1139 - acc: 0.9888 - 1s/epoch - 1s/step\n",
            "Epoch 44/100\n",
            "1/1 - 1s - loss: 0.1123 - acc: 0.9888 - 1s/epoch - 1s/step\n",
            "Epoch 45/100\n",
            "1/1 - 1s - loss: 0.1108 - acc: 0.9888 - 1s/epoch - 1s/step\n",
            "Epoch 46/100\n",
            "1/1 - 2s - loss: 0.1093 - acc: 0.9888 - 2s/epoch - 2s/step\n",
            "Epoch 47/100\n",
            "1/1 - 2s - loss: 0.1079 - acc: 0.9888 - 2s/epoch - 2s/step\n",
            "Epoch 48/100\n",
            "1/1 - 2s - loss: 0.1066 - acc: 0.9888 - 2s/epoch - 2s/step\n",
            "Epoch 49/100\n",
            "1/1 - 1s - loss: 0.1053 - acc: 0.9888 - 1s/epoch - 1s/step\n",
            "Epoch 50/100\n",
            "1/1 - 1s - loss: 0.1041 - acc: 0.9888 - 1s/epoch - 1s/step\n",
            "Epoch 51/100\n",
            "1/1 - 1s - loss: 0.1029 - acc: 0.9888 - 1s/epoch - 1s/step\n",
            "Epoch 52/100\n",
            "1/1 - 1s - loss: 0.1018 - acc: 0.9888 - 1s/epoch - 1s/step\n",
            "Epoch 53/100\n",
            "1/1 - 1s - loss: 0.1007 - acc: 0.9888 - 1s/epoch - 1s/step\n",
            "Epoch 54/100\n",
            "1/1 - 1s - loss: 0.0996 - acc: 0.9888 - 1s/epoch - 1s/step\n",
            "Epoch 55/100\n",
            "1/1 - 1s - loss: 0.0986 - acc: 0.9888 - 1s/epoch - 1s/step\n",
            "Epoch 56/100\n",
            "1/1 - 1s - loss: 0.0977 - acc: 0.9888 - 1s/epoch - 1s/step\n",
            "Epoch 57/100\n",
            "1/1 - 1s - loss: 0.0967 - acc: 0.9888 - 1s/epoch - 1s/step\n",
            "Epoch 58/100\n",
            "1/1 - 1s - loss: 0.0958 - acc: 0.9888 - 1s/epoch - 1s/step\n",
            "Epoch 59/100\n",
            "1/1 - 1s - loss: 0.0950 - acc: 0.9888 - 1s/epoch - 1s/step\n",
            "Epoch 60/100\n",
            "1/1 - 1s - loss: 0.0941 - acc: 0.9888 - 1s/epoch - 1s/step\n",
            "Epoch 61/100\n",
            "1/1 - 1s - loss: 0.0933 - acc: 0.9888 - 1s/epoch - 1s/step\n",
            "Epoch 62/100\n",
            "1/1 - 1s - loss: 0.0926 - acc: 0.9888 - 1s/epoch - 1s/step\n",
            "Epoch 63/100\n",
            "1/1 - 1s - loss: 0.0918 - acc: 0.9888 - 1s/epoch - 1s/step\n",
            "Epoch 64/100\n",
            "1/1 - 1s - loss: 0.0911 - acc: 0.9888 - 1s/epoch - 1s/step\n",
            "Epoch 65/100\n",
            "1/1 - 1s - loss: 0.0904 - acc: 0.9888 - 1s/epoch - 1s/step\n",
            "Epoch 66/100\n",
            "1/1 - 1s - loss: 0.0897 - acc: 0.9888 - 1s/epoch - 1s/step\n",
            "Epoch 67/100\n",
            "1/1 - 1s - loss: 0.0890 - acc: 0.9888 - 1s/epoch - 1s/step\n",
            "Epoch 68/100\n",
            "1/1 - 1s - loss: 0.0884 - acc: 0.9888 - 1s/epoch - 1s/step\n",
            "Epoch 69/100\n",
            "1/1 - 1s - loss: 0.0878 - acc: 0.9888 - 1s/epoch - 1s/step\n",
            "Epoch 70/100\n",
            "1/1 - 1s - loss: 0.0872 - acc: 0.9888 - 1s/epoch - 1s/step\n",
            "Epoch 71/100\n",
            "1/1 - 1s - loss: 0.0866 - acc: 0.9888 - 1s/epoch - 1s/step\n",
            "Epoch 72/100\n",
            "1/1 - 1s - loss: 0.0860 - acc: 0.9888 - 1s/epoch - 1s/step\n",
            "Epoch 73/100\n",
            "1/1 - 1s - loss: 0.0855 - acc: 0.9888 - 1s/epoch - 1s/step\n",
            "Epoch 74/100\n",
            "1/1 - 1s - loss: 0.0850 - acc: 0.9888 - 1s/epoch - 1s/step\n",
            "Epoch 75/100\n",
            "1/1 - 1s - loss: 0.0845 - acc: 0.9888 - 1s/epoch - 1s/step\n",
            "Epoch 76/100\n",
            "1/1 - 1s - loss: 0.0840 - acc: 0.9888 - 1s/epoch - 1s/step\n",
            "Epoch 77/100\n",
            "1/1 - 1s - loss: 0.0835 - acc: 0.9888 - 1s/epoch - 1s/step\n",
            "Epoch 78/100\n",
            "1/1 - 1s - loss: 0.0830 - acc: 0.9888 - 1s/epoch - 1s/step\n",
            "Epoch 79/100\n",
            "1/1 - 1s - loss: 0.0826 - acc: 0.9888 - 1s/epoch - 1s/step\n",
            "Epoch 80/100\n",
            "1/1 - 1s - loss: 0.0821 - acc: 0.9888 - 1s/epoch - 1s/step\n",
            "Epoch 81/100\n",
            "1/1 - 1s - loss: 0.0817 - acc: 0.9888 - 1s/epoch - 1s/step\n",
            "Epoch 82/100\n",
            "1/1 - 1s - loss: 0.0813 - acc: 0.9888 - 1s/epoch - 1s/step\n",
            "Epoch 83/100\n",
            "1/1 - 1s - loss: 0.0809 - acc: 0.9888 - 1s/epoch - 1s/step\n",
            "Epoch 84/100\n",
            "1/1 - 1s - loss: 0.0805 - acc: 0.9888 - 1s/epoch - 1s/step\n",
            "Epoch 85/100\n",
            "1/1 - 1s - loss: 0.0801 - acc: 0.9888 - 1s/epoch - 1s/step\n",
            "Epoch 86/100\n",
            "1/1 - 1s - loss: 0.0797 - acc: 0.9888 - 1s/epoch - 1s/step\n",
            "Epoch 87/100\n",
            "1/1 - 1s - loss: 0.0794 - acc: 0.9888 - 1s/epoch - 1s/step\n",
            "Epoch 88/100\n",
            "1/1 - 1s - loss: 0.0790 - acc: 0.9888 - 1s/epoch - 1s/step\n",
            "Epoch 89/100\n",
            "1/1 - 1s - loss: 0.0787 - acc: 0.9888 - 1s/epoch - 1s/step\n",
            "Epoch 90/100\n",
            "1/1 - 1s - loss: 0.0783 - acc: 0.9888 - 1s/epoch - 1s/step\n",
            "Epoch 91/100\n",
            "1/1 - 1s - loss: 0.0780 - acc: 0.9888 - 1s/epoch - 1s/step\n",
            "Epoch 92/100\n",
            "1/1 - 1s - loss: 0.0777 - acc: 0.9888 - 1s/epoch - 1s/step\n",
            "Epoch 93/100\n",
            "1/1 - 1s - loss: 0.0774 - acc: 0.9888 - 1s/epoch - 1s/step\n",
            "Epoch 94/100\n",
            "1/1 - 1s - loss: 0.0771 - acc: 0.9888 - 1s/epoch - 1s/step\n",
            "Epoch 95/100\n",
            "1/1 - 1s - loss: 0.0768 - acc: 0.9888 - 1s/epoch - 1s/step\n",
            "Epoch 96/100\n",
            "1/1 - 1s - loss: 0.0765 - acc: 0.9888 - 1s/epoch - 1s/step\n",
            "Epoch 97/100\n",
            "1/1 - 2s - loss: 0.0762 - acc: 0.9888 - 2s/epoch - 2s/step\n",
            "Epoch 98/100\n",
            "1/1 - 2s - loss: 0.0759 - acc: 0.9888 - 2s/epoch - 2s/step\n",
            "Epoch 99/100\n",
            "1/1 - 2s - loss: 0.0757 - acc: 0.9888 - 2s/epoch - 2s/step\n",
            "Epoch 100/100\n",
            "1/1 - 2s - loss: 0.0754 - acc: 0.9888 - 2s/epoch - 2s/step\n"
          ]
        },
        {
          "output_type": "execute_result",
          "data": {
            "text/plain": [
              "<keras.callbacks.History at 0x7f28b29c6e50>"
            ]
          },
          "metadata": {},
          "execution_count": 407
        }
      ]
    },
    {
      "cell_type": "code",
      "source": [
        "X.shape"
      ],
      "metadata": {
        "colab": {
          "base_uri": "https://localhost:8080/"
        },
        "id": "Mo2hPlJCe2u2",
        "outputId": "5dfbe245-11db-42c8-ee11-9d9e22879672"
      },
      "execution_count": null,
      "outputs": [
        {
          "output_type": "execute_result",
          "data": {
            "text/plain": [
              "(449801, 12)"
            ]
          },
          "metadata": {},
          "execution_count": 398
        }
      ]
    },
    {
      "cell_type": "code",
      "source": [
        "y_pred = nnmodel.predict(X)"
      ],
      "metadata": {
        "id": "csiLBooEA7ly"
      },
      "execution_count": null,
      "outputs": []
    },
    {
      "cell_type": "code",
      "source": [
        "pd.DataFrame(y_pred).value_counts()"
      ],
      "metadata": {
        "id": "E5QJlVoeFoi-",
        "colab": {
          "base_uri": "https://localhost:8080/"
        },
        "outputId": "37187958-f98b-4649-a595-558202bb1e2e"
      },
      "execution_count": null,
      "outputs": [
        {
          "output_type": "execute_result",
          "data": {
            "text/plain": [
              "0.034991    10\n",
              "0.041444    10\n",
              "0.036781    10\n",
              "0.034554    10\n",
              "0.036592     9\n",
              "            ..\n",
              "0.037424     1\n",
              "0.037424     1\n",
              "0.037424     1\n",
              "0.037424     1\n",
              "0.055645     1\n",
              "Length: 276145, dtype: int64"
            ]
          },
          "metadata": {},
          "execution_count": 409
        }
      ]
    },
    {
      "cell_type": "code",
      "source": [
        "test2=pd.read_csv(\"/content/drive/MyDrive/test.csv\")"
      ],
      "metadata": {
        "id": "-F1FQCRNFWr8"
      },
      "execution_count": null,
      "outputs": []
    },
    {
      "cell_type": "code",
      "source": [
        "data_final = test2['order_id']"
      ],
      "metadata": {
        "id": "eP0x13L9FH6I"
      },
      "execution_count": null,
      "outputs": []
    },
    {
      "cell_type": "code",
      "source": [
        "data_final"
      ],
      "metadata": {
        "id": "8AoSgvPlFfYp",
        "colab": {
          "base_uri": "https://localhost:8080/"
        },
        "outputId": "97b3f349-ce1d-4a0e-97f1-f1ffc708dc93"
      },
      "execution_count": null,
      "outputs": [
        {
          "output_type": "execute_result",
          "data": {
            "text/plain": [
              "0         130231\n",
              "1         130232\n",
              "2         130233\n",
              "3         130234\n",
              "4         130235\n",
              "           ...  \n",
              "144839     41184\n",
              "144840     41185\n",
              "144841     41186\n",
              "144842     41187\n",
              "144843     41188\n",
              "Name: order_id, Length: 144844, dtype: int64"
            ]
          },
          "metadata": {},
          "execution_count": 412
        }
      ]
    },
    {
      "cell_type": "code",
      "source": [
        "data_final = pd.concat([data_final, pd.DataFrame(y_pred)], axis=1) #Run model and run this cell to get specific y_pred"
      ],
      "metadata": {
        "id": "lRLzXZlhFjRJ"
      },
      "execution_count": null,
      "outputs": []
    },
    {
      "cell_type": "code",
      "source": [
        "data_final.head()"
      ],
      "metadata": {
        "id": "mkPjV9jJFwtW",
        "colab": {
          "base_uri": "https://localhost:8080/",
          "height": 206
        },
        "outputId": "18205f4f-6a69-4afb-aeeb-555f3a18812b"
      },
      "execution_count": null,
      "outputs": [
        {
          "output_type": "execute_result",
          "data": {
            "text/html": [
              "\n",
              "  <div id=\"df-bfd6dc23-b4e5-41cc-8df0-78a4f4dcaf39\">\n",
              "    <div class=\"colab-df-container\">\n",
              "      <div>\n",
              "<style scoped>\n",
              "    .dataframe tbody tr th:only-of-type {\n",
              "        vertical-align: middle;\n",
              "    }\n",
              "\n",
              "    .dataframe tbody tr th {\n",
              "        vertical-align: top;\n",
              "    }\n",
              "\n",
              "    .dataframe thead th {\n",
              "        text-align: right;\n",
              "    }\n",
              "</style>\n",
              "<table border=\"1\" class=\"dataframe\">\n",
              "  <thead>\n",
              "    <tr style=\"text-align: right;\">\n",
              "      <th></th>\n",
              "      <th>order_id</th>\n",
              "      <th>0</th>\n",
              "    </tr>\n",
              "  </thead>\n",
              "  <tbody>\n",
              "    <tr>\n",
              "      <th>0</th>\n",
              "      <td>130231.0</td>\n",
              "      <td>0.043457</td>\n",
              "    </tr>\n",
              "    <tr>\n",
              "      <th>1</th>\n",
              "      <td>130232.0</td>\n",
              "      <td>0.044611</td>\n",
              "    </tr>\n",
              "    <tr>\n",
              "      <th>2</th>\n",
              "      <td>130233.0</td>\n",
              "      <td>0.045861</td>\n",
              "    </tr>\n",
              "    <tr>\n",
              "      <th>3</th>\n",
              "      <td>130234.0</td>\n",
              "      <td>0.046108</td>\n",
              "    </tr>\n",
              "    <tr>\n",
              "      <th>4</th>\n",
              "      <td>130235.0</td>\n",
              "      <td>0.045037</td>\n",
              "    </tr>\n",
              "  </tbody>\n",
              "</table>\n",
              "</div>\n",
              "      <button class=\"colab-df-convert\" onclick=\"convertToInteractive('df-bfd6dc23-b4e5-41cc-8df0-78a4f4dcaf39')\"\n",
              "              title=\"Convert this dataframe to an interactive table.\"\n",
              "              style=\"display:none;\">\n",
              "        \n",
              "  <svg xmlns=\"http://www.w3.org/2000/svg\" height=\"24px\"viewBox=\"0 0 24 24\"\n",
              "       width=\"24px\">\n",
              "    <path d=\"M0 0h24v24H0V0z\" fill=\"none\"/>\n",
              "    <path d=\"M18.56 5.44l.94 2.06.94-2.06 2.06-.94-2.06-.94-.94-2.06-.94 2.06-2.06.94zm-11 1L8.5 8.5l.94-2.06 2.06-.94-2.06-.94L8.5 2.5l-.94 2.06-2.06.94zm10 10l.94 2.06.94-2.06 2.06-.94-2.06-.94-.94-2.06-.94 2.06-2.06.94z\"/><path d=\"M17.41 7.96l-1.37-1.37c-.4-.4-.92-.59-1.43-.59-.52 0-1.04.2-1.43.59L10.3 9.45l-7.72 7.72c-.78.78-.78 2.05 0 2.83L4 21.41c.39.39.9.59 1.41.59.51 0 1.02-.2 1.41-.59l7.78-7.78 2.81-2.81c.8-.78.8-2.07 0-2.86zM5.41 20L4 18.59l7.72-7.72 1.47 1.35L5.41 20z\"/>\n",
              "  </svg>\n",
              "      </button>\n",
              "      \n",
              "  <style>\n",
              "    .colab-df-container {\n",
              "      display:flex;\n",
              "      flex-wrap:wrap;\n",
              "      gap: 12px;\n",
              "    }\n",
              "\n",
              "    .colab-df-convert {\n",
              "      background-color: #E8F0FE;\n",
              "      border: none;\n",
              "      border-radius: 50%;\n",
              "      cursor: pointer;\n",
              "      display: none;\n",
              "      fill: #1967D2;\n",
              "      height: 32px;\n",
              "      padding: 0 0 0 0;\n",
              "      width: 32px;\n",
              "    }\n",
              "\n",
              "    .colab-df-convert:hover {\n",
              "      background-color: #E2EBFA;\n",
              "      box-shadow: 0px 1px 2px rgba(60, 64, 67, 0.3), 0px 1px 3px 1px rgba(60, 64, 67, 0.15);\n",
              "      fill: #174EA6;\n",
              "    }\n",
              "\n",
              "    [theme=dark] .colab-df-convert {\n",
              "      background-color: #3B4455;\n",
              "      fill: #D2E3FC;\n",
              "    }\n",
              "\n",
              "    [theme=dark] .colab-df-convert:hover {\n",
              "      background-color: #434B5C;\n",
              "      box-shadow: 0px 1px 3px 1px rgba(0, 0, 0, 0.15);\n",
              "      filter: drop-shadow(0px 1px 2px rgba(0, 0, 0, 0.3));\n",
              "      fill: #FFFFFF;\n",
              "    }\n",
              "  </style>\n",
              "\n",
              "      <script>\n",
              "        const buttonEl =\n",
              "          document.querySelector('#df-bfd6dc23-b4e5-41cc-8df0-78a4f4dcaf39 button.colab-df-convert');\n",
              "        buttonEl.style.display =\n",
              "          google.colab.kernel.accessAllowed ? 'block' : 'none';\n",
              "\n",
              "        async function convertToInteractive(key) {\n",
              "          const element = document.querySelector('#df-bfd6dc23-b4e5-41cc-8df0-78a4f4dcaf39');\n",
              "          const dataTable =\n",
              "            await google.colab.kernel.invokeFunction('convertToInteractive',\n",
              "                                                     [key], {});\n",
              "          if (!dataTable) return;\n",
              "\n",
              "          const docLinkHtml = 'Like what you see? Visit the ' +\n",
              "            '<a target=\"_blank\" href=https://colab.research.google.com/notebooks/data_table.ipynb>data table notebook</a>'\n",
              "            + ' to learn more about interactive tables.';\n",
              "          element.innerHTML = '';\n",
              "          dataTable['output_type'] = 'display_data';\n",
              "          await google.colab.output.renderOutput(dataTable, element);\n",
              "          const docLink = document.createElement('div');\n",
              "          docLink.innerHTML = docLinkHtml;\n",
              "          element.appendChild(docLink);\n",
              "        }\n",
              "      </script>\n",
              "    </div>\n",
              "  </div>\n",
              "  "
            ],
            "text/plain": [
              "   order_id         0\n",
              "0  130231.0  0.043457\n",
              "1  130232.0  0.044611\n",
              "2  130233.0  0.045861\n",
              "3  130234.0  0.046108\n",
              "4  130235.0  0.045037"
            ]
          },
          "metadata": {},
          "execution_count": 414
        }
      ]
    },
    {
      "cell_type": "code",
      "source": [
        "data_final.to_csv('result.csv')"
      ],
      "metadata": {
        "id": "nwUT4oaaGanH"
      },
      "execution_count": null,
      "outputs": []
    }
  ]
}