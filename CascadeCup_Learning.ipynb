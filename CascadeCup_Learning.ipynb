{
  "cells": [
    {
      "cell_type": "code",
      "execution_count": null,
      "metadata": {
        "id": "k2nqxJlNZ8rq"
      },
      "outputs": [],
      "source": [
        "import pandas as pd\n",
        "import numpy as np"
      ]
    },
    {
      "cell_type": "code",
      "execution_count": null,
      "metadata": {
        "colab": {
          "base_uri": "https://localhost:8080/"
        },
        "id": "S2k2nRCNYq01",
        "outputId": "eea2de70-7d80-4c13-a0d2-e05307cc9544"
      },
      "outputs": [
        {
          "output_type": "stream",
          "name": "stdout",
          "text": [
            "Drive already mounted at /content/drive; to attempt to forcibly remount, call drive.mount(\"/content/drive\", force_remount=True).\n"
          ]
        }
      ],
      "source": [
        "from google.colab import drive\n",
        "drive.mount('/content/drive')"
      ]
    },
    {
      "cell_type": "code",
      "execution_count": null,
      "metadata": {
        "id": "rUX4PM6qbJA1"
      },
      "outputs": [],
      "source": [
        "data=pd.read_csv(\"/content/drive/MyDrive/train.csv\")"
      ]
    },
    {
      "cell_type": "markdown",
      "metadata": {
        "id": "LPeWdoxdcLSr"
      },
      "source": [
        "Starting with Data Cleaning,"
      ]
    },
    {
      "cell_type": "code",
      "execution_count": null,
      "metadata": {
        "colab": {
          "base_uri": "https://localhost:8080/",
          "height": 357
        },
        "id": "OqSMPqZ8wShE",
        "outputId": "cf3dff07-7dad-4b9a-f439-eea39f62764c"
      },
      "outputs": [
        {
          "output_type": "execute_result",
          "data": {
            "text/html": [
              "\n",
              "  <div id=\"df-d497e770-d3c1-40c8-ae4b-4396d8602890\">\n",
              "    <div class=\"colab-df-container\">\n",
              "      <div>\n",
              "<style scoped>\n",
              "    .dataframe tbody tr th:only-of-type {\n",
              "        vertical-align: middle;\n",
              "    }\n",
              "\n",
              "    .dataframe tbody tr th {\n",
              "        vertical-align: top;\n",
              "    }\n",
              "\n",
              "    .dataframe thead th {\n",
              "        text-align: right;\n",
              "    }\n",
              "</style>\n",
              "<table border=\"1\" class=\"dataframe\">\n",
              "  <thead>\n",
              "    <tr style=\"text-align: right;\">\n",
              "      <th></th>\n",
              "      <th>order_time</th>\n",
              "      <th>order_id</th>\n",
              "      <th>order_date</th>\n",
              "      <th>allot_time</th>\n",
              "      <th>accept_time</th>\n",
              "      <th>pickup_time</th>\n",
              "      <th>delivered_time</th>\n",
              "      <th>rider_id</th>\n",
              "      <th>first_mile_distance</th>\n",
              "      <th>last_mile_distance</th>\n",
              "      <th>alloted_orders</th>\n",
              "      <th>delivered_orders</th>\n",
              "      <th>cancelled</th>\n",
              "      <th>undelivered_orders</th>\n",
              "      <th>lifetime_order_count</th>\n",
              "      <th>reassignment_method</th>\n",
              "      <th>reassignment_reason</th>\n",
              "      <th>reassigned_order</th>\n",
              "      <th>session_time</th>\n",
              "      <th>cancelled_time</th>\n",
              "    </tr>\n",
              "  </thead>\n",
              "  <tbody>\n",
              "    <tr>\n",
              "      <th>0</th>\n",
              "      <td>2021-01-26 02:21:35</td>\n",
              "      <td>556753</td>\n",
              "      <td>2021-01-26 00:00:00</td>\n",
              "      <td>2021-01-26 02:21:59</td>\n",
              "      <td>2021-01-26 02:22:08</td>\n",
              "      <td>2021-01-26 02:32:51</td>\n",
              "      <td>2021-01-26 02:49:47</td>\n",
              "      <td>11696</td>\n",
              "      <td>1.5666</td>\n",
              "      <td>2.65</td>\n",
              "      <td>46.0</td>\n",
              "      <td>46.0</td>\n",
              "      <td>0</td>\n",
              "      <td>0.0</td>\n",
              "      <td>621.0</td>\n",
              "      <td>NaN</td>\n",
              "      <td>NaN</td>\n",
              "      <td>NaN</td>\n",
              "      <td>NaN</td>\n",
              "      <td>NaN</td>\n",
              "    </tr>\n",
              "    <tr>\n",
              "      <th>1</th>\n",
              "      <td>2021-01-26 02:33:16</td>\n",
              "      <td>556754</td>\n",
              "      <td>2021-01-26 00:00:00</td>\n",
              "      <td>2021-01-26 02:33:57</td>\n",
              "      <td>2021-01-26 02:34:45</td>\n",
              "      <td>2021-01-26 02:50:25</td>\n",
              "      <td>2021-01-26 03:11:15</td>\n",
              "      <td>18117</td>\n",
              "      <td>2.5207</td>\n",
              "      <td>2.76</td>\n",
              "      <td>8.0</td>\n",
              "      <td>8.0</td>\n",
              "      <td>0</td>\n",
              "      <td>0.0</td>\n",
              "      <td>105.0</td>\n",
              "      <td>NaN</td>\n",
              "      <td>NaN</td>\n",
              "      <td>NaN</td>\n",
              "      <td>3.266667</td>\n",
              "      <td>NaN</td>\n",
              "    </tr>\n",
              "    <tr>\n",
              "      <th>2</th>\n",
              "      <td>2021-01-26 02:39:49</td>\n",
              "      <td>556755</td>\n",
              "      <td>2021-01-26 00:00:00</td>\n",
              "      <td>2021-01-26 02:39:57</td>\n",
              "      <td>2021-01-26 02:40:13</td>\n",
              "      <td>2021-01-26 02:56:00</td>\n",
              "      <td>2021-01-26 03:12:46</td>\n",
              "      <td>18623</td>\n",
              "      <td>2.2074</td>\n",
              "      <td>4.80</td>\n",
              "      <td>1.0</td>\n",
              "      <td>1.0</td>\n",
              "      <td>0</td>\n",
              "      <td>0.0</td>\n",
              "      <td>66.0</td>\n",
              "      <td>NaN</td>\n",
              "      <td>NaN</td>\n",
              "      <td>NaN</td>\n",
              "      <td>9.816667</td>\n",
              "      <td>NaN</td>\n",
              "    </tr>\n",
              "    <tr>\n",
              "      <th>3</th>\n",
              "      <td>2021-01-26 02:47:53</td>\n",
              "      <td>556756</td>\n",
              "      <td>2021-01-26 00:00:00</td>\n",
              "      <td>2021-01-26 02:48:25</td>\n",
              "      <td>2021-01-26 02:49:06</td>\n",
              "      <td>2021-01-26 03:21:51</td>\n",
              "      <td>2021-01-26 03:41:05</td>\n",
              "      <td>15945</td>\n",
              "      <td>2.1894</td>\n",
              "      <td>6.38</td>\n",
              "      <td>1.0</td>\n",
              "      <td>1.0</td>\n",
              "      <td>0</td>\n",
              "      <td>0.0</td>\n",
              "      <td>127.0</td>\n",
              "      <td>NaN</td>\n",
              "      <td>NaN</td>\n",
              "      <td>NaN</td>\n",
              "      <td>17.533333</td>\n",
              "      <td>NaN</td>\n",
              "    </tr>\n",
              "    <tr>\n",
              "      <th>4</th>\n",
              "      <td>2021-01-26 03:06:30</td>\n",
              "      <td>556757</td>\n",
              "      <td>2021-01-26 00:00:00</td>\n",
              "      <td>2021-01-26 03:07:21</td>\n",
              "      <td>2021-01-26 03:07:57</td>\n",
              "      <td>2021-01-26 03:31:38</td>\n",
              "      <td>2021-01-26 04:00:15</td>\n",
              "      <td>17589</td>\n",
              "      <td>2.7870</td>\n",
              "      <td>4.01</td>\n",
              "      <td>34.0</td>\n",
              "      <td>34.0</td>\n",
              "      <td>0</td>\n",
              "      <td>0.0</td>\n",
              "      <td>84.0</td>\n",
              "      <td>NaN</td>\n",
              "      <td>NaN</td>\n",
              "      <td>NaN</td>\n",
              "      <td>1.350000</td>\n",
              "      <td>NaN</td>\n",
              "    </tr>\n",
              "  </tbody>\n",
              "</table>\n",
              "</div>\n",
              "      <button class=\"colab-df-convert\" onclick=\"convertToInteractive('df-d497e770-d3c1-40c8-ae4b-4396d8602890')\"\n",
              "              title=\"Convert this dataframe to an interactive table.\"\n",
              "              style=\"display:none;\">\n",
              "        \n",
              "  <svg xmlns=\"http://www.w3.org/2000/svg\" height=\"24px\"viewBox=\"0 0 24 24\"\n",
              "       width=\"24px\">\n",
              "    <path d=\"M0 0h24v24H0V0z\" fill=\"none\"/>\n",
              "    <path d=\"M18.56 5.44l.94 2.06.94-2.06 2.06-.94-2.06-.94-.94-2.06-.94 2.06-2.06.94zm-11 1L8.5 8.5l.94-2.06 2.06-.94-2.06-.94L8.5 2.5l-.94 2.06-2.06.94zm10 10l.94 2.06.94-2.06 2.06-.94-2.06-.94-.94-2.06-.94 2.06-2.06.94z\"/><path d=\"M17.41 7.96l-1.37-1.37c-.4-.4-.92-.59-1.43-.59-.52 0-1.04.2-1.43.59L10.3 9.45l-7.72 7.72c-.78.78-.78 2.05 0 2.83L4 21.41c.39.39.9.59 1.41.59.51 0 1.02-.2 1.41-.59l7.78-7.78 2.81-2.81c.8-.78.8-2.07 0-2.86zM5.41 20L4 18.59l7.72-7.72 1.47 1.35L5.41 20z\"/>\n",
              "  </svg>\n",
              "      </button>\n",
              "      \n",
              "  <style>\n",
              "    .colab-df-container {\n",
              "      display:flex;\n",
              "      flex-wrap:wrap;\n",
              "      gap: 12px;\n",
              "    }\n",
              "\n",
              "    .colab-df-convert {\n",
              "      background-color: #E8F0FE;\n",
              "      border: none;\n",
              "      border-radius: 50%;\n",
              "      cursor: pointer;\n",
              "      display: none;\n",
              "      fill: #1967D2;\n",
              "      height: 32px;\n",
              "      padding: 0 0 0 0;\n",
              "      width: 32px;\n",
              "    }\n",
              "\n",
              "    .colab-df-convert:hover {\n",
              "      background-color: #E2EBFA;\n",
              "      box-shadow: 0px 1px 2px rgba(60, 64, 67, 0.3), 0px 1px 3px 1px rgba(60, 64, 67, 0.15);\n",
              "      fill: #174EA6;\n",
              "    }\n",
              "\n",
              "    [theme=dark] .colab-df-convert {\n",
              "      background-color: #3B4455;\n",
              "      fill: #D2E3FC;\n",
              "    }\n",
              "\n",
              "    [theme=dark] .colab-df-convert:hover {\n",
              "      background-color: #434B5C;\n",
              "      box-shadow: 0px 1px 3px 1px rgba(0, 0, 0, 0.15);\n",
              "      filter: drop-shadow(0px 1px 2px rgba(0, 0, 0, 0.3));\n",
              "      fill: #FFFFFF;\n",
              "    }\n",
              "  </style>\n",
              "\n",
              "      <script>\n",
              "        const buttonEl =\n",
              "          document.querySelector('#df-d497e770-d3c1-40c8-ae4b-4396d8602890 button.colab-df-convert');\n",
              "        buttonEl.style.display =\n",
              "          google.colab.kernel.accessAllowed ? 'block' : 'none';\n",
              "\n",
              "        async function convertToInteractive(key) {\n",
              "          const element = document.querySelector('#df-d497e770-d3c1-40c8-ae4b-4396d8602890');\n",
              "          const dataTable =\n",
              "            await google.colab.kernel.invokeFunction('convertToInteractive',\n",
              "                                                     [key], {});\n",
              "          if (!dataTable) return;\n",
              "\n",
              "          const docLinkHtml = 'Like what you see? Visit the ' +\n",
              "            '<a target=\"_blank\" href=https://colab.research.google.com/notebooks/data_table.ipynb>data table notebook</a>'\n",
              "            + ' to learn more about interactive tables.';\n",
              "          element.innerHTML = '';\n",
              "          dataTable['output_type'] = 'display_data';\n",
              "          await google.colab.output.renderOutput(dataTable, element);\n",
              "          const docLink = document.createElement('div');\n",
              "          docLink.innerHTML = docLinkHtml;\n",
              "          element.appendChild(docLink);\n",
              "        }\n",
              "      </script>\n",
              "    </div>\n",
              "  </div>\n",
              "  "
            ],
            "text/plain": [
              "            order_time  order_id  ... session_time cancelled_time\n",
              "0  2021-01-26 02:21:35    556753  ...          NaN            NaN\n",
              "1  2021-01-26 02:33:16    556754  ...     3.266667            NaN\n",
              "2  2021-01-26 02:39:49    556755  ...     9.816667            NaN\n",
              "3  2021-01-26 02:47:53    556756  ...    17.533333            NaN\n",
              "4  2021-01-26 03:06:30    556757  ...     1.350000            NaN\n",
              "\n",
              "[5 rows x 20 columns]"
            ]
          },
          "metadata": {},
          "execution_count": 187
        }
      ],
      "source": [
        "data.head()"
      ]
    },
    {
      "cell_type": "code",
      "execution_count": null,
      "metadata": {
        "colab": {
          "base_uri": "https://localhost:8080/",
          "height": 364
        },
        "id": "Np4sL6HO0Svt",
        "outputId": "a2ba9d93-2f4a-4f1a-86e2-5063c4e448f1"
      },
      "outputs": [
        {
          "output_type": "execute_result",
          "data": {
            "text/html": [
              "\n",
              "  <div id=\"df-c31c4585-a68b-4602-b768-6e1817a0e8f6\">\n",
              "    <div class=\"colab-df-container\">\n",
              "      <div>\n",
              "<style scoped>\n",
              "    .dataframe tbody tr th:only-of-type {\n",
              "        vertical-align: middle;\n",
              "    }\n",
              "\n",
              "    .dataframe tbody tr th {\n",
              "        vertical-align: top;\n",
              "    }\n",
              "\n",
              "    .dataframe thead th {\n",
              "        text-align: right;\n",
              "    }\n",
              "</style>\n",
              "<table border=\"1\" class=\"dataframe\">\n",
              "  <thead>\n",
              "    <tr style=\"text-align: right;\">\n",
              "      <th></th>\n",
              "      <th>order_id</th>\n",
              "      <th>rider_id</th>\n",
              "      <th>first_mile_distance</th>\n",
              "      <th>last_mile_distance</th>\n",
              "      <th>alloted_orders</th>\n",
              "      <th>delivered_orders</th>\n",
              "      <th>cancelled</th>\n",
              "      <th>undelivered_orders</th>\n",
              "      <th>lifetime_order_count</th>\n",
              "      <th>reassigned_order</th>\n",
              "      <th>session_time</th>\n",
              "    </tr>\n",
              "  </thead>\n",
              "  <tbody>\n",
              "    <tr>\n",
              "      <th>count</th>\n",
              "      <td>450000.000000</td>\n",
              "      <td>450000.000000</td>\n",
              "      <td>450000.000000</td>\n",
              "      <td>450000.000000</td>\n",
              "      <td>433052.000000</td>\n",
              "      <td>432659.000000</td>\n",
              "      <td>450000.000000</td>\n",
              "      <td>432659.000000</td>\n",
              "      <td>449947.000000</td>\n",
              "      <td>13753.0</td>\n",
              "      <td>446325.000000</td>\n",
              "    </tr>\n",
              "    <tr>\n",
              "      <th>mean</th>\n",
              "      <td>369143.080767</td>\n",
              "      <td>7763.244016</td>\n",
              "      <td>1.229889</td>\n",
              "      <td>2.968873</td>\n",
              "      <td>104.620909</td>\n",
              "      <td>103.950448</td>\n",
              "      <td>0.011596</td>\n",
              "      <td>0.764165</td>\n",
              "      <td>853.640664</td>\n",
              "      <td>1.0</td>\n",
              "      <td>220.474779</td>\n",
              "    </tr>\n",
              "    <tr>\n",
              "      <th>std</th>\n",
              "      <td>131146.906408</td>\n",
              "      <td>5592.880135</td>\n",
              "      <td>0.846183</td>\n",
              "      <td>1.884124</td>\n",
              "      <td>90.135492</td>\n",
              "      <td>89.639646</td>\n",
              "      <td>0.107057</td>\n",
              "      <td>1.066473</td>\n",
              "      <td>1502.976162</td>\n",
              "      <td>0.0</td>\n",
              "      <td>176.713853</td>\n",
              "    </tr>\n",
              "    <tr>\n",
              "      <th>min</th>\n",
              "      <td>118350.000000</td>\n",
              "      <td>0.000000</td>\n",
              "      <td>0.000134</td>\n",
              "      <td>0.000000</td>\n",
              "      <td>1.000000</td>\n",
              "      <td>1.000000</td>\n",
              "      <td>0.000000</td>\n",
              "      <td>0.000000</td>\n",
              "      <td>0.000000</td>\n",
              "      <td>1.0</td>\n",
              "      <td>0.000000</td>\n",
              "    </tr>\n",
              "    <tr>\n",
              "      <th>25%</th>\n",
              "      <td>257342.750000</td>\n",
              "      <td>2805.000000</td>\n",
              "      <td>0.539575</td>\n",
              "      <td>1.470000</td>\n",
              "      <td>36.000000</td>\n",
              "      <td>36.000000</td>\n",
              "      <td>0.000000</td>\n",
              "      <td>0.000000</td>\n",
              "      <td>165.000000</td>\n",
              "      <td>1.0</td>\n",
              "      <td>84.100000</td>\n",
              "    </tr>\n",
              "    <tr>\n",
              "      <th>50%</th>\n",
              "      <td>369842.500000</td>\n",
              "      <td>6754.000000</td>\n",
              "      <td>1.138700</td>\n",
              "      <td>2.670000</td>\n",
              "      <td>81.000000</td>\n",
              "      <td>81.000000</td>\n",
              "      <td>0.000000</td>\n",
              "      <td>0.000000</td>\n",
              "      <td>396.000000</td>\n",
              "      <td>1.0</td>\n",
              "      <td>175.550000</td>\n",
              "    </tr>\n",
              "    <tr>\n",
              "      <th>75%</th>\n",
              "      <td>482342.250000</td>\n",
              "      <td>11965.000000</td>\n",
              "      <td>1.853000</td>\n",
              "      <td>4.220000</td>\n",
              "      <td>147.000000</td>\n",
              "      <td>146.000000</td>\n",
              "      <td>0.000000</td>\n",
              "      <td>1.000000</td>\n",
              "      <td>948.000000</td>\n",
              "      <td>1.0</td>\n",
              "      <td>316.766667</td>\n",
              "    </tr>\n",
              "    <tr>\n",
              "      <th>max</th>\n",
              "      <td>594842.000000</td>\n",
              "      <td>21566.000000</td>\n",
              "      <td>42.038100</td>\n",
              "      <td>22.410000</td>\n",
              "      <td>567.000000</td>\n",
              "      <td>562.000000</td>\n",
              "      <td>1.000000</td>\n",
              "      <td>9.000000</td>\n",
              "      <td>30469.000000</td>\n",
              "      <td>1.0</td>\n",
              "      <td>1298.966667</td>\n",
              "    </tr>\n",
              "  </tbody>\n",
              "</table>\n",
              "</div>\n",
              "      <button class=\"colab-df-convert\" onclick=\"convertToInteractive('df-c31c4585-a68b-4602-b768-6e1817a0e8f6')\"\n",
              "              title=\"Convert this dataframe to an interactive table.\"\n",
              "              style=\"display:none;\">\n",
              "        \n",
              "  <svg xmlns=\"http://www.w3.org/2000/svg\" height=\"24px\"viewBox=\"0 0 24 24\"\n",
              "       width=\"24px\">\n",
              "    <path d=\"M0 0h24v24H0V0z\" fill=\"none\"/>\n",
              "    <path d=\"M18.56 5.44l.94 2.06.94-2.06 2.06-.94-2.06-.94-.94-2.06-.94 2.06-2.06.94zm-11 1L8.5 8.5l.94-2.06 2.06-.94-2.06-.94L8.5 2.5l-.94 2.06-2.06.94zm10 10l.94 2.06.94-2.06 2.06-.94-2.06-.94-.94-2.06-.94 2.06-2.06.94z\"/><path d=\"M17.41 7.96l-1.37-1.37c-.4-.4-.92-.59-1.43-.59-.52 0-1.04.2-1.43.59L10.3 9.45l-7.72 7.72c-.78.78-.78 2.05 0 2.83L4 21.41c.39.39.9.59 1.41.59.51 0 1.02-.2 1.41-.59l7.78-7.78 2.81-2.81c.8-.78.8-2.07 0-2.86zM5.41 20L4 18.59l7.72-7.72 1.47 1.35L5.41 20z\"/>\n",
              "  </svg>\n",
              "      </button>\n",
              "      \n",
              "  <style>\n",
              "    .colab-df-container {\n",
              "      display:flex;\n",
              "      flex-wrap:wrap;\n",
              "      gap: 12px;\n",
              "    }\n",
              "\n",
              "    .colab-df-convert {\n",
              "      background-color: #E8F0FE;\n",
              "      border: none;\n",
              "      border-radius: 50%;\n",
              "      cursor: pointer;\n",
              "      display: none;\n",
              "      fill: #1967D2;\n",
              "      height: 32px;\n",
              "      padding: 0 0 0 0;\n",
              "      width: 32px;\n",
              "    }\n",
              "\n",
              "    .colab-df-convert:hover {\n",
              "      background-color: #E2EBFA;\n",
              "      box-shadow: 0px 1px 2px rgba(60, 64, 67, 0.3), 0px 1px 3px 1px rgba(60, 64, 67, 0.15);\n",
              "      fill: #174EA6;\n",
              "    }\n",
              "\n",
              "    [theme=dark] .colab-df-convert {\n",
              "      background-color: #3B4455;\n",
              "      fill: #D2E3FC;\n",
              "    }\n",
              "\n",
              "    [theme=dark] .colab-df-convert:hover {\n",
              "      background-color: #434B5C;\n",
              "      box-shadow: 0px 1px 3px 1px rgba(0, 0, 0, 0.15);\n",
              "      filter: drop-shadow(0px 1px 2px rgba(0, 0, 0, 0.3));\n",
              "      fill: #FFFFFF;\n",
              "    }\n",
              "  </style>\n",
              "\n",
              "      <script>\n",
              "        const buttonEl =\n",
              "          document.querySelector('#df-c31c4585-a68b-4602-b768-6e1817a0e8f6 button.colab-df-convert');\n",
              "        buttonEl.style.display =\n",
              "          google.colab.kernel.accessAllowed ? 'block' : 'none';\n",
              "\n",
              "        async function convertToInteractive(key) {\n",
              "          const element = document.querySelector('#df-c31c4585-a68b-4602-b768-6e1817a0e8f6');\n",
              "          const dataTable =\n",
              "            await google.colab.kernel.invokeFunction('convertToInteractive',\n",
              "                                                     [key], {});\n",
              "          if (!dataTable) return;\n",
              "\n",
              "          const docLinkHtml = 'Like what you see? Visit the ' +\n",
              "            '<a target=\"_blank\" href=https://colab.research.google.com/notebooks/data_table.ipynb>data table notebook</a>'\n",
              "            + ' to learn more about interactive tables.';\n",
              "          element.innerHTML = '';\n",
              "          dataTable['output_type'] = 'display_data';\n",
              "          await google.colab.output.renderOutput(dataTable, element);\n",
              "          const docLink = document.createElement('div');\n",
              "          docLink.innerHTML = docLinkHtml;\n",
              "          element.appendChild(docLink);\n",
              "        }\n",
              "      </script>\n",
              "    </div>\n",
              "  </div>\n",
              "  "
            ],
            "text/plain": [
              "            order_id       rider_id  ...  reassigned_order   session_time\n",
              "count  450000.000000  450000.000000  ...           13753.0  446325.000000\n",
              "mean   369143.080767    7763.244016  ...               1.0     220.474779\n",
              "std    131146.906408    5592.880135  ...               0.0     176.713853\n",
              "min    118350.000000       0.000000  ...               1.0       0.000000\n",
              "25%    257342.750000    2805.000000  ...               1.0      84.100000\n",
              "50%    369842.500000    6754.000000  ...               1.0     175.550000\n",
              "75%    482342.250000   11965.000000  ...               1.0     316.766667\n",
              "max    594842.000000   21566.000000  ...               1.0    1298.966667\n",
              "\n",
              "[8 rows x 11 columns]"
            ]
          },
          "metadata": {},
          "execution_count": 188
        }
      ],
      "source": [
        "data.describe()"
      ]
    },
    {
      "cell_type": "code",
      "execution_count": null,
      "metadata": {
        "colab": {
          "base_uri": "https://localhost:8080/"
        },
        "id": "lt00dgws0hXp",
        "outputId": "d41d7434-ef4a-4191-dfaa-35e0e1dcb5e7"
      },
      "outputs": [
        {
          "output_type": "stream",
          "name": "stdout",
          "text": [
            "<class 'pandas.core.frame.DataFrame'>\n",
            "RangeIndex: 450000 entries, 0 to 449999\n",
            "Data columns (total 20 columns):\n",
            " #   Column                Non-Null Count   Dtype  \n",
            "---  ------                --------------   -----  \n",
            " 0   order_time            450000 non-null  object \n",
            " 1   order_id              450000 non-null  int64  \n",
            " 2   order_date            450000 non-null  object \n",
            " 3   allot_time            450000 non-null  object \n",
            " 4   accept_time           449843 non-null  object \n",
            " 5   pickup_time           447579 non-null  object \n",
            " 6   delivered_time        444782 non-null  object \n",
            " 7   rider_id              450000 non-null  int64  \n",
            " 8   first_mile_distance   450000 non-null  float64\n",
            " 9   last_mile_distance    450000 non-null  float64\n",
            " 10  alloted_orders        433052 non-null  float64\n",
            " 11  delivered_orders      432659 non-null  float64\n",
            " 12  cancelled             450000 non-null  int64  \n",
            " 13  undelivered_orders    432659 non-null  float64\n",
            " 14  lifetime_order_count  449947 non-null  float64\n",
            " 15  reassignment_method   13744 non-null   object \n",
            " 16  reassignment_reason   13753 non-null   object \n",
            " 17  reassigned_order      13753 non-null   float64\n",
            " 18  session_time          446325 non-null  float64\n",
            " 19  cancelled_time        5218 non-null    object \n",
            "dtypes: float64(8), int64(3), object(9)\n",
            "memory usage: 68.7+ MB\n"
          ]
        }
      ],
      "source": [
        "data.info()"
      ]
    },
    {
      "cell_type": "code",
      "execution_count": null,
      "metadata": {
        "colab": {
          "base_uri": "https://localhost:8080/"
        },
        "id": "1xzmuQVBN1Or",
        "outputId": "c423f2e0-ab1b-48ad-e8b6-fce019283be3"
      },
      "outputs": [
        {
          "output_type": "execute_result",
          "data": {
            "text/plain": [
              "order_time                   0\n",
              "order_id                     0\n",
              "order_date                   0\n",
              "allot_time                   0\n",
              "accept_time                157\n",
              "pickup_time               2421\n",
              "delivered_time            5218\n",
              "rider_id                     0\n",
              "first_mile_distance          0\n",
              "last_mile_distance           0\n",
              "alloted_orders           16948\n",
              "delivered_orders         17341\n",
              "cancelled                    0\n",
              "undelivered_orders       17341\n",
              "lifetime_order_count        53\n",
              "reassignment_method     436256\n",
              "reassignment_reason     436247\n",
              "reassigned_order        436247\n",
              "session_time              3675\n",
              "cancelled_time          444782\n",
              "dtype: int64"
            ]
          },
          "metadata": {},
          "execution_count": 190
        }
      ],
      "source": [
        "data.isna().sum()"
      ]
    },
    {
      "cell_type": "code",
      "execution_count": null,
      "metadata": {
        "colab": {
          "base_uri": "https://localhost:8080/"
        },
        "id": "5sGDotWoSw1p",
        "outputId": "a2ff4e07-f6f6-4d84-f07b-303272011c97"
      },
      "outputs": [
        {
          "output_type": "execute_result",
          "data": {
            "text/plain": [
              "20"
            ]
          },
          "metadata": {},
          "execution_count": 191
        }
      ],
      "source": [
        "len(data.columns)"
      ]
    },
    {
      "cell_type": "code",
      "execution_count": null,
      "metadata": {
        "id": "xFtBJ8J8H-1U"
      },
      "outputs": [],
      "source": [
        "test=pd.read_csv(\"/content/drive/MyDrive/test.csv\")"
      ]
    },
    {
      "cell_type": "code",
      "execution_count": null,
      "metadata": {
        "colab": {
          "base_uri": "https://localhost:8080/"
        },
        "id": "pW4JHCSvIDbw",
        "outputId": "c6f74310-dc0b-4889-95ba-f9b4af301ede"
      },
      "outputs": [
        {
          "output_type": "stream",
          "name": "stdout",
          "text": [
            "<class 'pandas.core.frame.DataFrame'>\n",
            "RangeIndex: 144844 entries, 0 to 144843\n",
            "Data columns (total 16 columns):\n",
            " #   Column                Non-Null Count   Dtype  \n",
            "---  ------                --------------   -----  \n",
            " 0   order_time            144844 non-null  object \n",
            " 1   order_id              144844 non-null  int64  \n",
            " 2   order_date            144844 non-null  object \n",
            " 3   allot_time            144844 non-null  object \n",
            " 4   accept_time           144776 non-null  object \n",
            " 5   rider_id              144844 non-null  int64  \n",
            " 6   first_mile_distance   144844 non-null  float64\n",
            " 7   last_mile_distance    144844 non-null  float64\n",
            " 8   alloted_orders        140071 non-null  float64\n",
            " 9   delivered_orders      139960 non-null  float64\n",
            " 10  undelivered_orders    139960 non-null  float64\n",
            " 11  lifetime_order_count  144066 non-null  float64\n",
            " 12  reassignment_method   4632 non-null    object \n",
            " 13  reassignment_reason   4635 non-null    object \n",
            " 14  reassigned_order      4635 non-null    float64\n",
            " 15  session_time          139790 non-null  float64\n",
            "dtypes: float64(8), int64(2), object(6)\n",
            "memory usage: 17.7+ MB\n"
          ]
        }
      ],
      "source": [
        "test.info()"
      ]
    },
    {
      "cell_type": "code",
      "execution_count": null,
      "metadata": {
        "colab": {
          "base_uri": "https://localhost:8080/"
        },
        "id": "nQ-w1tOrcmmK",
        "outputId": "7c853173-7279-41ca-edd1-d90a4b8f7d0d"
      },
      "outputs": [
        {
          "output_type": "execute_result",
          "data": {
            "text/plain": [
              "order_time                   0\n",
              "order_id                     0\n",
              "order_date                   0\n",
              "allot_time                   0\n",
              "accept_time                 68\n",
              "rider_id                     0\n",
              "first_mile_distance          0\n",
              "last_mile_distance           0\n",
              "alloted_orders            4773\n",
              "delivered_orders          4884\n",
              "undelivered_orders        4884\n",
              "lifetime_order_count       778\n",
              "reassignment_method     140212\n",
              "reassignment_reason     140209\n",
              "reassigned_order        140209\n",
              "session_time              5054\n",
              "dtype: int64"
            ]
          },
          "metadata": {},
          "execution_count": 194
        }
      ],
      "source": [
        "test.isna().sum()"
      ]
    },
    {
      "cell_type": "code",
      "execution_count": null,
      "metadata": {
        "colab": {
          "base_uri": "https://localhost:8080/",
          "height": 1000
        },
        "id": "SJ604PRtc4ns",
        "outputId": "0cab388a-5ef0-457b-e685-759f7e4a8667"
      },
      "outputs": [
        {
          "output_type": "display_data",
          "data": {
            "image/png": "[encoded data removed]",
            "text/plain": [
              "<Figure size 1440x1440 with 2 Axes>"
            ]
          },
          "metadata": {
            "needs_background": "light"
          }
        }
      ],
      "source": [
        "import seaborn as sns\n",
        "import matplotlib.pyplot as plt\n",
        "plt.figure(figsize = (20,20))\n",
        "ax = sns.heatmap(data.corr().iloc[:,:], annot=True, linewidths=.5)"
      ]
    },
    {
      "cell_type": "markdown",
      "metadata": {
        "id": "QR3AfacZdiKm"
      },
      "source": [
        "Dropping columns with too many NaN values,"
      ]
    },
    {
      "cell_type": "code",
      "execution_count": null,
      "metadata": {
        "id": "ejjIe949d8q_"
      },
      "outputs": [],
      "source": [
        "cols = ['reassignment_reason', 'reassignment_method', 'reassigned_order']"
      ]
    },
    {
      "cell_type": "code",
      "execution_count": null,
      "metadata": {
        "id": "blIATMRnRisp"
      },
      "outputs": [],
      "source": [
        "data = data.drop(cols,axis=1)"
      ]
    },
    {
      "cell_type": "code",
      "execution_count": null,
      "metadata": {
        "id": "aeRESqU-eOJR"
      },
      "outputs": [],
      "source": [
        "test = test.drop(cols,axis=1)"
      ]
    },
    {
      "cell_type": "code",
      "execution_count": null,
      "metadata": {
        "id": "7rdnkzkUeQ_e"
      },
      "outputs": [],
      "source": [
        "data = data.drop('cancelled_time',axis=1)"
      ]
    },
    {
      "cell_type": "code",
      "execution_count": null,
      "metadata": {
        "colab": {
          "base_uri": "https://localhost:8080/"
        },
        "id": "Wt4_xuRofM5-",
        "outputId": "977a4d25-1404-44f9-a30b-49cf64c61d7b"
      },
      "outputs": [
        {
          "output_type": "stream",
          "name": "stdout",
          "text": [
            "{'pickup_time', 'cancelled', 'delivered_time'}\n"
          ]
        }
      ],
      "source": [
        "print(set(data.columns) - set(test.columns))"
      ]
    },
    {
      "cell_type": "code",
      "execution_count": null,
      "metadata": {
        "id": "eeuOqaVEfZOO"
      },
      "outputs": [],
      "source": [
        "data = data.drop('pickup_time',axis=1)\n",
        "data = data.drop('delivered_time',axis=1)"
      ]
    },
    {
      "cell_type": "markdown",
      "metadata": {
        "id": "wH7mwVTveeDS"
      },
      "source": [
        "After dropping,"
      ]
    },
    {
      "cell_type": "code",
      "execution_count": null,
      "metadata": {
        "colab": {
          "base_uri": "https://localhost:8080/"
        },
        "id": "rLNd2YikedUS",
        "outputId": "be7f7fc1-6ff8-475b-e2ee-4ec42dacb5d2"
      },
      "outputs": [
        {
          "output_type": "execute_result",
          "data": {
            "text/plain": [
              "order_time                  0\n",
              "order_id                    0\n",
              "order_date                  0\n",
              "allot_time                  0\n",
              "accept_time               157\n",
              "rider_id                    0\n",
              "first_mile_distance         0\n",
              "last_mile_distance          0\n",
              "alloted_orders          16948\n",
              "delivered_orders        17341\n",
              "cancelled                   0\n",
              "undelivered_orders      17341\n",
              "lifetime_order_count       53\n",
              "session_time             3675\n",
              "dtype: int64"
            ]
          },
          "metadata": {},
          "execution_count": 202
        }
      ],
      "source": [
        "data.isna().sum()"
      ]
    },
    {
      "cell_type": "code",
      "execution_count": null,
      "metadata": {
        "colab": {
          "base_uri": "https://localhost:8080/"
        },
        "id": "izIBt5FWd3p8",
        "outputId": "f3657798-a3b3-43f8-c836-1bd1b7946e72"
      },
      "outputs": [
        {
          "output_type": "stream",
          "name": "stdout",
          "text": [
            "<class 'pandas.core.frame.DataFrame'>\n",
            "RangeIndex: 450000 entries, 0 to 449999\n",
            "Data columns (total 14 columns):\n",
            " #   Column                Non-Null Count   Dtype  \n",
            "---  ------                --------------   -----  \n",
            " 0   order_time            450000 non-null  object \n",
            " 1   order_id              450000 non-null  int64  \n",
            " 2   order_date            450000 non-null  object \n",
            " 3   allot_time            450000 non-null  object \n",
            " 4   accept_time           449843 non-null  object \n",
            " 5   rider_id              450000 non-null  int64  \n",
            " 6   first_mile_distance   450000 non-null  float64\n",
            " 7   last_mile_distance    450000 non-null  float64\n",
            " 8   alloted_orders        433052 non-null  float64\n",
            " 9   delivered_orders      432659 non-null  float64\n",
            " 10  cancelled             450000 non-null  int64  \n",
            " 11  undelivered_orders    432659 non-null  float64\n",
            " 12  lifetime_order_count  449947 non-null  float64\n",
            " 13  session_time          446325 non-null  float64\n",
            "dtypes: float64(7), int64(3), object(4)\n",
            "memory usage: 48.1+ MB\n"
          ]
        }
      ],
      "source": [
        "data.info()"
      ]
    },
    {
      "cell_type": "markdown",
      "metadata": {
        "id": "aguJqSW4enzC"
      },
      "source": [
        "Checking correlation again,"
      ]
    },
    {
      "cell_type": "code",
      "execution_count": null,
      "metadata": {
        "colab": {
          "base_uri": "https://localhost:8080/",
          "height": 960
        },
        "id": "nGvTAJa4etjl",
        "outputId": "4dc6fd61-0868-467c-c4ed-2d8a4518b544"
      },
      "outputs": [
        {
          "output_type": "display_data",
          "data": {
            "image/png": "[encoded data removed]",
            "text/plain": [
              "<Figure size 1080x1080 with 2 Axes>"
            ]
          },
          "metadata": {
            "needs_background": "light"
          }
        }
      ],
      "source": [
        "import seaborn as sns\n",
        "import matplotlib.pyplot as plt\n",
        "plt.figure(figsize = (15,15))\n",
        "ax = sns.heatmap(data.corr().iloc[:,:], annot=True, linewidths=.5)"
      ]
    },
    {
      "cell_type": "markdown",
      "metadata": {
        "id": "AVwOrDwsfsY2"
      },
      "source": [
        "Dividing the features (for finding missing),"
      ]
    },
    {
      "cell_type": "code",
      "execution_count": null,
      "metadata": {
        "id": "Do2-a194full"
      },
      "outputs": [],
      "source": [
        "numerical = ['alloted_orders','delivered_orders','undelivered_orders','lifetime_order_count','session_time']\n",
        "fdate = ['accept_time']"
      ]
    },
    {
      "cell_type": "markdown",
      "metadata": {
        "id": "70xtZxq5hrxU"
      },
      "source": [
        "Since it's difficult to predict time, we drop all rows where accept time is missing,"
      ]
    },
    {
      "cell_type": "code",
      "execution_count": null,
      "metadata": {
        "id": "TNA9kzt-hq9u"
      },
      "outputs": [],
      "source": [
        "# data = data[pd.notnull(data['accept_time'])]"
      ]
    },
    {
      "cell_type": "code",
      "execution_count": null,
      "metadata": {
        "colab": {
          "base_uri": "https://localhost:8080/"
        },
        "id": "rHfzXFlViUxS",
        "outputId": "c7504c8e-051d-47cd-b71a-3c1b40c6f670"
      },
      "outputs": [
        {
          "output_type": "execute_result",
          "data": {
            "text/plain": [
              "order_time                  0\n",
              "order_id                    0\n",
              "order_date                  0\n",
              "allot_time                  0\n",
              "accept_time               157\n",
              "rider_id                    0\n",
              "first_mile_distance         0\n",
              "last_mile_distance          0\n",
              "alloted_orders          16948\n",
              "delivered_orders        17341\n",
              "cancelled                   0\n",
              "undelivered_orders      17341\n",
              "lifetime_order_count       53\n",
              "session_time             3675\n",
              "dtype: int64"
            ]
          },
          "metadata": {},
          "execution_count": 207
        }
      ],
      "source": [
        "data.isna().sum()"
      ]
    },
    {
      "cell_type": "code",
      "execution_count": null,
      "metadata": {
        "colab": {
          "base_uri": "https://localhost:8080/"
        },
        "id": "CANZkLXSiYh8",
        "outputId": "225d840d-11ed-4807-d8fc-5cec9215103b"
      },
      "outputs": [
        {
          "output_type": "execute_result",
          "data": {
            "text/plain": [
              "(450000, 14)"
            ]
          },
          "metadata": {},
          "execution_count": 208
        }
      ],
      "source": [
        "data.shape"
      ]
    },
    {
      "cell_type": "code",
      "execution_count": null,
      "metadata": {
        "id": "duaOR1IiHEbs"
      },
      "outputs": [],
      "source": [
        "# for rider in test['rider_id']:\n",
        "#   if rider in v1['rider_id'].values:\n",
        "#     test1['cancelled'] = list(v1[(v1['rider_id'] == rider)]['cancelled'].values)[0]\n",
        "#   else:\n",
        "#     test1['cancelled'] = 0"
      ]
    },
    {
      "cell_type": "code",
      "execution_count": null,
      "metadata": {
        "colab": {
          "base_uri": "https://localhost:8080/",
          "height": 601
        },
        "id": "XtgFla92JDGm",
        "outputId": "7d5a03b8-730d-455a-814a-24b8e759ffb1"
      },
      "outputs": [
        {
          "output_type": "execute_result",
          "data": {
            "text/html": [
              "\n",
              "  <div id=\"df-f5a6fe8d-4134-4ccf-94f9-06396976028c\">\n",
              "    <div class=\"colab-df-container\">\n",
              "      <div>\n",
              "<style scoped>\n",
              "    .dataframe tbody tr th:only-of-type {\n",
              "        vertical-align: middle;\n",
              "    }\n",
              "\n",
              "    .dataframe tbody tr th {\n",
              "        vertical-align: top;\n",
              "    }\n",
              "\n",
              "    .dataframe thead th {\n",
              "        text-align: right;\n",
              "    }\n",
              "</style>\n",
              "<table border=\"1\" class=\"dataframe\">\n",
              "  <thead>\n",
              "    <tr style=\"text-align: right;\">\n",
              "      <th></th>\n",
              "      <th>order_time</th>\n",
              "      <th>order_id</th>\n",
              "      <th>order_date</th>\n",
              "      <th>allot_time</th>\n",
              "      <th>accept_time</th>\n",
              "      <th>rider_id</th>\n",
              "      <th>first_mile_distance</th>\n",
              "      <th>last_mile_distance</th>\n",
              "      <th>alloted_orders</th>\n",
              "      <th>delivered_orders</th>\n",
              "      <th>cancelled</th>\n",
              "      <th>undelivered_orders</th>\n",
              "      <th>lifetime_order_count</th>\n",
              "      <th>session_time</th>\n",
              "    </tr>\n",
              "  </thead>\n",
              "  <tbody>\n",
              "    <tr>\n",
              "      <th>0</th>\n",
              "      <td>2021-01-26 02:21:35</td>\n",
              "      <td>556753</td>\n",
              "      <td>2021-01-26 00:00:00</td>\n",
              "      <td>2021-01-26 02:21:59</td>\n",
              "      <td>2021-01-26 02:22:08</td>\n",
              "      <td>11696</td>\n",
              "      <td>1.566600</td>\n",
              "      <td>2.65</td>\n",
              "      <td>46.0</td>\n",
              "      <td>46.0</td>\n",
              "      <td>0</td>\n",
              "      <td>0.0</td>\n",
              "      <td>621.0</td>\n",
              "      <td>NaN</td>\n",
              "    </tr>\n",
              "    <tr>\n",
              "      <th>1</th>\n",
              "      <td>2021-01-26 02:33:16</td>\n",
              "      <td>556754</td>\n",
              "      <td>2021-01-26 00:00:00</td>\n",
              "      <td>2021-01-26 02:33:57</td>\n",
              "      <td>2021-01-26 02:34:45</td>\n",
              "      <td>18117</td>\n",
              "      <td>2.520700</td>\n",
              "      <td>2.76</td>\n",
              "      <td>8.0</td>\n",
              "      <td>8.0</td>\n",
              "      <td>0</td>\n",
              "      <td>0.0</td>\n",
              "      <td>105.0</td>\n",
              "      <td>3.266667</td>\n",
              "    </tr>\n",
              "    <tr>\n",
              "      <th>2</th>\n",
              "      <td>2021-01-26 02:39:49</td>\n",
              "      <td>556755</td>\n",
              "      <td>2021-01-26 00:00:00</td>\n",
              "      <td>2021-01-26 02:39:57</td>\n",
              "      <td>2021-01-26 02:40:13</td>\n",
              "      <td>18623</td>\n",
              "      <td>2.207400</td>\n",
              "      <td>4.80</td>\n",
              "      <td>1.0</td>\n",
              "      <td>1.0</td>\n",
              "      <td>0</td>\n",
              "      <td>0.0</td>\n",
              "      <td>66.0</td>\n",
              "      <td>9.816667</td>\n",
              "    </tr>\n",
              "    <tr>\n",
              "      <th>3</th>\n",
              "      <td>2021-01-26 02:47:53</td>\n",
              "      <td>556756</td>\n",
              "      <td>2021-01-26 00:00:00</td>\n",
              "      <td>2021-01-26 02:48:25</td>\n",
              "      <td>2021-01-26 02:49:06</td>\n",
              "      <td>15945</td>\n",
              "      <td>2.189400</td>\n",
              "      <td>6.38</td>\n",
              "      <td>1.0</td>\n",
              "      <td>1.0</td>\n",
              "      <td>0</td>\n",
              "      <td>0.0</td>\n",
              "      <td>127.0</td>\n",
              "      <td>17.533333</td>\n",
              "    </tr>\n",
              "    <tr>\n",
              "      <th>4</th>\n",
              "      <td>2021-01-26 03:06:30</td>\n",
              "      <td>556757</td>\n",
              "      <td>2021-01-26 00:00:00</td>\n",
              "      <td>2021-01-26 03:07:21</td>\n",
              "      <td>2021-01-26 03:07:57</td>\n",
              "      <td>17589</td>\n",
              "      <td>2.787000</td>\n",
              "      <td>4.01</td>\n",
              "      <td>34.0</td>\n",
              "      <td>34.0</td>\n",
              "      <td>0</td>\n",
              "      <td>0.0</td>\n",
              "      <td>84.0</td>\n",
              "      <td>1.350000</td>\n",
              "    </tr>\n",
              "    <tr>\n",
              "      <th>5</th>\n",
              "      <td>2021-01-26 03:07:16</td>\n",
              "      <td>556758</td>\n",
              "      <td>2021-01-26 00:00:00</td>\n",
              "      <td>2021-01-26 03:12:14</td>\n",
              "      <td>2021-01-26 03:12:27</td>\n",
              "      <td>1469</td>\n",
              "      <td>2.481800</td>\n",
              "      <td>5.18</td>\n",
              "      <td>296.0</td>\n",
              "      <td>294.0</td>\n",
              "      <td>0</td>\n",
              "      <td>2.0</td>\n",
              "      <td>1506.0</td>\n",
              "      <td>NaN</td>\n",
              "    </tr>\n",
              "    <tr>\n",
              "      <th>6</th>\n",
              "      <td>2021-01-26 03:10:50</td>\n",
              "      <td>556759</td>\n",
              "      <td>2021-01-26 00:00:00</td>\n",
              "      <td>2021-01-26 03:11:18</td>\n",
              "      <td>2021-01-26 03:12:05</td>\n",
              "      <td>8851</td>\n",
              "      <td>2.809100</td>\n",
              "      <td>3.40</td>\n",
              "      <td>45.0</td>\n",
              "      <td>45.0</td>\n",
              "      <td>0</td>\n",
              "      <td>0.0</td>\n",
              "      <td>1460.0</td>\n",
              "      <td>NaN</td>\n",
              "    </tr>\n",
              "    <tr>\n",
              "      <th>7</th>\n",
              "      <td>2021-01-26 03:14:10</td>\n",
              "      <td>556760</td>\n",
              "      <td>2021-01-26 00:00:00</td>\n",
              "      <td>2021-01-26 03:14:38</td>\n",
              "      <td>2021-01-26 03:14:44</td>\n",
              "      <td>8493</td>\n",
              "      <td>0.025681</td>\n",
              "      <td>0.16</td>\n",
              "      <td>54.0</td>\n",
              "      <td>53.0</td>\n",
              "      <td>0</td>\n",
              "      <td>1.0</td>\n",
              "      <td>270.0</td>\n",
              "      <td>44.166667</td>\n",
              "    </tr>\n",
              "    <tr>\n",
              "      <th>8</th>\n",
              "      <td>2021-01-26 03:14:20</td>\n",
              "      <td>556761</td>\n",
              "      <td>2021-01-26 00:00:00</td>\n",
              "      <td>2021-01-26 03:14:50</td>\n",
              "      <td>2021-01-26 03:15:14</td>\n",
              "      <td>11543</td>\n",
              "      <td>2.444200</td>\n",
              "      <td>2.86</td>\n",
              "      <td>29.0</td>\n",
              "      <td>29.0</td>\n",
              "      <td>0</td>\n",
              "      <td>0.0</td>\n",
              "      <td>955.0</td>\n",
              "      <td>2.500000</td>\n",
              "    </tr>\n",
              "    <tr>\n",
              "      <th>9</th>\n",
              "      <td>2021-01-26 03:15:18</td>\n",
              "      <td>556762</td>\n",
              "      <td>2021-01-26 00:00:00</td>\n",
              "      <td>2021-01-26 03:21:27</td>\n",
              "      <td>2021-01-26 03:22:04</td>\n",
              "      <td>21037</td>\n",
              "      <td>2.878600</td>\n",
              "      <td>2.61</td>\n",
              "      <td>NaN</td>\n",
              "      <td>NaN</td>\n",
              "      <td>0</td>\n",
              "      <td>NaN</td>\n",
              "      <td>1.0</td>\n",
              "      <td>NaN</td>\n",
              "    </tr>\n",
              "  </tbody>\n",
              "</table>\n",
              "</div>\n",
              "      <button class=\"colab-df-convert\" onclick=\"convertToInteractive('df-f5a6fe8d-4134-4ccf-94f9-06396976028c')\"\n",
              "              title=\"Convert this dataframe to an interactive table.\"\n",
              "              style=\"display:none;\">\n",
              "        \n",
              "  <svg xmlns=\"http://www.w3.org/2000/svg\" height=\"24px\"viewBox=\"0 0 24 24\"\n",
              "       width=\"24px\">\n",
              "    <path d=\"M0 0h24v24H0V0z\" fill=\"none\"/>\n",
              "    <path d=\"M18.56 5.44l.94 2.06.94-2.06 2.06-.94-2.06-.94-.94-2.06-.94 2.06-2.06.94zm-11 1L8.5 8.5l.94-2.06 2.06-.94-2.06-.94L8.5 2.5l-.94 2.06-2.06.94zm10 10l.94 2.06.94-2.06 2.06-.94-2.06-.94-.94-2.06-.94 2.06-2.06.94z\"/><path d=\"M17.41 7.96l-1.37-1.37c-.4-.4-.92-.59-1.43-.59-.52 0-1.04.2-1.43.59L10.3 9.45l-7.72 7.72c-.78.78-.78 2.05 0 2.83L4 21.41c.39.39.9.59 1.41.59.51 0 1.02-.2 1.41-.59l7.78-7.78 2.81-2.81c.8-.78.8-2.07 0-2.86zM5.41 20L4 18.59l7.72-7.72 1.47 1.35L5.41 20z\"/>\n",
              "  </svg>\n",
              "      </button>\n",
              "      \n",
              "  <style>\n",
              "    .colab-df-container {\n",
              "      display:flex;\n",
              "      flex-wrap:wrap;\n",
              "      gap: 12px;\n",
              "    }\n",
              "\n",
              "    .colab-df-convert {\n",
              "      background-color: #E8F0FE;\n",
              "      border: none;\n",
              "      border-radius: 50%;\n",
              "      cursor: pointer;\n",
              "      display: none;\n",
              "      fill: #1967D2;\n",
              "      height: 32px;\n",
              "      padding: 0 0 0 0;\n",
              "      width: 32px;\n",
              "    }\n",
              "\n",
              "    .colab-df-convert:hover {\n",
              "      background-color: #E2EBFA;\n",
              "      box-shadow: 0px 1px 2px rgba(60, 64, 67, 0.3), 0px 1px 3px 1px rgba(60, 64, 67, 0.15);\n",
              "      fill: #174EA6;\n",
              "    }\n",
              "\n",
              "    [theme=dark] .colab-df-convert {\n",
              "      background-color: #3B4455;\n",
              "      fill: #D2E3FC;\n",
              "    }\n",
              "\n",
              "    [theme=dark] .colab-df-convert:hover {\n",
              "      background-color: #434B5C;\n",
              "      box-shadow: 0px 1px 3px 1px rgba(0, 0, 0, 0.15);\n",
              "      filter: drop-shadow(0px 1px 2px rgba(0, 0, 0, 0.3));\n",
              "      fill: #FFFFFF;\n",
              "    }\n",
              "  </style>\n",
              "\n",
              "      <script>\n",
              "        const buttonEl =\n",
              "          document.querySelector('#df-f5a6fe8d-4134-4ccf-94f9-06396976028c button.colab-df-convert');\n",
              "        buttonEl.style.display =\n",
              "          google.colab.kernel.accessAllowed ? 'block' : 'none';\n",
              "\n",
              "        async function convertToInteractive(key) {\n",
              "          const element = document.querySelector('#df-f5a6fe8d-4134-4ccf-94f9-06396976028c');\n",
              "          const dataTable =\n",
              "            await google.colab.kernel.invokeFunction('convertToInteractive',\n",
              "                                                     [key], {});\n",
              "          if (!dataTable) return;\n",
              "\n",
              "          const docLinkHtml = 'Like what you see? Visit the ' +\n",
              "            '<a target=\"_blank\" href=https://colab.research.google.com/notebooks/data_table.ipynb>data table notebook</a>'\n",
              "            + ' to learn more about interactive tables.';\n",
              "          element.innerHTML = '';\n",
              "          dataTable['output_type'] = 'display_data';\n",
              "          await google.colab.output.renderOutput(dataTable, element);\n",
              "          const docLink = document.createElement('div');\n",
              "          docLink.innerHTML = docLinkHtml;\n",
              "          element.appendChild(docLink);\n",
              "        }\n",
              "      </script>\n",
              "    </div>\n",
              "  </div>\n",
              "  "
            ],
            "text/plain": [
              "            order_time  order_id  ... lifetime_order_count session_time\n",
              "0  2021-01-26 02:21:35    556753  ...                621.0          NaN\n",
              "1  2021-01-26 02:33:16    556754  ...                105.0     3.266667\n",
              "2  2021-01-26 02:39:49    556755  ...                 66.0     9.816667\n",
              "3  2021-01-26 02:47:53    556756  ...                127.0    17.533333\n",
              "4  2021-01-26 03:06:30    556757  ...                 84.0     1.350000\n",
              "5  2021-01-26 03:07:16    556758  ...               1506.0          NaN\n",
              "6  2021-01-26 03:10:50    556759  ...               1460.0          NaN\n",
              "7  2021-01-26 03:14:10    556760  ...                270.0    44.166667\n",
              "8  2021-01-26 03:14:20    556761  ...                955.0     2.500000\n",
              "9  2021-01-26 03:15:18    556762  ...                  1.0          NaN\n",
              "\n",
              "[10 rows x 14 columns]"
            ]
          },
          "metadata": {},
          "execution_count": 210
        }
      ],
      "source": [
        "data.head(10)"
      ]
    },
    {
      "cell_type": "code",
      "execution_count": null,
      "metadata": {
        "id": "FpHeDTs9bCfJ"
      },
      "outputs": [],
      "source": [
        "data['order_time'] = pd.to_datetime(data['order_time'])"
      ]
    },
    {
      "cell_type": "code",
      "execution_count": null,
      "metadata": {
        "id": "EBnOKU16bSPu"
      },
      "outputs": [],
      "source": [
        "data['order_date'] = pd.to_datetime(data['order_date'])"
      ]
    },
    {
      "cell_type": "code",
      "execution_count": null,
      "metadata": {
        "id": "MfuFScnPbU1o"
      },
      "outputs": [],
      "source": [
        "data['allot_time'] = pd.to_datetime(data['allot_time'])"
      ]
    },
    {
      "cell_type": "code",
      "execution_count": null,
      "metadata": {
        "id": "3YcCHjUubVG4"
      },
      "outputs": [],
      "source": [
        "data['accept_time'] = pd.to_datetime(data['accept_time'])"
      ]
    },
    {
      "cell_type": "markdown",
      "metadata": {
        "id": "Y9VE0PhJhb7z"
      },
      "source": [
        "# Guna's Filling,"
      ]
    },
    {
      "cell_type": "code",
      "execution_count": null,
      "metadata": {
        "id": "0zudRBWdhYLK"
      },
      "outputs": [],
      "source": [
        "# data['session_time'] = data['session_time'].fillna(data.groupby('cancelled')['session_time'].transform('median'))"
      ]
    },
    {
      "cell_type": "code",
      "execution_count": null,
      "metadata": {
        "id": "Y9fV23OShhR9"
      },
      "outputs": [],
      "source": [
        "# data['lifetime_order_count'] = data['lifetime_order_count'].fillna(data.groupby('rider_id')['lifetime_order_count'].transform('median'))"
      ]
    },
    {
      "cell_type": "code",
      "execution_count": null,
      "metadata": {
        "id": "uFFoq-YJhhyx"
      },
      "outputs": [],
      "source": [
        "# data['lifetime_order_count'].fillna(0, inplace = True)"
      ]
    },
    {
      "cell_type": "code",
      "execution_count": null,
      "metadata": {
        "id": "1NLHHSQh3Zni"
      },
      "outputs": [],
      "source": [
        "# data['delivered_orders'] = data['delivered_orders'].fillna(data.groupby('cancelled')['delivered_orders'].transform('last'))"
      ]
    },
    {
      "cell_type": "code",
      "execution_count": null,
      "metadata": {
        "id": "0nBduSJakTnQ"
      },
      "outputs": [],
      "source": [
        "# data['alloted_orders'] = data['alloted_orders'].fillna(data.groupby('cancelled')['alloted_orders'].transform('last'))"
      ]
    },
    {
      "cell_type": "code",
      "execution_count": null,
      "metadata": {
        "id": "d4115JHU3c5S"
      },
      "outputs": [],
      "source": [
        "# data['undelivered_orders'] = data['undelivered_orders'].fillna(data.groupby('cancelled')['undelivered_orders'].transform('last'))"
      ]
    },
    {
      "cell_type": "code",
      "execution_count": null,
      "metadata": {
        "id": "L1OOUIr-cnNO"
      },
      "outputs": [],
      "source": [
        "data['acc_all_diff'] = data['accept_time'] - data['allot_time']\n",
        "data['acc_ord_diff'] = data['accept_time'] - data['order_time']"
      ]
    },
    {
      "cell_type": "code",
      "execution_count": null,
      "metadata": {
        "id": "-r3MZeglbLhq"
      },
      "outputs": [],
      "source": [
        "data['accept_time'].fillna(0, inplace = True)"
      ]
    },
    {
      "cell_type": "code",
      "execution_count": null,
      "metadata": {
        "id": "Lt3tvEqKeB9Q"
      },
      "outputs": [],
      "source": [
        "data['hour'] = data['order_time'].dt.hour"
      ]
    },
    {
      "cell_type": "code",
      "execution_count": null,
      "metadata": {
        "id": "Am4MncoNc869"
      },
      "outputs": [],
      "source": [
        "data['acc_all_diff'] = data['acc_all_diff']/np.timedelta64(1,'s')\n",
        "data['acc_ord_diff'] = data['acc_ord_diff']/np.timedelta64(1,'s')"
      ]
    },
    {
      "cell_type": "code",
      "execution_count": null,
      "metadata": {
        "id": "lHH4ZVy6b6T3"
      },
      "outputs": [],
      "source": [
        "# data['acc_all_diff'] = data['acc_all_diff'].fillna(data.groupby('rider_id')['acc_all_diff'].transform('median'))\n",
        "# data['acc_ord_diff'] = data['acc_ord_diff'].fillna(data.groupby('rider_id')['acc_ord_diff'].transform('median'))"
      ]
    },
    {
      "cell_type": "code",
      "execution_count": null,
      "metadata": {
        "id": "anmK4hy2wV2x"
      },
      "outputs": [],
      "source": [
        "# data['acc_all_diff'] = data['acc_all_diff'].fillna(data.groupby('cancelled')['acc_all_diff'].transform('median'))\n",
        "# data['acc_ord_diff'] = data['acc_ord_diff'].fillna(data.groupby('cancelled')['acc_ord_diff'].transform('median'))"
      ]
    },
    {
      "cell_type": "code",
      "execution_count": null,
      "metadata": {
        "id": "ADgQOnExeNpO"
      },
      "outputs": [],
      "source": [
        "b = [0,4,8,12,16,20,24]\n",
        "l = ['Late Night', 'Early Morning','Morning','Noon','Eve','Night']\n",
        "data['session'] = pd.cut(data['hour'], bins=b, labels=l, include_lowest=True)"
      ]
    },
    {
      "cell_type": "code",
      "execution_count": null,
      "metadata": {
        "colab": {
          "base_uri": "https://localhost:8080/",
          "height": 357
        },
        "id": "77-cAdmhiwQT",
        "outputId": "e47fd519-611c-46fc-d78e-9e5c4bc2423b"
      },
      "outputs": [
        {
          "output_type": "execute_result",
          "data": {
            "text/html": [
              "\n",
              "  <div id=\"df-26ed5566-adea-42bc-a379-ecec1926fbba\">\n",
              "    <div class=\"colab-df-container\">\n",
              "      <div>\n",
              "<style scoped>\n",
              "    .dataframe tbody tr th:only-of-type {\n",
              "        vertical-align: middle;\n",
              "    }\n",
              "\n",
              "    .dataframe tbody tr th {\n",
              "        vertical-align: top;\n",
              "    }\n",
              "\n",
              "    .dataframe thead th {\n",
              "        text-align: right;\n",
              "    }\n",
              "</style>\n",
              "<table border=\"1\" class=\"dataframe\">\n",
              "  <thead>\n",
              "    <tr style=\"text-align: right;\">\n",
              "      <th></th>\n",
              "      <th>order_time</th>\n",
              "      <th>order_id</th>\n",
              "      <th>order_date</th>\n",
              "      <th>allot_time</th>\n",
              "      <th>accept_time</th>\n",
              "      <th>rider_id</th>\n",
              "      <th>first_mile_distance</th>\n",
              "      <th>last_mile_distance</th>\n",
              "      <th>alloted_orders</th>\n",
              "      <th>delivered_orders</th>\n",
              "      <th>cancelled</th>\n",
              "      <th>undelivered_orders</th>\n",
              "      <th>lifetime_order_count</th>\n",
              "      <th>session_time</th>\n",
              "      <th>acc_all_diff</th>\n",
              "      <th>acc_ord_diff</th>\n",
              "      <th>hour</th>\n",
              "      <th>session</th>\n",
              "    </tr>\n",
              "  </thead>\n",
              "  <tbody>\n",
              "    <tr>\n",
              "      <th>0</th>\n",
              "      <td>2021-01-26 02:21:35</td>\n",
              "      <td>556753</td>\n",
              "      <td>2021-01-26</td>\n",
              "      <td>2021-01-26 02:21:59</td>\n",
              "      <td>2021-01-26 02:22:08</td>\n",
              "      <td>11696</td>\n",
              "      <td>1.5666</td>\n",
              "      <td>2.65</td>\n",
              "      <td>46.0</td>\n",
              "      <td>46.0</td>\n",
              "      <td>0</td>\n",
              "      <td>0.0</td>\n",
              "      <td>621.0</td>\n",
              "      <td>NaN</td>\n",
              "      <td>9.0</td>\n",
              "      <td>33.0</td>\n",
              "      <td>2</td>\n",
              "      <td>Late Night</td>\n",
              "    </tr>\n",
              "    <tr>\n",
              "      <th>1</th>\n",
              "      <td>2021-01-26 02:33:16</td>\n",
              "      <td>556754</td>\n",
              "      <td>2021-01-26</td>\n",
              "      <td>2021-01-26 02:33:57</td>\n",
              "      <td>2021-01-26 02:34:45</td>\n",
              "      <td>18117</td>\n",
              "      <td>2.5207</td>\n",
              "      <td>2.76</td>\n",
              "      <td>8.0</td>\n",
              "      <td>8.0</td>\n",
              "      <td>0</td>\n",
              "      <td>0.0</td>\n",
              "      <td>105.0</td>\n",
              "      <td>3.266667</td>\n",
              "      <td>48.0</td>\n",
              "      <td>89.0</td>\n",
              "      <td>2</td>\n",
              "      <td>Late Night</td>\n",
              "    </tr>\n",
              "    <tr>\n",
              "      <th>2</th>\n",
              "      <td>2021-01-26 02:39:49</td>\n",
              "      <td>556755</td>\n",
              "      <td>2021-01-26</td>\n",
              "      <td>2021-01-26 02:39:57</td>\n",
              "      <td>2021-01-26 02:40:13</td>\n",
              "      <td>18623</td>\n",
              "      <td>2.2074</td>\n",
              "      <td>4.80</td>\n",
              "      <td>1.0</td>\n",
              "      <td>1.0</td>\n",
              "      <td>0</td>\n",
              "      <td>0.0</td>\n",
              "      <td>66.0</td>\n",
              "      <td>9.816667</td>\n",
              "      <td>16.0</td>\n",
              "      <td>24.0</td>\n",
              "      <td>2</td>\n",
              "      <td>Late Night</td>\n",
              "    </tr>\n",
              "    <tr>\n",
              "      <th>3</th>\n",
              "      <td>2021-01-26 02:47:53</td>\n",
              "      <td>556756</td>\n",
              "      <td>2021-01-26</td>\n",
              "      <td>2021-01-26 02:48:25</td>\n",
              "      <td>2021-01-26 02:49:06</td>\n",
              "      <td>15945</td>\n",
              "      <td>2.1894</td>\n",
              "      <td>6.38</td>\n",
              "      <td>1.0</td>\n",
              "      <td>1.0</td>\n",
              "      <td>0</td>\n",
              "      <td>0.0</td>\n",
              "      <td>127.0</td>\n",
              "      <td>17.533333</td>\n",
              "      <td>41.0</td>\n",
              "      <td>73.0</td>\n",
              "      <td>2</td>\n",
              "      <td>Late Night</td>\n",
              "    </tr>\n",
              "    <tr>\n",
              "      <th>4</th>\n",
              "      <td>2021-01-26 03:06:30</td>\n",
              "      <td>556757</td>\n",
              "      <td>2021-01-26</td>\n",
              "      <td>2021-01-26 03:07:21</td>\n",
              "      <td>2021-01-26 03:07:57</td>\n",
              "      <td>17589</td>\n",
              "      <td>2.7870</td>\n",
              "      <td>4.01</td>\n",
              "      <td>34.0</td>\n",
              "      <td>34.0</td>\n",
              "      <td>0</td>\n",
              "      <td>0.0</td>\n",
              "      <td>84.0</td>\n",
              "      <td>1.350000</td>\n",
              "      <td>36.0</td>\n",
              "      <td>87.0</td>\n",
              "      <td>3</td>\n",
              "      <td>Late Night</td>\n",
              "    </tr>\n",
              "  </tbody>\n",
              "</table>\n",
              "</div>\n",
              "      <button class=\"colab-df-convert\" onclick=\"convertToInteractive('df-26ed5566-adea-42bc-a379-ecec1926fbba')\"\n",
              "              title=\"Convert this dataframe to an interactive table.\"\n",
              "              style=\"display:none;\">\n",
              "        \n",
              "  <svg xmlns=\"http://www.w3.org/2000/svg\" height=\"24px\"viewBox=\"0 0 24 24\"\n",
              "       width=\"24px\">\n",
              "    <path d=\"M0 0h24v24H0V0z\" fill=\"none\"/>\n",
              "    <path d=\"M18.56 5.44l.94 2.06.94-2.06 2.06-.94-2.06-.94-.94-2.06-.94 2.06-2.06.94zm-11 1L8.5 8.5l.94-2.06 2.06-.94-2.06-.94L8.5 2.5l-.94 2.06-2.06.94zm10 10l.94 2.06.94-2.06 2.06-.94-2.06-.94-.94-2.06-.94 2.06-2.06.94z\"/><path d=\"M17.41 7.96l-1.37-1.37c-.4-.4-.92-.59-1.43-.59-.52 0-1.04.2-1.43.59L10.3 9.45l-7.72 7.72c-.78.78-.78 2.05 0 2.83L4 21.41c.39.39.9.59 1.41.59.51 0 1.02-.2 1.41-.59l7.78-7.78 2.81-2.81c.8-.78.8-2.07 0-2.86zM5.41 20L4 18.59l7.72-7.72 1.47 1.35L5.41 20z\"/>\n",
              "  </svg>\n",
              "      </button>\n",
              "      \n",
              "  <style>\n",
              "    .colab-df-container {\n",
              "      display:flex;\n",
              "      flex-wrap:wrap;\n",
              "      gap: 12px;\n",
              "    }\n",
              "\n",
              "    .colab-df-convert {\n",
              "      background-color: #E8F0FE;\n",
              "      border: none;\n",
              "      border-radius: 50%;\n",
              "      cursor: pointer;\n",
              "      display: none;\n",
              "      fill: #1967D2;\n",
              "      height: 32px;\n",
              "      padding: 0 0 0 0;\n",
              "      width: 32px;\n",
              "    }\n",
              "\n",
              "    .colab-df-convert:hover {\n",
              "      background-color: #E2EBFA;\n",
              "      box-shadow: 0px 1px 2px rgba(60, 64, 67, 0.3), 0px 1px 3px 1px rgba(60, 64, 67, 0.15);\n",
              "      fill: #174EA6;\n",
              "    }\n",
              "\n",
              "    [theme=dark] .colab-df-convert {\n",
              "      background-color: #3B4455;\n",
              "      fill: #D2E3FC;\n",
              "    }\n",
              "\n",
              "    [theme=dark] .colab-df-convert:hover {\n",
              "      background-color: #434B5C;\n",
              "      box-shadow: 0px 1px 3px 1px rgba(0, 0, 0, 0.15);\n",
              "      filter: drop-shadow(0px 1px 2px rgba(0, 0, 0, 0.3));\n",
              "      fill: #FFFFFF;\n",
              "    }\n",
              "  </style>\n",
              "\n",
              "      <script>\n",
              "        const buttonEl =\n",
              "          document.querySelector('#df-26ed5566-adea-42bc-a379-ecec1926fbba button.colab-df-convert');\n",
              "        buttonEl.style.display =\n",
              "          google.colab.kernel.accessAllowed ? 'block' : 'none';\n",
              "\n",
              "        async function convertToInteractive(key) {\n",
              "          const element = document.querySelector('#df-26ed5566-adea-42bc-a379-ecec1926fbba');\n",
              "          const dataTable =\n",
              "            await google.colab.kernel.invokeFunction('convertToInteractive',\n",
              "                                                     [key], {});\n",
              "          if (!dataTable) return;\n",
              "\n",
              "          const docLinkHtml = 'Like what you see? Visit the ' +\n",
              "            '<a target=\"_blank\" href=https://colab.research.google.com/notebooks/data_table.ipynb>data table notebook</a>'\n",
              "            + ' to learn more about interactive tables.';\n",
              "          element.innerHTML = '';\n",
              "          dataTable['output_type'] = 'display_data';\n",
              "          await google.colab.output.renderOutput(dataTable, element);\n",
              "          const docLink = document.createElement('div');\n",
              "          docLink.innerHTML = docLinkHtml;\n",
              "          element.appendChild(docLink);\n",
              "        }\n",
              "      </script>\n",
              "    </div>\n",
              "  </div>\n",
              "  "
            ],
            "text/plain": [
              "           order_time  order_id order_date  ... acc_ord_diff hour     session\n",
              "0 2021-01-26 02:21:35    556753 2021-01-26  ...         33.0    2  Late Night\n",
              "1 2021-01-26 02:33:16    556754 2021-01-26  ...         89.0    2  Late Night\n",
              "2 2021-01-26 02:39:49    556755 2021-01-26  ...         24.0    2  Late Night\n",
              "3 2021-01-26 02:47:53    556756 2021-01-26  ...         73.0    2  Late Night\n",
              "4 2021-01-26 03:06:30    556757 2021-01-26  ...         87.0    3  Late Night\n",
              "\n",
              "[5 rows x 18 columns]"
            ]
          },
          "metadata": {},
          "execution_count": 228
        }
      ],
      "source": [
        "data.head()"
      ]
    },
    {
      "cell_type": "code",
      "execution_count": null,
      "metadata": {
        "id": "lZjcCBSwm5sH"
      },
      "outputs": [],
      "source": [
        "data['day_of_week'] = data['order_date'].dt.dayofweek"
      ]
    },
    {
      "cell_type": "code",
      "execution_count": null,
      "metadata": {
        "colab": {
          "base_uri": "https://localhost:8080/"
        },
        "id": "frl1SFxGeqxW",
        "outputId": "9267696d-6353-43ad-de86-aa64257b6209"
      },
      "outputs": [
        {
          "output_type": "execute_result",
          "data": {
            "text/plain": [
              "['order_time',\n",
              " 'order_id',\n",
              " 'order_date',\n",
              " 'allot_time',\n",
              " 'accept_time',\n",
              " 'rider_id',\n",
              " 'first_mile_distance',\n",
              " 'last_mile_distance',\n",
              " 'alloted_orders',\n",
              " 'delivered_orders',\n",
              " 'cancelled',\n",
              " 'undelivered_orders',\n",
              " 'lifetime_order_count',\n",
              " 'session_time',\n",
              " 'acc_all_diff',\n",
              " 'acc_ord_diff',\n",
              " 'hour',\n",
              " 'session',\n",
              " 'day_of_week']"
            ]
          },
          "metadata": {},
          "execution_count": 230
        }
      ],
      "source": [
        "cols = list(data.columns)\n",
        "cols"
      ]
    },
    {
      "cell_type": "markdown",
      "metadata": {
        "id": "jCrZ0hz8e1c1"
      },
      "source": [
        "Rearranging columns, removing allot_time, accept_time, and hours"
      ]
    },
    {
      "cell_type": "code",
      "execution_count": null,
      "metadata": {
        "id": "Mn1HAR1JezW1"
      },
      "outputs": [],
      "source": [
        "cols = [ \n",
        " 'order_id',\n",
        " 'acc_all_diff',\n",
        " 'acc_ord_diff',\n",
        " 'hour',\n",
        " 'session',\n",
        " 'day_of_week',\n",
        " 'rider_id',\n",
        " 'first_mile_distance',\n",
        " 'last_mile_distance',\n",
        " 'alloted_orders',\n",
        " 'delivered_orders',\n",
        " 'undelivered_orders',\n",
        " 'lifetime_order_count',\n",
        " 'session_time',\n",
        " 'cancelled',\n",
        "]"
      ]
    },
    {
      "cell_type": "code",
      "execution_count": null,
      "metadata": {
        "id": "g5-9u0vSfJC8"
      },
      "outputs": [],
      "source": [
        "data = data[cols]"
      ]
    },
    {
      "cell_type": "code",
      "execution_count": null,
      "metadata": {
        "colab": {
          "base_uri": "https://localhost:8080/",
          "height": 211
        },
        "id": "dpZl0pTsfTdR",
        "outputId": "445dbafd-43a0-475a-f595-9a3e21aee314"
      },
      "outputs": [
        {
          "output_type": "execute_result",
          "data": {
            "text/html": [
              "\n",
              "  <div id=\"df-72192874-389e-4656-bcf9-527b4cf76cce\">\n",
              "    <div class=\"colab-df-container\">\n",
              "      <div>\n",
              "<style scoped>\n",
              "    .dataframe tbody tr th:only-of-type {\n",
              "        vertical-align: middle;\n",
              "    }\n",
              "\n",
              "    .dataframe tbody tr th {\n",
              "        vertical-align: top;\n",
              "    }\n",
              "\n",
              "    .dataframe thead th {\n",
              "        text-align: right;\n",
              "    }\n",
              "</style>\n",
              "<table border=\"1\" class=\"dataframe\">\n",
              "  <thead>\n",
              "    <tr style=\"text-align: right;\">\n",
              "      <th></th>\n",
              "      <th>order_id</th>\n",
              "      <th>acc_all_diff</th>\n",
              "      <th>acc_ord_diff</th>\n",
              "      <th>hour</th>\n",
              "      <th>session</th>\n",
              "      <th>day_of_week</th>\n",
              "      <th>rider_id</th>\n",
              "      <th>first_mile_distance</th>\n",
              "      <th>last_mile_distance</th>\n",
              "      <th>alloted_orders</th>\n",
              "      <th>delivered_orders</th>\n",
              "      <th>undelivered_orders</th>\n",
              "      <th>lifetime_order_count</th>\n",
              "      <th>session_time</th>\n",
              "      <th>cancelled</th>\n",
              "    </tr>\n",
              "  </thead>\n",
              "  <tbody>\n",
              "    <tr>\n",
              "      <th>0</th>\n",
              "      <td>556753</td>\n",
              "      <td>9.0</td>\n",
              "      <td>33.0</td>\n",
              "      <td>2</td>\n",
              "      <td>Late Night</td>\n",
              "      <td>1</td>\n",
              "      <td>11696</td>\n",
              "      <td>1.5666</td>\n",
              "      <td>2.65</td>\n",
              "      <td>46.0</td>\n",
              "      <td>46.0</td>\n",
              "      <td>0.0</td>\n",
              "      <td>621.0</td>\n",
              "      <td>NaN</td>\n",
              "      <td>0</td>\n",
              "    </tr>\n",
              "    <tr>\n",
              "      <th>1</th>\n",
              "      <td>556754</td>\n",
              "      <td>48.0</td>\n",
              "      <td>89.0</td>\n",
              "      <td>2</td>\n",
              "      <td>Late Night</td>\n",
              "      <td>1</td>\n",
              "      <td>18117</td>\n",
              "      <td>2.5207</td>\n",
              "      <td>2.76</td>\n",
              "      <td>8.0</td>\n",
              "      <td>8.0</td>\n",
              "      <td>0.0</td>\n",
              "      <td>105.0</td>\n",
              "      <td>3.266667</td>\n",
              "      <td>0</td>\n",
              "    </tr>\n",
              "  </tbody>\n",
              "</table>\n",
              "</div>\n",
              "      <button class=\"colab-df-convert\" onclick=\"convertToInteractive('df-72192874-389e-4656-bcf9-527b4cf76cce')\"\n",
              "              title=\"Convert this dataframe to an interactive table.\"\n",
              "              style=\"display:none;\">\n",
              "        \n",
              "  <svg xmlns=\"http://www.w3.org/2000/svg\" height=\"24px\"viewBox=\"0 0 24 24\"\n",
              "       width=\"24px\">\n",
              "    <path d=\"M0 0h24v24H0V0z\" fill=\"none\"/>\n",
              "    <path d=\"M18.56 5.44l.94 2.06.94-2.06 2.06-.94-2.06-.94-.94-2.06-.94 2.06-2.06.94zm-11 1L8.5 8.5l.94-2.06 2.06-.94-2.06-.94L8.5 2.5l-.94 2.06-2.06.94zm10 10l.94 2.06.94-2.06 2.06-.94-2.06-.94-.94-2.06-.94 2.06-2.06.94z\"/><path d=\"M17.41 7.96l-1.37-1.37c-.4-.4-.92-.59-1.43-.59-.52 0-1.04.2-1.43.59L10.3 9.45l-7.72 7.72c-.78.78-.78 2.05 0 2.83L4 21.41c.39.39.9.59 1.41.59.51 0 1.02-.2 1.41-.59l7.78-7.78 2.81-2.81c.8-.78.8-2.07 0-2.86zM5.41 20L4 18.59l7.72-7.72 1.47 1.35L5.41 20z\"/>\n",
              "  </svg>\n",
              "      </button>\n",
              "      \n",
              "  <style>\n",
              "    .colab-df-container {\n",
              "      display:flex;\n",
              "      flex-wrap:wrap;\n",
              "      gap: 12px;\n",
              "    }\n",
              "\n",
              "    .colab-df-convert {\n",
              "      background-color: #E8F0FE;\n",
              "      border: none;\n",
              "      border-radius: 50%;\n",
              "      cursor: pointer;\n",
              "      display: none;\n",
              "      fill: #1967D2;\n",
              "      height: 32px;\n",
              "      padding: 0 0 0 0;\n",
              "      width: 32px;\n",
              "    }\n",
              "\n",
              "    .colab-df-convert:hover {\n",
              "      background-color: #E2EBFA;\n",
              "      box-shadow: 0px 1px 2px rgba(60, 64, 67, 0.3), 0px 1px 3px 1px rgba(60, 64, 67, 0.15);\n",
              "      fill: #174EA6;\n",
              "    }\n",
              "\n",
              "    [theme=dark] .colab-df-convert {\n",
              "      background-color: #3B4455;\n",
              "      fill: #D2E3FC;\n",
              "    }\n",
              "\n",
              "    [theme=dark] .colab-df-convert:hover {\n",
              "      background-color: #434B5C;\n",
              "      box-shadow: 0px 1px 3px 1px rgba(0, 0, 0, 0.15);\n",
              "      filter: drop-shadow(0px 1px 2px rgba(0, 0, 0, 0.3));\n",
              "      fill: #FFFFFF;\n",
              "    }\n",
              "  </style>\n",
              "\n",
              "      <script>\n",
              "        const buttonEl =\n",
              "          document.querySelector('#df-72192874-389e-4656-bcf9-527b4cf76cce button.colab-df-convert');\n",
              "        buttonEl.style.display =\n",
              "          google.colab.kernel.accessAllowed ? 'block' : 'none';\n",
              "\n",
              "        async function convertToInteractive(key) {\n",
              "          const element = document.querySelector('#df-72192874-389e-4656-bcf9-527b4cf76cce');\n",
              "          const dataTable =\n",
              "            await google.colab.kernel.invokeFunction('convertToInteractive',\n",
              "                                                     [key], {});\n",
              "          if (!dataTable) return;\n",
              "\n",
              "          const docLinkHtml = 'Like what you see? Visit the ' +\n",
              "            '<a target=\"_blank\" href=https://colab.research.google.com/notebooks/data_table.ipynb>data table notebook</a>'\n",
              "            + ' to learn more about interactive tables.';\n",
              "          element.innerHTML = '';\n",
              "          dataTable['output_type'] = 'display_data';\n",
              "          await google.colab.output.renderOutput(dataTable, element);\n",
              "          const docLink = document.createElement('div');\n",
              "          docLink.innerHTML = docLinkHtml;\n",
              "          element.appendChild(docLink);\n",
              "        }\n",
              "      </script>\n",
              "    </div>\n",
              "  </div>\n",
              "  "
            ],
            "text/plain": [
              "   order_id  acc_all_diff  ...  session_time  cancelled\n",
              "0    556753           9.0  ...           NaN          0\n",
              "1    556754          48.0  ...      3.266667          0\n",
              "\n",
              "[2 rows x 15 columns]"
            ]
          },
          "metadata": {},
          "execution_count": 233
        }
      ],
      "source": [
        "data.head(2)"
      ]
    },
    {
      "cell_type": "code",
      "execution_count": null,
      "metadata": {
        "colab": {
          "base_uri": "https://localhost:8080/"
        },
        "id": "lJOdvRYXgHL1",
        "outputId": "baa983c0-a8dc-4979-ea15-21808f2ba0b1"
      },
      "outputs": [
        {
          "output_type": "execute_result",
          "data": {
            "text/plain": [
              "order_id                    0\n",
              "acc_all_diff              157\n",
              "acc_ord_diff              157\n",
              "hour                        0\n",
              "session                     0\n",
              "day_of_week                 0\n",
              "rider_id                    0\n",
              "first_mile_distance         0\n",
              "last_mile_distance          0\n",
              "alloted_orders          16948\n",
              "delivered_orders        17341\n",
              "undelivered_orders      17341\n",
              "lifetime_order_count       53\n",
              "session_time             3675\n",
              "cancelled                   0\n",
              "dtype: int64"
            ]
          },
          "metadata": {},
          "execution_count": 234
        }
      ],
      "source": [
        "data.isna().sum()"
      ]
    },
    {
      "cell_type": "code",
      "execution_count": null,
      "metadata": {
        "colab": {
          "base_uri": "https://localhost:8080/"
        },
        "id": "__1JMK0mgfqO",
        "outputId": "54d2f46d-0c85-40b6-8de8-2ad7b5d58815"
      },
      "outputs": [
        {
          "output_type": "execute_result",
          "data": {
            "text/plain": [
              "(450000, 15)"
            ]
          },
          "metadata": {},
          "execution_count": 235
        }
      ],
      "source": [
        "data.shape"
      ]
    },
    {
      "cell_type": "code",
      "execution_count": null,
      "metadata": {
        "id": "kk3kvOzEkYkb"
      },
      "outputs": [],
      "source": [
        "data['session'],_ = pd.factorize(data['session'])"
      ]
    },
    {
      "cell_type": "markdown",
      "metadata": {
        "id": "JUed_ROLmZS7"
      },
      "source": [
        "From the EDA, we see two things\n",
        "1.   The highest number of cancellations occur on Saturday (or is it just Jan 30?) -  we can have two approaches here; either consider it to be weekend or day basis\n",
        "2.   Data for the next Saturday ends abruptly at morning 10.00 hours, so should we drop the last day in the dataset?"
      ]
    },
    {
      "cell_type": "markdown",
      "metadata": {
        "id": "U9onDR_crryN"
      },
      "source": [
        "Trying some visualization techniques,"
      ]
    },
    {
      "cell_type": "code",
      "execution_count": null,
      "metadata": {
        "id": "heRlq2Dgr-Dp"
      },
      "outputs": [],
      "source": [
        "# This Python 3 environment comes with many helpful analytics libraries installed\n",
        "# It is defined by the kaggle/python docker image: https://github.com/kaggle/docker-python\n",
        "# For example, here's several helpful packages to load in \n",
        "\n",
        "# Imported Libraries\n",
        "\n",
        "import numpy as np # linear algebra\n",
        "import pandas as pd # data processing, CSV file I/O (e.g. pd.read_csv)\n",
        "import tensorflow as tf\n",
        "import matplotlib.pyplot as plt\n",
        "import seaborn as sns\n",
        "from sklearn.manifold import TSNE\n",
        "from sklearn.decomposition import PCA, TruncatedSVD\n",
        "import matplotlib.patches as mpatches\n",
        "import time\n",
        "\n",
        "# Classifier Libraries\n",
        "from sklearn.linear_model import LogisticRegression\n",
        "from sklearn.svm import SVC\n",
        "from sklearn.neighbors import KNeighborsClassifier\n",
        "from sklearn.tree import DecisionTreeClassifier\n",
        "from sklearn.ensemble import RandomForestClassifier\n",
        "import collections\n",
        "\n",
        "\n",
        "# Other Libraries\n",
        "from sklearn.model_selection import train_test_split\n",
        "from sklearn.pipeline import make_pipeline\n",
        "from imblearn.pipeline import make_pipeline as imbalanced_make_pipeline\n",
        "from imblearn.over_sampling import SMOTE\n",
        "from imblearn.under_sampling import NearMiss\n",
        "from imblearn.metrics import classification_report_imbalanced\n",
        "from sklearn.metrics import precision_score, recall_score, f1_score, roc_auc_score, accuracy_score, classification_report\n",
        "from collections import Counter\n",
        "from sklearn.model_selection import KFold, StratifiedKFold\n",
        "import warnings\n",
        "warnings.filterwarnings(\"ignore\")"
      ]
    },
    {
      "cell_type": "markdown",
      "metadata": {
        "id": "FH9wAUdLsqcr"
      },
      "source": [
        "Handling missing values before that,"
      ]
    },
    {
      "cell_type": "code",
      "execution_count": null,
      "metadata": {
        "id": "zcsq5B-vFYEo"
      },
      "outputs": [],
      "source": [
        "from sklearn.impute import KNNImputer"
      ]
    },
    {
      "cell_type": "code",
      "source": [
        "X.shape"
      ],
      "metadata": {
        "colab": {
          "base_uri": "https://localhost:8080/"
        },
        "id": "AuC-Y1rlu98F",
        "outputId": "898f0b5a-4f71-458d-bb4e-08e4d1b3bc3f"
      },
      "execution_count": null,
      "outputs": [
        {
          "output_type": "execute_result",
          "data": {
            "text/plain": [
              "(450000, 14)"
            ]
          },
          "metadata": {},
          "execution_count": 258
        }
      ]
    },
    {
      "cell_type": "code",
      "source": [
        "LALA.shape"
      ],
      "metadata": {
        "colab": {
          "base_uri": "https://localhost:8080/"
        },
        "id": "JE_kGDsSu_Ft",
        "outputId": "823ae0ee-27c0-4bb9-c8b5-c390e11e58c9"
      },
      "execution_count": null,
      "outputs": [
        {
          "output_type": "execute_result",
          "data": {
            "text/plain": [
              "(594844, 14)"
            ]
          },
          "metadata": {},
          "execution_count": 259
        }
      ]
    },
    {
      "cell_type": "code",
      "execution_count": null,
      "metadata": {
        "colab": {
          "base_uri": "https://localhost:8080/",
          "height": 270
        },
        "id": "522zQcgNFm0F",
        "outputId": "356423be-2c65-4144-dbc2-0d9ed94d4bcb"
      },
      "outputs": [
        {
          "output_type": "execute_result",
          "data": {
            "text/html": [
              "\n",
              "  <div id=\"df-f817458c-e139-4292-bf43-86643b2c9ba7\">\n",
              "    <div class=\"colab-df-container\">\n",
              "      <div>\n",
              "<style scoped>\n",
              "    .dataframe tbody tr th:only-of-type {\n",
              "        vertical-align: middle;\n",
              "    }\n",
              "\n",
              "    .dataframe tbody tr th {\n",
              "        vertical-align: top;\n",
              "    }\n",
              "\n",
              "    .dataframe thead th {\n",
              "        text-align: right;\n",
              "    }\n",
              "</style>\n",
              "<table border=\"1\" class=\"dataframe\">\n",
              "  <thead>\n",
              "    <tr style=\"text-align: right;\">\n",
              "      <th></th>\n",
              "      <th>order_id</th>\n",
              "      <th>acc_all_diff</th>\n",
              "      <th>acc_ord_diff</th>\n",
              "      <th>hour</th>\n",
              "      <th>session</th>\n",
              "      <th>day_of_week</th>\n",
              "      <th>rider_id</th>\n",
              "      <th>first_mile_distance</th>\n",
              "      <th>last_mile_distance</th>\n",
              "      <th>alloted_orders</th>\n",
              "      <th>delivered_orders</th>\n",
              "      <th>undelivered_orders</th>\n",
              "      <th>lifetime_order_count</th>\n",
              "      <th>session_time</th>\n",
              "    </tr>\n",
              "  </thead>\n",
              "  <tbody>\n",
              "    <tr>\n",
              "      <th>0</th>\n",
              "      <td>0.935968</td>\n",
              "      <td>0.967527</td>\n",
              "      <td>0.002116</td>\n",
              "      <td>0.095238</td>\n",
              "      <td>0.0</td>\n",
              "      <td>0.166667</td>\n",
              "      <td>0.542335</td>\n",
              "      <td>0.028645</td>\n",
              "      <td>0.118251</td>\n",
              "      <td>0.079505</td>\n",
              "      <td>0.080214</td>\n",
              "      <td>0.0</td>\n",
              "      <td>0.020381</td>\n",
              "      <td>NaN</td>\n",
              "    </tr>\n",
              "    <tr>\n",
              "      <th>1</th>\n",
              "      <td>0.935970</td>\n",
              "      <td>0.968849</td>\n",
              "      <td>0.005706</td>\n",
              "      <td>0.095238</td>\n",
              "      <td>0.0</td>\n",
              "      <td>0.166667</td>\n",
              "      <td>0.840072</td>\n",
              "      <td>0.046091</td>\n",
              "      <td>0.123159</td>\n",
              "      <td>0.012367</td>\n",
              "      <td>0.012478</td>\n",
              "      <td>0.0</td>\n",
              "      <td>0.003446</td>\n",
              "      <td>0.002515</td>\n",
              "    </tr>\n",
              "    <tr>\n",
              "      <th>2</th>\n",
              "      <td>0.935971</td>\n",
              "      <td>0.967764</td>\n",
              "      <td>0.001539</td>\n",
              "      <td>0.095238</td>\n",
              "      <td>0.0</td>\n",
              "      <td>0.166667</td>\n",
              "      <td>0.863535</td>\n",
              "      <td>0.040362</td>\n",
              "      <td>0.214190</td>\n",
              "      <td>0.000000</td>\n",
              "      <td>0.000000</td>\n",
              "      <td>0.0</td>\n",
              "      <td>0.002166</td>\n",
              "      <td>0.007557</td>\n",
              "    </tr>\n",
              "    <tr>\n",
              "      <th>3</th>\n",
              "      <td>0.935973</td>\n",
              "      <td>0.968611</td>\n",
              "      <td>0.004680</td>\n",
              "      <td>0.095238</td>\n",
              "      <td>0.0</td>\n",
              "      <td>0.166667</td>\n",
              "      <td>0.739358</td>\n",
              "      <td>0.040033</td>\n",
              "      <td>0.284694</td>\n",
              "      <td>0.000000</td>\n",
              "      <td>0.000000</td>\n",
              "      <td>0.0</td>\n",
              "      <td>0.004168</td>\n",
              "      <td>0.013498</td>\n",
              "    </tr>\n",
              "    <tr>\n",
              "      <th>4</th>\n",
              "      <td>0.935975</td>\n",
              "      <td>0.968442</td>\n",
              "      <td>0.005578</td>\n",
              "      <td>0.142857</td>\n",
              "      <td>0.0</td>\n",
              "      <td>0.166667</td>\n",
              "      <td>0.815589</td>\n",
              "      <td>0.050960</td>\n",
              "      <td>0.178938</td>\n",
              "      <td>0.058304</td>\n",
              "      <td>0.058824</td>\n",
              "      <td>0.0</td>\n",
              "      <td>0.002757</td>\n",
              "      <td>0.001039</td>\n",
              "    </tr>\n",
              "  </tbody>\n",
              "</table>\n",
              "</div>\n",
              "      <button class=\"colab-df-convert\" onclick=\"convertToInteractive('df-f817458c-e139-4292-bf43-86643b2c9ba7')\"\n",
              "              title=\"Convert this dataframe to an interactive table.\"\n",
              "              style=\"display:none;\">\n",
              "        \n",
              "  <svg xmlns=\"http://www.w3.org/2000/svg\" height=\"24px\"viewBox=\"0 0 24 24\"\n",
              "       width=\"24px\">\n",
              "    <path d=\"M0 0h24v24H0V0z\" fill=\"none\"/>\n",
              "    <path d=\"M18.56 5.44l.94 2.06.94-2.06 2.06-.94-2.06-.94-.94-2.06-.94 2.06-2.06.94zm-11 1L8.5 8.5l.94-2.06 2.06-.94-2.06-.94L8.5 2.5l-.94 2.06-2.06.94zm10 10l.94 2.06.94-2.06 2.06-.94-2.06-.94-.94-2.06-.94 2.06-2.06.94z\"/><path d=\"M17.41 7.96l-1.37-1.37c-.4-.4-.92-.59-1.43-.59-.52 0-1.04.2-1.43.59L10.3 9.45l-7.72 7.72c-.78.78-.78 2.05 0 2.83L4 21.41c.39.39.9.59 1.41.59.51 0 1.02-.2 1.41-.59l7.78-7.78 2.81-2.81c.8-.78.8-2.07 0-2.86zM5.41 20L4 18.59l7.72-7.72 1.47 1.35L5.41 20z\"/>\n",
              "  </svg>\n",
              "      </button>\n",
              "      \n",
              "  <style>\n",
              "    .colab-df-container {\n",
              "      display:flex;\n",
              "      flex-wrap:wrap;\n",
              "      gap: 12px;\n",
              "    }\n",
              "\n",
              "    .colab-df-convert {\n",
              "      background-color: #E8F0FE;\n",
              "      border: none;\n",
              "      border-radius: 50%;\n",
              "      cursor: pointer;\n",
              "      display: none;\n",
              "      fill: #1967D2;\n",
              "      height: 32px;\n",
              "      padding: 0 0 0 0;\n",
              "      width: 32px;\n",
              "    }\n",
              "\n",
              "    .colab-df-convert:hover {\n",
              "      background-color: #E2EBFA;\n",
              "      box-shadow: 0px 1px 2px rgba(60, 64, 67, 0.3), 0px 1px 3px 1px rgba(60, 64, 67, 0.15);\n",
              "      fill: #174EA6;\n",
              "    }\n",
              "\n",
              "    [theme=dark] .colab-df-convert {\n",
              "      background-color: #3B4455;\n",
              "      fill: #D2E3FC;\n",
              "    }\n",
              "\n",
              "    [theme=dark] .colab-df-convert:hover {\n",
              "      background-color: #434B5C;\n",
              "      box-shadow: 0px 1px 3px 1px rgba(0, 0, 0, 0.15);\n",
              "      filter: drop-shadow(0px 1px 2px rgba(0, 0, 0, 0.3));\n",
              "      fill: #FFFFFF;\n",
              "    }\n",
              "  </style>\n",
              "\n",
              "      <script>\n",
              "        const buttonEl =\n",
              "          document.querySelector('#df-f817458c-e139-4292-bf43-86643b2c9ba7 button.colab-df-convert');\n",
              "        buttonEl.style.display =\n",
              "          google.colab.kernel.accessAllowed ? 'block' : 'none';\n",
              "\n",
              "        async function convertToInteractive(key) {\n",
              "          const element = document.querySelector('#df-f817458c-e139-4292-bf43-86643b2c9ba7');\n",
              "          const dataTable =\n",
              "            await google.colab.kernel.invokeFunction('convertToInteractive',\n",
              "                                                     [key], {});\n",
              "          if (!dataTable) return;\n",
              "\n",
              "          const docLinkHtml = 'Like what you see? Visit the ' +\n",
              "            '<a target=\"_blank\" href=https://colab.research.google.com/notebooks/data_table.ipynb>data table notebook</a>'\n",
              "            + ' to learn more about interactive tables.';\n",
              "          element.innerHTML = '';\n",
              "          dataTable['output_type'] = 'display_data';\n",
              "          await google.colab.output.renderOutput(dataTable, element);\n",
              "          const docLink = document.createElement('div');\n",
              "          docLink.innerHTML = docLinkHtml;\n",
              "          element.appendChild(docLink);\n",
              "        }\n",
              "      </script>\n",
              "    </div>\n",
              "  </div>\n",
              "  "
            ],
            "text/plain": [
              "   order_id  acc_all_diff  ...  lifetime_order_count  session_time\n",
              "0  0.935968      0.967527  ...              0.020381           NaN\n",
              "1  0.935970      0.968849  ...              0.003446      0.002515\n",
              "2  0.935971      0.967764  ...              0.002166      0.007557\n",
              "3  0.935973      0.968611  ...              0.004168      0.013498\n",
              "4  0.935975      0.968442  ...              0.002757      0.001039\n",
              "\n",
              "[5 rows x 14 columns]"
            ]
          },
          "metadata": {},
          "execution_count": 257
        }
      ],
      "source": [
        "from sklearn.preprocessing import MinMaxScaler\n",
        "\n",
        "scaler = MinMaxScaler()\n",
        "LALA = pd.DataFrame(scaler.fit_transform(LALA), columns = LALA.columns)\n",
        "LALA.head()"
      ]
    },
    {
      "cell_type": "code",
      "execution_count": null,
      "metadata": {
        "id": "drBSkZsUGB-q"
      },
      "outputs": [],
      "source": [
        "imputer = KNNImputer(n_neighbors=5)\n",
        "LALA = pd.DataFrame(imputer.fit_transform(LALA),columns = LALA.columns)"
      ]
    },
    {
      "cell_type": "code",
      "execution_count": null,
      "metadata": {
        "colab": {
          "base_uri": "https://localhost:8080/"
        },
        "id": "135TPearGJ4U",
        "outputId": "450dd98c-bab5-43b2-c663-b684d380c0a8"
      },
      "outputs": [
        {
          "output_type": "execute_result",
          "data": {
            "text/plain": [
              "order_id                0\n",
              "acc_all_diff            0\n",
              "acc_ord_diff            0\n",
              "hour                    0\n",
              "session                 0\n",
              "day_of_week             0\n",
              "rider_id                0\n",
              "first_mile_distance     0\n",
              "last_mile_distance      0\n",
              "alloted_orders          0\n",
              "delivered_orders        0\n",
              "undelivered_orders      0\n",
              "lifetime_order_count    0\n",
              "session_time            0\n",
              "dtype: int64"
            ]
          },
          "metadata": {},
          "execution_count": 261
        }
      ],
      "source": [
        "LALA.isna().sum()"
      ]
    },
    {
      "cell_type": "code",
      "source": [
        "test1 = LALA.iloc[450000:,:]"
      ],
      "metadata": {
        "id": "oYZQqttP5Aga"
      },
      "execution_count": null,
      "outputs": []
    },
    {
      "cell_type": "code",
      "source": [
        "X1 = LALA.iloc[:450000,:]"
      ],
      "metadata": {
        "id": "KC22PpVt5X-4"
      },
      "execution_count": null,
      "outputs": []
    },
    {
      "cell_type": "code",
      "source": [
        "# y.head()"
      ],
      "metadata": {
        "colab": {
          "base_uri": "https://localhost:8080/"
        },
        "id": "UH3recYG7zoP",
        "outputId": "03fd0637-02a0-4fc4-c7ac-8c3e3e1b1722"
      },
      "execution_count": null,
      "outputs": [
        {
          "output_type": "execute_result",
          "data": {
            "text/plain": [
              "0    0\n",
              "1    0\n",
              "2    0\n",
              "3    0\n",
              "4    0\n",
              "Name: cancelled, dtype: int64"
            ]
          },
          "metadata": {},
          "execution_count": 296
        }
      ]
    },
    {
      "cell_type": "code",
      "source": [
        "X1['cancelled'] = data['cancelled']"
      ],
      "metadata": {
        "id": "Nv4L_8Oi7tUi"
      },
      "execution_count": null,
      "outputs": []
    },
    {
      "cell_type": "code",
      "source": [
        "X1.shape"
      ],
      "metadata": {
        "colab": {
          "base_uri": "https://localhost:8080/"
        },
        "id": "ZdV0J49u5ey4",
        "outputId": "b037ef62-19b3-4178-9361-ba7fda071568"
      },
      "execution_count": null,
      "outputs": [
        {
          "output_type": "execute_result",
          "data": {
            "text/plain": [
              "(205522, 15)"
            ]
          },
          "metadata": {},
          "execution_count": 313
        }
      ]
    },
    {
      "cell_type": "code",
      "source": [
        "test1.shape"
      ],
      "metadata": {
        "colab": {
          "base_uri": "https://localhost:8080/"
        },
        "id": "AMi8rNz45UE0",
        "outputId": "de3148a9-2522-49c2-8eb7-eb4d2a9f5567"
      },
      "execution_count": null,
      "outputs": [
        {
          "output_type": "execute_result",
          "data": {
            "text/plain": [
              "(144844, 14)"
            ]
          },
          "metadata": {},
          "execution_count": 263
        }
      ]
    },
    {
      "cell_type": "code",
      "source": [
        "test1['day_of_week'].value_counts()"
      ],
      "metadata": {
        "colab": {
          "base_uri": "https://localhost:8080/"
        },
        "id": "x0aX8c6K5s8n",
        "outputId": "836df570-288b-490a-9b66-107ef7df8b06"
      },
      "execution_count": null,
      "outputs": [
        {
          "output_type": "execute_result",
          "data": {
            "text/plain": [
              "0.166667    41189\n",
              "0.000000    39256\n",
              "1.000000    37905\n",
              "0.833333    26494\n",
              "Name: day_of_week, dtype: int64"
            ]
          },
          "metadata": {},
          "execution_count": 269
        }
      ]
    },
    {
      "cell_type": "code",
      "source": [
        "X1['day_of_week'].value_counts()"
      ],
      "metadata": {
        "colab": {
          "base_uri": "https://localhost:8080/"
        },
        "id": "NeeVWemX55Ce",
        "outputId": "1bf301b0-e496-4865-aca1-aee05da5f075"
      },
      "execution_count": null,
      "outputs": [
        {
          "output_type": "execute_result",
          "data": {
            "text/plain": [
              "0.666667    83548\n",
              "0.500000    80468\n",
              "0.333333    80462\n",
              "0.166667    78965\n",
              "0.833333    49470\n",
              "1.000000    39254\n",
              "0.000000    37833\n",
              "Name: day_of_week, dtype: int64"
            ]
          },
          "metadata": {},
          "execution_count": 302
        }
      ]
    },
    {
      "cell_type": "code",
      "source": [
        "X1 = X1[(X1['day_of_week'] <0.2) | (X1['day_of_week'] >0.7)]"
      ],
      "metadata": {
        "id": "qEgtfcpn6KFS"
      },
      "execution_count": null,
      "outputs": []
    },
    {
      "cell_type": "code",
      "source": [
        "X = X1.iloc[:,0:-1]\n",
        "y = X1.iloc[:,-1]"
      ],
      "metadata": {
        "id": "FpWdYKNP8Dna"
      },
      "execution_count": null,
      "outputs": []
    },
    {
      "cell_type": "code",
      "source": [
        "y.head()"
      ],
      "metadata": {
        "colab": {
          "base_uri": "https://localhost:8080/"
        },
        "id": "Vy2Q5lTk8HLW",
        "outputId": "a8c55bdb-4b71-4967-bf46-58180040e30c"
      },
      "execution_count": null,
      "outputs": [
        {
          "output_type": "execute_result",
          "data": {
            "text/plain": [
              "0    0\n",
              "1    0\n",
              "2    0\n",
              "3    0\n",
              "4    0\n",
              "Name: cancelled, dtype: int64"
            ]
          },
          "metadata": {},
          "execution_count": 315
        }
      ]
    },
    {
      "cell_type": "code",
      "execution_count": null,
      "metadata": {
        "id": "Feug28yAtEAS"
      },
      "outputs": [],
      "source": [
        "data1 = data.copy()"
      ]
    },
    {
      "cell_type": "code",
      "execution_count": null,
      "metadata": {
        "id": "utoiat3dse1v"
      },
      "outputs": [],
      "source": [
        "def random_imputation(df, feature):\n",
        "\n",
        "    number_missing = df[feature].isnull().sum()\n",
        "    observed_values = df.loc[df[feature].notnull(), feature]\n",
        "    df.loc[df[feature].isnull(), feature + '_imp'] = np.random.choice(observed_values, number_missing, replace = True)\n",
        "    \n",
        "    return df"
      ]
    },
    {
      "cell_type": "code",
      "execution_count": null,
      "metadata": {
        "id": "TUD4S1c0skne"
      },
      "outputs": [],
      "source": [
        "for feature in numerical:\n",
        "    data1[feature + '_imp'] = data1[feature]\n",
        "    data1 = random_imputation(data1, feature)"
      ]
    },
    {
      "cell_type": "code",
      "execution_count": null,
      "metadata": {
        "id": "AkBCumRL0nTv"
      },
      "outputs": [],
      "source": [
        "from sklearn import linear_model"
      ]
    },
    {
      "cell_type": "code",
      "execution_count": null,
      "metadata": {
        "id": "Bgvu9h-nCPAN"
      },
      "outputs": [],
      "source": [
        "# deter_data = pd.DataFrame(columns = [\"Det\" + name for name in missing_columns])\n",
        "\n",
        "# for feature in missing_columns:\n",
        "        \n",
        "#     deter_data[\"Det\" + feature] = df[feature + \"_imp\"]\n",
        "#     parameters = list(set(df.columns) - set(missing_columns) - {feature + '_imp'})\n",
        "    \n",
        "#     #Create a Linear Regression model to estimate the missing data\n",
        "#     model = linear_model.LinearRegression()\n",
        "#     model.fit(X = df[parameters], y = df[feature + '_imp'])\n",
        "    \n",
        "#     #observe that I preserve the index of the missing data from the original dataframe\n",
        "#     deter_data.loc[df[feature].isnull(), \"Det\" + feature] = model.predict(df[parameters])[df[feature].isnull()]"
      ]
    },
    {
      "cell_type": "code",
      "execution_count": null,
      "metadata": {
        "id": "9RxusbdP0ZrK"
      },
      "outputs": [],
      "source": [
        "random_data = pd.DataFrame(columns = [\"Ran\" + name for name in numerical])\n",
        "\n",
        "for feature in numerical:\n",
        "        \n",
        "    random_data[\"Ran\" + feature] = data1[feature + '_imp']\n",
        "    parameters = list(set(data1.columns) - set(numerical) - {feature + '_imp'})\n",
        "    \n",
        "    model = linear_model.LinearRegression()\n",
        "    model.fit(X = data1[parameters], y = data1[feature + '_imp'])\n",
        "    \n",
        "    # #Standard Error of the regression estimates is equal to std() of the errors of each estimates\n",
        "    # predict = model.predict(data1[parameters])\n",
        "    # std_error = (predict[data1[feature].notnull()] - data1.loc[data1[feature].notnull(), feature + '_imp']).std()\n",
        "    \n",
        "    #observe that I preserve the index of the missing data from the original dataframe\n",
        "    # random_predict = np.random.normal(size = data1[feature].shape[0], \n",
        "    #                                   loc = predict, \n",
        "    #                                   scale = std_error)\n",
        "    # random_data.loc[(data1[feature].isnull()) & (random_predict > 0), \"Ran\" + feature] = random_predict[(data1[feature].isnull()) & \n",
        "    #                                                                         (random_predict > 0)]\n",
        "    random_data.loc[data1[feature].isnull(), \"Ran\" + feature] = model.predict(data1[parameters])[data1[feature].isnull()]"
      ]
    },
    {
      "cell_type": "code",
      "execution_count": null,
      "metadata": {
        "id": "4_-RwgFzlzMC"
      },
      "outputs": [],
      "source": [
        "random_data.isna().sum()"
      ]
    },
    {
      "cell_type": "code",
      "execution_count": null,
      "metadata": {
        "id": "MzbWNcYmzLwx"
      },
      "outputs": [],
      "source": [
        "random_data.head(2)"
      ]
    },
    {
      "cell_type": "code",
      "execution_count": null,
      "metadata": {
        "id": "qp7u4JS_D4nY"
      },
      "outputs": [],
      "source": [
        "random_data['Ranalotted_orders'] = -1\n",
        "random_data['Randelivered_orders'] = -1\n",
        "random_data['Ranundelivered_orders'] = -1\n",
        "random_data['Ranlifetime_order_count'] = -1\n",
        "random_data['Ransession_time'] = -1"
      ]
    },
    {
      "cell_type": "code",
      "execution_count": null,
      "metadata": {
        "id": "QgUWHBoJ5lG-"
      },
      "outputs": [],
      "source": [
        "random_data['order_id'] = data['order_id']"
      ]
    },
    {
      "cell_type": "code",
      "execution_count": null,
      "metadata": {
        "id": "po4omoEQAe7g"
      },
      "outputs": [],
      "source": [
        "# random_data.loc[random_data['Ranacc_all_diff'] < 0, 'Ranacc_all_diff'] = 0"
      ]
    },
    {
      "cell_type": "code",
      "execution_count": null,
      "metadata": {
        "id": "3O3X2kpO6kHK"
      },
      "outputs": [],
      "source": [
        "# data.loc[data.order_id.isin(random_data.order_id), ['lifetime_order_count','alloted_orders','delivered_orders','undelivered_orders','session_time']] = random_data[['Ranlifetime_order_count','Ranalloted_orders','Randelivered_orders','Ranundelivered_orders','Ransession_time']].values"
      ]
    },
    {
      "cell_type": "code",
      "execution_count": null,
      "metadata": {
        "id": "N1DisnSaoITG"
      },
      "outputs": [],
      "source": [
        "data.isna().sum()"
      ]
    },
    {
      "cell_type": "code",
      "execution_count": null,
      "metadata": {
        "id": "43lmliDgAGXS"
      },
      "outputs": [],
      "source": [
        "# data = data[~data.isin([np.nan, np.inf, -np.inf]).any(1)]"
      ]
    },
    {
      "cell_type": "code",
      "execution_count": null,
      "metadata": {
        "id": "iQfNjEhPA7cC"
      },
      "outputs": [],
      "source": [
        "data['acc_ord_diff'].min()"
      ]
    },
    {
      "cell_type": "code",
      "execution_count": null,
      "metadata": {
        "id": "qJuU1St8W61S"
      },
      "outputs": [],
      "source": [
        "data.lifetime_order_count = data.lifetime_order_count.round()\n",
        "data.delivered_orders = data.delivered_orders.round()\n",
        "data.undelivered_orders = data.undelivered_orders.round()\n",
        "data.alloted_orders = data.alloted_orders.round()"
      ]
    },
    {
      "cell_type": "code",
      "execution_count": null,
      "metadata": {
        "id": "roBaJipmrt1n"
      },
      "outputs": [],
      "source": [
        "# # New_df is from the random undersample data (fewer instances)\n",
        "# X = data.drop('cancelled', axis=1)\n",
        "# y = data['cancelled']\n",
        "\n",
        "# # PCA Implementation\n",
        "# t0 = time.time()\n",
        "# X_reduced_pca = PCA(n_components=2, random_state=42).fit_transform(X.values)\n",
        "# t1 = time.time()\n",
        "# print(\"PCA took {:.2} s\".format(t1 - t0))\n",
        "\n",
        "# # TruncatedSVD\n",
        "# t0 = time.time()\n",
        "# X_reduced_svd = TruncatedSVD(n_components=2, algorithm='randomized', random_state=42).fit_transform(X.values)\n",
        "# t1 = time.time()\n",
        "# print(\"Truncated SVD took {:.2} s\".format(t1 - t0))"
      ]
    },
    {
      "cell_type": "code",
      "execution_count": null,
      "metadata": {
        "id": "zYK_7crluzzF"
      },
      "outputs": [],
      "source": [
        "# f, (ax2, ax3) = plt.subplots(1, 2, figsize=(24,6))\n",
        "# # labels = ['No Fraud', 'Fraud']\n",
        "# f.suptitle('Clusters using Dimensionality Reduction', fontsize=14)\n",
        "\n",
        "# blue_patch = mpatches.Patch(color='#0A0AFF', label='Not Cancelled')\n",
        "# red_patch = mpatches.Patch(color='#AF0000', label='Cancelled')\n",
        "\n",
        "# # PCA scatter plot\n",
        "# ax2.scatter(X_reduced_pca[:,0], X_reduced_pca[:,1], c=(y == 0), cmap='coolwarm', label='Not Cancelled', linewidths=2)\n",
        "# ax2.scatter(X_reduced_pca[:,0], X_reduced_pca[:,1], c=(y == 1), cmap='coolwarm', label='Cancelled', linewidths=2)\n",
        "# ax2.set_title('PCA', fontsize=14)\n",
        "\n",
        "# ax2.grid(True)\n",
        "\n",
        "# ax2.legend(handles=[blue_patch, red_patch])\n",
        "\n",
        "# # TruncatedSVD scatter plot\n",
        "# ax3.scatter(X_reduced_svd[:,0], X_reduced_svd[:,1], c=(y == 0), cmap='coolwarm', label='Not Cancelled', linewidths=2)\n",
        "# ax3.scatter(X_reduced_svd[:,0], X_reduced_svd[:,1], c=(y == 1), cmap='coolwarm', label='Cancelled', linewidths=2)\n",
        "# ax3.set_title('Truncated SVD', fontsize=14)\n",
        "\n",
        "# ax3.grid(True)\n",
        "\n",
        "# ax3.legend(handles=[blue_patch, red_patch])\n",
        "\n",
        "# plt.show()"
      ]
    },
    {
      "cell_type": "markdown",
      "metadata": {
        "id": "qHgoN1RcQEn9"
      },
      "source": [
        "**SMOTE BABY**"
      ]
    },
    {
      "cell_type": "markdown",
      "metadata": {
        "id": "-T7WJ4TQBMtq"
      },
      "source": [
        "So far best performance has been,\n",
        "1.    Borderline SMOTE\n",
        "2.    ADASYN\n",
        "3.    SMOTE + TOMEK\n",
        "4.    SMOTE\n",
        "5.    SMOTE + ENN"
      ]
    },
    {
      "cell_type": "code",
      "execution_count": null,
      "metadata": {
        "id": "8LwZEdusRwBK"
      },
      "outputs": [],
      "source": [
        "X.reset_index(drop=True, inplace=True)"
      ]
    },
    {
      "cell_type": "code",
      "execution_count": null,
      "metadata": {
        "id": "DhL1C5YqR8a0"
      },
      "outputs": [],
      "source": [
        "data.head()"
      ]
    },
    {
      "cell_type": "code",
      "execution_count": null,
      "metadata": {
        "id": "QqX1qKOFCpm8"
      },
      "outputs": [],
      "source": [
        "# from sklearn.model_selection import train_test_split \n",
        "# from sklearn.metrics import accuracy_score\n",
        "# from xgboost import XGBClassifier"
      ]
    },
    {
      "cell_type": "code",
      "execution_count": null,
      "metadata": {
        "id": "1RN2DdEYgds8"
      },
      "outputs": [],
      "source": [
        "from collections import Counter\n",
        "\n",
        "def detect_outliers(train_data,n,features):\n",
        "    \n",
        "    outlier_indices = []\n",
        "    for col in features:\n",
        "        upper_limit=X[col].mean()+3.88*X[col].std()\n",
        "        lower_limit=X[col].mean()-2.88*X[col].std()\n",
        "        outlier_list_col = train_data[(train_data[col] < lower_limit) | (train_data[col] > upper_limit )].index\n",
        "        outlier_indices.extend(outlier_list_col)\n",
        "        \n",
        "    outlier_indices = Counter(outlier_indices)        \n",
        "    multiple_outliers = list( k for k, v in outlier_indices.items() if v > n )\n",
        "    \n",
        "    return multiple_outliers   \n",
        "\n",
        "list_atributes = X.columns\n",
        "Outliers_to_drop = detect_outliers(X,2,list_atributes)"
      ]
    },
    {
      "cell_type": "code",
      "execution_count": null,
      "metadata": {
        "colab": {
          "base_uri": "https://localhost:8080/"
        },
        "id": "O1wPmCKFg8FY",
        "outputId": "eab04ce5-9c24-46fc-dcf4-8f96ccc21f22"
      },
      "outputs": [
        {
          "output_type": "execute_result",
          "data": {
            "text/plain": [
              "115"
            ]
          },
          "metadata": {},
          "execution_count": 318
        }
      ],
      "source": [
        "len(Outliers_to_drop)"
      ]
    },
    {
      "cell_type": "code",
      "execution_count": null,
      "metadata": {
        "id": "F739oP4z9m5Z"
      },
      "outputs": [],
      "source": [
        "from collections import Counter\n",
        "\n",
        "def detect_outliers(train_data,n,features):\n",
        "    \n",
        "    outlier_indices = []\n",
        "    for col in features:\n",
        "        upper_limit=X[col].mean()+3*X[col].std()\n",
        "        lower_limit=X[col].mean()-2.5*X[col].std()\n",
        "        outlier_list_col = train_data[(train_data[col] < lower_limit) | (train_data[col] > upper_limit )].index\n",
        "        outlier_indices.extend(outlier_list_col)\n",
        "        \n",
        "    outlier_indices = Counter(outlier_indices)        \n",
        "    multiple_outliers = list( k for k, v in outlier_indices.items() if v > n )\n",
        "    \n",
        "    return multiple_outliers   \n",
        "\n",
        "list_atributes = X.columns\n",
        "Outliers_to_drop2 = detect_outliers(X,2,list_atributes)"
      ]
    },
    {
      "cell_type": "code",
      "execution_count": null,
      "metadata": {
        "id": "nRH_PeG_z7-q"
      },
      "outputs": [],
      "source": [
        "tgindex=[]\n",
        "for i in Outliers_to_drop2:\n",
        "  if(data.iloc[i]['cancelled']==0):\n",
        "    tgindex.append(i)"
      ]
    },
    {
      "cell_type": "code",
      "execution_count": null,
      "metadata": {
        "colab": {
          "base_uri": "https://localhost:8080/"
        },
        "id": "OHhPBQdez9hw",
        "outputId": "9ac83d14-2f76-4b1e-f577-10e3d5aedbb7"
      },
      "outputs": [
        {
          "output_type": "stream",
          "name": "stdout",
          "text": [
            "794\n"
          ]
        }
      ],
      "source": [
        "print(len(tgindex))"
      ]
    },
    {
      "cell_type": "code",
      "execution_count": null,
      "metadata": {
        "id": "SV5q9rwP0Gkt"
      },
      "outputs": [],
      "source": [
        "finaldrop = list(set(tgindex))"
      ]
    },
    {
      "cell_type": "code",
      "execution_count": null,
      "metadata": {
        "id": "TXogYbMvTY0g"
      },
      "outputs": [],
      "source": [
        "# finaldrop= list(set(Outliers_to_drop))"
      ]
    },
    {
      "cell_type": "code",
      "execution_count": null,
      "metadata": {
        "id": "TtNKH0rq_sVE"
      },
      "outputs": [],
      "source": [
        "data.shape"
      ]
    },
    {
      "cell_type": "code",
      "execution_count": null,
      "metadata": {
        "id": "xTOohL5uhBYb"
      },
      "outputs": [],
      "source": [
        "X.drop(X.index[finaldrop], inplace=True)"
      ]
    },
    {
      "cell_type": "code",
      "source": [
        "y.drop(y.index[finaldrop], inplace=True)"
      ],
      "metadata": {
        "id": "wx6DY9Hm81Bm"
      },
      "execution_count": null,
      "outputs": []
    },
    {
      "cell_type": "code",
      "execution_count": null,
      "metadata": {
        "id": "t6pE5Ej-wMHP"
      },
      "outputs": [],
      "source": [
        "# X = data.iloc[:,0:-1]\n",
        "# y = data.iloc[:,-1]"
      ]
    },
    {
      "cell_type": "code",
      "execution_count": null,
      "metadata": {
        "id": "2bcjgmb_P8hq"
      },
      "outputs": [],
      "source": [
        "# from imblearn.over_sampling import SMOTE\n",
        "\n",
        "# smote = SMOTE(sampling_strategy='minority', random_state=42)\n",
        "# X, y = smote.fit_resample(X,y)"
      ]
    },
    {
      "cell_type": "code",
      "execution_count": null,
      "metadata": {
        "id": "4RwzsM2PQthD"
      },
      "outputs": [],
      "source": [
        "X.shape"
      ]
    },
    {
      "cell_type": "markdown",
      "metadata": {
        "id": "W4yN7z6fylZ0"
      },
      "source": [
        "# **New**"
      ]
    },
    {
      "cell_type": "code",
      "execution_count": null,
      "metadata": {
        "id": "ziuqVxhRxejx"
      },
      "outputs": [],
      "source": [
        "from sklearn.model_selection import train_test_split \n",
        "from sklearn.metrics import accuracy_score\n",
        "from sklearn.preprocessing import scale, StandardScaler\n",
        "X_train, X_test, y_train, y_test = train_test_split(X, y, test_size=0.3, random_state=10, shuffle = True,stratify=y)"
      ]
    },
    {
      "cell_type": "markdown",
      "metadata": {
        "id": "Rph1hlYeNl-F"
      },
      "source": [
        "Trying ADASYN,"
      ]
    },
    {
      "cell_type": "code",
      "execution_count": null,
      "metadata": {
        "id": "5wyt6bVkNx_N"
      },
      "outputs": [],
      "source": [
        "# from imblearn.over_sampling import ADASYN\n",
        "# adasyn = ADASYN(random_state = 101)\n",
        "# X, y = adasyn.fit_resample(X, y)"
      ]
    },
    {
      "cell_type": "code",
      "execution_count": null,
      "metadata": {
        "id": "8ASbRZ6kO8aw"
      },
      "outputs": [],
      "source": [
        "# X.shape"
      ]
    },
    {
      "cell_type": "markdown",
      "metadata": {
        "id": "WRSfTgjmSjcw"
      },
      "source": [
        "Trying Borderline SMOTE,"
      ]
    },
    {
      "cell_type": "code",
      "execution_count": null,
      "metadata": {
        "id": "--3aV-mhSi2R"
      },
      "outputs": [],
      "source": [
        "# from imblearn.over_sampling import BorderlineSMOTE\n",
        "# bsmote = BorderlineSMOTE(random_state = 42, kind = 'borderline-2')\n",
        "# X, y = bsmote.fit_resample(X, y)"
      ]
    },
    {
      "cell_type": "markdown",
      "metadata": {
        "id": "5M-HWGwQBVZY"
      },
      "source": [
        "Trying SMOTE + tomek links,"
      ]
    },
    {
      "cell_type": "code",
      "execution_count": null,
      "metadata": {
        "id": "KuUFhFL7BUjq"
      },
      "outputs": [],
      "source": [
        "# from imblearn.combine import SMOTETomek \n",
        "\n",
        "# smt = SMOTETomek(random_state=42)\n",
        "# X, y = smt.fit_resample(X, y)"
      ]
    },
    {
      "cell_type": "code",
      "execution_count": null,
      "metadata": {
        "id": "GiPzwyMkCCz2"
      },
      "outputs": [],
      "source": [
        "# X.shape"
      ]
    },
    {
      "cell_type": "code",
      "execution_count": null,
      "metadata": {
        "id": "25ukRTrECI0Z"
      },
      "outputs": [],
      "source": [
        "# y.value_counts()"
      ]
    },
    {
      "cell_type": "code",
      "execution_count": null,
      "metadata": {
        "id": "TdEr5FbjkJYf"
      },
      "outputs": [],
      "source": [
        "X_train.isna().sum()"
      ]
    },
    {
      "cell_type": "markdown",
      "metadata": {
        "id": "RvaNEEjNCkjf"
      },
      "source": [
        "Trying SMOTE + ENN,"
      ]
    },
    {
      "cell_type": "code",
      "execution_count": null,
      "metadata": {
        "id": "N4pgm22HCj81"
      },
      "outputs": [],
      "source": [
        "from imblearn.combine import SMOTEENN \n",
        "\n",
        "sme = SMOTEENN(random_state=101)\n",
        "X, y= sme.fit_resample(X, y)"
      ]
    },
    {
      "cell_type": "code",
      "execution_count": null,
      "metadata": {
        "colab": {
          "base_uri": "https://localhost:8080/"
        },
        "id": "bft9Oc-6CxRU",
        "outputId": "ae0bb141-2804-403d-d8c3-983fd831d5d1"
      },
      "outputs": [
        {
          "output_type": "execute_result",
          "data": {
            "text/plain": [
              "(385440,)"
            ]
          },
          "metadata": {},
          "execution_count": 329
        }
      ],
      "source": [
        "y.shape"
      ]
    },
    {
      "cell_type": "code",
      "execution_count": null,
      "metadata": {
        "colab": {
          "base_uri": "https://localhost:8080/"
        },
        "id": "M-u8ynJHCxRV",
        "outputId": "ed43259d-25c4-4712-d787-f9125c7c62d7"
      },
      "outputs": [
        {
          "output_type": "execute_result",
          "data": {
            "text/plain": [
              "1    201813\n",
              "0    183627\n",
              "Name: cancelled, dtype: int64"
            ]
          },
          "metadata": {},
          "execution_count": 330
        }
      ],
      "source": [
        "y.value_counts()"
      ]
    },
    {
      "cell_type": "code",
      "execution_count": null,
      "metadata": {
        "id": "WG-tSlLdyAqk"
      },
      "outputs": [],
      "source": [
        "from sklearn.ensemble import VotingClassifier,GradientBoostingClassifier,AdaBoostClassifier,RandomForestClassifier\n",
        "from sklearn.model_selection import train_test_split, GridSearchCV, cross_val_score\n",
        "from sklearn.model_selection import KFold\n",
        "from sklearn import tree, metrics\n",
        "from sklearn.tree import DecisionTreeClassifier\n",
        "import lightgbm as lgb\n",
        "from xgboost import XGBClassifier\n",
        "from sklearn import model_selection\n",
        "from sklearn.naive_bayes import GaussianNB\n",
        "from sklearn.neighbors import KNeighborsClassifier\n",
        "from sklearn.metrics import roc_auc_score"
      ]
    },
    {
      "cell_type": "code",
      "execution_count": null,
      "metadata": {
        "id": "RBxC0ebiyEYd"
      },
      "outputs": [],
      "source": [
        "# models = []\n",
        "# models.append(('NaiveBayes', GaussianNB()))\n",
        "# models.append(('KNN', KNeighborsClassifier()))\n",
        "# models.append(('CART', DecisionTreeClassifier()))\n",
        "# models.append(('RF', RandomForestClassifier()))\n",
        "# models.append(('GradientBoosting', GradientBoostingClassifier()))\n",
        "# models.append(('XGB',XGBClassifier()))\n",
        "# models.append(('LGB',lgb.LGBMClassifier()))\n",
        "# models.append((\"Adaboost\",AdaBoostClassifier()))"
      ]
    },
    {
      "cell_type": "code",
      "execution_count": null,
      "metadata": {
        "id": "iVT_QGamQesE"
      },
      "outputs": [],
      "source": [
        "X_train.shape"
      ]
    },
    {
      "cell_type": "code",
      "execution_count": null,
      "metadata": {
        "id": "5mU1MpGPVzkz"
      },
      "outputs": [],
      "source": [
        "# from sklearn.ensemble import ExtraTreesClassifier\n",
        "\n",
        "# TOP_FEATURES = 6\n",
        "\n",
        "# forest = ExtraTreesClassifier(n_estimators=250, max_depth=5, random_state=1)\n",
        "# forest.fit(X_train, y_train)\n",
        "\n",
        "# importances = forest.feature_importances_\n",
        "# std = np.std(\n",
        "#     [tree.feature_importances_ for tree in forest.estimators_],\n",
        "#     axis=0\n",
        "# )\n",
        "# indices = np.argsort(importances)[::-1]\n",
        "# indices = indices[:TOP_FEATURES]\n",
        "\n",
        "# # importances[indices] = normalize(importances[indices])\n",
        "\n",
        "# print('Top features:')\n",
        "# for f in range(TOP_FEATURES):\n",
        "#     print('%d %f' % (indices[f], importances[indices[f]]))"
      ]
    },
    {
      "cell_type": "code",
      "execution_count": null,
      "metadata": {
        "id": "l-Nh-nYORga_"
      },
      "outputs": [],
      "source": [
        "# X_train = tX_train\n",
        "# X_test = tX_test"
      ]
    },
    {
      "cell_type": "code",
      "execution_count": null,
      "metadata": {
        "id": "zv_fY12LL6GS"
      },
      "outputs": [],
      "source": [
        "# indices = np.append(0, indices)\n",
        "# fX = X_train.iloc[:, indices]\n",
        "# X_train = fX"
      ]
    },
    {
      "cell_type": "code",
      "execution_count": null,
      "metadata": {
        "id": "1Tf3J5CeRaNU"
      },
      "outputs": [],
      "source": [
        "# fX = X_test.iloc[:, indices]\n",
        "# X_test = fX"
      ]
    },
    {
      "cell_type": "markdown",
      "metadata": {
        "id": "axwGUVSd2JgU"
      },
      "source": [
        "# **ROC AUC CURVE**"
      ]
    },
    {
      "cell_type": "code",
      "execution_count": null,
      "metadata": {
        "id": "Y-qSSUvS2Ln2"
      },
      "outputs": [],
      "source": [
        "ns_probs = [0 for _ in range(len(y_test))]"
      ]
    },
    {
      "cell_type": "markdown",
      "metadata": {
        "id": "8ut4sJM81kKi"
      },
      "source": [
        "Naive Bayes,"
      ]
    },
    {
      "cell_type": "code",
      "execution_count": null,
      "metadata": {
        "id": "qwDxVjPb1dzH"
      },
      "outputs": [],
      "source": [
        "NaiveBayes = GaussianNB()\n",
        "NaiveBayes.fit(X_train,y_train)"
      ]
    },
    {
      "cell_type": "code",
      "execution_count": null,
      "metadata": {
        "id": "F1LdKzW_2aed"
      },
      "outputs": [],
      "source": [
        "# predict probabilities\n",
        "lr_probs = NaiveBayes.predict_proba(X_test)\n",
        "# keep probabilities for the positive outcome only\n",
        "lr_probs = lr_probs[:, 1]\n",
        "# calculate scores\n",
        "ns_auc = roc_auc_score(y_test, ns_probs)\n",
        "lr_auc = roc_auc_score(y_test, lr_probs)"
      ]
    },
    {
      "cell_type": "code",
      "execution_count": null,
      "metadata": {
        "id": "zuLSRRpU2l0Q"
      },
      "outputs": [],
      "source": [
        "#No Skill\n",
        "print(ns_auc)"
      ]
    },
    {
      "cell_type": "code",
      "execution_count": null,
      "metadata": {
        "id": "umpa6MRv2ow8"
      },
      "outputs": [],
      "source": [
        "#My Model\n",
        "print(lr_auc)"
      ]
    },
    {
      "cell_type": "code",
      "execution_count": null,
      "metadata": {
        "id": "7wSy_wOl5JZc"
      },
      "outputs": [],
      "source": [
        "metrics.plot_confusion_matrix(NaiveBayes,X_test,y_test,values_format = 'd')"
      ]
    },
    {
      "cell_type": "markdown",
      "metadata": {
        "id": "9NlpyWmx29Ph"
      },
      "source": [
        "LDA,"
      ]
    },
    {
      "cell_type": "code",
      "execution_count": null,
      "metadata": {
        "id": "dNMwO-d029Pj"
      },
      "outputs": [],
      "source": [
        "from sklearn.discriminant_analysis import LinearDiscriminantAnalysis, QuadraticDiscriminantAnalysis"
      ]
    },
    {
      "cell_type": "code",
      "execution_count": null,
      "metadata": {
        "id": "7zkC3bvD29Pj"
      },
      "outputs": [],
      "source": [
        "LDA = LinearDiscriminantAnalysis()"
      ]
    },
    {
      "cell_type": "code",
      "execution_count": null,
      "metadata": {
        "colab": {
          "base_uri": "https://localhost:8080/"
        },
        "id": "i3kx2zyf29Pk",
        "outputId": "bdf827ae-857f-48d6-fbb9-c74f51ef9e56"
      },
      "outputs": [
        {
          "output_type": "execute_result",
          "data": {
            "text/plain": [
              "LinearDiscriminantAnalysis()"
            ]
          },
          "metadata": {},
          "execution_count": 333
        }
      ],
      "source": [
        "LDA.fit(X,y)"
      ]
    },
    {
      "cell_type": "code",
      "execution_count": null,
      "metadata": {
        "id": "Hqi6KgRO29Pl"
      },
      "outputs": [],
      "source": [
        "# predict probabilities\n",
        "lr_probs = LDA.predict_proba(X_test)\n",
        "# keep probabilities for the positive outcome only\n",
        "lr_probs = lr_probs[:, 1]\n",
        "# calculate scores\n",
        "ns_auc = roc_auc_score(y_test, ns_probs)\n",
        "lr_auc = roc_auc_score(y_test, lr_probs)"
      ]
    },
    {
      "cell_type": "code",
      "execution_count": null,
      "metadata": {
        "id": "FE68vvxc3LNC"
      },
      "outputs": [],
      "source": [
        "#No Skill\n",
        "print(ns_auc)"
      ]
    },
    {
      "cell_type": "code",
      "execution_count": null,
      "metadata": {
        "id": "rHdHEVvH3LND"
      },
      "outputs": [],
      "source": [
        "#My Model\n",
        "print(lr_auc)"
      ]
    },
    {
      "cell_type": "code",
      "execution_count": null,
      "metadata": {
        "id": "Y-jDPfM75D8S"
      },
      "outputs": [],
      "source": [
        "metrics.plot_confusion_matrix(LDA,X_test,y_test,values_format = 'd')"
      ]
    },
    {
      "cell_type": "markdown",
      "metadata": {
        "id": "Vg5Yjj2h3Xe9"
      },
      "source": [
        "Light GBM,"
      ]
    },
    {
      "cell_type": "code",
      "execution_count": null,
      "metadata": {
        "id": "CCEl07wo3Xsk"
      },
      "outputs": [],
      "source": [
        "import lightgbm as lgb\n",
        "lgbclf = lgb.LGBMClassifier(random_state=42,objective ='binary')"
      ]
    },
    {
      "cell_type": "code",
      "execution_count": null,
      "metadata": {
        "colab": {
          "base_uri": "https://localhost:8080/"
        },
        "id": "wkd1iYYU3Xsl",
        "outputId": "79e8e16f-5773-4246-c487-1119b6ea69eb"
      },
      "outputs": [
        {
          "output_type": "execute_result",
          "data": {
            "text/plain": [
              "LGBMClassifier(objective='binary', random_state=42)"
            ]
          },
          "metadata": {},
          "execution_count": 335
        }
      ],
      "source": [
        "lgbclf.fit(X, y)"
      ]
    },
    {
      "cell_type": "code",
      "execution_count": null,
      "metadata": {
        "id": "s2JecIft3fHU"
      },
      "outputs": [],
      "source": [
        "# predict probabilities\n",
        "lr_probs = lgbclf.predict_proba(X_test)\n",
        "# keep probabilities for the positive outcome only\n",
        "lr_probs = lr_probs[:, 1]\n",
        "# calculate scores\n",
        "ns_auc = roc_auc_score(y_test, ns_probs)\n",
        "lr_auc = roc_auc_score(y_test, lr_probs)"
      ]
    },
    {
      "cell_type": "code",
      "execution_count": null,
      "metadata": {
        "id": "s5gFZMh_3fHU"
      },
      "outputs": [],
      "source": [
        "#No Skill\n",
        "print(ns_auc)"
      ]
    },
    {
      "cell_type": "code",
      "execution_count": null,
      "metadata": {
        "id": "yusqo03O3fHV"
      },
      "outputs": [],
      "source": [
        "#My Model\n",
        "print(lr_auc)"
      ]
    },
    {
      "cell_type": "code",
      "execution_count": null,
      "metadata": {
        "id": "Cfr5ErWN44F8"
      },
      "outputs": [],
      "source": [
        "metrics.plot_confusion_matrix(lgbclf,X_test,y_test,values_format = 'd')"
      ]
    },
    {
      "cell_type": "markdown",
      "metadata": {
        "id": "Q_aQ1QAp3ynr"
      },
      "source": [
        "Logistic,"
      ]
    },
    {
      "cell_type": "code",
      "execution_count": null,
      "metadata": {
        "id": "u1kDVCVx3ynt"
      },
      "outputs": [],
      "source": [
        "from sklearn.linear_model import LogisticRegression\n",
        "clf = LogisticRegression(random_state=42).fit(X, y)"
      ]
    },
    {
      "cell_type": "code",
      "execution_count": null,
      "metadata": {
        "id": "_5iuY_ms35sQ"
      },
      "outputs": [],
      "source": [
        "# predict probabilities\n",
        "lr_probs = clf.predict_proba(X_test)\n",
        "# keep probabilities for the positive outcome only\n",
        "lr_probs = lr_probs[:, 1]\n",
        "# calculate scores\n",
        "ns_auc = roc_auc_score(y_test, ns_probs)\n",
        "lr_auc = roc_auc_score(y_test, lr_probs)"
      ]
    },
    {
      "cell_type": "code",
      "execution_count": null,
      "metadata": {
        "id": "tAljpMD835sR"
      },
      "outputs": [],
      "source": [
        "#No Skill\n",
        "print(ns_auc)"
      ]
    },
    {
      "cell_type": "code",
      "execution_count": null,
      "metadata": {
        "id": "sSSb_cqa35sR"
      },
      "outputs": [],
      "source": [
        "#My Model\n",
        "print(lr_auc)"
      ]
    },
    {
      "cell_type": "code",
      "execution_count": null,
      "metadata": {
        "id": "j47QZ2EK41EH"
      },
      "outputs": [],
      "source": [
        "metrics.plot_confusion_matrix(clf,X_test,y_test,values_format = 'd')"
      ]
    },
    {
      "cell_type": "markdown",
      "metadata": {
        "id": "gN0RY6WH4DKw"
      },
      "source": [
        "XGBoost,"
      ]
    },
    {
      "cell_type": "code",
      "source": [
        "from xgboost import XGBClassifier"
      ],
      "metadata": {
        "id": "hw7Zpj-m9yBN"
      },
      "execution_count": null,
      "outputs": []
    },
    {
      "cell_type": "code",
      "execution_count": null,
      "metadata": {
        "id": "a_MV6Nud4DKw"
      },
      "outputs": [],
      "source": [
        "xgb = XGBClassifier()"
      ]
    },
    {
      "cell_type": "code",
      "execution_count": null,
      "metadata": {
        "colab": {
          "base_uri": "https://localhost:8080/"
        },
        "id": "L_MvDBzH4EBV",
        "outputId": "016d44d7-3764-4811-f702-37465d390064"
      },
      "outputs": [
        {
          "output_type": "execute_result",
          "data": {
            "text/plain": [
              "XGBClassifier()"
            ]
          },
          "metadata": {},
          "execution_count": 340
        }
      ],
      "source": [
        "xgb.fit(X,y)"
      ]
    },
    {
      "cell_type": "code",
      "execution_count": null,
      "metadata": {
        "id": "uowtXawf4IWh"
      },
      "outputs": [],
      "source": [
        "# predict probabilities\n",
        "lr_probs = xgb.predict_proba(X_test)\n",
        "# keep probabilities for the positive outcome only\n",
        "lr_probs = lr_probs[:, 1]\n",
        "# calculate scores\n",
        "ns_auc = roc_auc_score(y_test, ns_probs)\n",
        "lr_auc = roc_auc_score(y_test, lr_probs)"
      ]
    },
    {
      "cell_type": "code",
      "execution_count": null,
      "metadata": {
        "id": "47z6-h3m4IWh"
      },
      "outputs": [],
      "source": [
        "#No Skill\n",
        "print(ns_auc)"
      ]
    },
    {
      "cell_type": "markdown",
      "metadata": {
        "id": "lBELhNoQSInC"
      },
      "source": [
        "Voting Classifier,"
      ]
    },
    {
      "cell_type": "code",
      "execution_count": null,
      "metadata": {
        "id": "5LjdyiewSKNW"
      },
      "outputs": [],
      "source": [
        "from sklearn.ensemble import VotingClassifier"
      ]
    },
    {
      "cell_type": "code",
      "execution_count": null,
      "metadata": {
        "id": "ss0pjAg7SO9o"
      },
      "outputs": [],
      "source": [
        "# eclf = VotingClassifier(estimators=[('xgb',xgb),('lgbm', lgbclf), ('log', clf), ('lda',LDA)], voting='soft', weights = [1,1,1.25,1.25]) 73.5"
      ]
    },
    {
      "cell_type": "code",
      "execution_count": null,
      "metadata": {
        "id": "KxGavnVCVumM"
      },
      "outputs": [],
      "source": [
        "# eclf = VotingClassifier(estimators=[('lgbm', lgbclf), ('log', clf))], voting='soft', weights = [1,2]) 74"
      ]
    },
    {
      "cell_type": "code",
      "execution_count": null,
      "metadata": {
        "id": "xCnob2zgXH-e"
      },
      "outputs": [],
      "source": [
        "eclf = VotingClassifier(estimators=[('xgb',xgb),('lgbm', lgbclf), ('log', clf), ('lda',LDA)], voting='soft', weights = [2,2,3,2])"
      ]
    },
    {
      "cell_type": "code",
      "execution_count": null,
      "metadata": {
        "id": "S8X88N6tZg86"
      },
      "outputs": [],
      "source": [
        "eclf = VotingClassifier(estimators=[('xgb',xgb),('lgbm', lgbclf), ('log', clf), ('lda',LDA)], voting='soft', weights = [1.25,1.25,1.75,1.75]) "
      ]
    },
    {
      "cell_type": "code",
      "execution_count": null,
      "metadata": {
        "colab": {
          "base_uri": "https://localhost:8080/"
        },
        "id": "U849DOOETDjv",
        "outputId": "1e4b0dea-4f42-47db-efe1-6bb9edc3a225"
      },
      "outputs": [
        {
          "output_type": "execute_result",
          "data": {
            "text/plain": [
              "VotingClassifier(estimators=[('xgb', XGBClassifier()),\n",
              "                             ('lgbm',\n",
              "                              LGBMClassifier(objective='binary',\n",
              "                                             random_state=42)),\n",
              "                             ('log', LogisticRegression(random_state=42)),\n",
              "                             ('lda', LinearDiscriminantAnalysis())],\n",
              "                 voting='soft', weights=[2, 2, 3, 2])"
            ]
          },
          "metadata": {},
          "execution_count": 343
        }
      ],
      "source": [
        "eclf.fit(X, y)"
      ]
    },
    {
      "cell_type": "code",
      "execution_count": null,
      "metadata": {
        "id": "A_uwTriy-eEU"
      },
      "outputs": [],
      "source": [
        "y_pred = LDA.predict(test1)"
      ]
    },
    {
      "cell_type": "code",
      "execution_count": null,
      "metadata": {
        "colab": {
          "base_uri": "https://localhost:8080/"
        },
        "id": "NCJh-1Va-eEW",
        "outputId": "a4704a14-0599-443c-89b2-b587ad63d7a6"
      },
      "outputs": [
        {
          "output_type": "execute_result",
          "data": {
            "text/plain": [
              "0    123574\n",
              "1     21270\n",
              "dtype: int64"
            ]
          },
          "metadata": {},
          "execution_count": 379
        }
      ],
      "source": [
        "pd.DataFrame(y_pred).value_counts()"
      ]
    },
    {
      "cell_type": "code",
      "execution_count": null,
      "metadata": {
        "id": "3leepYkVTDjw"
      },
      "outputs": [],
      "source": [
        "# predict probabilities\n",
        "lr_probs = eclf.predict_proba(X_test)\n",
        "# keep probabilities for the positive outcome only\n",
        "lr_probs = lr_probs[:, 1]\n",
        "# calculate scores\n",
        "ns_auc = roc_auc_score(y_test, ns_probs)\n",
        "lr_auc = roc_auc_score(y_test, lr_probs)"
      ]
    },
    {
      "cell_type": "code",
      "execution_count": null,
      "metadata": {
        "id": "8ZWovAUfTDjx"
      },
      "outputs": [],
      "source": [
        "#No Skill\n",
        "print(ns_auc)"
      ]
    },
    {
      "cell_type": "code",
      "execution_count": null,
      "metadata": {
        "id": "rngpUOBETDjx"
      },
      "outputs": [],
      "source": [
        "#My Model\n",
        "print(lr_auc)"
      ]
    },
    {
      "cell_type": "code",
      "execution_count": null,
      "metadata": {
        "id": "n5CIVeIwTDjy"
      },
      "outputs": [],
      "source": [
        "metrics.plot_confusion_matrix(eclf,X_test,y_test,values_format = 'd')"
      ]
    },
    {
      "cell_type": "code",
      "execution_count": null,
      "metadata": {
        "id": "jlXhDpIx4IWi"
      },
      "outputs": [],
      "source": [
        "#My Model\n",
        "print(lr_auc)"
      ]
    },
    {
      "cell_type": "code",
      "execution_count": null,
      "metadata": {
        "id": "MN3iz-hq4vQs"
      },
      "outputs": [],
      "source": [
        "metrics.plot_confusion_matrix(xgb,X_test,y_test,values_format = 'd')"
      ]
    },
    {
      "cell_type": "markdown",
      "metadata": {
        "id": "MPSEKFtm5fOZ"
      },
      "source": [
        "KNN,"
      ]
    },
    {
      "cell_type": "code",
      "execution_count": null,
      "metadata": {
        "id": "QVB6gFqc5gVR"
      },
      "outputs": [],
      "source": [
        "from sklearn.neighbors import KNeighborsClassifier\n",
        "knnmodel = KNeighborsClassifier(n_neighbors=5)"
      ]
    },
    {
      "cell_type": "code",
      "execution_count": null,
      "metadata": {
        "id": "EaqnI4Dc5krA"
      },
      "outputs": [],
      "source": [
        "knnmodel.fit(X_train,y_train)"
      ]
    },
    {
      "cell_type": "code",
      "execution_count": null,
      "metadata": {
        "id": "DZU9qVn45o1x"
      },
      "outputs": [],
      "source": [
        "# predict probabilities\n",
        "lr_probs = knnmodel.predict_proba(X_test)\n",
        "# keep probabilities for the positive outcome only\n",
        "lr_probs = lr_probs[:, 1]\n",
        "# calculate scores\n",
        "ns_auc = roc_auc_score(y_test, ns_probs)\n",
        "lr_auc = roc_auc_score(y_test, lr_probs)"
      ]
    },
    {
      "cell_type": "code",
      "execution_count": null,
      "metadata": {
        "id": "hWg5VrU45o1z"
      },
      "outputs": [],
      "source": [
        "#No Skill\n",
        "print(ns_auc)"
      ]
    },
    {
      "cell_type": "code",
      "execution_count": null,
      "metadata": {
        "id": "9_FPjKmO5o10"
      },
      "outputs": [],
      "source": [
        "#My Model\n",
        "print(lr_auc)"
      ]
    },
    {
      "cell_type": "code",
      "execution_count": null,
      "metadata": {
        "id": "7ruy2EiZ5o11"
      },
      "outputs": [],
      "source": [
        "metrics.plot_confusion_matrix(knnmodel,X_test,y_test,values_format = 'd')"
      ]
    },
    {
      "cell_type": "markdown",
      "metadata": {
        "id": "RbSUDE5I3Nz8"
      },
      "source": [
        "# IDC LOL"
      ]
    },
    {
      "cell_type": "code",
      "execution_count": null,
      "metadata": {
        "id": "TQm3BbNgyNxl"
      },
      "outputs": [],
      "source": [
        "results = []\n",
        "names = []\n",
        "\n",
        "for name, model in models:\n",
        "        \n",
        "        cv_results = cross_val_score(model, X_train, y_train, cv = 10, scoring= \"accuracy\")\n",
        "        results.append(cv_results)\n",
        "        names.append(name)\n",
        "        msg = \"%s: %f (%f)\" % (name, cv_results.mean(), cv_results.std())\n",
        "        print(msg)"
      ]
    },
    {
      "cell_type": "markdown",
      "metadata": {
        "id": "alWR7D8zxtLE"
      },
      "source": [
        "# **Old (Don't Use Now)**"
      ]
    },
    {
      "cell_type": "markdown",
      "metadata": {
        "id": "9CfH9XYO3Mda"
      },
      "source": [
        "Retrying Clusters,"
      ]
    },
    {
      "cell_type": "code",
      "execution_count": null,
      "metadata": {
        "id": "u45KUcjb3Pbl"
      },
      "outputs": [],
      "source": [
        "# New_df is from the random undersample data (fewer instances)\n",
        "# PCA Implementation\n",
        "t0 = time.time()\n",
        "X_reduced_pca = PCA(n_components=2, random_state=42).fit_transform(X.values)\n",
        "t1 = time.time()\n",
        "print(\"PCA took {:.2} s\".format(t1 - t0))\n",
        "\n",
        "# TruncatedSVD\n",
        "t0 = time.time()\n",
        "X_reduced_svd = TruncatedSVD(n_components=2, algorithm='randomized', random_state=42).fit_transform(X.values)\n",
        "t1 = time.time()\n",
        "print(\"Truncated SVD took {:.2} s\".format(t1 - t0))"
      ]
    },
    {
      "cell_type": "code",
      "execution_count": null,
      "metadata": {
        "id": "vV88irgH3Pbn"
      },
      "outputs": [],
      "source": [
        "# f, (ax2, ax3) = plt.subplots(1, 2, figsize=(24,6))\n",
        "# # labels = ['No Fraud', 'Fraud']\n",
        "# f.suptitle('Clusters using Dimensionality Reduction', fontsize=14)\n",
        "\n",
        "# blue_patch = mpatches.Patch(color='#0A0AFF', label='Not Cancelled')\n",
        "# red_patch = mpatches.Patch(color='#AF0000', label='Cancelled')\n",
        "\n",
        "# # PCA scatter plot\n",
        "# ax2.scatter(X_reduced_pca[:,0], X_reduced_pca[:,1], c=(y == 0), cmap='coolwarm', label='Not Cancelled', linewidths=2)\n",
        "# ax2.scatter(X_reduced_pca[:,0], X_reduced_pca[:,1], c=(y == 1), cmap='coolwarm', label='Cancelled', linewidths=2)\n",
        "# ax2.set_title('PCA', fontsize=14)\n",
        "\n",
        "# ax2.grid(True)\n",
        "\n",
        "# ax2.legend(handles=[blue_patch, red_patch])\n",
        "\n",
        "# # TruncatedSVD scatter plot\n",
        "# ax3.scatter(X_reduced_svd[:,0], X_reduced_svd[:,1], c=(y == 0), cmap='coolwarm', label='Not Cancelled', linewidths=2)\n",
        "# ax3.scatter(X_reduced_svd[:,0], X_reduced_svd[:,1], c=(y == 1), cmap='coolwarm', label='Cancelled', linewidths=2)\n",
        "# ax3.set_title('Truncated SVD', fontsize=14)\n",
        "\n",
        "# ax3.grid(True)\n",
        "\n",
        "# ax3.legend(handles=[blue_patch, red_patch])\n",
        "\n",
        "# plt.show()"
      ]
    },
    {
      "cell_type": "markdown",
      "metadata": {
        "id": "2YMlQ2Xr9_9P"
      },
      "source": [
        "Changing testing data,"
      ]
    },
    {
      "cell_type": "code",
      "execution_count": null,
      "metadata": {
        "colab": {
          "base_uri": "https://localhost:8080/"
        },
        "id": "z2PZdWFg88Dv",
        "outputId": "41ee866f-dc84-496f-c564-48b237a89094"
      },
      "outputs": [
        {
          "output_type": "execute_result",
          "data": {
            "text/plain": [
              "order_time                 0\n",
              "order_id                   0\n",
              "order_date                 0\n",
              "allot_time                 0\n",
              "accept_time               68\n",
              "rider_id                   0\n",
              "first_mile_distance        0\n",
              "last_mile_distance         0\n",
              "alloted_orders          4773\n",
              "delivered_orders        4884\n",
              "undelivered_orders      4884\n",
              "lifetime_order_count     778\n",
              "session_time            5054\n",
              "dtype: int64"
            ]
          },
          "metadata": {},
          "execution_count": 158
        }
      ],
      "source": [
        "test.isna().sum()"
      ]
    },
    {
      "cell_type": "code",
      "execution_count": null,
      "metadata": {
        "id": "20BTOPM86UQn"
      },
      "outputs": [],
      "source": [
        "# test = test[pd.notnull(test['accept_time'])]"
      ]
    },
    {
      "cell_type": "code",
      "execution_count": null,
      "metadata": {
        "id": "R_hc-zevCWr8"
      },
      "outputs": [],
      "source": [
        "test['order_time'] = pd.to_datetime(test['order_time'])"
      ]
    },
    {
      "cell_type": "code",
      "execution_count": null,
      "metadata": {
        "id": "lRY1993vCWr-"
      },
      "outputs": [],
      "source": [
        "test['order_date'] = pd.to_datetime(test['order_date'])"
      ]
    },
    {
      "cell_type": "code",
      "execution_count": null,
      "metadata": {
        "id": "5ZI6mOP-CWr_"
      },
      "outputs": [],
      "source": [
        "test['allot_time'] = pd.to_datetime(test['allot_time'])"
      ]
    },
    {
      "cell_type": "code",
      "execution_count": null,
      "metadata": {
        "id": "xQ2Wxw7DCWr_"
      },
      "outputs": [],
      "source": [
        "test['accept_time'] = pd.to_datetime(test['accept_time'])"
      ]
    },
    {
      "cell_type": "code",
      "execution_count": null,
      "metadata": {
        "id": "Mg41R-CP56s2"
      },
      "outputs": [],
      "source": [
        "test['acc_all_diff'] = test['accept_time'] - test['allot_time']\n",
        "test['acc_ord_diff'] = test['accept_time'] - test['order_time']"
      ]
    },
    {
      "cell_type": "code",
      "execution_count": null,
      "metadata": {
        "id": "er24S0PQ56s3"
      },
      "outputs": [],
      "source": [
        "test['hour'] = test['order_time'].dt.hour"
      ]
    },
    {
      "cell_type": "code",
      "execution_count": null,
      "metadata": {
        "id": "a_M5myDp56s3"
      },
      "outputs": [],
      "source": [
        "test['acc_all_diff'] = test['acc_all_diff']/np.timedelta64(1,'s')\n",
        "test['acc_ord_diff'] = test['acc_ord_diff']/np.timedelta64(1,'s')"
      ]
    },
    {
      "cell_type": "code",
      "execution_count": null,
      "metadata": {
        "id": "7Lk73_zP56s4"
      },
      "outputs": [],
      "source": [
        "b = [0,4,8,12,16,20,24]\n",
        "l = ['Late Night', 'Early Morning','Morning','Noon','Eve','Night']\n",
        "test['session'] = pd.cut(test['hour'], bins=b, labels=l, include_lowest=True)"
      ]
    },
    {
      "cell_type": "code",
      "execution_count": null,
      "metadata": {
        "colab": {
          "base_uri": "https://localhost:8080/",
          "height": 357
        },
        "id": "3Jz1S7N156s5",
        "outputId": "a8d5fc2d-68e2-467b-a2b5-56ed0e55629c"
      },
      "outputs": [
        {
          "output_type": "execute_result",
          "data": {
            "text/html": [
              "\n",
              "  <div id=\"df-3cec1325-172d-47fa-9826-5391fa3f4974\">\n",
              "    <div class=\"colab-df-container\">\n",
              "      <div>\n",
              "<style scoped>\n",
              "    .dataframe tbody tr th:only-of-type {\n",
              "        vertical-align: middle;\n",
              "    }\n",
              "\n",
              "    .dataframe tbody tr th {\n",
              "        vertical-align: top;\n",
              "    }\n",
              "\n",
              "    .dataframe thead th {\n",
              "        text-align: right;\n",
              "    }\n",
              "</style>\n",
              "<table border=\"1\" class=\"dataframe\">\n",
              "  <thead>\n",
              "    <tr style=\"text-align: right;\">\n",
              "      <th></th>\n",
              "      <th>order_time</th>\n",
              "      <th>order_id</th>\n",
              "      <th>order_date</th>\n",
              "      <th>allot_time</th>\n",
              "      <th>accept_time</th>\n",
              "      <th>rider_id</th>\n",
              "      <th>first_mile_distance</th>\n",
              "      <th>last_mile_distance</th>\n",
              "      <th>alloted_orders</th>\n",
              "      <th>delivered_orders</th>\n",
              "      <th>undelivered_orders</th>\n",
              "      <th>lifetime_order_count</th>\n",
              "      <th>session_time</th>\n",
              "      <th>acc_all_diff</th>\n",
              "      <th>acc_ord_diff</th>\n",
              "      <th>hour</th>\n",
              "      <th>session</th>\n",
              "    </tr>\n",
              "  </thead>\n",
              "  <tbody>\n",
              "    <tr>\n",
              "      <th>0</th>\n",
              "      <td>2021-02-06 10:03:24</td>\n",
              "      <td>130231</td>\n",
              "      <td>2021-02-06</td>\n",
              "      <td>2021-02-06 10:03:49</td>\n",
              "      <td>2021-02-06 10:04:15</td>\n",
              "      <td>12884</td>\n",
              "      <td>1.6585</td>\n",
              "      <td>4.54</td>\n",
              "      <td>216.0</td>\n",
              "      <td>215.0</td>\n",
              "      <td>1.0</td>\n",
              "      <td>747.0</td>\n",
              "      <td>273.400000</td>\n",
              "      <td>26.0</td>\n",
              "      <td>51.0</td>\n",
              "      <td>10</td>\n",
              "      <td>Morning</td>\n",
              "    </tr>\n",
              "    <tr>\n",
              "      <th>1</th>\n",
              "      <td>2021-02-06 10:03:26</td>\n",
              "      <td>130232</td>\n",
              "      <td>2021-02-06</td>\n",
              "      <td>2021-02-06 10:03:27</td>\n",
              "      <td>2021-02-06 10:03:36</td>\n",
              "      <td>3541</td>\n",
              "      <td>2.0709</td>\n",
              "      <td>5.84</td>\n",
              "      <td>52.0</td>\n",
              "      <td>52.0</td>\n",
              "      <td>0.0</td>\n",
              "      <td>75.0</td>\n",
              "      <td>252.100000</td>\n",
              "      <td>9.0</td>\n",
              "      <td>10.0</td>\n",
              "      <td>10</td>\n",
              "      <td>Morning</td>\n",
              "    </tr>\n",
              "    <tr>\n",
              "      <th>2</th>\n",
              "      <td>2021-02-06 10:03:27</td>\n",
              "      <td>130233</td>\n",
              "      <td>2021-02-06</td>\n",
              "      <td>2021-02-06 10:04:14</td>\n",
              "      <td>2021-02-06 10:05:34</td>\n",
              "      <td>603</td>\n",
              "      <td>1.3884</td>\n",
              "      <td>0.99</td>\n",
              "      <td>289.0</td>\n",
              "      <td>289.0</td>\n",
              "      <td>0.0</td>\n",
              "      <td>2214.0</td>\n",
              "      <td>241.383333</td>\n",
              "      <td>80.0</td>\n",
              "      <td>127.0</td>\n",
              "      <td>10</td>\n",
              "      <td>Morning</td>\n",
              "    </tr>\n",
              "    <tr>\n",
              "      <th>3</th>\n",
              "      <td>2021-02-06 10:03:29</td>\n",
              "      <td>130234</td>\n",
              "      <td>2021-02-06</td>\n",
              "      <td>2021-02-06 10:03:30</td>\n",
              "      <td>2021-02-06 10:03:53</td>\n",
              "      <td>3414</td>\n",
              "      <td>1.9039</td>\n",
              "      <td>2.59</td>\n",
              "      <td>125.0</td>\n",
              "      <td>122.0</td>\n",
              "      <td>3.0</td>\n",
              "      <td>1020.0</td>\n",
              "      <td>291.933333</td>\n",
              "      <td>23.0</td>\n",
              "      <td>24.0</td>\n",
              "      <td>10</td>\n",
              "      <td>Morning</td>\n",
              "    </tr>\n",
              "    <tr>\n",
              "      <th>4</th>\n",
              "      <td>2021-02-06 10:03:35</td>\n",
              "      <td>130235</td>\n",
              "      <td>2021-02-06</td>\n",
              "      <td>2021-02-06 10:03:43</td>\n",
              "      <td>2021-02-06 10:04:43</td>\n",
              "      <td>1426</td>\n",
              "      <td>0.8275</td>\n",
              "      <td>0.94</td>\n",
              "      <td>352.0</td>\n",
              "      <td>350.0</td>\n",
              "      <td>2.0</td>\n",
              "      <td>7284.0</td>\n",
              "      <td>247.133333</td>\n",
              "      <td>60.0</td>\n",
              "      <td>68.0</td>\n",
              "      <td>10</td>\n",
              "      <td>Morning</td>\n",
              "    </tr>\n",
              "  </tbody>\n",
              "</table>\n",
              "</div>\n",
              "      <button class=\"colab-df-convert\" onclick=\"convertToInteractive('df-3cec1325-172d-47fa-9826-5391fa3f4974')\"\n",
              "              title=\"Convert this dataframe to an interactive table.\"\n",
              "              style=\"display:none;\">\n",
              "        \n",
              "  <svg xmlns=\"http://www.w3.org/2000/svg\" height=\"24px\"viewBox=\"0 0 24 24\"\n",
              "       width=\"24px\">\n",
              "    <path d=\"M0 0h24v24H0V0z\" fill=\"none\"/>\n",
              "    <path d=\"M18.56 5.44l.94 2.06.94-2.06 2.06-.94-2.06-.94-.94-2.06-.94 2.06-2.06.94zm-11 1L8.5 8.5l.94-2.06 2.06-.94-2.06-.94L8.5 2.5l-.94 2.06-2.06.94zm10 10l.94 2.06.94-2.06 2.06-.94-2.06-.94-.94-2.06-.94 2.06-2.06.94z\"/><path d=\"M17.41 7.96l-1.37-1.37c-.4-.4-.92-.59-1.43-.59-.52 0-1.04.2-1.43.59L10.3 9.45l-7.72 7.72c-.78.78-.78 2.05 0 2.83L4 21.41c.39.39.9.59 1.41.59.51 0 1.02-.2 1.41-.59l7.78-7.78 2.81-2.81c.8-.78.8-2.07 0-2.86zM5.41 20L4 18.59l7.72-7.72 1.47 1.35L5.41 20z\"/>\n",
              "  </svg>\n",
              "      </button>\n",
              "      \n",
              "  <style>\n",
              "    .colab-df-container {\n",
              "      display:flex;\n",
              "      flex-wrap:wrap;\n",
              "      gap: 12px;\n",
              "    }\n",
              "\n",
              "    .colab-df-convert {\n",
              "      background-color: #E8F0FE;\n",
              "      border: none;\n",
              "      border-radius: 50%;\n",
              "      cursor: pointer;\n",
              "      display: none;\n",
              "      fill: #1967D2;\n",
              "      height: 32px;\n",
              "      padding: 0 0 0 0;\n",
              "      width: 32px;\n",
              "    }\n",
              "\n",
              "    .colab-df-convert:hover {\n",
              "      background-color: #E2EBFA;\n",
              "      box-shadow: 0px 1px 2px rgba(60, 64, 67, 0.3), 0px 1px 3px 1px rgba(60, 64, 67, 0.15);\n",
              "      fill: #174EA6;\n",
              "    }\n",
              "\n",
              "    [theme=dark] .colab-df-convert {\n",
              "      background-color: #3B4455;\n",
              "      fill: #D2E3FC;\n",
              "    }\n",
              "\n",
              "    [theme=dark] .colab-df-convert:hover {\n",
              "      background-color: #434B5C;\n",
              "      box-shadow: 0px 1px 3px 1px rgba(0, 0, 0, 0.15);\n",
              "      filter: drop-shadow(0px 1px 2px rgba(0, 0, 0, 0.3));\n",
              "      fill: #FFFFFF;\n",
              "    }\n",
              "  </style>\n",
              "\n",
              "      <script>\n",
              "        const buttonEl =\n",
              "          document.querySelector('#df-3cec1325-172d-47fa-9826-5391fa3f4974 button.colab-df-convert');\n",
              "        buttonEl.style.display =\n",
              "          google.colab.kernel.accessAllowed ? 'block' : 'none';\n",
              "\n",
              "        async function convertToInteractive(key) {\n",
              "          const element = document.querySelector('#df-3cec1325-172d-47fa-9826-5391fa3f4974');\n",
              "          const dataTable =\n",
              "            await google.colab.kernel.invokeFunction('convertToInteractive',\n",
              "                                                     [key], {});\n",
              "          if (!dataTable) return;\n",
              "\n",
              "          const docLinkHtml = 'Like what you see? Visit the ' +\n",
              "            '<a target=\"_blank\" href=https://colab.research.google.com/notebooks/data_table.ipynb>data table notebook</a>'\n",
              "            + ' to learn more about interactive tables.';\n",
              "          element.innerHTML = '';\n",
              "          dataTable['output_type'] = 'display_data';\n",
              "          await google.colab.output.renderOutput(dataTable, element);\n",
              "          const docLink = document.createElement('div');\n",
              "          docLink.innerHTML = docLinkHtml;\n",
              "          element.appendChild(docLink);\n",
              "        }\n",
              "      </script>\n",
              "    </div>\n",
              "  </div>\n",
              "  "
            ],
            "text/plain": [
              "           order_time  order_id order_date  ... acc_ord_diff hour  session\n",
              "0 2021-02-06 10:03:24    130231 2021-02-06  ...         51.0   10  Morning\n",
              "1 2021-02-06 10:03:26    130232 2021-02-06  ...         10.0   10  Morning\n",
              "2 2021-02-06 10:03:27    130233 2021-02-06  ...        127.0   10  Morning\n",
              "3 2021-02-06 10:03:29    130234 2021-02-06  ...         24.0   10  Morning\n",
              "4 2021-02-06 10:03:35    130235 2021-02-06  ...         68.0   10  Morning\n",
              "\n",
              "[5 rows x 17 columns]"
            ]
          },
          "metadata": {},
          "execution_count": 167
        }
      ],
      "source": [
        "test.head()"
      ]
    },
    {
      "cell_type": "code",
      "execution_count": null,
      "metadata": {
        "id": "B6APC3SV56s6"
      },
      "outputs": [],
      "source": [
        "test['day_of_week'] = test['order_date'].dt.dayofweek"
      ]
    },
    {
      "cell_type": "code",
      "execution_count": null,
      "metadata": {
        "colab": {
          "base_uri": "https://localhost:8080/"
        },
        "id": "ye3yBh7_56s6",
        "outputId": "d48b782a-8a4d-461b-eb7b-c8e475b37de2"
      },
      "outputs": [
        {
          "output_type": "execute_result",
          "data": {
            "text/plain": [
              "['order_time',\n",
              " 'order_id',\n",
              " 'order_date',\n",
              " 'allot_time',\n",
              " 'accept_time',\n",
              " 'rider_id',\n",
              " 'first_mile_distance',\n",
              " 'last_mile_distance',\n",
              " 'alloted_orders',\n",
              " 'delivered_orders',\n",
              " 'undelivered_orders',\n",
              " 'lifetime_order_count',\n",
              " 'session_time',\n",
              " 'acc_all_diff',\n",
              " 'acc_ord_diff',\n",
              " 'hour',\n",
              " 'session',\n",
              " 'day_of_week']"
            ]
          },
          "metadata": {},
          "execution_count": 249
        }
      ],
      "source": [
        "cols = list(test.columns)\n",
        "cols"
      ]
    },
    {
      "cell_type": "markdown",
      "metadata": {
        "id": "DHihAEgp56s7"
      },
      "source": [
        "Rearranging columns, removing allot_time, accept_time, and hours"
      ]
    },
    {
      "cell_type": "code",
      "execution_count": null,
      "metadata": {
        "id": "BvBTTlZn56s8"
      },
      "outputs": [],
      "source": [
        "cols = [ \n",
        " 'order_id',\n",
        " 'acc_all_diff',\n",
        " 'acc_ord_diff',\n",
        " 'hour',\n",
        " 'session',\n",
        " 'day_of_week',\n",
        " 'rider_id',\n",
        " 'first_mile_distance',\n",
        " 'last_mile_distance',\n",
        " 'alloted_orders',\n",
        " 'delivered_orders',\n",
        " 'undelivered_orders',\n",
        " 'lifetime_order_count',\n",
        " 'session_time',\n",
        "]"
      ]
    },
    {
      "cell_type": "code",
      "execution_count": null,
      "metadata": {
        "id": "eYCN4_IW56s8"
      },
      "outputs": [],
      "source": [
        "test = test[cols]"
      ]
    },
    {
      "cell_type": "code",
      "execution_count": null,
      "metadata": {
        "colab": {
          "base_uri": "https://localhost:8080/",
          "height": 176
        },
        "id": "ouKBMZIa56s8",
        "outputId": "7634465a-5b21-462e-a4af-11c35cf4c143"
      },
      "outputs": [
        {
          "output_type": "execute_result",
          "data": {
            "text/html": [
              "\n",
              "  <div id=\"df-846e175d-ea5c-49fb-8d15-9d65e4c44ee2\">\n",
              "    <div class=\"colab-df-container\">\n",
              "      <div>\n",
              "<style scoped>\n",
              "    .dataframe tbody tr th:only-of-type {\n",
              "        vertical-align: middle;\n",
              "    }\n",
              "\n",
              "    .dataframe tbody tr th {\n",
              "        vertical-align: top;\n",
              "    }\n",
              "\n",
              "    .dataframe thead th {\n",
              "        text-align: right;\n",
              "    }\n",
              "</style>\n",
              "<table border=\"1\" class=\"dataframe\">\n",
              "  <thead>\n",
              "    <tr style=\"text-align: right;\">\n",
              "      <th></th>\n",
              "      <th>order_id</th>\n",
              "      <th>acc_all_diff</th>\n",
              "      <th>acc_ord_diff</th>\n",
              "      <th>hour</th>\n",
              "      <th>session</th>\n",
              "      <th>day_of_week</th>\n",
              "      <th>rider_id</th>\n",
              "      <th>first_mile_distance</th>\n",
              "      <th>last_mile_distance</th>\n",
              "      <th>alloted_orders</th>\n",
              "      <th>delivered_orders</th>\n",
              "      <th>undelivered_orders</th>\n",
              "      <th>lifetime_order_count</th>\n",
              "      <th>session_time</th>\n",
              "    </tr>\n",
              "  </thead>\n",
              "  <tbody>\n",
              "    <tr>\n",
              "      <th>0</th>\n",
              "      <td>130231</td>\n",
              "      <td>26.0</td>\n",
              "      <td>51.0</td>\n",
              "      <td>10</td>\n",
              "      <td>Morning</td>\n",
              "      <td>5</td>\n",
              "      <td>12884</td>\n",
              "      <td>1.6585</td>\n",
              "      <td>4.54</td>\n",
              "      <td>216.0</td>\n",
              "      <td>215.0</td>\n",
              "      <td>1.0</td>\n",
              "      <td>747.0</td>\n",
              "      <td>273.4</td>\n",
              "    </tr>\n",
              "    <tr>\n",
              "      <th>1</th>\n",
              "      <td>130232</td>\n",
              "      <td>9.0</td>\n",
              "      <td>10.0</td>\n",
              "      <td>10</td>\n",
              "      <td>Morning</td>\n",
              "      <td>5</td>\n",
              "      <td>3541</td>\n",
              "      <td>2.0709</td>\n",
              "      <td>5.84</td>\n",
              "      <td>52.0</td>\n",
              "      <td>52.0</td>\n",
              "      <td>0.0</td>\n",
              "      <td>75.0</td>\n",
              "      <td>252.1</td>\n",
              "    </tr>\n",
              "  </tbody>\n",
              "</table>\n",
              "</div>\n",
              "      <button class=\"colab-df-convert\" onclick=\"convertToInteractive('df-846e175d-ea5c-49fb-8d15-9d65e4c44ee2')\"\n",
              "              title=\"Convert this dataframe to an interactive table.\"\n",
              "              style=\"display:none;\">\n",
              "        \n",
              "  <svg xmlns=\"http://www.w3.org/2000/svg\" height=\"24px\"viewBox=\"0 0 24 24\"\n",
              "       width=\"24px\">\n",
              "    <path d=\"M0 0h24v24H0V0z\" fill=\"none\"/>\n",
              "    <path d=\"M18.56 5.44l.94 2.06.94-2.06 2.06-.94-2.06-.94-.94-2.06-.94 2.06-2.06.94zm-11 1L8.5 8.5l.94-2.06 2.06-.94-2.06-.94L8.5 2.5l-.94 2.06-2.06.94zm10 10l.94 2.06.94-2.06 2.06-.94-2.06-.94-.94-2.06-.94 2.06-2.06.94z\"/><path d=\"M17.41 7.96l-1.37-1.37c-.4-.4-.92-.59-1.43-.59-.52 0-1.04.2-1.43.59L10.3 9.45l-7.72 7.72c-.78.78-.78 2.05 0 2.83L4 21.41c.39.39.9.59 1.41.59.51 0 1.02-.2 1.41-.59l7.78-7.78 2.81-2.81c.8-.78.8-2.07 0-2.86zM5.41 20L4 18.59l7.72-7.72 1.47 1.35L5.41 20z\"/>\n",
              "  </svg>\n",
              "      </button>\n",
              "      \n",
              "  <style>\n",
              "    .colab-df-container {\n",
              "      display:flex;\n",
              "      flex-wrap:wrap;\n",
              "      gap: 12px;\n",
              "    }\n",
              "\n",
              "    .colab-df-convert {\n",
              "      background-color: #E8F0FE;\n",
              "      border: none;\n",
              "      border-radius: 50%;\n",
              "      cursor: pointer;\n",
              "      display: none;\n",
              "      fill: #1967D2;\n",
              "      height: 32px;\n",
              "      padding: 0 0 0 0;\n",
              "      width: 32px;\n",
              "    }\n",
              "\n",
              "    .colab-df-convert:hover {\n",
              "      background-color: #E2EBFA;\n",
              "      box-shadow: 0px 1px 2px rgba(60, 64, 67, 0.3), 0px 1px 3px 1px rgba(60, 64, 67, 0.15);\n",
              "      fill: #174EA6;\n",
              "    }\n",
              "\n",
              "    [theme=dark] .colab-df-convert {\n",
              "      background-color: #3B4455;\n",
              "      fill: #D2E3FC;\n",
              "    }\n",
              "\n",
              "    [theme=dark] .colab-df-convert:hover {\n",
              "      background-color: #434B5C;\n",
              "      box-shadow: 0px 1px 3px 1px rgba(0, 0, 0, 0.15);\n",
              "      filter: drop-shadow(0px 1px 2px rgba(0, 0, 0, 0.3));\n",
              "      fill: #FFFFFF;\n",
              "    }\n",
              "  </style>\n",
              "\n",
              "      <script>\n",
              "        const buttonEl =\n",
              "          document.querySelector('#df-846e175d-ea5c-49fb-8d15-9d65e4c44ee2 button.colab-df-convert');\n",
              "        buttonEl.style.display =\n",
              "          google.colab.kernel.accessAllowed ? 'block' : 'none';\n",
              "\n",
              "        async function convertToInteractive(key) {\n",
              "          const element = document.querySelector('#df-846e175d-ea5c-49fb-8d15-9d65e4c44ee2');\n",
              "          const dataTable =\n",
              "            await google.colab.kernel.invokeFunction('convertToInteractive',\n",
              "                                                     [key], {});\n",
              "          if (!dataTable) return;\n",
              "\n",
              "          const docLinkHtml = 'Like what you see? Visit the ' +\n",
              "            '<a target=\"_blank\" href=https://colab.research.google.com/notebooks/data_table.ipynb>data table notebook</a>'\n",
              "            + ' to learn more about interactive tables.';\n",
              "          element.innerHTML = '';\n",
              "          dataTable['output_type'] = 'display_data';\n",
              "          await google.colab.output.renderOutput(dataTable, element);\n",
              "          const docLink = document.createElement('div');\n",
              "          docLink.innerHTML = docLinkHtml;\n",
              "          element.appendChild(docLink);\n",
              "        }\n",
              "      </script>\n",
              "    </div>\n",
              "  </div>\n",
              "  "
            ],
            "text/plain": [
              "   order_id  acc_all_diff  ...  lifetime_order_count  session_time\n",
              "0    130231          26.0  ...                 747.0         273.4\n",
              "1    130232           9.0  ...                  75.0         252.1\n",
              "\n",
              "[2 rows x 14 columns]"
            ]
          },
          "metadata": {},
          "execution_count": 172
        }
      ],
      "source": [
        "test.head(2)"
      ]
    },
    {
      "cell_type": "code",
      "execution_count": null,
      "metadata": {
        "colab": {
          "base_uri": "https://localhost:8080/"
        },
        "id": "tZqRYqH656s9",
        "outputId": "b4b82693-c0e9-43df-f285-f235a5f8c590"
      },
      "outputs": [
        {
          "output_type": "execute_result",
          "data": {
            "text/plain": [
              "order_time                 0\n",
              "order_id                   0\n",
              "order_date                 0\n",
              "allot_time                 0\n",
              "accept_time               68\n",
              "rider_id                   0\n",
              "first_mile_distance        0\n",
              "last_mile_distance         0\n",
              "alloted_orders          4773\n",
              "delivered_orders        4884\n",
              "undelivered_orders      4884\n",
              "lifetime_order_count     778\n",
              "session_time            5054\n",
              "acc_all_diff              68\n",
              "acc_ord_diff              68\n",
              "hour                       0\n",
              "session                    0\n",
              "day_of_week                0\n",
              "dtype: int64"
            ]
          },
          "metadata": {},
          "execution_count": 251
        }
      ],
      "source": [
        "test.isna().sum()"
      ]
    },
    {
      "cell_type": "code",
      "execution_count": null,
      "metadata": {
        "id": "M4LPqWtTE_lA"
      },
      "outputs": [],
      "source": [
        "test['acc_all_diff'] = test['acc_all_diff'].fillna(0)\n",
        "test['acc_ord_diff'] = test['acc_ord_diff'].fillna(0)"
      ]
    },
    {
      "cell_type": "code",
      "execution_count": null,
      "metadata": {
        "id": "HRSN5b4iEU1E"
      },
      "outputs": [],
      "source": [
        "test['session'],_ = pd.factorize(test['session'])"
      ]
    },
    {
      "cell_type": "markdown",
      "source": [
        "# FK YES BBB"
      ],
      "metadata": {
        "id": "arUdxTr6tWWL"
      }
    },
    {
      "cell_type": "code",
      "execution_count": null,
      "metadata": {
        "id": "l0w5pZuxCWsC"
      },
      "outputs": [],
      "source": [
        "test = test[cols]"
      ]
    },
    {
      "cell_type": "code",
      "source": [
        "LALA = pd.concat([X, test[cols]],ignore_index=True)"
      ],
      "metadata": {
        "id": "en8HajuVtapX"
      },
      "execution_count": null,
      "outputs": []
    },
    {
      "cell_type": "code",
      "source": [
        "LALA.head()"
      ],
      "metadata": {
        "colab": {
          "base_uri": "https://localhost:8080/",
          "height": 270
        },
        "id": "qT1ZQ9gpunD5",
        "outputId": "2b114883-cde8-4549-f46d-2afd1b1a0718"
      },
      "execution_count": null,
      "outputs": [
        {
          "output_type": "execute_result",
          "data": {
            "text/html": [
              "\n",
              "  <div id=\"df-f8e0f5b7-8cad-4ff7-ba37-3a57c6e3e397\">\n",
              "    <div class=\"colab-df-container\">\n",
              "      <div>\n",
              "<style scoped>\n",
              "    .dataframe tbody tr th:only-of-type {\n",
              "        vertical-align: middle;\n",
              "    }\n",
              "\n",
              "    .dataframe tbody tr th {\n",
              "        vertical-align: top;\n",
              "    }\n",
              "\n",
              "    .dataframe thead th {\n",
              "        text-align: right;\n",
              "    }\n",
              "</style>\n",
              "<table border=\"1\" class=\"dataframe\">\n",
              "  <thead>\n",
              "    <tr style=\"text-align: right;\">\n",
              "      <th></th>\n",
              "      <th>order_id</th>\n",
              "      <th>acc_all_diff</th>\n",
              "      <th>acc_ord_diff</th>\n",
              "      <th>hour</th>\n",
              "      <th>session</th>\n",
              "      <th>day_of_week</th>\n",
              "      <th>rider_id</th>\n",
              "      <th>first_mile_distance</th>\n",
              "      <th>last_mile_distance</th>\n",
              "      <th>alloted_orders</th>\n",
              "      <th>delivered_orders</th>\n",
              "      <th>undelivered_orders</th>\n",
              "      <th>lifetime_order_count</th>\n",
              "      <th>session_time</th>\n",
              "    </tr>\n",
              "  </thead>\n",
              "  <tbody>\n",
              "    <tr>\n",
              "      <th>0</th>\n",
              "      <td>556753</td>\n",
              "      <td>9.0</td>\n",
              "      <td>33.0</td>\n",
              "      <td>2</td>\n",
              "      <td>0</td>\n",
              "      <td>1</td>\n",
              "      <td>11696</td>\n",
              "      <td>1.5666</td>\n",
              "      <td>2.65</td>\n",
              "      <td>46.0</td>\n",
              "      <td>46.0</td>\n",
              "      <td>0.0</td>\n",
              "      <td>621.0</td>\n",
              "      <td>NaN</td>\n",
              "    </tr>\n",
              "    <tr>\n",
              "      <th>1</th>\n",
              "      <td>556754</td>\n",
              "      <td>48.0</td>\n",
              "      <td>89.0</td>\n",
              "      <td>2</td>\n",
              "      <td>0</td>\n",
              "      <td>1</td>\n",
              "      <td>18117</td>\n",
              "      <td>2.5207</td>\n",
              "      <td>2.76</td>\n",
              "      <td>8.0</td>\n",
              "      <td>8.0</td>\n",
              "      <td>0.0</td>\n",
              "      <td>105.0</td>\n",
              "      <td>3.266667</td>\n",
              "    </tr>\n",
              "    <tr>\n",
              "      <th>2</th>\n",
              "      <td>556755</td>\n",
              "      <td>16.0</td>\n",
              "      <td>24.0</td>\n",
              "      <td>2</td>\n",
              "      <td>0</td>\n",
              "      <td>1</td>\n",
              "      <td>18623</td>\n",
              "      <td>2.2074</td>\n",
              "      <td>4.80</td>\n",
              "      <td>1.0</td>\n",
              "      <td>1.0</td>\n",
              "      <td>0.0</td>\n",
              "      <td>66.0</td>\n",
              "      <td>9.816667</td>\n",
              "    </tr>\n",
              "    <tr>\n",
              "      <th>3</th>\n",
              "      <td>556756</td>\n",
              "      <td>41.0</td>\n",
              "      <td>73.0</td>\n",
              "      <td>2</td>\n",
              "      <td>0</td>\n",
              "      <td>1</td>\n",
              "      <td>15945</td>\n",
              "      <td>2.1894</td>\n",
              "      <td>6.38</td>\n",
              "      <td>1.0</td>\n",
              "      <td>1.0</td>\n",
              "      <td>0.0</td>\n",
              "      <td>127.0</td>\n",
              "      <td>17.533333</td>\n",
              "    </tr>\n",
              "    <tr>\n",
              "      <th>4</th>\n",
              "      <td>556757</td>\n",
              "      <td>36.0</td>\n",
              "      <td>87.0</td>\n",
              "      <td>3</td>\n",
              "      <td>0</td>\n",
              "      <td>1</td>\n",
              "      <td>17589</td>\n",
              "      <td>2.7870</td>\n",
              "      <td>4.01</td>\n",
              "      <td>34.0</td>\n",
              "      <td>34.0</td>\n",
              "      <td>0.0</td>\n",
              "      <td>84.0</td>\n",
              "      <td>1.350000</td>\n",
              "    </tr>\n",
              "  </tbody>\n",
              "</table>\n",
              "</div>\n",
              "      <button class=\"colab-df-convert\" onclick=\"convertToInteractive('df-f8e0f5b7-8cad-4ff7-ba37-3a57c6e3e397')\"\n",
              "              title=\"Convert this dataframe to an interactive table.\"\n",
              "              style=\"display:none;\">\n",
              "        \n",
              "  <svg xmlns=\"http://www.w3.org/2000/svg\" height=\"24px\"viewBox=\"0 0 24 24\"\n",
              "       width=\"24px\">\n",
              "    <path d=\"M0 0h24v24H0V0z\" fill=\"none\"/>\n",
              "    <path d=\"M18.56 5.44l.94 2.06.94-2.06 2.06-.94-2.06-.94-.94-2.06-.94 2.06-2.06.94zm-11 1L8.5 8.5l.94-2.06 2.06-.94-2.06-.94L8.5 2.5l-.94 2.06-2.06.94zm10 10l.94 2.06.94-2.06 2.06-.94-2.06-.94-.94-2.06-.94 2.06-2.06.94z\"/><path d=\"M17.41 7.96l-1.37-1.37c-.4-.4-.92-.59-1.43-.59-.52 0-1.04.2-1.43.59L10.3 9.45l-7.72 7.72c-.78.78-.78 2.05 0 2.83L4 21.41c.39.39.9.59 1.41.59.51 0 1.02-.2 1.41-.59l7.78-7.78 2.81-2.81c.8-.78.8-2.07 0-2.86zM5.41 20L4 18.59l7.72-7.72 1.47 1.35L5.41 20z\"/>\n",
              "  </svg>\n",
              "      </button>\n",
              "      \n",
              "  <style>\n",
              "    .colab-df-container {\n",
              "      display:flex;\n",
              "      flex-wrap:wrap;\n",
              "      gap: 12px;\n",
              "    }\n",
              "\n",
              "    .colab-df-convert {\n",
              "      background-color: #E8F0FE;\n",
              "      border: none;\n",
              "      border-radius: 50%;\n",
              "      cursor: pointer;\n",
              "      display: none;\n",
              "      fill: #1967D2;\n",
              "      height: 32px;\n",
              "      padding: 0 0 0 0;\n",
              "      width: 32px;\n",
              "    }\n",
              "\n",
              "    .colab-df-convert:hover {\n",
              "      background-color: #E2EBFA;\n",
              "      box-shadow: 0px 1px 2px rgba(60, 64, 67, 0.3), 0px 1px 3px 1px rgba(60, 64, 67, 0.15);\n",
              "      fill: #174EA6;\n",
              "    }\n",
              "\n",
              "    [theme=dark] .colab-df-convert {\n",
              "      background-color: #3B4455;\n",
              "      fill: #D2E3FC;\n",
              "    }\n",
              "\n",
              "    [theme=dark] .colab-df-convert:hover {\n",
              "      background-color: #434B5C;\n",
              "      box-shadow: 0px 1px 3px 1px rgba(0, 0, 0, 0.15);\n",
              "      filter: drop-shadow(0px 1px 2px rgba(0, 0, 0, 0.3));\n",
              "      fill: #FFFFFF;\n",
              "    }\n",
              "  </style>\n",
              "\n",
              "      <script>\n",
              "        const buttonEl =\n",
              "          document.querySelector('#df-f8e0f5b7-8cad-4ff7-ba37-3a57c6e3e397 button.colab-df-convert');\n",
              "        buttonEl.style.display =\n",
              "          google.colab.kernel.accessAllowed ? 'block' : 'none';\n",
              "\n",
              "        async function convertToInteractive(key) {\n",
              "          const element = document.querySelector('#df-f8e0f5b7-8cad-4ff7-ba37-3a57c6e3e397');\n",
              "          const dataTable =\n",
              "            await google.colab.kernel.invokeFunction('convertToInteractive',\n",
              "                                                     [key], {});\n",
              "          if (!dataTable) return;\n",
              "\n",
              "          const docLinkHtml = 'Like what you see? Visit the ' +\n",
              "            '<a target=\"_blank\" href=https://colab.research.google.com/notebooks/data_table.ipynb>data table notebook</a>'\n",
              "            + ' to learn more about interactive tables.';\n",
              "          element.innerHTML = '';\n",
              "          dataTable['output_type'] = 'display_data';\n",
              "          await google.colab.output.renderOutput(dataTable, element);\n",
              "          const docLink = document.createElement('div');\n",
              "          docLink.innerHTML = docLinkHtml;\n",
              "          element.appendChild(docLink);\n",
              "        }\n",
              "      </script>\n",
              "    </div>\n",
              "  </div>\n",
              "  "
            ],
            "text/plain": [
              "   order_id  acc_all_diff  ...  lifetime_order_count  session_time\n",
              "0    556753           9.0  ...                 621.0           NaN\n",
              "1    556754          48.0  ...                 105.0      3.266667\n",
              "2    556755          16.0  ...                  66.0      9.816667\n",
              "3    556756          41.0  ...                 127.0     17.533333\n",
              "4    556757          36.0  ...                  84.0      1.350000\n",
              "\n",
              "[5 rows x 14 columns]"
            ]
          },
          "metadata": {},
          "execution_count": 256
        }
      ]
    },
    {
      "cell_type": "code",
      "execution_count": null,
      "metadata": {
        "id": "3_9I9eUk_76W"
      },
      "outputs": [],
      "source": [
        "test2 = test[cols]"
      ]
    },
    {
      "cell_type": "code",
      "execution_count": null,
      "metadata": {
        "colab": {
          "base_uri": "https://localhost:8080/"
        },
        "id": "SW-8wEbaAcqB",
        "outputId": "745cb229-e748-4f71-f2b1-93299a926356"
      },
      "outputs": [
        {
          "output_type": "stream",
          "name": "stdout",
          "text": [
            "set()\n"
          ]
        }
      ],
      "source": [
        "print(set(test.columns)-set(X.columns))"
      ]
    },
    {
      "cell_type": "code",
      "execution_count": null,
      "metadata": {
        "id": "4gYSc2g1Atsj"
      },
      "outputs": [],
      "source": [
        "# test = test.reindex(columns=test.columns)\n",
        "# X = X.reindex(columns=X.columns)"
      ]
    },
    {
      "cell_type": "code",
      "execution_count": null,
      "metadata": {
        "id": "lMxL85VzIO1p"
      },
      "outputs": [],
      "source": [
        "test2 = pd.concat([X, test[cols]], ignore_index=True)"
      ]
    },
    {
      "cell_type": "code",
      "execution_count": null,
      "metadata": {
        "id": "TJNB6ha5BO9k"
      },
      "outputs": [],
      "source": [
        "test2.isna().sum()"
      ]
    },
    {
      "cell_type": "code",
      "execution_count": null,
      "metadata": {
        "id": "pkSQMcd1IJBb"
      },
      "outputs": [],
      "source": [
        "cols = ['lifetime_order_count','alloted_orders','delivered_orders','undelivered_orders','session_time']"
      ]
    },
    {
      "cell_type": "code",
      "execution_count": null,
      "metadata": {
        "id": "Wa1FW9x3IJBe"
      },
      "outputs": [],
      "source": [
        "def random_imputation(df, feature):\n",
        "\n",
        "    number_missing = df[feature].isnull().sum()\n",
        "    observed_values = df.loc[df[feature].notnull(), feature]\n",
        "    df.loc[df[feature].isnull(), feature + '_imp'] = np.random.choice(observed_values, number_missing, replace = True)\n",
        "    \n",
        "    return df"
      ]
    },
    {
      "cell_type": "code",
      "execution_count": null,
      "metadata": {
        "id": "p7cH_hctIJBf"
      },
      "outputs": [],
      "source": [
        "for feature in cols:\n",
        "    test2[feature + '_imp'] = test2[feature]\n",
        "    test2 = random_imputation(test2, feature)"
      ]
    },
    {
      "cell_type": "code",
      "execution_count": null,
      "metadata": {
        "id": "h2xHq9IbIJBg"
      },
      "outputs": [],
      "source": [
        "from sklearn import linear_model"
      ]
    },
    {
      "cell_type": "code",
      "execution_count": null,
      "metadata": {
        "id": "6yto7ZKhIJBh"
      },
      "outputs": [],
      "source": [
        "random_test = pd.DataFrame(columns = [\"Ran\" + name for name in cols])\n",
        "\n",
        "for feature in cols:\n",
        "        \n",
        "    random_test[\"Ran\" + feature] = test2[feature + '_imp']\n",
        "    parameters = list(set(test2.columns) - set(cols) - {feature + '_imp'})\n",
        "    \n",
        "    model = linear_model.LinearRegression()\n",
        "    model.fit(X = test2[parameters], y = test2[feature + '_imp'])\n",
        "    \n",
        "    #Standard Error of the regression estimates is equal to std() of the errors of each estimates\n",
        "    predict = model.predict(test2[parameters])\n",
        "    std_error = (predict[test2[feature].notnull()] - test2.loc[test2[feature].notnull(), feature + '_imp']).std()\n",
        "    \n",
        "    #observe that I preserve the index of the missing data from the original dataframe\n",
        "    random_predict = np.random.normal(size = test2[feature].shape[0], \n",
        "                                      loc = predict, \n",
        "                                      scale = std_error)\n",
        "    random_test.loc[(test2[feature].isnull()) & (random_predict > 0), \"Ran\" + feature] = random_predict[(test2[feature].isnull()) & \n",
        "                                                                            (random_predict > 0)]"
      ]
    },
    {
      "cell_type": "code",
      "execution_count": null,
      "metadata": {
        "id": "aWzfhq5sC8eO"
      },
      "outputs": [],
      "source": [
        "random_test = random_test.iloc[776395:,:]"
      ]
    },
    {
      "cell_type": "code",
      "execution_count": null,
      "metadata": {
        "id": "cDpPT1bjIJBi"
      },
      "outputs": [],
      "source": [
        "random_test['order_id'] = test['order_id'].values"
      ]
    },
    {
      "cell_type": "code",
      "execution_count": null,
      "metadata": {
        "id": "KKV1pXl2DUMV"
      },
      "outputs": [],
      "source": [
        "random_test.head()"
      ]
    },
    {
      "cell_type": "code",
      "execution_count": null,
      "metadata": {
        "id": "-FycnsMaCxB-"
      },
      "outputs": [],
      "source": [
        "random_test.isna().sum()"
      ]
    },
    {
      "cell_type": "code",
      "execution_count": null,
      "metadata": {
        "id": "jWBpHri1Cd32"
      },
      "outputs": [],
      "source": [
        "random_test.shape"
      ]
    },
    {
      "cell_type": "code",
      "execution_count": null,
      "metadata": {
        "id": "WvieQoLZIJBj"
      },
      "outputs": [],
      "source": [
        "# random_test.loc[random_data['Ranacc_all_diff'] <= 0, 'Ranacc_all_diff'] = 0"
      ]
    },
    {
      "cell_type": "code",
      "execution_count": null,
      "metadata": {
        "id": "HVZcrYrUIJBj"
      },
      "outputs": [],
      "source": [
        "# test.loc[test.order_id.isin(random_test.order_id), ['lifetime_order_count','alloted_orders','delivered_orders','undelivered_orders','session_time']] = random_test[['Ranlifetime_order_count','Ranalloted_orders','Randelivered_orders','Ranundelivered_orders','Ransession_time']].values"
      ]
    },
    {
      "cell_type": "markdown",
      "metadata": {
        "id": "_wYBFPEpC6XL"
      },
      "source": [
        "# Validation"
      ]
    },
    {
      "cell_type": "code",
      "execution_count": null,
      "metadata": {
        "id": "JVPpDG6oDWu2"
      },
      "outputs": [],
      "source": [
        "data.head()"
      ]
    },
    {
      "cell_type": "code",
      "execution_count": null,
      "metadata": {
        "id": "M_xLmOwp7Ha6"
      },
      "outputs": [],
      "source": [
        "X.shape"
      ]
    },
    {
      "cell_type": "code",
      "execution_count": null,
      "metadata": {
        "id": "2dny7UZ-7JEK"
      },
      "outputs": [],
      "source": [
        "y.shape"
      ]
    },
    {
      "cell_type": "code",
      "execution_count": null,
      "metadata": {
        "id": "wvIV0DbT7KfM"
      },
      "outputs": [],
      "source": [
        "test.shape"
      ]
    },
    {
      "cell_type": "code",
      "execution_count": null,
      "metadata": {
        "id": "dT5p14vWYkGu"
      },
      "outputs": [],
      "source": [
        "from sklearn.ensemble import VotingClassifier,GradientBoostingClassifier,AdaBoostClassifier,RandomForestClassifier\n",
        "from sklearn.model_selection import train_test_split, GridSearchCV, cross_val_score\n",
        "from sklearn.model_selection import KFold\n",
        "from sklearn import tree, metrics\n",
        "from sklearn.tree import DecisionTreeClassifier\n",
        "import lightgbm as lgb\n",
        "from xgboost import XGBClassifier\n",
        "from sklearn import model_selection\n",
        "from sklearn.naive_bayes import GaussianNB\n",
        "from sklearn.neighbors import KNeighborsClassifier"
      ]
    },
    {
      "cell_type": "code",
      "execution_count": null,
      "metadata": {
        "id": "RC611UB_Y_W-"
      },
      "outputs": [],
      "source": [
        "# models = []\n",
        "# models.append(('NaiveBayes', GaussianNB()))\n",
        "# models.append(('KNN', KNeighborsClassifier()))\n",
        "# models.append(('CART', DecisionTreeClassifier()))\n",
        "# models.append(('RF', RandomForestClassifier()))\n",
        "# models.append(('GradientBoosting', GradientBoostingClassifier()))\n",
        "# models.append(('XGB',XGBClassifier()))\n",
        "# models.append(('LGB',lgb.LGBMClassifier()))\n",
        "# models.append((\"Adaboost\",AdaBoostClassifier()))"
      ]
    },
    {
      "cell_type": "markdown",
      "metadata": {
        "id": "IcoCnj9s7RUT"
      },
      "source": [
        "Will drop extreme outliers (Later),"
      ]
    },
    {
      "cell_type": "markdown",
      "metadata": {
        "id": "twxdMHf8JY61"
      },
      "source": [
        "Standard Scaler,"
      ]
    },
    {
      "cell_type": "code",
      "execution_count": null,
      "metadata": {
        "id": "Aa-U1_POANle"
      },
      "outputs": [],
      "source": [
        "X = X.drop('hour',axis=1)\n",
        "X = X.drop('alloted_orders',axis=1)\n",
        "\n",
        "test = test.drop('hour',axis=1)\n",
        "test = test.drop('alloted_orders',axis=1)"
      ]
    },
    {
      "cell_type": "code",
      "execution_count": null,
      "metadata": {
        "id": "MnDi_GI8f-Vf"
      },
      "outputs": [],
      "source": [
        "import seaborn as sns\n",
        "import matplotlib.pyplot as plt\n",
        "plt.figure(figsize = (15,15))\n",
        "ax = sns.heatmap(X.corr().iloc[:, 0:15:], annot=True, linewidths=.5)"
      ]
    },
    {
      "cell_type": "code",
      "execution_count": null,
      "metadata": {
        "id": "_jQ7qAB4JiEo"
      },
      "outputs": [],
      "source": [
        "from sklearn.preprocessing import StandardScaler, MinMaxScaler"
      ]
    },
    {
      "cell_type": "code",
      "execution_count": null,
      "metadata": {
        "id": "EC3R-yPB1NqJ"
      },
      "outputs": [],
      "source": [
        "X.head()"
      ]
    },
    {
      "cell_type": "code",
      "execution_count": null,
      "metadata": {
        "id": "rB-FUeoP7q3K"
      },
      "outputs": [],
      "source": [
        "X = X.drop('order_id',axis=1)\n",
        "test = test.drop('order_id',axis=1)"
      ]
    },
    {
      "cell_type": "code",
      "execution_count": null,
      "metadata": {
        "id": "bOru-DeW77kB"
      },
      "outputs": [],
      "source": [
        "X['dist_diff'] = X['last_mile_distance'] - X['first_mile_distance']"
      ]
    },
    {
      "cell_type": "code",
      "execution_count": null,
      "metadata": {
        "id": "66Kq34zO8E2x"
      },
      "outputs": [],
      "source": [
        "test['dist_diff'] = test['last_mile_distance'] - test['first_mile_distance']"
      ]
    },
    {
      "cell_type": "code",
      "execution_count": null,
      "metadata": {
        "id": "sniTIqc5JaIg"
      },
      "outputs": [],
      "source": [
        "# #Data scaling\n",
        "# std_scaler = StandardScaler()\n",
        "# std_scaler.fit(X)\n",
        "# X_train_std = std_scaler.transform(X)\n",
        "# X_test_std = std_scaler.transform(test)\n",
        "\n",
        "# # mm_scaler = MinMaxScaler()\n",
        "# # mm_scaler.fit(X)\n",
        "# # X_train_mm = mm_scaler.transform(X)\n",
        "# # X_test_mm = mm_scaler.transform(test)"
      ]
    },
    {
      "cell_type": "code",
      "execution_count": null,
      "metadata": {
        "id": "tewHCi6Y7bPO"
      },
      "outputs": [],
      "source": [
        "# pd.DataFrame(X_train_std).head()"
      ]
    },
    {
      "cell_type": "code",
      "execution_count": null,
      "metadata": {
        "colab": {
          "base_uri": "https://localhost:8080/"
        },
        "id": "6ZAfyGuC1YYq",
        "outputId": "8b38d0fd-9d06-43b1-96c7-5d75824857f9"
      },
      "outputs": [
        {
          "output_type": "stream",
          "name": "stdout",
          "text": [
            "set()\n"
          ]
        }
      ],
      "source": [
        "print(set(X.columns)-set(test.columns))"
      ]
    },
    {
      "cell_type": "code",
      "execution_count": null,
      "metadata": {
        "id": "jwN7wthk9Qke"
      },
      "outputs": [],
      "source": [
        "# X = pd.DataFrame(X_train_std)\n",
        "# test = pd.DataFrame(X_test_std)"
      ]
    },
    {
      "cell_type": "markdown",
      "metadata": {
        "id": "P0s50uGPxLAx"
      },
      "source": [
        ""
      ]
    },
    {
      "cell_type": "markdown",
      "metadata": {
        "id": "0Br1vrNM8RLf"
      },
      "source": [
        "Feature engineering performed so far,\n",
        "\n",
        "1.   Session\n",
        "2.   Hour of the Day\n",
        "3.   Acc All Diff\n",
        "4.   Acc Ord Diff\n",
        "\n",
        "Try to add -> Final - Initial Distance\n",
        "\n",
        "\n"
      ]
    },
    {
      "cell_type": "markdown",
      "metadata": {
        "id": "76attM53cD-J"
      },
      "source": [
        "Logistic,"
      ]
    },
    {
      "cell_type": "code",
      "execution_count": null,
      "metadata": {
        "id": "SnrrY6f-cFqw"
      },
      "outputs": [],
      "source": [
        "from sklearn.linear_model import LogisticRegression\n",
        "clf = LogisticRegression(random_state=42).fit(X, y)"
      ]
    },
    {
      "cell_type": "code",
      "execution_count": null,
      "metadata": {
        "id": "amfEvPCiEBZX"
      },
      "outputs": [],
      "source": [
        "y_pred = clf.predict(X)"
      ]
    },
    {
      "cell_type": "code",
      "execution_count": null,
      "metadata": {
        "id": "yJUMEnL6EeBk"
      },
      "outputs": [],
      "source": [
        "pd.DataFrame(y_pred).value_counts()"
      ]
    },
    {
      "cell_type": "markdown",
      "metadata": {
        "id": "_LuDYl0LyEFa"
      },
      "source": [
        "Weighted Logistic,"
      ]
    },
    {
      "cell_type": "code",
      "execution_count": null,
      "metadata": {
        "id": "s4-0YmBEyDOt"
      },
      "outputs": [],
      "source": [
        "# define class weights\n",
        "w = {0:1.055, 1:1.5217}# define model\n",
        "lg2 = LogisticRegression(random_state=42, class_weight=w)\n",
        "# fit it\n",
        "lg2.fit(X,y)"
      ]
    },
    {
      "cell_type": "code",
      "execution_count": null,
      "metadata": {
        "id": "-FEodDKny4Ni"
      },
      "outputs": [],
      "source": [
        "y_pred = lg2.predict(test)# performance"
      ]
    },
    {
      "cell_type": "code",
      "execution_count": null,
      "metadata": {
        "id": "LPAVxwXrzML-"
      },
      "outputs": [],
      "source": [
        "pd.DataFrame(y_pred).value_counts()"
      ]
    },
    {
      "cell_type": "markdown",
      "metadata": {
        "id": "oa3y4mjc9yL-"
      },
      "source": [
        "LDA,"
      ]
    },
    {
      "cell_type": "code",
      "execution_count": null,
      "metadata": {
        "id": "mgjPLGJnZFKr"
      },
      "outputs": [],
      "source": [
        "from sklearn.discriminant_analysis import LinearDiscriminantAnalysis, QuadraticDiscriminantAnalysis"
      ]
    },
    {
      "cell_type": "code",
      "execution_count": null,
      "metadata": {
        "id": "J9viywfUJErk"
      },
      "outputs": [],
      "source": [
        "LDA = LinearDiscriminantAnalysis()"
      ]
    },
    {
      "cell_type": "code",
      "execution_count": null,
      "metadata": {
        "id": "zmBjZWiH907h"
      },
      "outputs": [],
      "source": [
        "LDA.fit(X,y)"
      ]
    },
    {
      "cell_type": "code",
      "execution_count": null,
      "metadata": {
        "id": "dQYHoW7mcNoA"
      },
      "outputs": [],
      "source": [
        "y_pred = LDA.predict(test)"
      ]
    },
    {
      "cell_type": "code",
      "execution_count": null,
      "metadata": {
        "id": "cOUGdNU6cNoB"
      },
      "outputs": [],
      "source": [
        "pd.DataFrame(y_pred).value_counts()"
      ]
    },
    {
      "cell_type": "markdown",
      "metadata": {
        "id": "SaJxUD-a-SZL"
      },
      "source": [
        "QDA,"
      ]
    },
    {
      "cell_type": "code",
      "execution_count": null,
      "metadata": {
        "id": "Fyv9COARcz_Z"
      },
      "outputs": [],
      "source": [
        "QDA = QuadraticDiscriminantAnalysis()"
      ]
    },
    {
      "cell_type": "code",
      "execution_count": null,
      "metadata": {
        "id": "YdiOIA5ILlNM"
      },
      "outputs": [],
      "source": [
        "QDA.fit(X,y)"
      ]
    },
    {
      "cell_type": "code",
      "execution_count": null,
      "metadata": {
        "id": "oaJXWc4n-WlY"
      },
      "outputs": [],
      "source": [
        "y_pred = QDA.predict(X)"
      ]
    },
    {
      "cell_type": "code",
      "execution_count": null,
      "metadata": {
        "id": "7k8RXGg0-Ygv"
      },
      "outputs": [],
      "source": [
        "pd.DataFrame(y_pred).value_counts()"
      ]
    },
    {
      "cell_type": "markdown",
      "metadata": {
        "id": "_fjKGNaP-Znw"
      },
      "source": [
        "XGBoost,"
      ]
    },
    {
      "cell_type": "code",
      "execution_count": null,
      "metadata": {
        "id": "11HyhWoD9Eqo"
      },
      "outputs": [],
      "source": [
        "xgb = XGBClassifier()"
      ]
    },
    {
      "cell_type": "code",
      "execution_count": null,
      "metadata": {
        "id": "k_1-97-ZLfx8"
      },
      "outputs": [],
      "source": [
        "xgb.fit(X,y)"
      ]
    },
    {
      "cell_type": "code",
      "execution_count": null,
      "metadata": {
        "id": "J7FUcWq3-ckv"
      },
      "outputs": [],
      "source": [
        "y_pred = xgb.predict(X)"
      ]
    },
    {
      "cell_type": "code",
      "execution_count": null,
      "metadata": {
        "id": "5_evs5cu-ckw"
      },
      "outputs": [],
      "source": [
        "pd.DataFrame(y_pred).value_counts()"
      ]
    },
    {
      "cell_type": "markdown",
      "metadata": {
        "id": "CBWEpjg1-mMp"
      },
      "source": [
        "LGBoost,"
      ]
    },
    {
      "cell_type": "code",
      "execution_count": null,
      "metadata": {
        "id": "MD0I5biQIZCG"
      },
      "outputs": [],
      "source": [
        "w = {0:1.055, 1:1.6716}# define model"
      ]
    },
    {
      "cell_type": "code",
      "execution_count": null,
      "metadata": {
        "id": "NQ0wdwQb-kxj"
      },
      "outputs": [],
      "source": [
        "import lightgbm as lgb\n",
        "clf = lgb.LGBMClassifier(random_state=42,objective ='binary',class_weight=w)"
      ]
    },
    {
      "cell_type": "code",
      "execution_count": null,
      "metadata": {
        "id": "nvJ3HlXT-4Km"
      },
      "outputs": [],
      "source": [
        "clf.fit(X, y)"
      ]
    },
    {
      "cell_type": "code",
      "execution_count": null,
      "metadata": {
        "id": "j8m7cgo_-8p6"
      },
      "outputs": [],
      "source": [
        "y_pred = clf.predict(test)"
      ]
    },
    {
      "cell_type": "code",
      "execution_count": null,
      "metadata": {
        "id": "l2aQcXSg-_G1"
      },
      "outputs": [],
      "source": [
        "pd.DataFrame(y_pred).value_counts()"
      ]
    },
    {
      "cell_type": "markdown",
      "metadata": {
        "id": "qdy_T-2L_hiD"
      },
      "source": [
        "Gaussian NB,"
      ]
    },
    {
      "cell_type": "code",
      "execution_count": null,
      "metadata": {
        "id": "WyPH8drMUR0m"
      },
      "outputs": [],
      "source": [
        "from sklearn.naive_bayes import GaussianNB\n",
        "nbmodel = GaussianNB()"
      ]
    },
    {
      "cell_type": "code",
      "execution_count": null,
      "metadata": {
        "id": "qOJtZvqU_f4y"
      },
      "outputs": [],
      "source": [
        "nbmodel.fit(X,y)"
      ]
    },
    {
      "cell_type": "code",
      "execution_count": null,
      "metadata": {
        "id": "HtWCEwYb_kM6"
      },
      "outputs": [],
      "source": [
        "y_pred = nbmodel.predict(test)"
      ]
    },
    {
      "cell_type": "code",
      "execution_count": null,
      "metadata": {
        "id": "mpXDyAbO_m_T"
      },
      "outputs": [],
      "source": [
        "pd.DataFrame(y_pred).value_counts()"
      ]
    },
    {
      "cell_type": "markdown",
      "metadata": {
        "id": "lElNFtwj_orP"
      },
      "source": [
        "KNN,"
      ]
    },
    {
      "cell_type": "code",
      "execution_count": null,
      "metadata": {
        "id": "8oIoE1cyWt9O"
      },
      "outputs": [],
      "source": [
        "from sklearn.neighbors import KNeighborsClassifier\n",
        "knnmodel = KNeighborsClassifier(n_neighbors=5)"
      ]
    },
    {
      "cell_type": "code",
      "execution_count": null,
      "metadata": {
        "id": "fGdLVeM-_t4T"
      },
      "outputs": [],
      "source": [
        "knnmodel.fit(X,y)"
      ]
    },
    {
      "cell_type": "code",
      "execution_count": null,
      "metadata": {
        "id": "vTScVTAE_wXE"
      },
      "outputs": [],
      "source": [
        "y_pred = knnmodel.predict(X)"
      ]
    },
    {
      "cell_type": "code",
      "execution_count": null,
      "metadata": {
        "id": "LgEoelMBKCnR"
      },
      "outputs": [],
      "source": [
        "pd.DataFrame(y_pred).value_counts()"
      ]
    },
    {
      "cell_type": "markdown",
      "metadata": {
        "id": "ljR6BX_6AbY8"
      },
      "source": [
        "Everything is shit so far LOL (Try different SMOTE later)"
      ]
    },
    {
      "cell_type": "markdown",
      "metadata": {
        "id": "uUaC6J3YAeo9"
      },
      "source": [
        "Trying NN,"
      ]
    },
    {
      "cell_type": "code",
      "execution_count": null,
      "metadata": {
        "id": "Kqt-GnxsAmfJ"
      },
      "outputs": [],
      "source": [
        "from keras.models import Sequential\n",
        "from keras.layers import Dense\n",
        "from keras import optimizers"
      ]
    },
    {
      "cell_type": "code",
      "execution_count": null,
      "metadata": {
        "id": "IliP-SrVAgHt"
      },
      "outputs": [],
      "source": [
        "hidden_units=100\n",
        "learning_rate=0.01\n",
        "hidden_layer_act='tanh'\n",
        "output_layer_act='sigmoid'\n",
        "no_epochs=100"
      ]
    },
    {
      "cell_type": "code",
      "execution_count": null,
      "metadata": {
        "id": "7s_ZLzPgAidD"
      },
      "outputs": [],
      "source": [
        "nnmodel = Sequential()"
      ]
    },
    {
      "cell_type": "code",
      "execution_count": null,
      "metadata": {
        "id": "4oNrcuQHAnkJ"
      },
      "outputs": [],
      "source": [
        "nnmodel.add(Dense(hidden_units, input_dim=13, activation=hidden_layer_act))\n",
        "nnmodel.add(Dense(hidden_units, activation=hidden_layer_act))\n",
        "nnmodel.add(Dense(1, activation=output_layer_act))"
      ]
    },
    {
      "cell_type": "code",
      "execution_count": null,
      "metadata": {
        "id": "sGP9CoxOArxT"
      },
      "outputs": [],
      "source": [
        "sgd=tf.keras.optimizers.SGD(lr=learning_rate)\n",
        "nnmodel.compile(loss='binary_crossentropy',optimizer=sgd, metrics=['acc'])"
      ]
    },
    {
      "cell_type": "code",
      "execution_count": null,
      "metadata": {
        "id": "q0zI4DRSAuhi"
      },
      "outputs": [],
      "source": [
        "# nnmodel.fit(X, y, epochs=no_epochs, batch_size=len(X)+1,  verbose=2)"
      ]
    },
    {
      "cell_type": "code",
      "execution_count": null,
      "metadata": {
        "id": "csiLBooEA7ly"
      },
      "outputs": [],
      "source": [
        "# y_pred = nnmodel.predict(X)"
      ]
    },
    {
      "cell_type": "code",
      "execution_count": null,
      "metadata": {
        "id": "E5QJlVoeFoi-"
      },
      "outputs": [],
      "source": [
        "# pd.DataFrame(y_pred).value_counts()"
      ]
    },
    {
      "cell_type": "code",
      "execution_count": null,
      "metadata": {
        "id": "-F1FQCRNFWr8"
      },
      "outputs": [],
      "source": [
        "test2=pd.read_csv(\"/content/drive/MyDrive/test.csv\")"
      ]
    },
    {
      "cell_type": "code",
      "execution_count": null,
      "metadata": {
        "colab": {
          "base_uri": "https://localhost:8080/",
          "height": 661
        },
        "id": "BYv4c4CiFaLT",
        "outputId": "4b26a7ee-1a17-46bd-ddbc-1226b85d1b6e"
      },
      "outputs": [
        {
          "output_type": "execute_result",
          "data": {
            "text/html": [
              "\n",
              "  <div id=\"df-53004b47-bc09-4cf4-9f6b-c2bb529154a9\">\n",
              "    <div class=\"colab-df-container\">\n",
              "      <div>\n",
              "<style scoped>\n",
              "    .dataframe tbody tr th:only-of-type {\n",
              "        vertical-align: middle;\n",
              "    }\n",
              "\n",
              "    .dataframe tbody tr th {\n",
              "        vertical-align: top;\n",
              "    }\n",
              "\n",
              "    .dataframe thead th {\n",
              "        text-align: right;\n",
              "    }\n",
              "</style>\n",
              "<table border=\"1\" class=\"dataframe\">\n",
              "  <thead>\n",
              "    <tr style=\"text-align: right;\">\n",
              "      <th></th>\n",
              "      <th>order_time</th>\n",
              "      <th>order_id</th>\n",
              "      <th>order_date</th>\n",
              "      <th>allot_time</th>\n",
              "      <th>accept_time</th>\n",
              "      <th>rider_id</th>\n",
              "      <th>first_mile_distance</th>\n",
              "      <th>last_mile_distance</th>\n",
              "      <th>alloted_orders</th>\n",
              "      <th>delivered_orders</th>\n",
              "      <th>undelivered_orders</th>\n",
              "      <th>lifetime_order_count</th>\n",
              "      <th>reassignment_method</th>\n",
              "      <th>reassignment_reason</th>\n",
              "      <th>reassigned_order</th>\n",
              "      <th>session_time</th>\n",
              "    </tr>\n",
              "  </thead>\n",
              "  <tbody>\n",
              "    <tr>\n",
              "      <th>0</th>\n",
              "      <td>2021-02-06 10:03:24</td>\n",
              "      <td>130231</td>\n",
              "      <td>2021-02-06 00:00:00</td>\n",
              "      <td>2021-02-06 10:03:49</td>\n",
              "      <td>2021-02-06 10:04:15</td>\n",
              "      <td>12884</td>\n",
              "      <td>1.658500</td>\n",
              "      <td>4.54</td>\n",
              "      <td>216.0</td>\n",
              "      <td>215.0</td>\n",
              "      <td>1.0</td>\n",
              "      <td>747.0</td>\n",
              "      <td>NaN</td>\n",
              "      <td>NaN</td>\n",
              "      <td>NaN</td>\n",
              "      <td>273.400000</td>\n",
              "    </tr>\n",
              "    <tr>\n",
              "      <th>1</th>\n",
              "      <td>2021-02-06 10:03:26</td>\n",
              "      <td>130232</td>\n",
              "      <td>2021-02-06 00:00:00</td>\n",
              "      <td>2021-02-06 10:03:27</td>\n",
              "      <td>2021-02-06 10:03:36</td>\n",
              "      <td>3541</td>\n",
              "      <td>2.070900</td>\n",
              "      <td>5.84</td>\n",
              "      <td>52.0</td>\n",
              "      <td>52.0</td>\n",
              "      <td>0.0</td>\n",
              "      <td>75.0</td>\n",
              "      <td>NaN</td>\n",
              "      <td>NaN</td>\n",
              "      <td>NaN</td>\n",
              "      <td>252.100000</td>\n",
              "    </tr>\n",
              "    <tr>\n",
              "      <th>2</th>\n",
              "      <td>2021-02-06 10:03:27</td>\n",
              "      <td>130233</td>\n",
              "      <td>2021-02-06 00:00:00</td>\n",
              "      <td>2021-02-06 10:04:14</td>\n",
              "      <td>2021-02-06 10:05:34</td>\n",
              "      <td>603</td>\n",
              "      <td>1.388400</td>\n",
              "      <td>0.99</td>\n",
              "      <td>289.0</td>\n",
              "      <td>289.0</td>\n",
              "      <td>0.0</td>\n",
              "      <td>2214.0</td>\n",
              "      <td>NaN</td>\n",
              "      <td>NaN</td>\n",
              "      <td>NaN</td>\n",
              "      <td>241.383333</td>\n",
              "    </tr>\n",
              "    <tr>\n",
              "      <th>3</th>\n",
              "      <td>2021-02-06 10:03:29</td>\n",
              "      <td>130234</td>\n",
              "      <td>2021-02-06 00:00:00</td>\n",
              "      <td>2021-02-06 10:03:30</td>\n",
              "      <td>2021-02-06 10:03:53</td>\n",
              "      <td>3414</td>\n",
              "      <td>1.903900</td>\n",
              "      <td>2.59</td>\n",
              "      <td>125.0</td>\n",
              "      <td>122.0</td>\n",
              "      <td>3.0</td>\n",
              "      <td>1020.0</td>\n",
              "      <td>NaN</td>\n",
              "      <td>NaN</td>\n",
              "      <td>NaN</td>\n",
              "      <td>291.933333</td>\n",
              "    </tr>\n",
              "    <tr>\n",
              "      <th>4</th>\n",
              "      <td>2021-02-06 10:03:35</td>\n",
              "      <td>130235</td>\n",
              "      <td>2021-02-06 00:00:00</td>\n",
              "      <td>2021-02-06 10:03:43</td>\n",
              "      <td>2021-02-06 10:04:43</td>\n",
              "      <td>1426</td>\n",
              "      <td>0.827500</td>\n",
              "      <td>0.94</td>\n",
              "      <td>352.0</td>\n",
              "      <td>350.0</td>\n",
              "      <td>2.0</td>\n",
              "      <td>7284.0</td>\n",
              "      <td>NaN</td>\n",
              "      <td>NaN</td>\n",
              "      <td>NaN</td>\n",
              "      <td>247.133333</td>\n",
              "    </tr>\n",
              "    <tr>\n",
              "      <th>...</th>\n",
              "      <td>...</td>\n",
              "      <td>...</td>\n",
              "      <td>...</td>\n",
              "      <td>...</td>\n",
              "      <td>...</td>\n",
              "      <td>...</td>\n",
              "      <td>...</td>\n",
              "      <td>...</td>\n",
              "      <td>...</td>\n",
              "      <td>...</td>\n",
              "      <td>...</td>\n",
              "      <td>...</td>\n",
              "      <td>...</td>\n",
              "      <td>...</td>\n",
              "      <td>...</td>\n",
              "      <td>...</td>\n",
              "    </tr>\n",
              "    <tr>\n",
              "      <th>144839</th>\n",
              "      <td>2021-02-09 20:13:39</td>\n",
              "      <td>41184</td>\n",
              "      <td>2021-02-09 00:00:00</td>\n",
              "      <td>2021-02-09 20:13:40</td>\n",
              "      <td>2021-02-09 20:13:49</td>\n",
              "      <td>7141</td>\n",
              "      <td>1.417000</td>\n",
              "      <td>3.96</td>\n",
              "      <td>52.0</td>\n",
              "      <td>52.0</td>\n",
              "      <td>0.0</td>\n",
              "      <td>413.0</td>\n",
              "      <td>NaN</td>\n",
              "      <td>NaN</td>\n",
              "      <td>NaN</td>\n",
              "      <td>179.266667</td>\n",
              "    </tr>\n",
              "    <tr>\n",
              "      <th>144840</th>\n",
              "      <td>2021-02-09 20:21:36</td>\n",
              "      <td>41185</td>\n",
              "      <td>2021-02-09 00:00:00</td>\n",
              "      <td>2021-02-09 20:21:59</td>\n",
              "      <td>2021-02-09 20:22:33</td>\n",
              "      <td>8113</td>\n",
              "      <td>0.775600</td>\n",
              "      <td>1.61</td>\n",
              "      <td>95.0</td>\n",
              "      <td>93.0</td>\n",
              "      <td>2.0</td>\n",
              "      <td>284.0</td>\n",
              "      <td>NaN</td>\n",
              "      <td>NaN</td>\n",
              "      <td>NaN</td>\n",
              "      <td>244.400000</td>\n",
              "    </tr>\n",
              "    <tr>\n",
              "      <th>144841</th>\n",
              "      <td>2021-02-09 20:24:25</td>\n",
              "      <td>41186</td>\n",
              "      <td>2021-02-09 00:00:00</td>\n",
              "      <td>2021-02-09 20:25:03</td>\n",
              "      <td>2021-02-09 20:26:10</td>\n",
              "      <td>5040</td>\n",
              "      <td>2.049400</td>\n",
              "      <td>1.26</td>\n",
              "      <td>77.0</td>\n",
              "      <td>77.0</td>\n",
              "      <td>0.0</td>\n",
              "      <td>119.0</td>\n",
              "      <td>NaN</td>\n",
              "      <td>NaN</td>\n",
              "      <td>NaN</td>\n",
              "      <td>259.000000</td>\n",
              "    </tr>\n",
              "    <tr>\n",
              "      <th>144842</th>\n",
              "      <td>2021-02-09 20:28:07</td>\n",
              "      <td>41187</td>\n",
              "      <td>2021-02-09 00:00:00</td>\n",
              "      <td>2021-02-09 20:28:29</td>\n",
              "      <td>2021-02-09 20:28:53</td>\n",
              "      <td>2946</td>\n",
              "      <td>0.080494</td>\n",
              "      <td>5.50</td>\n",
              "      <td>231.0</td>\n",
              "      <td>228.0</td>\n",
              "      <td>3.0</td>\n",
              "      <td>1759.0</td>\n",
              "      <td>NaN</td>\n",
              "      <td>NaN</td>\n",
              "      <td>NaN</td>\n",
              "      <td>814.283333</td>\n",
              "    </tr>\n",
              "    <tr>\n",
              "      <th>144843</th>\n",
              "      <td>2021-02-09 20:28:24</td>\n",
              "      <td>41188</td>\n",
              "      <td>2021-02-09 00:00:00</td>\n",
              "      <td>2021-02-09 20:28:29</td>\n",
              "      <td>2021-02-09 20:29:47</td>\n",
              "      <td>8488</td>\n",
              "      <td>1.702100</td>\n",
              "      <td>4.13</td>\n",
              "      <td>28.0</td>\n",
              "      <td>28.0</td>\n",
              "      <td>0.0</td>\n",
              "      <td>43.0</td>\n",
              "      <td>NaN</td>\n",
              "      <td>NaN</td>\n",
              "      <td>NaN</td>\n",
              "      <td>161.533333</td>\n",
              "    </tr>\n",
              "  </tbody>\n",
              "</table>\n",
              "<p>144844 rows × 16 columns</p>\n",
              "</div>\n",
              "      <button class=\"colab-df-convert\" onclick=\"convertToInteractive('df-53004b47-bc09-4cf4-9f6b-c2bb529154a9')\"\n",
              "              title=\"Convert this dataframe to an interactive table.\"\n",
              "              style=\"display:none;\">\n",
              "        \n",
              "  <svg xmlns=\"http://www.w3.org/2000/svg\" height=\"24px\"viewBox=\"0 0 24 24\"\n",
              "       width=\"24px\">\n",
              "    <path d=\"M0 0h24v24H0V0z\" fill=\"none\"/>\n",
              "    <path d=\"M18.56 5.44l.94 2.06.94-2.06 2.06-.94-2.06-.94-.94-2.06-.94 2.06-2.06.94zm-11 1L8.5 8.5l.94-2.06 2.06-.94-2.06-.94L8.5 2.5l-.94 2.06-2.06.94zm10 10l.94 2.06.94-2.06 2.06-.94-2.06-.94-.94-2.06-.94 2.06-2.06.94z\"/><path d=\"M17.41 7.96l-1.37-1.37c-.4-.4-.92-.59-1.43-.59-.52 0-1.04.2-1.43.59L10.3 9.45l-7.72 7.72c-.78.78-.78 2.05 0 2.83L4 21.41c.39.39.9.59 1.41.59.51 0 1.02-.2 1.41-.59l7.78-7.78 2.81-2.81c.8-.78.8-2.07 0-2.86zM5.41 20L4 18.59l7.72-7.72 1.47 1.35L5.41 20z\"/>\n",
              "  </svg>\n",
              "      </button>\n",
              "      \n",
              "  <style>\n",
              "    .colab-df-container {\n",
              "      display:flex;\n",
              "      flex-wrap:wrap;\n",
              "      gap: 12px;\n",
              "    }\n",
              "\n",
              "    .colab-df-convert {\n",
              "      background-color: #E8F0FE;\n",
              "      border: none;\n",
              "      border-radius: 50%;\n",
              "      cursor: pointer;\n",
              "      display: none;\n",
              "      fill: #1967D2;\n",
              "      height: 32px;\n",
              "      padding: 0 0 0 0;\n",
              "      width: 32px;\n",
              "    }\n",
              "\n",
              "    .colab-df-convert:hover {\n",
              "      background-color: #E2EBFA;\n",
              "      box-shadow: 0px 1px 2px rgba(60, 64, 67, 0.3), 0px 1px 3px 1px rgba(60, 64, 67, 0.15);\n",
              "      fill: #174EA6;\n",
              "    }\n",
              "\n",
              "    [theme=dark] .colab-df-convert {\n",
              "      background-color: #3B4455;\n",
              "      fill: #D2E3FC;\n",
              "    }\n",
              "\n",
              "    [theme=dark] .colab-df-convert:hover {\n",
              "      background-color: #434B5C;\n",
              "      box-shadow: 0px 1px 3px 1px rgba(0, 0, 0, 0.15);\n",
              "      filter: drop-shadow(0px 1px 2px rgba(0, 0, 0, 0.3));\n",
              "      fill: #FFFFFF;\n",
              "    }\n",
              "  </style>\n",
              "\n",
              "      <script>\n",
              "        const buttonEl =\n",
              "          document.querySelector('#df-53004b47-bc09-4cf4-9f6b-c2bb529154a9 button.colab-df-convert');\n",
              "        buttonEl.style.display =\n",
              "          google.colab.kernel.accessAllowed ? 'block' : 'none';\n",
              "\n",
              "        async function convertToInteractive(key) {\n",
              "          const element = document.querySelector('#df-53004b47-bc09-4cf4-9f6b-c2bb529154a9');\n",
              "          const dataTable =\n",
              "            await google.colab.kernel.invokeFunction('convertToInteractive',\n",
              "                                                     [key], {});\n",
              "          if (!dataTable) return;\n",
              "\n",
              "          const docLinkHtml = 'Like what you see? Visit the ' +\n",
              "            '<a target=\"_blank\" href=https://colab.research.google.com/notebooks/data_table.ipynb>data table notebook</a>'\n",
              "            + ' to learn more about interactive tables.';\n",
              "          element.innerHTML = '';\n",
              "          dataTable['output_type'] = 'display_data';\n",
              "          await google.colab.output.renderOutput(dataTable, element);\n",
              "          const docLink = document.createElement('div');\n",
              "          docLink.innerHTML = docLinkHtml;\n",
              "          element.appendChild(docLink);\n",
              "        }\n",
              "      </script>\n",
              "    </div>\n",
              "  </div>\n",
              "  "
            ],
            "text/plain": [
              "                 order_time  order_id  ... reassigned_order session_time\n",
              "0       2021-02-06 10:03:24    130231  ...              NaN   273.400000\n",
              "1       2021-02-06 10:03:26    130232  ...              NaN   252.100000\n",
              "2       2021-02-06 10:03:27    130233  ...              NaN   241.383333\n",
              "3       2021-02-06 10:03:29    130234  ...              NaN   291.933333\n",
              "4       2021-02-06 10:03:35    130235  ...              NaN   247.133333\n",
              "...                     ...       ...  ...              ...          ...\n",
              "144839  2021-02-09 20:13:39     41184  ...              NaN   179.266667\n",
              "144840  2021-02-09 20:21:36     41185  ...              NaN   244.400000\n",
              "144841  2021-02-09 20:24:25     41186  ...              NaN   259.000000\n",
              "144842  2021-02-09 20:28:07     41187  ...              NaN   814.283333\n",
              "144843  2021-02-09 20:28:24     41188  ...              NaN   161.533333\n",
              "\n",
              "[144844 rows x 16 columns]"
            ]
          },
          "metadata": {},
          "execution_count": 381
        }
      ],
      "source": [
        "test2"
      ]
    },
    {
      "cell_type": "code",
      "execution_count": null,
      "metadata": {
        "id": "eP0x13L9FH6I"
      },
      "outputs": [],
      "source": [
        "data_final = test2['order_id']"
      ]
    },
    {
      "cell_type": "code",
      "execution_count": null,
      "metadata": {
        "colab": {
          "base_uri": "https://localhost:8080/"
        },
        "id": "8AoSgvPlFfYp",
        "outputId": "0d122ef2-42d8-4646-b61d-f596bd880ee5"
      },
      "outputs": [
        {
          "output_type": "execute_result",
          "data": {
            "text/plain": [
              "0         130231\n",
              "1         130232\n",
              "2         130233\n",
              "3         130234\n",
              "4         130235\n",
              "           ...  \n",
              "144839     41184\n",
              "144840     41185\n",
              "144841     41186\n",
              "144842     41187\n",
              "144843     41188\n",
              "Name: order_id, Length: 144844, dtype: int64"
            ]
          },
          "metadata": {},
          "execution_count": 383
        }
      ],
      "source": [
        "data_final"
      ]
    },
    {
      "cell_type": "code",
      "execution_count": null,
      "metadata": {
        "id": "lRLzXZlhFjRJ"
      },
      "outputs": [],
      "source": [
        "data_final = pd.concat([data_final, pd.DataFrame(y_pred)], axis=1)"
      ]
    },
    {
      "cell_type": "code",
      "execution_count": null,
      "metadata": {
        "colab": {
          "base_uri": "https://localhost:8080/",
          "height": 206
        },
        "id": "mkPjV9jJFwtW",
        "outputId": "5d287a58-c314-40d6-bb1e-a12f005b31c2"
      },
      "outputs": [
        {
          "output_type": "execute_result",
          "data": {
            "text/html": [
              "\n",
              "  <div id=\"df-be4e491b-b861-4853-b54a-7a85a3c759eb\">\n",
              "    <div class=\"colab-df-container\">\n",
              "      <div>\n",
              "<style scoped>\n",
              "    .dataframe tbody tr th:only-of-type {\n",
              "        vertical-align: middle;\n",
              "    }\n",
              "\n",
              "    .dataframe tbody tr th {\n",
              "        vertical-align: top;\n",
              "    }\n",
              "\n",
              "    .dataframe thead th {\n",
              "        text-align: right;\n",
              "    }\n",
              "</style>\n",
              "<table border=\"1\" class=\"dataframe\">\n",
              "  <thead>\n",
              "    <tr style=\"text-align: right;\">\n",
              "      <th></th>\n",
              "      <th>order_id</th>\n",
              "      <th>0</th>\n",
              "    </tr>\n",
              "  </thead>\n",
              "  <tbody>\n",
              "    <tr>\n",
              "      <th>0</th>\n",
              "      <td>130231</td>\n",
              "      <td>0</td>\n",
              "    </tr>\n",
              "    <tr>\n",
              "      <th>1</th>\n",
              "      <td>130232</td>\n",
              "      <td>0</td>\n",
              "    </tr>\n",
              "    <tr>\n",
              "      <th>2</th>\n",
              "      <td>130233</td>\n",
              "      <td>0</td>\n",
              "    </tr>\n",
              "    <tr>\n",
              "      <th>3</th>\n",
              "      <td>130234</td>\n",
              "      <td>0</td>\n",
              "    </tr>\n",
              "    <tr>\n",
              "      <th>4</th>\n",
              "      <td>130235</td>\n",
              "      <td>0</td>\n",
              "    </tr>\n",
              "  </tbody>\n",
              "</table>\n",
              "</div>\n",
              "      <button class=\"colab-df-convert\" onclick=\"convertToInteractive('df-be4e491b-b861-4853-b54a-7a85a3c759eb')\"\n",
              "              title=\"Convert this dataframe to an interactive table.\"\n",
              "              style=\"display:none;\">\n",
              "        \n",
              "  <svg xmlns=\"http://www.w3.org/2000/svg\" height=\"24px\"viewBox=\"0 0 24 24\"\n",
              "       width=\"24px\">\n",
              "    <path d=\"M0 0h24v24H0V0z\" fill=\"none\"/>\n",
              "    <path d=\"M18.56 5.44l.94 2.06.94-2.06 2.06-.94-2.06-.94-.94-2.06-.94 2.06-2.06.94zm-11 1L8.5 8.5l.94-2.06 2.06-.94-2.06-.94L8.5 2.5l-.94 2.06-2.06.94zm10 10l.94 2.06.94-2.06 2.06-.94-2.06-.94-.94-2.06-.94 2.06-2.06.94z\"/><path d=\"M17.41 7.96l-1.37-1.37c-.4-.4-.92-.59-1.43-.59-.52 0-1.04.2-1.43.59L10.3 9.45l-7.72 7.72c-.78.78-.78 2.05 0 2.83L4 21.41c.39.39.9.59 1.41.59.51 0 1.02-.2 1.41-.59l7.78-7.78 2.81-2.81c.8-.78.8-2.07 0-2.86zM5.41 20L4 18.59l7.72-7.72 1.47 1.35L5.41 20z\"/>\n",
              "  </svg>\n",
              "      </button>\n",
              "      \n",
              "  <style>\n",
              "    .colab-df-container {\n",
              "      display:flex;\n",
              "      flex-wrap:wrap;\n",
              "      gap: 12px;\n",
              "    }\n",
              "\n",
              "    .colab-df-convert {\n",
              "      background-color: #E8F0FE;\n",
              "      border: none;\n",
              "      border-radius: 50%;\n",
              "      cursor: pointer;\n",
              "      display: none;\n",
              "      fill: #1967D2;\n",
              "      height: 32px;\n",
              "      padding: 0 0 0 0;\n",
              "      width: 32px;\n",
              "    }\n",
              "\n",
              "    .colab-df-convert:hover {\n",
              "      background-color: #E2EBFA;\n",
              "      box-shadow: 0px 1px 2px rgba(60, 64, 67, 0.3), 0px 1px 3px 1px rgba(60, 64, 67, 0.15);\n",
              "      fill: #174EA6;\n",
              "    }\n",
              "\n",
              "    [theme=dark] .colab-df-convert {\n",
              "      background-color: #3B4455;\n",
              "      fill: #D2E3FC;\n",
              "    }\n",
              "\n",
              "    [theme=dark] .colab-df-convert:hover {\n",
              "      background-color: #434B5C;\n",
              "      box-shadow: 0px 1px 3px 1px rgba(0, 0, 0, 0.15);\n",
              "      filter: drop-shadow(0px 1px 2px rgba(0, 0, 0, 0.3));\n",
              "      fill: #FFFFFF;\n",
              "    }\n",
              "  </style>\n",
              "\n",
              "      <script>\n",
              "        const buttonEl =\n",
              "          document.querySelector('#df-be4e491b-b861-4853-b54a-7a85a3c759eb button.colab-df-convert');\n",
              "        buttonEl.style.display =\n",
              "          google.colab.kernel.accessAllowed ? 'block' : 'none';\n",
              "\n",
              "        async function convertToInteractive(key) {\n",
              "          const element = document.querySelector('#df-be4e491b-b861-4853-b54a-7a85a3c759eb');\n",
              "          const dataTable =\n",
              "            await google.colab.kernel.invokeFunction('convertToInteractive',\n",
              "                                                     [key], {});\n",
              "          if (!dataTable) return;\n",
              "\n",
              "          const docLinkHtml = 'Like what you see? Visit the ' +\n",
              "            '<a target=\"_blank\" href=https://colab.research.google.com/notebooks/data_table.ipynb>data table notebook</a>'\n",
              "            + ' to learn more about interactive tables.';\n",
              "          element.innerHTML = '';\n",
              "          dataTable['output_type'] = 'display_data';\n",
              "          await google.colab.output.renderOutput(dataTable, element);\n",
              "          const docLink = document.createElement('div');\n",
              "          docLink.innerHTML = docLinkHtml;\n",
              "          element.appendChild(docLink);\n",
              "        }\n",
              "      </script>\n",
              "    </div>\n",
              "  </div>\n",
              "  "
            ],
            "text/plain": [
              "   order_id  0\n",
              "0    130231  0\n",
              "1    130232  0\n",
              "2    130233  0\n",
              "3    130234  0\n",
              "4    130235  0"
            ]
          },
          "metadata": {},
          "execution_count": 385
        }
      ],
      "source": [
        "data_final.head()"
      ]
    },
    {
      "cell_type": "code",
      "execution_count": null,
      "metadata": {
        "id": "nwUT4oaaGanH"
      },
      "outputs": [],
      "source": [
        "data_final.to_csv('LDA.csv')"
      ]
    },
    {
      "cell_type": "markdown",
      "metadata": {
        "id": "B9xoUm_HUfGx"
      },
      "source": [
        "# **Notes**"
      ]
    },
    {
      "cell_type": "markdown",
      "metadata": {
        "id": "7KWoHmKaTj9q"
      },
      "source": [
        "Noticed,<br>\n",
        "\n",
        "Best result so far was around 33k~ give by LDA, followed by Logistic Regression and then LGBM. I haven't experimented much with XGBoost, KNN and Gaussian NB. <br><br>Besides this Neural Networks was difficult to understand (try single layer NN maybe and test with few more layers tho is it extensive for Binary Classfication), and weighted algorithms did not perform very well (though is it for the betterment of AUC_ROC curve because we give more weightage towards weighting and giving 1).<br><br>\n",
        "\n",
        "Remember the example from TowardsDataScience where the number of 1's present was 1% out of the dataset, and we should consider the split.<br>\n",
        "https://towardsdatascience.com/weighted-logistic-regression-for-imbalanced-dataset-9a5cd88e68b"
      ]
    }
  ],
  "metadata": {
    "colab": {
      "collapsed_sections": [],
      "name": "CascadeCup_Learning.ipynb",
      "provenance": []
    },
    "kernelspec": {
      "display_name": "Python 3",
      "name": "python3"
    },
    "language_info": {
      "name": "python"
    }
  },
  "nbformat": 4,
  "nbformat_minor": 0
}